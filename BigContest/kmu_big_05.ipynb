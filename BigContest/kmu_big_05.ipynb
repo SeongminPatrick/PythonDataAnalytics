{
 "cells": [
  {
   "cell_type": "code",
   "execution_count": 1,
   "metadata": {
    "collapsed": true
   },
   "outputs": [],
   "source": [
    "import pandas as pd\n",
    "import numpy as np\n",
    "from sklearn.model_selection import train_test_split\n",
    "from sklearn import metrics\n",
    "from sklearn.tree import DecisionTreeClassifier"
   ]
  },
  {
   "cell_type": "code",
   "execution_count": 2,
   "metadata": {
    "collapsed": false
   },
   "outputs": [
    {
     "data": {
      "text/plain": [
       "(100233, 126)"
      ]
     },
     "execution_count": 2,
     "metadata": {},
     "output_type": "execute_result"
    }
   ],
   "source": [
    "cust_data = pd.read_csv('data_transform.csv', encoding='euckr')\n",
    "cust_data.shape"
   ]
  },
  {
   "cell_type": "code",
   "execution_count": 3,
   "metadata": {
    "collapsed": false
   },
   "outputs": [
    {
     "data": {
      "text/html": [
       "<div>\n",
       "<style>\n",
       "    .dataframe thead tr:only-child th {\n",
       "        text-align: right;\n",
       "    }\n",
       "\n",
       "    .dataframe thead th {\n",
       "        text-align: left;\n",
       "    }\n",
       "\n",
       "    .dataframe tbody tr th {\n",
       "        vertical-align: top;\n",
       "    }\n",
       "</style>\n",
       "<table border=\"1\" class=\"dataframe\">\n",
       "  <thead>\n",
       "    <tr style=\"text-align: right;\">\n",
       "      <th></th>\n",
       "      <th>ACTL_FMLY_NUM</th>\n",
       "      <th>AGE</th>\n",
       "      <th>ARPU</th>\n",
       "      <th>AUTR_FAIL_MCNT</th>\n",
       "      <th>AVG_CALL_FREQ</th>\n",
       "      <th>AVG_CALL_TIME</th>\n",
       "      <th>AVG_STLN_RATE</th>\n",
       "      <th>CB_GUIF_AMT</th>\n",
       "      <th>CB_GUIF_CNT</th>\n",
       "      <th>CNTT_LAMT_CNT</th>\n",
       "      <th>...</th>\n",
       "      <th>MATE_OCCP_NAME_C_07</th>\n",
       "      <th>MATE_OCCP_NAME_C_08</th>\n",
       "      <th>MATE_OCCP_NAME_C_09</th>\n",
       "      <th>MATE_OCCP_NAME_C_10</th>\n",
       "      <th>MATE_OCCP_NAME_C_11</th>\n",
       "      <th>MATE_OCCP_NAME_C_12</th>\n",
       "      <th>MATE_OCCP_NAME_C_13</th>\n",
       "      <th>MATE_OCCP_NAME_C_14</th>\n",
       "      <th>MATE_OCCP_NAME_C_15</th>\n",
       "      <th>MATE_OCCP_NAME_C_16</th>\n",
       "    </tr>\n",
       "  </thead>\n",
       "  <tbody>\n",
       "    <tr>\n",
       "      <th>0</th>\n",
       "      <td>4</td>\n",
       "      <td>50</td>\n",
       "      <td>30000</td>\n",
       "      <td>10</td>\n",
       "      <td>493</td>\n",
       "      <td>450</td>\n",
       "      <td>0</td>\n",
       "      <td>420001</td>\n",
       "      <td>3</td>\n",
       "      <td>0</td>\n",
       "      <td>...</td>\n",
       "      <td>0</td>\n",
       "      <td>0</td>\n",
       "      <td>0</td>\n",
       "      <td>0</td>\n",
       "      <td>0</td>\n",
       "      <td>0</td>\n",
       "      <td>0</td>\n",
       "      <td>0</td>\n",
       "      <td>1</td>\n",
       "      <td>0</td>\n",
       "    </tr>\n",
       "    <tr>\n",
       "      <th>1</th>\n",
       "      <td>4</td>\n",
       "      <td>50</td>\n",
       "      <td>30000</td>\n",
       "      <td>0</td>\n",
       "      <td>22</td>\n",
       "      <td>81</td>\n",
       "      <td>0</td>\n",
       "      <td>0</td>\n",
       "      <td>0</td>\n",
       "      <td>0</td>\n",
       "      <td>...</td>\n",
       "      <td>0</td>\n",
       "      <td>0</td>\n",
       "      <td>0</td>\n",
       "      <td>0</td>\n",
       "      <td>0</td>\n",
       "      <td>0</td>\n",
       "      <td>0</td>\n",
       "      <td>0</td>\n",
       "      <td>1</td>\n",
       "      <td>0</td>\n",
       "    </tr>\n",
       "    <tr>\n",
       "      <th>2</th>\n",
       "      <td>4</td>\n",
       "      <td>60</td>\n",
       "      <td>30000</td>\n",
       "      <td>0</td>\n",
       "      <td>17</td>\n",
       "      <td>139</td>\n",
       "      <td>0</td>\n",
       "      <td>0</td>\n",
       "      <td>0</td>\n",
       "      <td>0</td>\n",
       "      <td>...</td>\n",
       "      <td>0</td>\n",
       "      <td>0</td>\n",
       "      <td>0</td>\n",
       "      <td>0</td>\n",
       "      <td>0</td>\n",
       "      <td>0</td>\n",
       "      <td>0</td>\n",
       "      <td>0</td>\n",
       "      <td>0</td>\n",
       "      <td>0</td>\n",
       "    </tr>\n",
       "    <tr>\n",
       "      <th>3</th>\n",
       "      <td>2</td>\n",
       "      <td>35</td>\n",
       "      <td>30000</td>\n",
       "      <td>0</td>\n",
       "      <td>0</td>\n",
       "      <td>1118</td>\n",
       "      <td>0</td>\n",
       "      <td>0</td>\n",
       "      <td>0</td>\n",
       "      <td>0</td>\n",
       "      <td>...</td>\n",
       "      <td>1</td>\n",
       "      <td>0</td>\n",
       "      <td>0</td>\n",
       "      <td>0</td>\n",
       "      <td>0</td>\n",
       "      <td>0</td>\n",
       "      <td>0</td>\n",
       "      <td>0</td>\n",
       "      <td>0</td>\n",
       "      <td>0</td>\n",
       "    </tr>\n",
       "    <tr>\n",
       "      <th>4</th>\n",
       "      <td>4</td>\n",
       "      <td>45</td>\n",
       "      <td>50000</td>\n",
       "      <td>0</td>\n",
       "      <td>354</td>\n",
       "      <td>396</td>\n",
       "      <td>95</td>\n",
       "      <td>0</td>\n",
       "      <td>0</td>\n",
       "      <td>0</td>\n",
       "      <td>...</td>\n",
       "      <td>0</td>\n",
       "      <td>0</td>\n",
       "      <td>0</td>\n",
       "      <td>0</td>\n",
       "      <td>0</td>\n",
       "      <td>0</td>\n",
       "      <td>0</td>\n",
       "      <td>0</td>\n",
       "      <td>1</td>\n",
       "      <td>0</td>\n",
       "    </tr>\n",
       "  </tbody>\n",
       "</table>\n",
       "<p>5 rows × 126 columns</p>\n",
       "</div>"
      ],
      "text/plain": [
       "   ACTL_FMLY_NUM  AGE   ARPU  AUTR_FAIL_MCNT  AVG_CALL_FREQ  AVG_CALL_TIME  \\\n",
       "0              4   50  30000              10            493            450   \n",
       "1              4   50  30000               0             22             81   \n",
       "2              4   60  30000               0             17            139   \n",
       "3              2   35  30000               0              0           1118   \n",
       "4              4   45  50000               0            354            396   \n",
       "\n",
       "   AVG_STLN_RATE  CB_GUIF_AMT  CB_GUIF_CNT  CNTT_LAMT_CNT  \\\n",
       "0              0       420001            3              0   \n",
       "1              0            0            0              0   \n",
       "2              0            0            0              0   \n",
       "3              0            0            0              0   \n",
       "4             95            0            0              0   \n",
       "\n",
       "          ...           MATE_OCCP_NAME_C_07  MATE_OCCP_NAME_C_08  \\\n",
       "0         ...                             0                    0   \n",
       "1         ...                             0                    0   \n",
       "2         ...                             0                    0   \n",
       "3         ...                             1                    0   \n",
       "4         ...                             0                    0   \n",
       "\n",
       "   MATE_OCCP_NAME_C_09  MATE_OCCP_NAME_C_10  MATE_OCCP_NAME_C_11  \\\n",
       "0                    0                    0                    0   \n",
       "1                    0                    0                    0   \n",
       "2                    0                    0                    0   \n",
       "3                    0                    0                    0   \n",
       "4                    0                    0                    0   \n",
       "\n",
       "   MATE_OCCP_NAME_C_12  MATE_OCCP_NAME_C_13  MATE_OCCP_NAME_C_14  \\\n",
       "0                    0                    0                    0   \n",
       "1                    0                    0                    0   \n",
       "2                    0                    0                    0   \n",
       "3                    0                    0                    0   \n",
       "4                    0                    0                    0   \n",
       "\n",
       "   MATE_OCCP_NAME_C_15  MATE_OCCP_NAME_C_16  \n",
       "0                    1                    0  \n",
       "1                    1                    0  \n",
       "2                    0                    0  \n",
       "3                    0                    0  \n",
       "4                    1                    0  \n",
       "\n",
       "[5 rows x 126 columns]"
      ]
     },
     "execution_count": 3,
     "metadata": {},
     "output_type": "execute_result"
    }
   ],
   "source": [
    "cust_data.head()"
   ]
  },
  {
   "cell_type": "code",
   "execution_count": 4,
   "metadata": {
    "collapsed": true
   },
   "outputs": [],
   "source": [
    "def model_performance(y_test, y_pred):    \n",
    "    print('confusion matrix')\n",
    "    print(metrics.confusion_matrix(y_test, y_pred))\n",
    "    print('accuracy : {}'.format(metrics.accuracy_score(y_test, y_pred).round(3)))\n",
    "    print('precision : {}'.format(metrics.precision_score(y_test, y_pred, pos_label=1).round(3)))\n",
    "    print('recall : {}'.format(metrics.recall_score(y_test, y_pred, pos_label=1).round(3)))\n",
    "    print('F1 : {}'.format(metrics.f1_score(y_test, y_pred, pos_label=1).round(3)))"
   ]
  },
  {
   "cell_type": "markdown",
   "metadata": {},
   "source": [
    "## 연체자 data duplicate"
   ]
  },
  {
   "cell_type": "code",
   "execution_count": 5,
   "metadata": {
    "collapsed": false
   },
   "outputs": [
    {
     "name": "stdout",
     "output_type": "stream",
     "text": [
      "95946\n",
      "4287\n"
     ]
    }
   ],
   "source": [
    "cust = cust_data[cust_data['TARGET'] == 0]\n",
    "cust_overdue = cust_data[cust_data['TARGET'] == 1]     # 연체자\n",
    "\n",
    "print(cust.shape[0])\n",
    "print(cust_overdue.shape[0])"
   ]
  },
  {
   "cell_type": "code",
   "execution_count": 6,
   "metadata": {
    "collapsed": false
   },
   "outputs": [
    {
     "data": {
      "text/plain": [
       "Index(['ACTL_FMLY_NUM', 'AGE', 'ARPU', 'AUTR_FAIL_MCNT', 'AVG_CALL_FREQ',\n",
       "       'AVG_CALL_TIME', 'AVG_STLN_RATE', 'CB_GUIF_AMT', 'CB_GUIF_CNT',\n",
       "       'CNTT_LAMT_CNT',\n",
       "       ...\n",
       "       'MATE_OCCP_NAME_C_07', 'MATE_OCCP_NAME_C_08', 'MATE_OCCP_NAME_C_09',\n",
       "       'MATE_OCCP_NAME_C_10', 'MATE_OCCP_NAME_C_11', 'MATE_OCCP_NAME_C_12',\n",
       "       'MATE_OCCP_NAME_C_13', 'MATE_OCCP_NAME_C_14', 'MATE_OCCP_NAME_C_15',\n",
       "       'MATE_OCCP_NAME_C_16'],\n",
       "      dtype='object', length=125)"
      ]
     },
     "execution_count": 6,
     "metadata": {},
     "output_type": "execute_result"
    }
   ],
   "source": [
    "variables = cust_data.drop('TARGET', 1).columns\n",
    "variables"
   ]
  },
  {
   "cell_type": "code",
   "execution_count": 9,
   "metadata": {
    "collapsed": false,
    "scrolled": false
   },
   "outputs": [
    {
     "name": "stdout",
     "output_type": "stream",
     "text": [
      "----------------------------------------  0\n",
      "total overdue 4287 : test 20047 : test overdue 883\n",
      "\n",
      "confusion matrix\n",
      "[[18485   679]\n",
      " [  610   273]]\n",
      "accuracy : 0.936\n",
      "precision : 0.287\n",
      "recall : 0.309\n",
      "F1 : 0.298\n",
      "    importance              var\n",
      "78    0.059800      PAYM_METD_G\n",
      "14    0.053742    CRDT_CARD_CNT\n",
      "54    0.035875  SPTCT_OCCR_MDIF\n",
      "17    0.030078   CRDT_OCCR_MDIF\n",
      "63    0.027304     TOT_LNIF_AMT\n",
      "64    0.026506     TOT_LOAN_CNT\n",
      "5     0.026278    AVG_CALL_TIME\n",
      "49    0.025577        MOBL_PRIN\n",
      "34    0.022698   HSHD_INFR_INCM\n",
      "58    0.021126     TEL_CNTT_QTR\n"
     ]
    }
   ],
   "source": [
    "x_data = pd.concat([cust, cust_overdue])\n",
    "x = x_data.drop('TARGET', axis=1)\n",
    "y = x_data['TARGET']\n",
    "\n",
    "for i in range(1):\n",
    "    x_train, x_test, y_train, y_test = train_test_split(x, y, test_size=0.2, random_state=0)\n",
    "      \n",
    "    print('---------------------------------------- ', i)\n",
    "    print('total overdue {} : test {} : test overdue {}'.format(x_data[x_data['TARGET'] == 1].shape[0], x_test.shape[0], len(y_test[y_test == 1])))\n",
    "    print('')\n",
    "    \n",
    "    tree = DecisionTreeClassifier()\n",
    "    tree.fit(x_train, y_train)\n",
    "    y_pred = tree.predict(x_test)\n",
    "    model_performance(y_test, y_pred)\n",
    "    \n",
    "    varDic = {'var':variables, 'importance':tree.feature_importances_}\n",
    "    importance = pd.DataFrame(varDic)\n",
    "    print(importance.sort_values(by='importance', ascending=False).head(10))\n",
    "\n",
    "    # 연체자 수를 점차 늘려간다.\n",
    "    x_data = pd.concat([x_data, cust_overdue])\n",
    "    x = x_data.drop('TARGET', axis=1)\n",
    "    y = x_data['TARGET']\n"
   ]
  },
  {
   "cell_type": "code",
   "execution_count": null,
   "metadata": {
    "collapsed": true
   },
   "outputs": [],
   "source": []
  },
  {
   "cell_type": "code",
   "execution_count": 10,
   "metadata": {
    "collapsed": true
   },
   "outputs": [],
   "source": [
    "from sklearn.ensemble import GradientBoostingClassifier"
   ]
  },
  {
   "cell_type": "code",
   "execution_count": 11,
   "metadata": {
    "collapsed": false
   },
   "outputs": [
    {
     "name": "stdout",
     "output_type": "stream",
     "text": [
      "confusion matrix\n",
      "[[19058   106]\n",
      " [  669   214]]\n",
      "accuracy : 0.961\n",
      "precision : 0.669\n",
      "recall : 0.242\n",
      "F1 : 0.356\n"
     ]
    }
   ],
   "source": [
    "gb = GradientBoostingClassifier(n_estimators=500, random_state=0)\n",
    "gb.fit(x_train, y_train)\n",
    "y_pred = gb.predict(x_test)\n",
    "model_performance(y_test, y_pred)"
   ]
  },
  {
   "cell_type": "code",
   "execution_count": null,
   "metadata": {
    "collapsed": true
   },
   "outputs": [],
   "source": []
  },
  {
   "cell_type": "code",
   "execution_count": null,
   "metadata": {
    "collapsed": true
   },
   "outputs": [],
   "source": []
  },
  {
   "cell_type": "code",
   "execution_count": null,
   "metadata": {
    "collapsed": true
   },
   "outputs": [],
   "source": []
  },
  {
   "cell_type": "code",
   "execution_count": null,
   "metadata": {
    "collapsed": true
   },
   "outputs": [],
   "source": []
  },
  {
   "cell_type": "code",
   "execution_count": 15,
   "metadata": {
    "collapsed": true
   },
   "outputs": [],
   "source": [
    "from sklearn.svm import SVC"
   ]
  },
  {
   "cell_type": "code",
   "execution_count": null,
   "metadata": {
    "collapsed": false
   },
   "outputs": [],
   "source": [
    "clf = SVC(kernel='linear')\n",
    "clf.fit(x_train, y_train)\n",
    "y_pred = clf.predict(x_test)\n",
    "model_performance(y_test, y_pred)"
   ]
  },
  {
   "cell_type": "code",
   "execution_count": null,
   "metadata": {
    "collapsed": true
   },
   "outputs": [],
   "source": []
  },
  {
   "cell_type": "code",
   "execution_count": null,
   "metadata": {
    "collapsed": true
   },
   "outputs": [],
   "source": []
  }
 ],
 "metadata": {
  "anaconda-cloud": {},
  "kernelspec": {
   "display_name": "Python [conda root]",
   "language": "python",
   "name": "conda-root-py"
  },
  "language_info": {
   "codemirror_mode": {
    "name": "ipython",
    "version": 3
   },
   "file_extension": ".py",
   "mimetype": "text/x-python",
   "name": "python",
   "nbconvert_exporter": "python",
   "pygments_lexer": "ipython3",
   "version": "3.5.2"
  }
 },
 "nbformat": 4,
 "nbformat_minor": 1
}
