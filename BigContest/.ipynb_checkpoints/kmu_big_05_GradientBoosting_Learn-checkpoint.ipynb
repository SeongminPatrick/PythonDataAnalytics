{
 "cells": [
  {
   "cell_type": "code",
   "execution_count": 11,
   "metadata": {
    "collapsed": false
   },
   "outputs": [],
   "source": [
    "import pandas as pd\n",
    "import numpy as np\n",
    "from sklearn.model_selection import train_test_split\n",
    "from sklearn import metrics\n",
    "from sklearn.tree import DecisionTreeClassifier\n",
    "from sklearn.ensemble import GradientBoostingClassifier\n",
    "from sklearn import model_selection"
   ]
  },
  {
   "cell_type": "code",
   "execution_count": 12,
   "metadata": {
    "collapsed": false
   },
   "outputs": [
    {
     "data": {
      "text/plain": [
       "(100233, 174)"
      ]
     },
     "execution_count": 12,
     "metadata": {},
     "output_type": "execute_result"
    }
   ],
   "source": [
    "cust_data = pd.read_csv('data_transform.csv')\n",
    "cust_data.shape"
   ]
  },
  {
   "cell_type": "code",
   "execution_count": 13,
   "metadata": {
    "collapsed": false
   },
   "outputs": [
    {
     "data": {
      "text/html": [
       "<div>\n",
       "<style>\n",
       "    .dataframe thead tr:only-child th {\n",
       "        text-align: right;\n",
       "    }\n",
       "\n",
       "    .dataframe thead th {\n",
       "        text-align: left;\n",
       "    }\n",
       "\n",
       "    .dataframe tbody tr th {\n",
       "        vertical-align: top;\n",
       "    }\n",
       "</style>\n",
       "<table border=\"1\" class=\"dataframe\">\n",
       "  <thead>\n",
       "    <tr style=\"text-align: right;\">\n",
       "      <th></th>\n",
       "      <th>ACTL_FMLY_NUM</th>\n",
       "      <th>AGE</th>\n",
       "      <th>ARPU</th>\n",
       "      <th>AUTR_FAIL_MCNT</th>\n",
       "      <th>AUTR_FAIL_YN</th>\n",
       "      <th>AVG_CALL_FREQ</th>\n",
       "      <th>AVG_CALL_TIME</th>\n",
       "      <th>AVG_STLN_RATE</th>\n",
       "      <th>CB_GUIF_AMT</th>\n",
       "      <th>CB_GUIF_CNT</th>\n",
       "      <th>...</th>\n",
       "      <th>MATE_OCCP_NAME_C_07</th>\n",
       "      <th>MATE_OCCP_NAME_C_08</th>\n",
       "      <th>MATE_OCCP_NAME_C_09</th>\n",
       "      <th>MATE_OCCP_NAME_C_10</th>\n",
       "      <th>MATE_OCCP_NAME_C_11</th>\n",
       "      <th>MATE_OCCP_NAME_C_12</th>\n",
       "      <th>MATE_OCCP_NAME_C_13</th>\n",
       "      <th>MATE_OCCP_NAME_C_14</th>\n",
       "      <th>MATE_OCCP_NAME_C_15</th>\n",
       "      <th>MATE_OCCP_NAME_C_16</th>\n",
       "    </tr>\n",
       "  </thead>\n",
       "  <tbody>\n",
       "    <tr>\n",
       "      <th>0</th>\n",
       "      <td>4</td>\n",
       "      <td>50</td>\n",
       "      <td>30000</td>\n",
       "      <td>10</td>\n",
       "      <td>1.0</td>\n",
       "      <td>493</td>\n",
       "      <td>450</td>\n",
       "      <td>0</td>\n",
       "      <td>420001</td>\n",
       "      <td>3</td>\n",
       "      <td>...</td>\n",
       "      <td>0</td>\n",
       "      <td>0</td>\n",
       "      <td>0</td>\n",
       "      <td>0</td>\n",
       "      <td>0</td>\n",
       "      <td>0</td>\n",
       "      <td>0</td>\n",
       "      <td>0</td>\n",
       "      <td>1</td>\n",
       "      <td>0</td>\n",
       "    </tr>\n",
       "    <tr>\n",
       "      <th>1</th>\n",
       "      <td>4</td>\n",
       "      <td>50</td>\n",
       "      <td>30000</td>\n",
       "      <td>0</td>\n",
       "      <td>0.0</td>\n",
       "      <td>22</td>\n",
       "      <td>81</td>\n",
       "      <td>0</td>\n",
       "      <td>0</td>\n",
       "      <td>0</td>\n",
       "      <td>...</td>\n",
       "      <td>0</td>\n",
       "      <td>0</td>\n",
       "      <td>0</td>\n",
       "      <td>0</td>\n",
       "      <td>0</td>\n",
       "      <td>0</td>\n",
       "      <td>0</td>\n",
       "      <td>0</td>\n",
       "      <td>1</td>\n",
       "      <td>0</td>\n",
       "    </tr>\n",
       "    <tr>\n",
       "      <th>2</th>\n",
       "      <td>4</td>\n",
       "      <td>60</td>\n",
       "      <td>30000</td>\n",
       "      <td>0</td>\n",
       "      <td>0.0</td>\n",
       "      <td>17</td>\n",
       "      <td>139</td>\n",
       "      <td>0</td>\n",
       "      <td>0</td>\n",
       "      <td>0</td>\n",
       "      <td>...</td>\n",
       "      <td>0</td>\n",
       "      <td>0</td>\n",
       "      <td>0</td>\n",
       "      <td>0</td>\n",
       "      <td>0</td>\n",
       "      <td>0</td>\n",
       "      <td>0</td>\n",
       "      <td>0</td>\n",
       "      <td>0</td>\n",
       "      <td>0</td>\n",
       "    </tr>\n",
       "    <tr>\n",
       "      <th>3</th>\n",
       "      <td>2</td>\n",
       "      <td>35</td>\n",
       "      <td>30000</td>\n",
       "      <td>0</td>\n",
       "      <td>0.0</td>\n",
       "      <td>0</td>\n",
       "      <td>1118</td>\n",
       "      <td>0</td>\n",
       "      <td>0</td>\n",
       "      <td>0</td>\n",
       "      <td>...</td>\n",
       "      <td>1</td>\n",
       "      <td>0</td>\n",
       "      <td>0</td>\n",
       "      <td>0</td>\n",
       "      <td>0</td>\n",
       "      <td>0</td>\n",
       "      <td>0</td>\n",
       "      <td>0</td>\n",
       "      <td>0</td>\n",
       "      <td>0</td>\n",
       "    </tr>\n",
       "    <tr>\n",
       "      <th>4</th>\n",
       "      <td>4</td>\n",
       "      <td>45</td>\n",
       "      <td>50000</td>\n",
       "      <td>0</td>\n",
       "      <td>0.0</td>\n",
       "      <td>354</td>\n",
       "      <td>396</td>\n",
       "      <td>95</td>\n",
       "      <td>0</td>\n",
       "      <td>0</td>\n",
       "      <td>...</td>\n",
       "      <td>0</td>\n",
       "      <td>0</td>\n",
       "      <td>0</td>\n",
       "      <td>0</td>\n",
       "      <td>0</td>\n",
       "      <td>0</td>\n",
       "      <td>0</td>\n",
       "      <td>0</td>\n",
       "      <td>1</td>\n",
       "      <td>0</td>\n",
       "    </tr>\n",
       "  </tbody>\n",
       "</table>\n",
       "<p>5 rows × 174 columns</p>\n",
       "</div>"
      ],
      "text/plain": [
       "   ACTL_FMLY_NUM  AGE   ARPU  AUTR_FAIL_MCNT  AUTR_FAIL_YN  AVG_CALL_FREQ  \\\n",
       "0              4   50  30000              10           1.0            493   \n",
       "1              4   50  30000               0           0.0             22   \n",
       "2              4   60  30000               0           0.0             17   \n",
       "3              2   35  30000               0           0.0              0   \n",
       "4              4   45  50000               0           0.0            354   \n",
       "\n",
       "   AVG_CALL_TIME  AVG_STLN_RATE  CB_GUIF_AMT  CB_GUIF_CNT  \\\n",
       "0            450              0       420001            3   \n",
       "1             81              0            0            0   \n",
       "2            139              0            0            0   \n",
       "3           1118              0            0            0   \n",
       "4            396             95            0            0   \n",
       "\n",
       "          ...           MATE_OCCP_NAME_C_07  MATE_OCCP_NAME_C_08  \\\n",
       "0         ...                             0                    0   \n",
       "1         ...                             0                    0   \n",
       "2         ...                             0                    0   \n",
       "3         ...                             1                    0   \n",
       "4         ...                             0                    0   \n",
       "\n",
       "   MATE_OCCP_NAME_C_09  MATE_OCCP_NAME_C_10  MATE_OCCP_NAME_C_11  \\\n",
       "0                    0                    0                    0   \n",
       "1                    0                    0                    0   \n",
       "2                    0                    0                    0   \n",
       "3                    0                    0                    0   \n",
       "4                    0                    0                    0   \n",
       "\n",
       "   MATE_OCCP_NAME_C_12  MATE_OCCP_NAME_C_13  MATE_OCCP_NAME_C_14  \\\n",
       "0                    0                    0                    0   \n",
       "1                    0                    0                    0   \n",
       "2                    0                    0                    0   \n",
       "3                    0                    0                    0   \n",
       "4                    0                    0                    0   \n",
       "\n",
       "   MATE_OCCP_NAME_C_15  MATE_OCCP_NAME_C_16  \n",
       "0                    1                    0  \n",
       "1                    1                    0  \n",
       "2                    0                    0  \n",
       "3                    0                    0  \n",
       "4                    1                    0  \n",
       "\n",
       "[5 rows x 174 columns]"
      ]
     },
     "execution_count": 13,
     "metadata": {},
     "output_type": "execute_result"
    }
   ],
   "source": [
    "cust_data.head()"
   ]
  },
  {
   "cell_type": "code",
   "execution_count": 14,
   "metadata": {
    "collapsed": true
   },
   "outputs": [],
   "source": [
    "def model_performance(y_test, y_pred):    \n",
    "    print('confusion matrix')\n",
    "    print(metrics.confusion_matrix(y_test, y_pred))\n",
    "    print('accuracy : {}'.format(metrics.accuracy_score(y_test, y_pred).round(3)))\n",
    "    print('precision : {}'.format(metrics.precision_score(y_test, y_pred, pos_label=1).round(3)))\n",
    "    print('recall : {}'.format(metrics.recall_score(y_test, y_pred, pos_label=1).round(3)))\n",
    "    print('F1 : {}'.format(metrics.f1_score(y_test, y_pred, pos_label=1).round(3)))"
   ]
  },
  {
   "cell_type": "markdown",
   "metadata": {},
   "source": [
    "## 연체자 data duplicate"
   ]
  },
  {
   "cell_type": "code",
   "execution_count": 15,
   "metadata": {
    "collapsed": false
   },
   "outputs": [
    {
     "name": "stdout",
     "output_type": "stream",
     "text": [
      "95946\n",
      "4287\n"
     ]
    }
   ],
   "source": [
    "cust = cust_data[cust_data['TARGET'] == 0]\n",
    "cust_overdue = cust_data[cust_data['TARGET'] == 1]     # 연체자\n",
    "\n",
    "print(cust.shape[0])\n",
    "print(cust_overdue.shape[0])"
   ]
  },
  {
   "cell_type": "code",
   "execution_count": 16,
   "metadata": {
    "collapsed": false
   },
   "outputs": [
    {
     "data": {
      "text/plain": [
       "Index(['ACTL_FMLY_NUM', 'AGE', 'ARPU', 'AUTR_FAIL_MCNT', 'AUTR_FAIL_YN',\n",
       "       'AVG_CALL_FREQ', 'AVG_CALL_TIME', 'AVG_STLN_RATE', 'CB_GUIF_AMT',\n",
       "       'CB_GUIF_CNT',\n",
       "       ...\n",
       "       'MATE_OCCP_NAME_C_07', 'MATE_OCCP_NAME_C_08', 'MATE_OCCP_NAME_C_09',\n",
       "       'MATE_OCCP_NAME_C_10', 'MATE_OCCP_NAME_C_11', 'MATE_OCCP_NAME_C_12',\n",
       "       'MATE_OCCP_NAME_C_13', 'MATE_OCCP_NAME_C_14', 'MATE_OCCP_NAME_C_15',\n",
       "       'MATE_OCCP_NAME_C_16'],\n",
       "      dtype='object', length=173)"
      ]
     },
     "execution_count": 16,
     "metadata": {},
     "output_type": "execute_result"
    }
   ],
   "source": [
    "variables = cust_data.drop('TARGET', 1).columns\n",
    "variables"
   ]
  },
  {
   "cell_type": "markdown",
   "metadata": {},
   "source": [
    "### ML modeling"
   ]
  },
  {
   "cell_type": "code",
   "execution_count": 17,
   "metadata": {
    "collapsed": false
   },
   "outputs": [
    {
     "name": "stdout",
     "output_type": "stream",
     "text": [
      "연체자 수 train : 3439 / 80186\n",
      "연체자 수 test  : 848 / 20047\n"
     ]
    }
   ],
   "source": [
    "# train / test set 분리\n",
    "x = cust_data.drop('TARGET', axis=1)\n",
    "y = cust_data['TARGET']\n",
    "\n",
    "x_train, x_test, y_train, y_test = train_test_split(x, y, test_size=0.2, random_state=0)\n",
    "\n",
    "print('연체자 수 train : {} / {}'.format(sum(y_train == 1), y_train.shape[0]))\n",
    "print('연체자 수 test  : {} / {}'.format(sum(y_test  == 1), y_test.shape[0]))"
   ]
  },
  {
   "cell_type": "code",
   "execution_count": 18,
   "metadata": {
    "collapsed": false
   },
   "outputs": [
    {
     "name": "stdout",
     "output_type": "stream",
     "text": [
      "(3439, 173)\n",
      "(3439,)\n"
     ]
    }
   ],
   "source": [
    "# train set 중에서 연체자만 추출\n",
    "x_overdue = x_train[y_train == 1]\n",
    "y_overdue = y_train[y_train == 1]\n",
    "print(x_overdue.shape)\n",
    "print(y_overdue.shape)"
   ]
  },
  {
   "cell_type": "code",
   "execution_count": 19,
   "metadata": {
    "collapsed": true
   },
   "outputs": [],
   "source": [
    "#     clf = DecisionTreeClassifier()\n",
    "# clf = GradientBoostingClassifier(n_estimators=500, random_state=0)"
   ]
  },
  {
   "cell_type": "code",
   "execution_count": 20,
   "metadata": {
    "collapsed": false,
    "scrolled": false
   },
   "outputs": [
    {
     "name": "stdout",
     "output_type": "stream",
     "text": [
      "=========================================  0\n",
      "test 16038 : test overdue 720\n",
      "\n",
      "[  5.34581185e-03   1.24449037e-02   1.32713894e-02   1.24258326e-02\n",
      "   1.68527629e-04   1.23707754e-02   1.91402064e-02   2.06400837e-03\n",
      "   1.52567544e-02   2.56644076e-03   2.37814553e-03   1.08466237e-03\n",
      "   1.65140474e-02   3.40103784e-03   8.50343004e-03   2.96370749e-02\n",
      "   3.89611799e-02   4.08644266e-03   3.57526544e-03   2.36946729e-02\n",
      "   4.41447386e-03   8.63005852e-03   4.32979484e-02   1.32739934e-02\n",
      "   3.64188505e-03   6.26770492e-03   8.89425279e-03   1.52415645e-02\n",
      "   3.44596242e-03   7.47051108e-03   6.56459660e-03   2.46918232e-03\n",
      "   9.19143829e-03   9.16330510e-03   3.87506122e-03   1.74009127e-02\n",
      "   7.81555317e-03   4.97065724e-03   3.62793004e-02   2.36257148e-02\n",
      "   4.40130617e-03   5.12063598e-03   1.20225008e-03   4.34857829e-02\n",
      "   1.51939747e-03   2.62564317e-03   2.92456734e-03   9.32527890e-04\n",
      "   1.57446567e-02   1.31773061e-02   1.96861155e-03   5.09687745e-03\n",
      "   1.09205284e-02   1.13971333e-02   1.59070546e-02   1.00805862e-02\n",
      "   6.27668695e-03   5.82294368e-02   1.26042226e-02   4.29090455e-03\n",
      "   1.18042461e-03   3.36831316e-02   2.18027353e-03   3.89116856e-03\n",
      "   5.28855449e-03   1.20630700e-02   5.26791788e-02   3.32224131e-03\n",
      "   8.43978779e-03   1.60602998e-04   3.29927450e-02   3.14282020e-02\n",
      "   9.95814441e-03   3.67987179e-03   2.80347562e-04   1.78714464e-04\n",
      "   5.91998293e-04   0.00000000e+00   0.00000000e+00   0.00000000e+00\n",
      "   0.00000000e+00   0.00000000e+00   1.90417822e-03   1.69473166e-03\n",
      "   0.00000000e+00   0.00000000e+00   6.49411364e-04   0.00000000e+00\n",
      "   0.00000000e+00   2.06499443e-06   1.53090918e-04   0.00000000e+00\n",
      "   8.58340827e-04   1.22838214e-03   4.55156164e-04   0.00000000e+00\n",
      "   8.87268001e-04   0.00000000e+00   6.18304153e-05   4.59655460e-05\n",
      "   7.24513336e-04   1.34544206e-03   2.60444970e-04   0.00000000e+00\n",
      "   0.00000000e+00   1.23957535e-03   6.94678844e-04   3.38648110e-04\n",
      "   0.00000000e+00   1.40555472e-03   2.35391045e-03   4.77035414e-04\n",
      "   1.13528100e-03   4.68337364e-03   1.49526718e-03   1.54397035e-03\n",
      "   3.09421951e-03   3.20292031e-03   1.25697320e-03   0.00000000e+00\n",
      "   8.54231063e-04   0.00000000e+00   5.47935823e-04   2.83993274e-03\n",
      "   1.55927392e-04   0.00000000e+00   2.26637142e-02   6.39924453e-03\n",
      "   2.90158702e-03   1.09552847e-03   3.30470346e-03   3.30028949e-03\n",
      "   9.30798609e-04   1.42008661e-04   0.00000000e+00   2.12282175e-03\n",
      "   1.37925970e-03   2.41833613e-03   8.95844264e-04   1.90399560e-03\n",
      "   4.62250702e-03   6.41596246e-04   0.00000000e+00   2.82718302e-04\n",
      "   1.31209073e-03   4.85033066e-04   3.25246481e-04   0.00000000e+00\n",
      "   0.00000000e+00   9.33271358e-04   1.37321082e-04   9.74721575e-04\n",
      "   3.43358401e-05   9.20220111e-04   5.22906577e-05   0.00000000e+00\n",
      "   2.73472261e-04   2.21063151e-04   9.85763389e-04   4.14284967e-04\n",
      "   1.11878297e-03   9.10860161e-04   0.00000000e+00   3.84196443e-04\n",
      "   8.72039408e-04   7.85407670e-04   1.47184721e-04   1.70463413e-03\n",
      "   5.11130406e-04   0.00000000e+00   0.00000000e+00   4.62760793e-04\n",
      "   7.09419924e-04]\n",
      "------------------------\n",
      "confusion matrix\n",
      "[[19066   133]\n",
      " [  643   205]]\n",
      "accuracy : 0.961\n",
      "precision : 0.607\n",
      "recall : 0.242\n",
      "F1 : 0.346\n",
      "------------------------\n",
      "=========================================  1\n",
      "test 16725 : test overdue 1415\n",
      "\n"
     ]
    },
    {
     "ename": "KeyboardInterrupt",
     "evalue": "",
     "output_type": "error",
     "traceback": [
      "\u001b[0;31m---------------------------------------------------------------------------\u001b[0m",
      "\u001b[0;31mKeyboardInterrupt\u001b[0m                         Traceback (most recent call last)",
      "\u001b[0;32m<ipython-input-20-1a49dab31a83>\u001b[0m in \u001b[0;36m<module>\u001b[0;34m()\u001b[0m\n\u001b[1;32m      9\u001b[0m \u001b[1;33m\u001b[0m\u001b[0m\n\u001b[1;32m     10\u001b[0m     \u001b[0mclf\u001b[0m \u001b[1;33m=\u001b[0m \u001b[0mGradientBoostingClassifier\u001b[0m\u001b[1;33m(\u001b[0m\u001b[0mn_estimators\u001b[0m\u001b[1;33m=\u001b[0m\u001b[1;36m500\u001b[0m\u001b[1;33m,\u001b[0m \u001b[0mrandom_state\u001b[0m\u001b[1;33m=\u001b[0m\u001b[1;36m0\u001b[0m\u001b[1;33m)\u001b[0m\u001b[1;33m\u001b[0m\u001b[0m\n\u001b[0;32m---> 11\u001b[0;31m     \u001b[0mclf\u001b[0m\u001b[1;33m.\u001b[0m\u001b[0mfit\u001b[0m\u001b[1;33m(\u001b[0m\u001b[0mx2_train\u001b[0m\u001b[1;33m,\u001b[0m \u001b[0my2_train\u001b[0m\u001b[1;33m)\u001b[0m\u001b[1;33m\u001b[0m\u001b[0m\n\u001b[0m\u001b[1;32m     12\u001b[0m \u001b[1;33m\u001b[0m\u001b[0m\n\u001b[1;32m     13\u001b[0m     \u001b[0mprint\u001b[0m\u001b[1;33m(\u001b[0m\u001b[0mclf\u001b[0m\u001b[1;33m.\u001b[0m\u001b[0mfeature_importances_\u001b[0m\u001b[1;33m)\u001b[0m\u001b[1;33m\u001b[0m\u001b[0m\n",
      "\u001b[0;32mC:\\Anaconda3\\lib\\site-packages\\sklearn\\ensemble\\gradient_boosting.py\u001b[0m in \u001b[0;36mfit\u001b[0;34m(self, X, y, sample_weight, monitor)\u001b[0m\n\u001b[1;32m   1032\u001b[0m         \u001b[1;31m# fit the boosting stages\u001b[0m\u001b[1;33m\u001b[0m\u001b[1;33m\u001b[0m\u001b[0m\n\u001b[1;32m   1033\u001b[0m         n_stages = self._fit_stages(X, y, y_pred, sample_weight, random_state,\n\u001b[0;32m-> 1034\u001b[0;31m                                     begin_at_stage, monitor, X_idx_sorted)\n\u001b[0m\u001b[1;32m   1035\u001b[0m         \u001b[1;31m# change shape of arrays after fit (early-stopping or additional ests)\u001b[0m\u001b[1;33m\u001b[0m\u001b[1;33m\u001b[0m\u001b[0m\n\u001b[1;32m   1036\u001b[0m         \u001b[1;32mif\u001b[0m \u001b[0mn_stages\u001b[0m \u001b[1;33m!=\u001b[0m \u001b[0mself\u001b[0m\u001b[1;33m.\u001b[0m\u001b[0mestimators_\u001b[0m\u001b[1;33m.\u001b[0m\u001b[0mshape\u001b[0m\u001b[1;33m[\u001b[0m\u001b[1;36m0\u001b[0m\u001b[1;33m]\u001b[0m\u001b[1;33m:\u001b[0m\u001b[1;33m\u001b[0m\u001b[0m\n",
      "\u001b[0;32mC:\\Anaconda3\\lib\\site-packages\\sklearn\\ensemble\\gradient_boosting.py\u001b[0m in \u001b[0;36m_fit_stages\u001b[0;34m(self, X, y, y_pred, sample_weight, random_state, begin_at_stage, monitor, X_idx_sorted)\u001b[0m\n\u001b[1;32m   1087\u001b[0m             y_pred = self._fit_stage(i, X, y, y_pred, sample_weight,\n\u001b[1;32m   1088\u001b[0m                                      \u001b[0msample_mask\u001b[0m\u001b[1;33m,\u001b[0m \u001b[0mrandom_state\u001b[0m\u001b[1;33m,\u001b[0m \u001b[0mX_idx_sorted\u001b[0m\u001b[1;33m,\u001b[0m\u001b[1;33m\u001b[0m\u001b[0m\n\u001b[0;32m-> 1089\u001b[0;31m                                      X_csc, X_csr)\n\u001b[0m\u001b[1;32m   1090\u001b[0m \u001b[1;33m\u001b[0m\u001b[0m\n\u001b[1;32m   1091\u001b[0m             \u001b[1;31m# track deviance (= loss)\u001b[0m\u001b[1;33m\u001b[0m\u001b[1;33m\u001b[0m\u001b[0m\n",
      "\u001b[0;32mC:\\Anaconda3\\lib\\site-packages\\sklearn\\ensemble\\gradient_boosting.py\u001b[0m in \u001b[0;36m_fit_stage\u001b[0;34m(self, i, X, y, y_pred, sample_weight, sample_mask, random_state, X_idx_sorted, X_csc, X_csr)\u001b[0m\n\u001b[1;32m    786\u001b[0m             \u001b[1;32melse\u001b[0m\u001b[1;33m:\u001b[0m\u001b[1;33m\u001b[0m\u001b[0m\n\u001b[1;32m    787\u001b[0m                 tree.fit(X, residual, sample_weight=sample_weight,\n\u001b[0;32m--> 788\u001b[0;31m                          check_input=False, X_idx_sorted=X_idx_sorted)\n\u001b[0m\u001b[1;32m    789\u001b[0m \u001b[1;33m\u001b[0m\u001b[0m\n\u001b[1;32m    790\u001b[0m             \u001b[1;31m# update tree leaves\u001b[0m\u001b[1;33m\u001b[0m\u001b[1;33m\u001b[0m\u001b[0m\n",
      "\u001b[0;32mC:\\Anaconda3\\lib\\site-packages\\sklearn\\tree\\tree.py\u001b[0m in \u001b[0;36mfit\u001b[0;34m(self, X, y, sample_weight, check_input, X_idx_sorted)\u001b[0m\n\u001b[1;32m   1122\u001b[0m             \u001b[0msample_weight\u001b[0m\u001b[1;33m=\u001b[0m\u001b[0msample_weight\u001b[0m\u001b[1;33m,\u001b[0m\u001b[1;33m\u001b[0m\u001b[0m\n\u001b[1;32m   1123\u001b[0m             \u001b[0mcheck_input\u001b[0m\u001b[1;33m=\u001b[0m\u001b[0mcheck_input\u001b[0m\u001b[1;33m,\u001b[0m\u001b[1;33m\u001b[0m\u001b[0m\n\u001b[0;32m-> 1124\u001b[0;31m             X_idx_sorted=X_idx_sorted)\n\u001b[0m\u001b[1;32m   1125\u001b[0m         \u001b[1;32mreturn\u001b[0m \u001b[0mself\u001b[0m\u001b[1;33m\u001b[0m\u001b[0m\n\u001b[1;32m   1126\u001b[0m \u001b[1;33m\u001b[0m\u001b[0m\n",
      "\u001b[0;32mC:\\Anaconda3\\lib\\site-packages\\sklearn\\tree\\tree.py\u001b[0m in \u001b[0;36mfit\u001b[0;34m(self, X, y, sample_weight, check_input, X_idx_sorted)\u001b[0m\n\u001b[1;32m    360\u001b[0m                                            min_impurity_split)\n\u001b[1;32m    361\u001b[0m \u001b[1;33m\u001b[0m\u001b[0m\n\u001b[0;32m--> 362\u001b[0;31m         \u001b[0mbuilder\u001b[0m\u001b[1;33m.\u001b[0m\u001b[0mbuild\u001b[0m\u001b[1;33m(\u001b[0m\u001b[0mself\u001b[0m\u001b[1;33m.\u001b[0m\u001b[0mtree_\u001b[0m\u001b[1;33m,\u001b[0m \u001b[0mX\u001b[0m\u001b[1;33m,\u001b[0m \u001b[0my\u001b[0m\u001b[1;33m,\u001b[0m \u001b[0msample_weight\u001b[0m\u001b[1;33m,\u001b[0m \u001b[0mX_idx_sorted\u001b[0m\u001b[1;33m)\u001b[0m\u001b[1;33m\u001b[0m\u001b[0m\n\u001b[0m\u001b[1;32m    363\u001b[0m \u001b[1;33m\u001b[0m\u001b[0m\n\u001b[1;32m    364\u001b[0m         \u001b[1;32mif\u001b[0m \u001b[0mself\u001b[0m\u001b[1;33m.\u001b[0m\u001b[0mn_outputs_\u001b[0m \u001b[1;33m==\u001b[0m \u001b[1;36m1\u001b[0m\u001b[1;33m:\u001b[0m\u001b[1;33m\u001b[0m\u001b[0m\n",
      "\u001b[0;31mKeyboardInterrupt\u001b[0m: "
     ]
    }
   ],
   "source": [
    "max_epoch = 3\n",
    "\n",
    "for i in range(max_epoch+1):\n",
    "    x2_train, x2_test, y2_train, y2_test = train_test_split(x_train, y_train, test_size=0.2, random_state=0)\n",
    "    \n",
    "    print('========================================= ', i)\n",
    "    print('test {} : test overdue {}'.format(y2_test.shape[0], sum(y2_test == 1)))\n",
    "    print('')\n",
    "    \n",
    "    clf = GradientBoostingClassifier(n_estimators=500, random_state=0)\n",
    "    clf.fit(x2_train, y2_train)\n",
    "    \n",
    "#     y_pred = clf.predict(x2_test)\n",
    "#     model_performance(y2_test, y_pred)\n",
    "    \n",
    "    varDic = {'var':variables, 'importance':clf.feature_importances_}\n",
    "    importance = pd.DataFrame(varDic)\n",
    "    print(importance.sort_values(by='importance', ascending=False).head(20))\n",
    "\n",
    "    x_train = pd.concat([x_train, x_overdue])\n",
    "    y_train = pd.concat([y_train, y_overdue])\n",
    "\n",
    "    print('------------------------')\n",
    "    y_pred_0 = clf.predict(x_test)\n",
    "    model_performance(y_test, y_pred_0)\n",
    "    print('------------------------')\n"
   ]
  },
  {
   "cell_type": "code",
   "execution_count": null,
   "metadata": {
    "collapsed": true
   },
   "outputs": [],
   "source": []
  },
  {
   "cell_type": "code",
   "execution_count": null,
   "metadata": {
    "collapsed": true
   },
   "outputs": [],
   "source": []
  }
 ],
 "metadata": {
  "anaconda-cloud": {},
  "kernelspec": {
   "display_name": "Python [conda root]",
   "language": "python",
   "name": "conda-root-py"
  },
  "language_info": {
   "codemirror_mode": {
    "name": "ipython",
    "version": 3
   },
   "file_extension": ".py",
   "mimetype": "text/x-python",
   "name": "python",
   "nbconvert_exporter": "python",
   "pygments_lexer": "ipython3",
   "version": "3.5.2"
  }
 },
 "nbformat": 4,
 "nbformat_minor": 1
}
