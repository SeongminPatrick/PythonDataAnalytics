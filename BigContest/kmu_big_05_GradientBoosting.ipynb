{
 "cells": [
  {
   "cell_type": "code",
   "execution_count": 19,
   "metadata": {
    "collapsed": false
   },
   "outputs": [],
   "source": [
    "import pandas as pd\n",
    "import numpy as np\n",
    "from sklearn.model_selection import train_test_split\n",
    "from sklearn import metrics\n",
    "from sklearn.tree import DecisionTreeClassifier\n",
    "from sklearn.ensemble import GradientBoostingClassifier\n",
    "from sklearn import model_selection"
   ]
  },
  {
   "cell_type": "code",
   "execution_count": 20,
   "metadata": {
    "collapsed": false
   },
   "outputs": [
    {
     "data": {
      "text/plain": [
       "(100233, 126)"
      ]
     },
     "execution_count": 20,
     "metadata": {},
     "output_type": "execute_result"
    }
   ],
   "source": [
    "cust_data = pd.read_csv('data_transform.csv')\n",
    "cust_data.shape"
   ]
  },
  {
   "cell_type": "code",
   "execution_count": 21,
   "metadata": {
    "collapsed": false
   },
   "outputs": [
    {
     "data": {
      "text/plain": [
       "(2019, 125)"
      ]
     },
     "execution_count": 21,
     "metadata": {},
     "output_type": "execute_result"
    }
   ],
   "source": [
    "t_data = pd.read_csv('test_transform.csv')\n",
    "t_data.shape"
   ]
  },
  {
   "cell_type": "code",
   "execution_count": 22,
   "metadata": {
    "collapsed": false
   },
   "outputs": [
    {
     "data": {
      "text/html": [
       "<div>\n",
       "<table border=\"1\" class=\"dataframe\">\n",
       "  <thead>\n",
       "    <tr style=\"text-align: right;\">\n",
       "      <th></th>\n",
       "      <th>ACTL_FMLY_NUM</th>\n",
       "      <th>AGE</th>\n",
       "      <th>ARPU</th>\n",
       "      <th>AUTR_FAIL_MCNT</th>\n",
       "      <th>AVG_CALL_FREQ</th>\n",
       "      <th>AVG_CALL_TIME</th>\n",
       "      <th>AVG_STLN_RATE</th>\n",
       "      <th>CB_GUIF_AMT</th>\n",
       "      <th>CB_GUIF_CNT</th>\n",
       "      <th>CNTT_LAMT_CNT</th>\n",
       "      <th>...</th>\n",
       "      <th>MATE_OCCP_NAME_C_07</th>\n",
       "      <th>MATE_OCCP_NAME_C_08</th>\n",
       "      <th>MATE_OCCP_NAME_C_09</th>\n",
       "      <th>MATE_OCCP_NAME_C_10</th>\n",
       "      <th>MATE_OCCP_NAME_C_11</th>\n",
       "      <th>MATE_OCCP_NAME_C_12</th>\n",
       "      <th>MATE_OCCP_NAME_C_13</th>\n",
       "      <th>MATE_OCCP_NAME_C_14</th>\n",
       "      <th>MATE_OCCP_NAME_C_15</th>\n",
       "      <th>MATE_OCCP_NAME_C_16</th>\n",
       "    </tr>\n",
       "  </thead>\n",
       "  <tbody>\n",
       "    <tr>\n",
       "      <th>0</th>\n",
       "      <td>4</td>\n",
       "      <td>50</td>\n",
       "      <td>30000</td>\n",
       "      <td>10</td>\n",
       "      <td>493</td>\n",
       "      <td>450</td>\n",
       "      <td>0</td>\n",
       "      <td>420001</td>\n",
       "      <td>3</td>\n",
       "      <td>0</td>\n",
       "      <td>...</td>\n",
       "      <td>0</td>\n",
       "      <td>0</td>\n",
       "      <td>0</td>\n",
       "      <td>0</td>\n",
       "      <td>0</td>\n",
       "      <td>0</td>\n",
       "      <td>0</td>\n",
       "      <td>0</td>\n",
       "      <td>1</td>\n",
       "      <td>0</td>\n",
       "    </tr>\n",
       "    <tr>\n",
       "      <th>1</th>\n",
       "      <td>4</td>\n",
       "      <td>50</td>\n",
       "      <td>30000</td>\n",
       "      <td>0</td>\n",
       "      <td>22</td>\n",
       "      <td>81</td>\n",
       "      <td>0</td>\n",
       "      <td>0</td>\n",
       "      <td>0</td>\n",
       "      <td>0</td>\n",
       "      <td>...</td>\n",
       "      <td>0</td>\n",
       "      <td>0</td>\n",
       "      <td>0</td>\n",
       "      <td>0</td>\n",
       "      <td>0</td>\n",
       "      <td>0</td>\n",
       "      <td>0</td>\n",
       "      <td>0</td>\n",
       "      <td>1</td>\n",
       "      <td>0</td>\n",
       "    </tr>\n",
       "    <tr>\n",
       "      <th>2</th>\n",
       "      <td>4</td>\n",
       "      <td>60</td>\n",
       "      <td>30000</td>\n",
       "      <td>0</td>\n",
       "      <td>17</td>\n",
       "      <td>139</td>\n",
       "      <td>0</td>\n",
       "      <td>0</td>\n",
       "      <td>0</td>\n",
       "      <td>0</td>\n",
       "      <td>...</td>\n",
       "      <td>0</td>\n",
       "      <td>0</td>\n",
       "      <td>0</td>\n",
       "      <td>0</td>\n",
       "      <td>0</td>\n",
       "      <td>0</td>\n",
       "      <td>0</td>\n",
       "      <td>0</td>\n",
       "      <td>0</td>\n",
       "      <td>0</td>\n",
       "    </tr>\n",
       "    <tr>\n",
       "      <th>3</th>\n",
       "      <td>2</td>\n",
       "      <td>35</td>\n",
       "      <td>30000</td>\n",
       "      <td>0</td>\n",
       "      <td>0</td>\n",
       "      <td>1118</td>\n",
       "      <td>0</td>\n",
       "      <td>0</td>\n",
       "      <td>0</td>\n",
       "      <td>0</td>\n",
       "      <td>...</td>\n",
       "      <td>1</td>\n",
       "      <td>0</td>\n",
       "      <td>0</td>\n",
       "      <td>0</td>\n",
       "      <td>0</td>\n",
       "      <td>0</td>\n",
       "      <td>0</td>\n",
       "      <td>0</td>\n",
       "      <td>0</td>\n",
       "      <td>0</td>\n",
       "    </tr>\n",
       "    <tr>\n",
       "      <th>4</th>\n",
       "      <td>4</td>\n",
       "      <td>45</td>\n",
       "      <td>50000</td>\n",
       "      <td>0</td>\n",
       "      <td>354</td>\n",
       "      <td>396</td>\n",
       "      <td>95</td>\n",
       "      <td>0</td>\n",
       "      <td>0</td>\n",
       "      <td>0</td>\n",
       "      <td>...</td>\n",
       "      <td>0</td>\n",
       "      <td>0</td>\n",
       "      <td>0</td>\n",
       "      <td>0</td>\n",
       "      <td>0</td>\n",
       "      <td>0</td>\n",
       "      <td>0</td>\n",
       "      <td>0</td>\n",
       "      <td>1</td>\n",
       "      <td>0</td>\n",
       "    </tr>\n",
       "  </tbody>\n",
       "</table>\n",
       "<p>5 rows × 126 columns</p>\n",
       "</div>"
      ],
      "text/plain": [
       "   ACTL_FMLY_NUM  AGE   ARPU  AUTR_FAIL_MCNT  AVG_CALL_FREQ  AVG_CALL_TIME  \\\n",
       "0              4   50  30000              10            493            450   \n",
       "1              4   50  30000               0             22             81   \n",
       "2              4   60  30000               0             17            139   \n",
       "3              2   35  30000               0              0           1118   \n",
       "4              4   45  50000               0            354            396   \n",
       "\n",
       "   AVG_STLN_RATE  CB_GUIF_AMT  CB_GUIF_CNT  CNTT_LAMT_CNT  \\\n",
       "0              0       420001            3              0   \n",
       "1              0            0            0              0   \n",
       "2              0            0            0              0   \n",
       "3              0            0            0              0   \n",
       "4             95            0            0              0   \n",
       "\n",
       "          ...           MATE_OCCP_NAME_C_07 MATE_OCCP_NAME_C_08  \\\n",
       "0         ...                             0                   0   \n",
       "1         ...                             0                   0   \n",
       "2         ...                             0                   0   \n",
       "3         ...                             1                   0   \n",
       "4         ...                             0                   0   \n",
       "\n",
       "   MATE_OCCP_NAME_C_09  MATE_OCCP_NAME_C_10  MATE_OCCP_NAME_C_11  \\\n",
       "0                    0                    0                    0   \n",
       "1                    0                    0                    0   \n",
       "2                    0                    0                    0   \n",
       "3                    0                    0                    0   \n",
       "4                    0                    0                    0   \n",
       "\n",
       "   MATE_OCCP_NAME_C_12  MATE_OCCP_NAME_C_13  MATE_OCCP_NAME_C_14  \\\n",
       "0                    0                    0                    0   \n",
       "1                    0                    0                    0   \n",
       "2                    0                    0                    0   \n",
       "3                    0                    0                    0   \n",
       "4                    0                    0                    0   \n",
       "\n",
       "   MATE_OCCP_NAME_C_15  MATE_OCCP_NAME_C_16  \n",
       "0                    1                    0  \n",
       "1                    1                    0  \n",
       "2                    0                    0  \n",
       "3                    0                    0  \n",
       "4                    1                    0  \n",
       "\n",
       "[5 rows x 126 columns]"
      ]
     },
     "execution_count": 22,
     "metadata": {},
     "output_type": "execute_result"
    }
   ],
   "source": [
    "cust_data.head()"
   ]
  },
  {
   "cell_type": "code",
   "execution_count": 23,
   "metadata": {
    "collapsed": true
   },
   "outputs": [],
   "source": [
    "def model_performance(y_test, y_pred):    \n",
    "    print('confusion matrix')\n",
    "    print(metrics.confusion_matrix(y_test, y_pred))\n",
    "    print('accuracy : {}'.format(metrics.accuracy_score(y_test, y_pred).round(3)))\n",
    "    print('precision : {}'.format(metrics.precision_score(y_test, y_pred, pos_label=1).round(3)))\n",
    "    print('recall : {}'.format(metrics.recall_score(y_test, y_pred, pos_label=1).round(3)))\n",
    "    print('F1 : {}'.format(metrics.f1_score(y_test, y_pred, pos_label=1).round(3)))"
   ]
  },
  {
   "cell_type": "markdown",
   "metadata": {},
   "source": [
    "## 연체자 data duplicate"
   ]
  },
  {
   "cell_type": "code",
   "execution_count": 24,
   "metadata": {
    "collapsed": false
   },
   "outputs": [
    {
     "name": "stdout",
     "output_type": "stream",
     "text": [
      "95946\n",
      "4287\n"
     ]
    }
   ],
   "source": [
    "cust = cust_data[cust_data['TARGET'] == 0]\n",
    "cust_overdue = cust_data[cust_data['TARGET'] == 1]     # 연체자\n",
    "\n",
    "print(cust.shape[0])\n",
    "print(cust_overdue.shape[0])"
   ]
  },
  {
   "cell_type": "code",
   "execution_count": 25,
   "metadata": {
    "collapsed": false
   },
   "outputs": [
    {
     "data": {
      "text/plain": [
       "Index(['ACTL_FMLY_NUM', 'AGE', 'ARPU', 'AUTR_FAIL_MCNT', 'AVG_CALL_FREQ',\n",
       "       'AVG_CALL_TIME', 'AVG_STLN_RATE', 'CB_GUIF_AMT', 'CB_GUIF_CNT',\n",
       "       'CNTT_LAMT_CNT',\n",
       "       ...\n",
       "       'MATE_OCCP_NAME_C_07', 'MATE_OCCP_NAME_C_08', 'MATE_OCCP_NAME_C_09',\n",
       "       'MATE_OCCP_NAME_C_10', 'MATE_OCCP_NAME_C_11', 'MATE_OCCP_NAME_C_12',\n",
       "       'MATE_OCCP_NAME_C_13', 'MATE_OCCP_NAME_C_14', 'MATE_OCCP_NAME_C_15',\n",
       "       'MATE_OCCP_NAME_C_16'],\n",
       "      dtype='object', length=125)"
      ]
     },
     "execution_count": 25,
     "metadata": {},
     "output_type": "execute_result"
    }
   ],
   "source": [
    "variables = cust_data.drop('TARGET', 1).columns\n",
    "variables"
   ]
  },
  {
   "cell_type": "markdown",
   "metadata": {},
   "source": [
    "### ML modeling"
   ]
  },
  {
   "cell_type": "code",
   "execution_count": 26,
   "metadata": {
    "collapsed": false
   },
   "outputs": [
    {
     "name": "stdout",
     "output_type": "stream",
     "text": [
      "연체자 수 train : 3439 / 80186\n",
      "연체자 수 test  : 848 / 20047\n"
     ]
    }
   ],
   "source": [
    "# train / test set 분리\n",
    "x = cust_data.drop('TARGET', axis=1)\n",
    "y = cust_data['TARGET']\n",
    "\n",
    "x_train, x_test, y_train, y_test = train_test_split(x, y, test_size=0.2, random_state=0)\n",
    "\n",
    "print('연체자 수 train : {} / {}'.format(sum(y_train == 1), y_train.shape[0]))\n",
    "print('연체자 수 test  : {} / {}'.format(sum(y_test  == 1), y_test.shape[0]))"
   ]
  },
  {
   "cell_type": "code",
   "execution_count": 27,
   "metadata": {
    "collapsed": false
   },
   "outputs": [
    {
     "name": "stdout",
     "output_type": "stream",
     "text": [
      "(3439, 125)\n",
      "(3439,)\n"
     ]
    }
   ],
   "source": [
    "# train set 중에서 연체자만 추출\n",
    "x_overdue = x_train[y_train == 1]\n",
    "y_overdue = y_train[y_train == 1]\n",
    "print(x_overdue.shape)\n",
    "print(y_overdue.shape)"
   ]
  },
  {
   "cell_type": "code",
   "execution_count": 28,
   "metadata": {
    "collapsed": false,
    "scrolled": false
   },
   "outputs": [
    {
     "name": "stdout",
     "output_type": "stream",
     "text": [
      "=========================================  0\n",
      "test 16038 : test overdue 720\n",
      "\n",
      "------------------------\n",
      "confusion matrix\n",
      "[[19062   137]\n",
      " [  645   203]]\n",
      "accuracy : 0.961\n",
      "precision : 0.597\n",
      "recall : 0.239\n",
      "F1 : 0.342\n",
      "------------------------\n",
      "=========================================  1\n",
      "test 16725 : test overdue 1415\n",
      "\n",
      "------------------------\n",
      "confusion matrix\n",
      "[[18896   303]\n",
      " [  541   307]]\n",
      "accuracy : 0.958\n",
      "precision : 0.503\n",
      "recall : 0.362\n",
      "F1 : 0.421\n",
      "------------------------\n",
      "=========================================  2\n",
      "test 17413 : test overdue 2095\n",
      "\n",
      "------------------------\n",
      "confusion matrix\n",
      "[[18739   460]\n",
      " [  460   388]]\n",
      "accuracy : 0.954\n",
      "precision : 0.458\n",
      "recall : 0.458\n",
      "F1 : 0.458\n",
      "------------------------\n",
      "=========================================  3\n",
      "test 18101 : test overdue 2740\n",
      "\n",
      "------------------------\n",
      "confusion matrix\n",
      "[[18565   634]\n",
      " [  406   442]]\n",
      "accuracy : 0.948\n",
      "precision : 0.411\n",
      "recall : 0.521\n",
      "F1 : 0.459\n",
      "------------------------\n",
      "(2019, 125)\n"
     ]
    }
   ],
   "source": [
    "max_epoch = 3\n",
    "\n",
    "for i in range(max_epoch+1):\n",
    "    x2_train, x2_test, y2_train, y2_test = train_test_split(x_train, y_train, test_size=0.2, random_state=0)\n",
    "    \n",
    "    print('========================================= ', i)\n",
    "    print('test {} : test overdue {}'.format(y2_test.shape[0], sum(y2_test == 1)))\n",
    "    print('')\n",
    "    \n",
    "#     clf = DecisionTreeClassifier()\n",
    "    clf = GradientBoostingClassifier(n_estimators=500, random_state=0)\n",
    "    \n",
    "    clf.fit(x2_train, y2_train)\n",
    "    \n",
    "#     y_pred = clf.predict(x2_test)\n",
    "#     model_performance(y2_test, y_pred)\n",
    "    \n",
    "#     varDic = {'var':variables, 'importance':clf.feature_importances_}\n",
    "#     importance = pd.DataFrame(varDic)\n",
    "#     print(importance.sort_values(by='importance', ascending=False).head(20))\n",
    "\n",
    "    x_train = pd.concat([x_train, x_overdue])\n",
    "    y_train = pd.concat([y_train, y_overdue])\n",
    "\n",
    "    print('------------------------')\n",
    "    y_pred_0 = clf.predict(x_test)\n",
    "    model_performance(y_test, y_pred_0)\n",
    "    print('------------------------')\n",
    "\n",
    "    \n",
    "    if i == max_epoch:\n",
    "        test_data = pd.read_csv('test_transform.csv')\n",
    "        print(test_data.shape)\n",
    "\n",
    "        y_pred_test = clf.predict(test_data)\n",
    "\n",
    "        test_data['TARGET'] = y_pred_test"
   ]
  },
  {
   "cell_type": "code",
   "execution_count": 29,
   "metadata": {
    "collapsed": false
   },
   "outputs": [
    {
     "data": {
      "text/plain": [
       "0       0\n",
       "1       0\n",
       "2       0\n",
       "3       1\n",
       "4       0\n",
       "5       0\n",
       "6       0\n",
       "7       1\n",
       "8       0\n",
       "9       1\n",
       "10      0\n",
       "11      0\n",
       "12      0\n",
       "13      0\n",
       "14      0\n",
       "15      0\n",
       "16      0\n",
       "17      0\n",
       "18      0\n",
       "19      0\n",
       "20      0\n",
       "21      0\n",
       "22      0\n",
       "23      0\n",
       "24      0\n",
       "25      0\n",
       "26      0\n",
       "27      0\n",
       "28      0\n",
       "29      0\n",
       "       ..\n",
       "1989    0\n",
       "1990    0\n",
       "1991    0\n",
       "1992    0\n",
       "1993    0\n",
       "1994    0\n",
       "1995    0\n",
       "1996    0\n",
       "1997    0\n",
       "1998    0\n",
       "1999    0\n",
       "2000    0\n",
       "2001    0\n",
       "2002    0\n",
       "2003    0\n",
       "2004    0\n",
       "2005    0\n",
       "2006    0\n",
       "2007    0\n",
       "2008    0\n",
       "2009    0\n",
       "2010    1\n",
       "2011    0\n",
       "2012    0\n",
       "2013    0\n",
       "2014    0\n",
       "2015    1\n",
       "2016    0\n",
       "2017    0\n",
       "2018    1\n",
       "Name: TARGET, dtype: int64"
      ]
     },
     "execution_count": 29,
     "metadata": {},
     "output_type": "execute_result"
    }
   ],
   "source": [
    "test_data['TARGET']"
   ]
  },
  {
   "cell_type": "code",
   "execution_count": 32,
   "metadata": {
    "collapsed": true
   },
   "outputs": [],
   "source": [
    "test_data = test_data['TARGET']"
   ]
  },
  {
   "cell_type": "code",
   "execution_count": 33,
   "metadata": {
    "collapsed": true
   },
   "outputs": [],
   "source": [
    "test_data.to_csv(\"testset_0923.csv\", encoding='utf-8', index=False)"
   ]
  },
  {
   "cell_type": "code",
   "execution_count": null,
   "metadata": {
    "collapsed": true
   },
   "outputs": [],
   "source": []
  },
  {
   "cell_type": "code",
   "execution_count": null,
   "metadata": {
    "collapsed": true
   },
   "outputs": [],
   "source": []
  },
  {
   "cell_type": "code",
   "execution_count": null,
   "metadata": {
    "collapsed": true
   },
   "outputs": [],
   "source": []
  },
  {
   "cell_type": "code",
   "execution_count": null,
   "metadata": {
    "collapsed": true
   },
   "outputs": [],
   "source": []
  },
  {
   "cell_type": "code",
   "execution_count": null,
   "metadata": {
    "collapsed": true
   },
   "outputs": [],
   "source": []
  },
  {
   "cell_type": "code",
   "execution_count": null,
   "metadata": {
    "collapsed": true
   },
   "outputs": [],
   "source": []
  },
  {
   "cell_type": "code",
   "execution_count": null,
   "metadata": {
    "collapsed": true
   },
   "outputs": [],
   "source": []
  },
  {
   "cell_type": "code",
   "execution_count": null,
   "metadata": {
    "collapsed": true
   },
   "outputs": [],
   "source": []
  },
  {
   "cell_type": "code",
   "execution_count": null,
   "metadata": {
    "collapsed": true
   },
   "outputs": [],
   "source": []
  }
 ],
 "metadata": {
  "anaconda-cloud": {},
  "kernelspec": {
   "display_name": "Python [conda root]",
   "language": "python",
   "name": "conda-root-py"
  },
  "language_info": {
   "codemirror_mode": {
    "name": "ipython",
    "version": 3
   },
   "file_extension": ".py",
   "mimetype": "text/x-python",
   "name": "python",
   "nbconvert_exporter": "python",
   "pygments_lexer": "ipython3",
   "version": "3.5.2"
  }
 },
 "nbformat": 4,
 "nbformat_minor": 1
}
