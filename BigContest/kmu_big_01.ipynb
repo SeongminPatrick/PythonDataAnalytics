{
 "cells": [
  {
   "cell_type": "code",
   "execution_count": 1,
   "metadata": {
    "collapsed": true
   },
   "outputs": [],
   "source": [
    "import pandas as pd\n",
    "import numpy as np\n",
    "from sklearn.model_selection import train_test_split\n",
    "from sklearn import metrics\n",
    "from sklearn.tree import DecisionTreeClassifier\n",
    "from sklearn.ensemble import RandomForestClassifier\n",
    "from sklearn.ensemble import GradientBoostingClassifier"
   ]
  },
  {
   "cell_type": "code",
   "execution_count": 2,
   "metadata": {
    "collapsed": true
   },
   "outputs": [],
   "source": [
    "import matplotlib.pyplot as plt\n",
    "%matplotlib inline"
   ]
  },
  {
   "cell_type": "code",
   "execution_count": 3,
   "metadata": {
    "collapsed": false
   },
   "outputs": [
    {
     "data": {
      "text/plain": [
       "(100233, 69)"
      ]
     },
     "execution_count": 3,
     "metadata": {},
     "output_type": "execute_result"
    }
   ],
   "source": [
    "cust = pd.read_csv('Dataset.csv')\n",
    "cust.shape"
   ]
  },
  {
   "cell_type": "code",
   "execution_count": 4,
   "metadata": {
    "collapsed": false
   },
   "outputs": [
    {
     "data": {
      "text/html": [
       "<div>\n",
       "<table border=\"1\" class=\"dataframe\">\n",
       "  <thead>\n",
       "    <tr style=\"text-align: right;\">\n",
       "      <th></th>\n",
       "      <th>CUST_ID</th>\n",
       "      <th>TARGET</th>\n",
       "      <th>BNK_LNIF_CNT</th>\n",
       "      <th>CPT_LNIF_CNT</th>\n",
       "      <th>SPART_LNIF_CNT</th>\n",
       "      <th>ECT_LNIF_CNT</th>\n",
       "      <th>TOT_LNIF_AMT</th>\n",
       "      <th>TOT_CLIF_AMT</th>\n",
       "      <th>BNK_LNIF_AMT</th>\n",
       "      <th>CPT_LNIF_AMT</th>\n",
       "      <th>...</th>\n",
       "      <th>CBPT_MBSP_YN</th>\n",
       "      <th>MOBL_FATY_PRC</th>\n",
       "      <th>TEL_CNTT_QTR</th>\n",
       "      <th>NUM_DAY_SUSP</th>\n",
       "      <th>CRMM_OVDU_AMT</th>\n",
       "      <th>TLFE_UNPD_CNT</th>\n",
       "      <th>LT1Y_MXOD_AMT</th>\n",
       "      <th>PAYM_METD</th>\n",
       "      <th>LINE_STUS</th>\n",
       "      <th>MOBL_PRIN</th>\n",
       "    </tr>\n",
       "  </thead>\n",
       "  <tbody>\n",
       "    <tr>\n",
       "      <th>0</th>\n",
       "      <td>1</td>\n",
       "      <td>0</td>\n",
       "      <td>1</td>\n",
       "      <td>0</td>\n",
       "      <td>0</td>\n",
       "      <td>0</td>\n",
       "      <td>9001</td>\n",
       "      <td>9001</td>\n",
       "      <td>9001</td>\n",
       "      <td>0</td>\n",
       "      <td>...</td>\n",
       "      <td>N</td>\n",
       "      <td>800000</td>\n",
       "      <td>20111</td>\n",
       "      <td>0</td>\n",
       "      <td>0</td>\n",
       "      <td>0</td>\n",
       "      <td>0</td>\n",
       "      <td>O</td>\n",
       "      <td>U</td>\n",
       "      <td>580000</td>\n",
       "    </tr>\n",
       "    <tr>\n",
       "      <th>1</th>\n",
       "      <td>2</td>\n",
       "      <td>0</td>\n",
       "      <td>1</td>\n",
       "      <td>0</td>\n",
       "      <td>0</td>\n",
       "      <td>0</td>\n",
       "      <td>24001</td>\n",
       "      <td>0</td>\n",
       "      <td>24001</td>\n",
       "      <td>0</td>\n",
       "      <td>...</td>\n",
       "      <td>N</td>\n",
       "      <td>500000</td>\n",
       "      <td>20143</td>\n",
       "      <td>0</td>\n",
       "      <td>0</td>\n",
       "      <td>0</td>\n",
       "      <td>0</td>\n",
       "      <td>O</td>\n",
       "      <td>U</td>\n",
       "      <td>90000</td>\n",
       "    </tr>\n",
       "    <tr>\n",
       "      <th>2</th>\n",
       "      <td>3</td>\n",
       "      <td>0</td>\n",
       "      <td>0</td>\n",
       "      <td>1</td>\n",
       "      <td>3</td>\n",
       "      <td>2</td>\n",
       "      <td>15001</td>\n",
       "      <td>9001</td>\n",
       "      <td>0</td>\n",
       "      <td>3001</td>\n",
       "      <td>...</td>\n",
       "      <td>Y</td>\n",
       "      <td>500000</td>\n",
       "      <td>20103</td>\n",
       "      <td>0</td>\n",
       "      <td>0</td>\n",
       "      <td>0</td>\n",
       "      <td>0</td>\n",
       "      <td>O</td>\n",
       "      <td>U</td>\n",
       "      <td>120000</td>\n",
       "    </tr>\n",
       "    <tr>\n",
       "      <th>3</th>\n",
       "      <td>4</td>\n",
       "      <td>1</td>\n",
       "      <td>0</td>\n",
       "      <td>2</td>\n",
       "      <td>4</td>\n",
       "      <td>2</td>\n",
       "      <td>6001</td>\n",
       "      <td>3001</td>\n",
       "      <td>0</td>\n",
       "      <td>3001</td>\n",
       "      <td>...</td>\n",
       "      <td>N</td>\n",
       "      <td>900000</td>\n",
       "      <td>20144</td>\n",
       "      <td>0</td>\n",
       "      <td>540000</td>\n",
       "      <td>0</td>\n",
       "      <td>630000</td>\n",
       "      <td>G</td>\n",
       "      <td>S</td>\n",
       "      <td>320000</td>\n",
       "    </tr>\n",
       "    <tr>\n",
       "      <th>4</th>\n",
       "      <td>5</td>\n",
       "      <td>0</td>\n",
       "      <td>4</td>\n",
       "      <td>0</td>\n",
       "      <td>0</td>\n",
       "      <td>0</td>\n",
       "      <td>21001</td>\n",
       "      <td>15001</td>\n",
       "      <td>21001</td>\n",
       "      <td>0</td>\n",
       "      <td>...</td>\n",
       "      <td>Y</td>\n",
       "      <td>800000</td>\n",
       "      <td>20131</td>\n",
       "      <td>0</td>\n",
       "      <td>130000</td>\n",
       "      <td>0</td>\n",
       "      <td>90000</td>\n",
       "      <td>G</td>\n",
       "      <td>U</td>\n",
       "      <td>410000</td>\n",
       "    </tr>\n",
       "  </tbody>\n",
       "</table>\n",
       "<p>5 rows × 69 columns</p>\n",
       "</div>"
      ],
      "text/plain": [
       "   CUST_ID  TARGET  BNK_LNIF_CNT  CPT_LNIF_CNT  SPART_LNIF_CNT  ECT_LNIF_CNT  \\\n",
       "0        1       0             1             0               0             0   \n",
       "1        2       0             1             0               0             0   \n",
       "2        3       0             0             1               3             2   \n",
       "3        4       1             0             2               4             2   \n",
       "4        5       0             4             0               0             0   \n",
       "\n",
       "   TOT_LNIF_AMT  TOT_CLIF_AMT  BNK_LNIF_AMT  CPT_LNIF_AMT    ...      \\\n",
       "0          9001          9001          9001             0    ...       \n",
       "1         24001             0         24001             0    ...       \n",
       "2         15001          9001             0          3001    ...       \n",
       "3          6001          3001             0          3001    ...       \n",
       "4         21001         15001         21001             0    ...       \n",
       "\n",
       "   CBPT_MBSP_YN  MOBL_FATY_PRC  TEL_CNTT_QTR  NUM_DAY_SUSP  CRMM_OVDU_AMT  \\\n",
       "0             N         800000         20111             0              0   \n",
       "1             N         500000         20143             0              0   \n",
       "2             Y         500000         20103             0              0   \n",
       "3             N         900000         20144             0         540000   \n",
       "4             Y         800000         20131             0         130000   \n",
       "\n",
       "   TLFE_UNPD_CNT LT1Y_MXOD_AMT  PAYM_METD  LINE_STUS  MOBL_PRIN  \n",
       "0              0             0          O          U     580000  \n",
       "1              0             0          O          U      90000  \n",
       "2              0             0          O          U     120000  \n",
       "3              0        630000          G          S     320000  \n",
       "4              0         90000          G          U     410000  \n",
       "\n",
       "[5 rows x 69 columns]"
      ]
     },
     "execution_count": 4,
     "metadata": {},
     "output_type": "execute_result"
    }
   ],
   "source": [
    "cust.head()"
   ]
  },
  {
   "cell_type": "code",
   "execution_count": 5,
   "metadata": {
    "collapsed": false
   },
   "outputs": [],
   "source": [
    "cust.loc[pd.isnull(cust.LAST_CHLD_AGE), 'LAST_CHLD_AGE'] = 0"
   ]
  },
  {
   "cell_type": "code",
   "execution_count": 6,
   "metadata": {
    "collapsed": true
   },
   "outputs": [],
   "source": [
    "cust.loc[cust['OCCP_NAME_G'] == '*', 'OCCP_NAME_G'] = '기타'\n",
    "cust.loc[cust['MATE_OCCP_NAME_G'] == '*', 'MATE_OCCP_NAME_G'] = '기타'\n",
    "cust.loc[cust['AGE'] == '*', 'AGE'] = 20\n",
    "cust.loc[cust['SEX'] == '*', 'SEX'] = 0"
   ]
  },
  {
   "cell_type": "code",
   "execution_count": 7,
   "metadata": {
    "collapsed": false
   },
   "outputs": [
    {
     "name": "stdout",
     "output_type": "stream",
     "text": [
      "Index(['ACTL_FMLY_NUM', 'ARPU', 'AUTR_FAIL_MCNT', 'AVG_CALL_FREQ',\n",
      "       'AVG_CALL_TIME', 'AVG_STLN_RATE', 'BNK_LNIF_AMT', 'BNK_LNIF_CNT',\n",
      "       'CB_GUIF_AMT', 'CB_GUIF_CNT', 'CNTT_LAMT_CNT', 'CPT_LNIF_AMT',\n",
      "       'CPT_LNIF_CNT', 'CRDT_CARD_CNT', 'CRDT_LOAN_CNT', 'CRDT_OCCR_MDIF',\n",
      "       'CRLN_30OVDU_RATE', 'CRLN_OVDU_RATE', 'CRMM_OVDU_AMT', 'CTCD_OCCR_MDIF',\n",
      "       'CUST_FMLY_NUM', 'CUST_JOB_INCM', 'ECT_LNIF_CNT', 'FMLY_CLAM_CNT',\n",
      "       'FMLY_GDINS_MNPREM', 'FMLY_PLPY_CNT', 'FMLY_SVINS_MNPREM',\n",
      "       'FMLY_TOT_PREM', 'FYCM_PAID_AMT', 'GDINS_MON_PREM', 'HSHD_INFR_INCM',\n",
      "       'LAST_CHLD_AGE', 'LT1Y_CLOD_RATE', 'LT1Y_CTLT_CNT', 'LT1Y_MXOD_AMT',\n",
      "       'LT1Y_SLOD_RATE', 'LT1Y_STLN_AMT', 'LTST_CRDT_GRAD', 'MATE_JOB_INCM',\n",
      "       'MAX_MON_PREM', 'MIN_CNTT_DATE', 'MOBL_FATY_PRC', 'MOBL_PRIN',\n",
      "       'MON_TLFE_AMT', 'NUM_DAY_SUSP', 'PREM_OVDU_RATE', 'SPART_LNIF_CNT',\n",
      "       'SPTCT_OCCR_MDIF', 'STLN_REMN_AMT', 'STRT_CRDT_GRAD', 'SVINS_MON_PREM',\n",
      "       'TEL_CNTT_QTR', 'TLFE_UNPD_CNT', 'TOT_CLIF_AMT', 'TOT_CRLN_AMT',\n",
      "       'TOT_LNIF_AMT', 'TOT_PREM', 'TOT_REPY_AMT'],\n",
      "      dtype='object')\n",
      "58\n"
     ]
    }
   ],
   "source": [
    "# 연속형변수\n",
    "conti_var = cust.columns[cust.dtypes != 'object'].difference(['TARGET']).difference(['CUST_ID'])\n",
    "print(conti_var)\n",
    "print(len(conti_var))"
   ]
  },
  {
   "cell_type": "code",
   "execution_count": 8,
   "metadata": {
    "collapsed": false
   },
   "outputs": [
    {
     "data": {
      "text/plain": [
       "Index(['OCCP_NAME_G', 'MATE_OCCP_NAME_G', 'LT1Y_PEOD_RATE', 'AGE', 'SEX',\n",
       "       'TEL_MBSP_GRAD', 'CBPT_MBSP_YN', 'PAYM_METD', 'LINE_STUS'],\n",
       "      dtype='object')"
      ]
     },
     "execution_count": 8,
     "metadata": {},
     "output_type": "execute_result"
    }
   ],
   "source": [
    "# 범주형 변수\n",
    "cate_var = cust.columns[cust.dtypes == 'object']\n",
    "cate_var"
   ]
  },
  {
   "cell_type": "code",
   "execution_count": 9,
   "metadata": {
    "collapsed": false
   },
   "outputs": [
    {
     "data": {
      "text/html": [
       "<div>\n",
       "<table border=\"1\" class=\"dataframe\">\n",
       "  <thead>\n",
       "    <tr style=\"text-align: right;\">\n",
       "      <th></th>\n",
       "      <th>CUST_ID</th>\n",
       "    </tr>\n",
       "    <tr>\n",
       "      <th>OCCP_NAME_G</th>\n",
       "      <th></th>\n",
       "    </tr>\n",
       "  </thead>\n",
       "  <tbody>\n",
       "    <tr>\n",
       "      <th>1차산업 종사자</th>\n",
       "      <td>1178</td>\n",
       "    </tr>\n",
       "    <tr>\n",
       "      <th>2차산업 종사자</th>\n",
       "      <td>9601</td>\n",
       "    </tr>\n",
       "    <tr>\n",
       "      <th>3차산업 종사자</th>\n",
       "      <td>8275</td>\n",
       "    </tr>\n",
       "    <tr>\n",
       "      <th>고소득 전문직</th>\n",
       "      <td>1223</td>\n",
       "    </tr>\n",
       "    <tr>\n",
       "      <th>공무원</th>\n",
       "      <td>5091</td>\n",
       "    </tr>\n",
       "    <tr>\n",
       "      <th>기업/단체 임원</th>\n",
       "      <td>1041</td>\n",
       "    </tr>\n",
       "    <tr>\n",
       "      <th>기타</th>\n",
       "      <td>2861</td>\n",
       "    </tr>\n",
       "    <tr>\n",
       "      <th>단순 노무직</th>\n",
       "      <td>821</td>\n",
       "    </tr>\n",
       "    <tr>\n",
       "      <th>단순 사무직</th>\n",
       "      <td>4107</td>\n",
       "    </tr>\n",
       "    <tr>\n",
       "      <th>사무직</th>\n",
       "      <td>16581</td>\n",
       "    </tr>\n",
       "    <tr>\n",
       "      <th>예체능계 종사자</th>\n",
       "      <td>936</td>\n",
       "    </tr>\n",
       "    <tr>\n",
       "      <th>운전직</th>\n",
       "      <td>2126</td>\n",
       "    </tr>\n",
       "    <tr>\n",
       "      <th>자영업</th>\n",
       "      <td>9485</td>\n",
       "    </tr>\n",
       "    <tr>\n",
       "      <th>전문직</th>\n",
       "      <td>5043</td>\n",
       "    </tr>\n",
       "    <tr>\n",
       "      <th>주부</th>\n",
       "      <td>27565</td>\n",
       "    </tr>\n",
       "    <tr>\n",
       "      <th>학생</th>\n",
       "      <td>3835</td>\n",
       "    </tr>\n",
       "  </tbody>\n",
       "</table>\n",
       "</div>"
      ],
      "text/plain": [
       "             CUST_ID\n",
       "OCCP_NAME_G         \n",
       "1차산업 종사자        1178\n",
       "2차산업 종사자        9601\n",
       "3차산업 종사자        8275\n",
       "고소득 전문직         1223\n",
       "공무원             5091\n",
       "기업/단체 임원        1041\n",
       "기타              2861\n",
       "단순 노무직           821\n",
       "단순 사무직          4107\n",
       "사무직            16581\n",
       "예체능계 종사자         936\n",
       "운전직             2126\n",
       "자영업             9485\n",
       "전문직             5043\n",
       "주부             27565\n",
       "학생              3835"
      ]
     },
     "execution_count": 9,
     "metadata": {},
     "output_type": "execute_result"
    }
   ],
   "source": [
    "cust_temp = cust[['CUST_ID', 'OCCP_NAME_G']]\n",
    "cust_temp.groupby(['OCCP_NAME_G']).count()"
   ]
  },
  {
   "cell_type": "code",
   "execution_count": 10,
   "metadata": {
    "collapsed": true
   },
   "outputs": [],
   "source": [
    "# 범주형 변수를 dummy 변수로 변환\n",
    "dummy_var = pd.get_dummies(cust[cate_var])"
   ]
  },
  {
   "cell_type": "code",
   "execution_count": 11,
   "metadata": {
    "collapsed": true
   },
   "outputs": [],
   "source": [
    "x = pd.concat([cust[conti_var], dummy_var], axis=1)\n",
    "y = cust['TARGET']"
   ]
  },
  {
   "cell_type": "code",
   "execution_count": 12,
   "metadata": {
    "collapsed": false
   },
   "outputs": [
    {
     "data": {
      "text/plain": [
       "(4287, 69)"
      ]
     },
     "execution_count": 12,
     "metadata": {},
     "output_type": "execute_result"
    }
   ],
   "source": [
    "cust[cust['TARGET'] == 1].shape"
   ]
  },
  {
   "cell_type": "code",
   "execution_count": 13,
   "metadata": {
    "collapsed": false
   },
   "outputs": [
    {
     "data": {
      "text/plain": [
       "(95946, 69)"
      ]
     },
     "execution_count": 13,
     "metadata": {},
     "output_type": "execute_result"
    }
   ],
   "source": [
    "cust[cust['TARGET'] == 0].shape"
   ]
  },
  {
   "cell_type": "code",
   "execution_count": 14,
   "metadata": {
    "collapsed": true
   },
   "outputs": [],
   "source": [
    "def model_performance(y_test, y_pred):    \n",
    "    print('confusion matrix')\n",
    "    print(metrics.confusion_matrix(y_test, y_pred))\n",
    "    print('accuracy : {}'.format(metrics.accuracy_score(y_test, y_pred).round(3)))\n",
    "    print('precision : {}'.format(metrics.precision_score(y_test, y_pred, pos_label=1).round(3)))\n",
    "    print('recall : {}'.format(metrics.recall_score(y_test, y_pred, pos_label=1).round(3)))\n",
    "    print('F1 : {}'.format(metrics.f1_score(y_test, y_pred, pos_label=1).round(3)))"
   ]
  },
  {
   "cell_type": "code",
   "execution_count": 15,
   "metadata": {
    "collapsed": false
   },
   "outputs": [
    {
     "data": {
      "text/plain": [
       "(80186, 126)"
      ]
     },
     "execution_count": 15,
     "metadata": {},
     "output_type": "execute_result"
    }
   ],
   "source": [
    "x_train, x_test, y_train, y_test = train_test_split(x, y, test_size=0.2, random_state=0)\n",
    "x_train.shape"
   ]
  },
  {
   "cell_type": "code",
   "execution_count": 16,
   "metadata": {
    "collapsed": false
   },
   "outputs": [
    {
     "name": "stdout",
     "output_type": "stream",
     "text": [
      "confusion matrix\n",
      "[[18510   689]\n",
      " [  603   245]]\n",
      "accuracy : 0.936\n",
      "precision : 0.262\n",
      "recall : 0.289\n",
      "F1 : 0.275\n"
     ]
    }
   ],
   "source": [
    "tree = DecisionTreeClassifier()\n",
    "tree.fit(x_train, y_train)\n",
    "y_pred = tree.predict(x_test)\n",
    "model_performance(y_test, y_pred)"
   ]
  },
  {
   "cell_type": "code",
   "execution_count": 18,
   "metadata": {
    "collapsed": false
   },
   "outputs": [
    {
     "name": "stdout",
     "output_type": "stream",
     "text": [
      "confusion matrix\n",
      "[[19182    17]\n",
      " [  792    56]]\n",
      "accuracy : 0.96\n",
      "precision : 0.767\n",
      "recall : 0.066\n",
      "F1 : 0.122\n"
     ]
    }
   ],
   "source": [
    "rf = RandomForestClassifier(n_estimators=100, random_state=0)\n",
    "rf.fit(x_train, y_train)\n",
    "y_pred = rf.predict(x_test)\n",
    "model_performance(y_test, y_pred)"
   ]
  },
  {
   "cell_type": "code",
   "execution_count": null,
   "metadata": {
    "collapsed": true
   },
   "outputs": [],
   "source": []
  }
 ],
 "metadata": {
  "anaconda-cloud": {},
  "kernelspec": {
   "display_name": "Python [conda root]",
   "language": "python",
   "name": "conda-root-py"
  },
  "language_info": {
   "codemirror_mode": {
    "name": "ipython",
    "version": 3
   },
   "file_extension": ".py",
   "mimetype": "text/x-python",
   "name": "python",
   "nbconvert_exporter": "python",
   "pygments_lexer": "ipython3",
   "version": "3.5.2"
  }
 },
 "nbformat": 4,
 "nbformat_minor": 1
}
