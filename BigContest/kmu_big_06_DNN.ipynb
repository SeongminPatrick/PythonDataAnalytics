{
 "cells": [
  {
   "cell_type": "code",
   "execution_count": 17,
   "metadata": {
    "collapsed": false
   },
   "outputs": [],
   "source": [
    "import pandas as pd\n",
    "import numpy as np\n",
    "from sklearn.model_selection import train_test_split\n",
    "from sklearn import metrics\n",
    "from sklearn.preprocessing import MinMaxScaler\n",
    "from keras import backend as K"
   ]
  },
  {
   "cell_type": "code",
   "execution_count": 18,
   "metadata": {
    "collapsed": false
   },
   "outputs": [],
   "source": [
    "from keras.utils import to_categorical\n",
    "from keras.models import Sequential\n",
    "from keras.layers import Dense\n",
    "from keras.optimizers import Adam"
   ]
  },
  {
   "cell_type": "code",
   "execution_count": 19,
   "metadata": {
    "collapsed": false
   },
   "outputs": [],
   "source": [
    "def f1(y_true, y_pred):\n",
    "    def recall(y_true, y_pred):\n",
    "        true_positives = K.sum(K.round(K.clip(y_true * y_pred, 0, 1)))\n",
    "        possible_positives = K.sum(K.round(K.clip(y_true, 0, 1)))\n",
    "        recall = true_positives / (possible_positives + K.epsilon())\n",
    "        return recall\n",
    "\n",
    "    def precision(y_true, y_pred):\n",
    "        true_positives = K.sum(K.round(K.clip(y_true * y_pred, 0, 1)))\n",
    "        predicted_positives = K.sum(K.round(K.clip(y_pred, 0, 1)))\n",
    "        precision = true_positives / (predicted_positives + K.epsilon())\n",
    "        return precision\n",
    "    \n",
    "    precision = precision(y_true, y_pred)\n",
    "    recall = recall(y_true, y_pred)\n",
    "    return 2*((precision*recall)/(precision+recall))"
   ]
  },
  {
   "cell_type": "code",
   "execution_count": 20,
   "metadata": {
    "collapsed": true
   },
   "outputs": [],
   "source": [
    "def model_performance(y_test, y_pred):    \n",
    "    print('confusion matrix')\n",
    "    print(metrics.confusion_matrix(y_test, y_pred))\n",
    "    print('accuracy : {}'.format(metrics.accuracy_score(y_test, y_pred).round(3)))\n",
    "    print('precision : {}'.format(metrics.precision_score(y_test, y_pred, pos_label=1).round(3)))\n",
    "    print('recall : {}'.format(metrics.recall_score(y_test, y_pred, pos_label=1).round(3)))\n",
    "    print('F1 : {}'.format(metrics.f1_score(y_test, y_pred, pos_label=1).round(3)))"
   ]
  },
  {
   "cell_type": "markdown",
   "metadata": {},
   "source": [
    "## import data"
   ]
  },
  {
   "cell_type": "code",
   "execution_count": 21,
   "metadata": {
    "collapsed": false
   },
   "outputs": [
    {
     "data": {
      "text/plain": [
       "(100233, 133)"
      ]
     },
     "execution_count": 21,
     "metadata": {},
     "output_type": "execute_result"
    }
   ],
   "source": [
    "cust_data = pd.read_csv('data_transform.csv')\n",
    "cust_data.shape"
   ]
  },
  {
   "cell_type": "code",
   "execution_count": 22,
   "metadata": {
    "collapsed": false
   },
   "outputs": [
    {
     "name": "stdout",
     "output_type": "stream",
     "text": [
      "4287\n"
     ]
    }
   ],
   "source": [
    "# 전체 연체자 수\n",
    "cust_overdue = cust_data[cust_data['TARGET'] == 1]     # 연체자\n",
    "print(cust_overdue.shape[0])"
   ]
  },
  {
   "cell_type": "code",
   "execution_count": 23,
   "metadata": {
    "collapsed": false
   },
   "outputs": [
    {
     "name": "stdout",
     "output_type": "stream",
     "text": [
      "연체자 수 train : 3439 / 80186\n",
      "연체자 수 test  : 848 / 20047\n"
     ]
    }
   ],
   "source": [
    "# train / test set 분리\n",
    "x = cust_data.drop('TARGET', axis=1).as_matrix()\n",
    "y = cust_data['TARGET']\n",
    "\n",
    "x_train, x_test, y_train, y_test = train_test_split(x, y, test_size=0.2, random_state=0)\n",
    "\n",
    "print('연체자 수 train : {} / {}'.format(sum(y_train == 1), y_train.shape[0]))\n",
    "print('연체자 수 test  : {} / {}'.format(sum(y_test  == 1), y_test.shape[0]))"
   ]
  },
  {
   "cell_type": "code",
   "execution_count": 24,
   "metadata": {
    "collapsed": false
   },
   "outputs": [
    {
     "data": {
      "text/plain": [
       "array([ 0.42857143,  0.6       ,  0.06000188,  0.16393443,  1.        ,\n",
       "        0.25947368,  0.045     ,  0.        ,  0.42857201,  0.3       ,\n",
       "        0.        ,  0.        ,  0.        ,  0.        ,  0.        ,\n",
       "        0.01953418,  0.18181818,  0.71428571,  0.        ,  0.00826446,\n",
       "        0.        ,  0.        ,  0.        ,  0.10743802,  0.        ,\n",
       "        0.54      ,  0.00402495,  0.0036483 ,  0.        ,  0.0475    ,\n",
       "        0.        ,  0.        ,  0.02      ,  0.        ,  0.0475    ,\n",
       "        0.00905632,  0.385     ,  0.4       ,  0.05263158,  0.        ,\n",
       "        0.        ,  0.        ,  0.        ,  0.        ,  1.        ,\n",
       "        0.        ,  0.        ,  0.        ,  0.        ,  0.        ,\n",
       "        0.019     ,  0.        ,  0.66666667,  0.52727273,  0.08421053,\n",
       "        0.        ,  0.        ,  0.        ,  0.12      ,  0.        ,\n",
       "        0.        ,  0.        ,  0.        ,  0.        ,  0.        ,\n",
       "        0.77631579,  0.        ,  0.        ,  0.05309735,  0.        ,\n",
       "        0.00905433,  0.34139403,  0.02      ,  0.        ,  0.        ,\n",
       "        1.        ,  0.        ,  1.        ,  0.        ,  0.        ,\n",
       "        0.        ,  0.        ,  1.        ,  0.        ,  0.        ,\n",
       "        0.        ,  0.        ,  1.        ,  0.        ,  0.        ,\n",
       "        1.        ,  0.        ,  0.        ,  1.        ,  0.        ,\n",
       "        0.        ,  0.        ,  0.        ,  0.        ,  0.        ,\n",
       "        0.        ,  0.        ,  0.        ,  0.        ,  1.        ,\n",
       "        0.        ,  0.        ,  0.        ,  0.        ,  0.        ,\n",
       "        0.        ,  0.        ,  0.        ,  0.        ,  0.        ,\n",
       "        0.        ,  0.        ,  0.        ,  0.        ,  0.        ,\n",
       "        0.        ,  0.        ,  0.        ,  0.        ,  0.        ,\n",
       "        0.        ,  0.        ,  0.        ,  0.        ,  0.        ,\n",
       "        1.        ,  0.        ])"
      ]
     },
     "execution_count": 24,
     "metadata": {},
     "output_type": "execute_result"
    }
   ],
   "source": [
    "scaler = MinMaxScaler(feature_range=(0, 1))\n",
    "x = scaler.fit_transform(x)\n",
    "x[0]"
   ]
  },
  {
   "cell_type": "code",
   "execution_count": 26,
   "metadata": {
    "collapsed": false
   },
   "outputs": [
    {
     "name": "stdout",
     "output_type": "stream",
     "text": [
      "(80186, 2)\n",
      "132\n"
     ]
    }
   ],
   "source": [
    "y_train = to_categorical(y_train, 2)\n",
    "y_test = to_categorical(y_test, 2)\n",
    "\n",
    "print(y_train.shape)\n",
    "\n",
    "n_cols = x_train.shape[1]\n",
    "print(n_cols)"
   ]
  },
  {
   "cell_type": "code",
   "execution_count": 25,
   "metadata": {
    "collapsed": false
   },
   "outputs": [
    {
     "name": "stdout",
     "output_type": "stream",
     "text": [
      "(3439, 132)\n",
      "(3439,)\n"
     ]
    }
   ],
   "source": [
    "# train set 중에서 연체자만 추출\n",
    "x_overdue = x_train[y_train == 1]\n",
    "y_overdue = y_train[y_train == 1]\n",
    "print(x_overdue.shape)\n",
    "print(y_overdue.shape)"
   ]
  },
  {
   "cell_type": "code",
   "execution_count": 27,
   "metadata": {
    "collapsed": false
   },
   "outputs": [
    {
     "name": "stdout",
     "output_type": "stream",
     "text": [
      "3439.0\n",
      "848.0\n"
     ]
    }
   ],
   "source": [
    "print(sum(y_train[:,1]))\n",
    "print(sum(y_test[:,1]))   # 연체자"
   ]
  },
  {
   "cell_type": "code",
   "execution_count": 66,
   "metadata": {
    "collapsed": false
   },
   "outputs": [],
   "source": [
    "model = Sequential()\n",
    "model.add(Dense(n_cols, activation='relu', input_shape=(n_cols,)))\n",
    "model.add(Dense(60, activation='relu'))\n",
    "model.add(Dense(60, activation='relu'))\n",
    "model.add(Dense(60, activation='relu'))\n",
    "model.add(Dense(60, activation='relu'))\n",
    "model.add(Dense(60, activation='relu'))\n",
    "model.add(Dense(60, activation='relu'))\n",
    "model.add(Dense(60, activation='relu'))\n",
    "model.add(Dense(60, activation='relu'))\n",
    "model.add(Dense(60, activation='relu'))\n",
    "model.add(Dense(60, activation='relu'))\n",
    "model.add(Dense(60, activation='relu'))\n",
    "model.add(Dense(60, activation='relu'))\n",
    "model.add(Dense(60, activation='relu'))\n",
    "model.add(Dense(60, activation='relu'))\n",
    "model.add(Dense(60, activation='relu'))\n",
    "model.add(Dense(60, activation='relu'))\n",
    "model.add(Dense(60, activation='relu'))\n",
    "model.add(Dense(60, activation='relu'))\n",
    "model.add(Dense(60, activation='relu'))\n",
    "model.add(Dense(60, activation='relu'))\n",
    "model.add(Dense(60, activation='relu'))\n",
    "model.add(Dense(60, activation='relu'))\n",
    "model.add(Dense(60, activation='relu'))\n",
    "model.add(Dense(60, activation='relu'))\n",
    "model.add(Dense(60, activation='relu'))\n",
    "model.add(Dense(60, activation='relu'))\n",
    "model.add(Dense(60, activation='relu'))\n",
    "model.add(Dense(60, activation='relu'))\n",
    "model.add(Dense(60, activation='relu'))\n",
    "model.add(Dense(60, activation='relu'))\n",
    "model.add(Dense(2, activation='softmax'))"
   ]
  },
  {
   "cell_type": "code",
   "execution_count": 67,
   "metadata": {
    "collapsed": true
   },
   "outputs": [],
   "source": [
    "model.compile(loss='categorical_crossentropy',\n",
    "              optimizer='adam',\n",
    "              metrics=[f1])"
   ]
  },
  {
   "cell_type": "code",
   "execution_count": 68,
   "metadata": {
    "collapsed": false
   },
   "outputs": [
    {
     "name": "stdout",
     "output_type": "stream",
     "text": [
      "Train on 72167 samples, validate on 8019 samples\n",
      "Epoch 1/10\n",
      "72167/72167 [==============================] - 2s - loss: 0.9905 - f1: 0.9205 - val_loss: 0.7417 - val_f1: 0.9540\n",
      "Epoch 2/10\n",
      "72167/72167 [==============================] - 1s - loss: 0.6852 - f1: 0.9575 - val_loss: 0.7409 - val_f1: 0.9540\n",
      "Epoch 3/10\n",
      "72167/72167 [==============================] - 1s - loss: 0.6819 - f1: 0.9556 - val_loss: 0.7417 - val_f1: 0.9540\n",
      "Epoch 4/10\n",
      "72167/72167 [==============================] - 1s - loss: 0.6833 - f1: 0.9575 - val_loss: 0.6760 - val_f1: 0.9540\n",
      "Epoch 5/10\n",
      "72167/72167 [==============================] - 1s - loss: 0.3332 - f1: 0.9572 - val_loss: 0.2576 - val_f1: 0.9540\n",
      "Epoch 6/10\n",
      "72167/72167 [==============================] - 1s - loss: 0.2117 - f1: 0.9572 - val_loss: 0.2233 - val_f1: 0.9540\n",
      "Epoch 7/10\n",
      "72167/72167 [==============================] - 1s - loss: 0.1897 - f1: 0.9573 - val_loss: 0.1901 - val_f1: 0.9540\n",
      "Epoch 8/10\n",
      "72167/72167 [==============================] - 1s - loss: 0.1775 - f1: 0.9574 - val_loss: 0.1897 - val_f1: 0.9540\n",
      "Epoch 9/10\n",
      "72167/72167 [==============================] - 1s - loss: 0.1853 - f1: 0.9570 - val_loss: 0.1886 - val_f1: 0.9540\n",
      "Epoch 10/10\n",
      "72167/72167 [==============================] - 1s - loss: 0.1774 - f1: 0.9575 - val_loss: 0.1887 - val_f1: 0.9540\n",
      "20047\n",
      "0\n"
     ]
    }
   ],
   "source": [
    "model.fit(x_train, y_train,\n",
    "            batch_size = 1000,\n",
    "            epochs = 10,\n",
    "            verbose = 1,\n",
    "            validation_split=0.1)\n",
    "\n",
    "y_pred = model.predict(x_test)\n",
    "print(len(y_pred[(y_pred[:,0] > y_pred[:,1])]))\n",
    "print(len(y_pred[(y_pred[:,0] < y_pred[:,1])]))   # 연체자"
   ]
  },
  {
   "cell_type": "code",
   "execution_count": 61,
   "metadata": {
    "collapsed": false
   },
   "outputs": [
    {
     "data": {
      "text/plain": [
       "20047"
      ]
     },
     "execution_count": 61,
     "metadata": {},
     "output_type": "execute_result"
    }
   ],
   "source": [
    "len(y_pred[(y_pred[:,0] > y_pred[:,1])])"
   ]
  },
  {
   "cell_type": "code",
   "execution_count": 54,
   "metadata": {
    "collapsed": false
   },
   "outputs": [
    {
     "data": {
      "text/plain": [
       "0"
      ]
     },
     "execution_count": 54,
     "metadata": {},
     "output_type": "execute_result"
    }
   ],
   "source": [
    "aa[]"
   ]
  },
  {
   "cell_type": "code",
   "execution_count": null,
   "metadata": {
    "collapsed": true
   },
   "outputs": [],
   "source": []
  },
  {
   "cell_type": "code",
   "execution_count": 69,
   "metadata": {
    "collapsed": false
   },
   "outputs": [
    {
     "name": "stdout",
     "output_type": "stream",
     "text": [
      "Train on 72167 samples, validate on 8019 samples\n",
      "Epoch 1/10\n",
      "72167/72167 [==============================] - 1s - loss: 0.1764 - f1: 0.9575 - val_loss: 0.1871 - val_f1: 0.9540\n",
      "Epoch 2/10\n",
      "72167/72167 [==============================] - 1s - loss: 0.1763 - f1: 0.9574 - val_loss: 0.1871 - val_f1: 0.9540\n",
      "Epoch 3/10\n",
      "72167/72167 [==============================] - 1s - loss: 0.1749 - f1: 0.9575 - val_loss: 0.1857 - val_f1: 0.9540\n",
      "Epoch 4/10\n",
      "72167/72167 [==============================] - 1s - loss: 0.1740 - f1: 0.9575 - val_loss: 0.1853 - val_f1: 0.9540\n",
      "Epoch 5/10\n",
      "72167/72167 [==============================] - 1s - loss: 0.1725 - f1: 0.9575 - val_loss: 0.1830 - val_f1: 0.9540\n",
      "Epoch 6/10\n",
      "72167/72167 [==============================] - 1s - loss: 0.1706 - f1: 0.9575 - val_loss: 0.1840 - val_f1: 0.9540\n",
      "Epoch 7/10\n",
      "72167/72167 [==============================] - 1s - loss: 0.1687 - f1: 0.9575 - val_loss: 0.1779 - val_f1: 0.9540\n",
      "Epoch 8/10\n",
      "72167/72167 [==============================] - 1s - loss: 0.1649 - f1: 0.9575 - val_loss: 0.1762 - val_f1: 0.9540\n",
      "Epoch 9/10\n",
      "72167/72167 [==============================] - 1s - loss: 0.1636 - f1: 0.9575 - val_loss: 0.1782 - val_f1: 0.9540\n",
      "Epoch 10/10\n",
      "72167/72167 [==============================] - 1s - loss: 0.1622 - f1: 0.9575 - val_loss: 0.1743 - val_f1: 0.9540\n",
      "20047\n",
      "0\n"
     ]
    },
    {
     "ename": "ValueError",
     "evalue": "all the input arrays must have same number of dimensions",
     "output_type": "error",
     "traceback": [
      "\u001b[0;31m---------------------------------------------------------------------------\u001b[0m",
      "\u001b[0;31mValueError\u001b[0m                                Traceback (most recent call last)",
      "\u001b[0;32m<ipython-input-69-42049a974b15>\u001b[0m in \u001b[0;36m<module>\u001b[0;34m()\u001b[0m\n\u001b[1;32m     13\u001b[0m \u001b[1;33m\u001b[0m\u001b[0m\n\u001b[1;32m     14\u001b[0m     \u001b[0mx_train\u001b[0m \u001b[1;33m=\u001b[0m \u001b[0mnp\u001b[0m\u001b[1;33m.\u001b[0m\u001b[0mconcatenate\u001b[0m\u001b[1;33m(\u001b[0m\u001b[1;33m[\u001b[0m\u001b[0mx_train\u001b[0m\u001b[1;33m,\u001b[0m \u001b[0mx_overdue\u001b[0m\u001b[1;33m]\u001b[0m\u001b[1;33m)\u001b[0m\u001b[1;33m\u001b[0m\u001b[0m\n\u001b[0;32m---> 15\u001b[0;31m     \u001b[0my_train\u001b[0m \u001b[1;33m=\u001b[0m \u001b[0mnp\u001b[0m\u001b[1;33m.\u001b[0m\u001b[0mconcatenate\u001b[0m\u001b[1;33m(\u001b[0m\u001b[1;33m[\u001b[0m\u001b[0my_train\u001b[0m\u001b[1;33m,\u001b[0m \u001b[0my_overdue\u001b[0m\u001b[1;33m]\u001b[0m\u001b[1;33m)\u001b[0m\u001b[1;33m\u001b[0m\u001b[0m\n\u001b[0m",
      "\u001b[0;31mValueError\u001b[0m: all the input arrays must have same number of dimensions"
     ]
    }
   ],
   "source": [
    "max_epoch = 5\n",
    "\n",
    "for i in range(max_epoch+1):\n",
    "    model.fit(x_train, y_train,\n",
    "            batch_size = 1000,\n",
    "            epochs = 10,\n",
    "            verbose = 1,\n",
    "            validation_split=0.1)\n",
    "\n",
    "    y_pred = model.predict(x_test)\n",
    "    print(len(y_pred[(y_pred[:,0] > y_pred[:,1])]))\n",
    "    print(len(y_pred[(y_pred[:,0] < y_pred[:,1])]))   # 연체자\n",
    "\n",
    "    x_train = np.concatenate([x_train, x_overdue])\n",
    "    y_train = np.concatenate([y_train, y_overdue])"
   ]
  },
  {
   "cell_type": "code",
   "execution_count": null,
   "metadata": {
    "collapsed": false
   },
   "outputs": [],
   "source": [
    "x_train.shape"
   ]
  },
  {
   "cell_type": "code",
   "execution_count": null,
   "metadata": {
    "collapsed": false
   },
   "outputs": [],
   "source": [
    "x_overdue.shape"
   ]
  },
  {
   "cell_type": "code",
   "execution_count": null,
   "metadata": {
    "collapsed": false
   },
   "outputs": [],
   "source": [
    "x_train = np.concatenate([x_train, x_overdue])\n",
    "x_train.shape"
   ]
  },
  {
   "cell_type": "code",
   "execution_count": null,
   "metadata": {
    "collapsed": false
   },
   "outputs": [],
   "source": [
    "type(x_train)"
   ]
  }
 ],
 "metadata": {
  "anaconda-cloud": {},
  "kernelspec": {
   "display_name": "Python [conda root]",
   "language": "python",
   "name": "conda-root-py"
  },
  "language_info": {
   "codemirror_mode": {
    "name": "ipython",
    "version": 3
   },
   "file_extension": ".py",
   "mimetype": "text/x-python",
   "name": "python",
   "nbconvert_exporter": "python",
   "pygments_lexer": "ipython3",
   "version": "3.5.2"
  }
 },
 "nbformat": 4,
 "nbformat_minor": 1
}
