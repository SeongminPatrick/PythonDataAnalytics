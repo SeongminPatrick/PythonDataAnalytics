{
 "cells": [
  {
   "cell_type": "code",
   "execution_count": 1,
   "metadata": {
    "collapsed": false
   },
   "outputs": [],
   "source": [
    "import pandas as pd\n",
    "import numpy as np\n",
    "from sklearn.model_selection import train_test_split\n",
    "from sklearn import metrics\n",
    "from sklearn.tree import DecisionTreeClassifier\n",
    "from sklearn.ensemble import GradientBoostingClassifier\n",
    "from sklearn import model_selection"
   ]
  },
  {
   "cell_type": "markdown",
   "metadata": {},
   "source": [
    "### Training Set"
   ]
  },
  {
   "cell_type": "code",
   "execution_count": 2,
   "metadata": {
    "collapsed": false
   },
   "outputs": [
    {
     "data": {
      "text/plain": [
       "(100233, 279)"
      ]
     },
     "execution_count": 2,
     "metadata": {},
     "output_type": "execute_result"
    }
   ],
   "source": [
    "cust_data = pd.read_csv('data_transform.csv')\n",
    "cust_data.shape"
   ]
  },
  {
   "cell_type": "code",
   "execution_count": 3,
   "metadata": {
    "collapsed": false,
    "scrolled": true
   },
   "outputs": [
    {
     "data": {
      "text/html": [
       "<div>\n",
       "<style>\n",
       "    .dataframe thead tr:only-child th {\n",
       "        text-align: right;\n",
       "    }\n",
       "\n",
       "    .dataframe thead th {\n",
       "        text-align: left;\n",
       "    }\n",
       "\n",
       "    .dataframe tbody tr th {\n",
       "        vertical-align: top;\n",
       "    }\n",
       "</style>\n",
       "<table border=\"1\" class=\"dataframe\">\n",
       "  <thead>\n",
       "    <tr style=\"text-align: right;\">\n",
       "      <th></th>\n",
       "      <th>ACTL_FMLY_NUM</th>\n",
       "      <th>AGE</th>\n",
       "      <th>ARPU</th>\n",
       "      <th>AUTR_FAIL_MCNT</th>\n",
       "      <th>AUTR_FAIL_YN</th>\n",
       "      <th>AVG_CALL_FREQ</th>\n",
       "      <th>AVG_CALL_TIME</th>\n",
       "      <th>AVG_STLN_RATE</th>\n",
       "      <th>CB_GUIF_AMT</th>\n",
       "      <th>CB_GUIF_CNT</th>\n",
       "      <th>...</th>\n",
       "      <th>MATE_OCCP_NAME_C_07</th>\n",
       "      <th>MATE_OCCP_NAME_C_08</th>\n",
       "      <th>MATE_OCCP_NAME_C_09</th>\n",
       "      <th>MATE_OCCP_NAME_C_10</th>\n",
       "      <th>MATE_OCCP_NAME_C_11</th>\n",
       "      <th>MATE_OCCP_NAME_C_12</th>\n",
       "      <th>MATE_OCCP_NAME_C_13</th>\n",
       "      <th>MATE_OCCP_NAME_C_14</th>\n",
       "      <th>MATE_OCCP_NAME_C_15</th>\n",
       "      <th>MATE_OCCP_NAME_C_16</th>\n",
       "    </tr>\n",
       "  </thead>\n",
       "  <tbody>\n",
       "    <tr>\n",
       "      <th>0</th>\n",
       "      <td>4</td>\n",
       "      <td>50</td>\n",
       "      <td>30000</td>\n",
       "      <td>10</td>\n",
       "      <td>1.0</td>\n",
       "      <td>493</td>\n",
       "      <td>450</td>\n",
       "      <td>0</td>\n",
       "      <td>420001</td>\n",
       "      <td>3</td>\n",
       "      <td>...</td>\n",
       "      <td>0</td>\n",
       "      <td>0</td>\n",
       "      <td>0</td>\n",
       "      <td>0</td>\n",
       "      <td>0</td>\n",
       "      <td>0</td>\n",
       "      <td>0</td>\n",
       "      <td>0</td>\n",
       "      <td>1</td>\n",
       "      <td>0</td>\n",
       "    </tr>\n",
       "    <tr>\n",
       "      <th>1</th>\n",
       "      <td>4</td>\n",
       "      <td>50</td>\n",
       "      <td>30000</td>\n",
       "      <td>0</td>\n",
       "      <td>0.0</td>\n",
       "      <td>22</td>\n",
       "      <td>81</td>\n",
       "      <td>0</td>\n",
       "      <td>0</td>\n",
       "      <td>0</td>\n",
       "      <td>...</td>\n",
       "      <td>0</td>\n",
       "      <td>0</td>\n",
       "      <td>0</td>\n",
       "      <td>0</td>\n",
       "      <td>0</td>\n",
       "      <td>0</td>\n",
       "      <td>0</td>\n",
       "      <td>0</td>\n",
       "      <td>1</td>\n",
       "      <td>0</td>\n",
       "    </tr>\n",
       "    <tr>\n",
       "      <th>2</th>\n",
       "      <td>4</td>\n",
       "      <td>60</td>\n",
       "      <td>30000</td>\n",
       "      <td>0</td>\n",
       "      <td>0.0</td>\n",
       "      <td>17</td>\n",
       "      <td>139</td>\n",
       "      <td>0</td>\n",
       "      <td>0</td>\n",
       "      <td>0</td>\n",
       "      <td>...</td>\n",
       "      <td>0</td>\n",
       "      <td>0</td>\n",
       "      <td>0</td>\n",
       "      <td>0</td>\n",
       "      <td>0</td>\n",
       "      <td>0</td>\n",
       "      <td>0</td>\n",
       "      <td>0</td>\n",
       "      <td>0</td>\n",
       "      <td>0</td>\n",
       "    </tr>\n",
       "    <tr>\n",
       "      <th>3</th>\n",
       "      <td>2</td>\n",
       "      <td>35</td>\n",
       "      <td>30000</td>\n",
       "      <td>0</td>\n",
       "      <td>0.0</td>\n",
       "      <td>0</td>\n",
       "      <td>1118</td>\n",
       "      <td>0</td>\n",
       "      <td>0</td>\n",
       "      <td>0</td>\n",
       "      <td>...</td>\n",
       "      <td>1</td>\n",
       "      <td>0</td>\n",
       "      <td>0</td>\n",
       "      <td>0</td>\n",
       "      <td>0</td>\n",
       "      <td>0</td>\n",
       "      <td>0</td>\n",
       "      <td>0</td>\n",
       "      <td>0</td>\n",
       "      <td>0</td>\n",
       "    </tr>\n",
       "    <tr>\n",
       "      <th>4</th>\n",
       "      <td>4</td>\n",
       "      <td>45</td>\n",
       "      <td>50000</td>\n",
       "      <td>0</td>\n",
       "      <td>0.0</td>\n",
       "      <td>354</td>\n",
       "      <td>396</td>\n",
       "      <td>95</td>\n",
       "      <td>0</td>\n",
       "      <td>0</td>\n",
       "      <td>...</td>\n",
       "      <td>0</td>\n",
       "      <td>0</td>\n",
       "      <td>0</td>\n",
       "      <td>0</td>\n",
       "      <td>0</td>\n",
       "      <td>0</td>\n",
       "      <td>0</td>\n",
       "      <td>0</td>\n",
       "      <td>1</td>\n",
       "      <td>0</td>\n",
       "    </tr>\n",
       "  </tbody>\n",
       "</table>\n",
       "<p>5 rows × 279 columns</p>\n",
       "</div>"
      ],
      "text/plain": [
       "   ACTL_FMLY_NUM  AGE   ARPU  AUTR_FAIL_MCNT  AUTR_FAIL_YN  AVG_CALL_FREQ  \\\n",
       "0              4   50  30000              10           1.0            493   \n",
       "1              4   50  30000               0           0.0             22   \n",
       "2              4   60  30000               0           0.0             17   \n",
       "3              2   35  30000               0           0.0              0   \n",
       "4              4   45  50000               0           0.0            354   \n",
       "\n",
       "   AVG_CALL_TIME  AVG_STLN_RATE  CB_GUIF_AMT  CB_GUIF_CNT  \\\n",
       "0            450              0       420001            3   \n",
       "1             81              0            0            0   \n",
       "2            139              0            0            0   \n",
       "3           1118              0            0            0   \n",
       "4            396             95            0            0   \n",
       "\n",
       "          ...           MATE_OCCP_NAME_C_07  MATE_OCCP_NAME_C_08  \\\n",
       "0         ...                             0                    0   \n",
       "1         ...                             0                    0   \n",
       "2         ...                             0                    0   \n",
       "3         ...                             1                    0   \n",
       "4         ...                             0                    0   \n",
       "\n",
       "   MATE_OCCP_NAME_C_09  MATE_OCCP_NAME_C_10  MATE_OCCP_NAME_C_11  \\\n",
       "0                    0                    0                    0   \n",
       "1                    0                    0                    0   \n",
       "2                    0                    0                    0   \n",
       "3                    0                    0                    0   \n",
       "4                    0                    0                    0   \n",
       "\n",
       "   MATE_OCCP_NAME_C_12  MATE_OCCP_NAME_C_13  MATE_OCCP_NAME_C_14  \\\n",
       "0                    0                    0                    0   \n",
       "1                    0                    0                    0   \n",
       "2                    0                    0                    0   \n",
       "3                    0                    0                    0   \n",
       "4                    0                    0                    0   \n",
       "\n",
       "   MATE_OCCP_NAME_C_15  MATE_OCCP_NAME_C_16  \n",
       "0                    1                    0  \n",
       "1                    1                    0  \n",
       "2                    0                    0  \n",
       "3                    0                    0  \n",
       "4                    1                    0  \n",
       "\n",
       "[5 rows x 279 columns]"
      ]
     },
     "execution_count": 3,
     "metadata": {},
     "output_type": "execute_result"
    }
   ],
   "source": [
    "cust_data.head()"
   ]
  },
  {
   "cell_type": "markdown",
   "metadata": {},
   "source": [
    "### Test Set"
   ]
  },
  {
   "cell_type": "code",
   "execution_count": 4,
   "metadata": {
    "collapsed": false
   },
   "outputs": [
    {
     "data": {
      "text/plain": [
       "(2019, 278)"
      ]
     },
     "execution_count": 4,
     "metadata": {},
     "output_type": "execute_result"
    }
   ],
   "source": [
    "test_data = pd.read_csv('test_transform.csv')\n",
    "test_data = test_data.drop('TARGET', axis=1)\n",
    "test_data.shape"
   ]
  },
  {
   "cell_type": "markdown",
   "metadata": {},
   "source": [
    "### Score Fuction"
   ]
  },
  {
   "cell_type": "code",
   "execution_count": 5,
   "metadata": {
    "collapsed": true
   },
   "outputs": [],
   "source": [
    "def model_performance(y_test, y_pred):    \n",
    "    print('confusion matrix')\n",
    "    print(metrics.confusion_matrix(y_test, y_pred))\n",
    "    print('accuracy : {}'.format(metrics.accuracy_score(y_test, y_pred).round(3)))\n",
    "    print('precision : {}'.format(metrics.precision_score(y_test, y_pred, pos_label=1).round(3)))\n",
    "    print('recall : {}'.format(metrics.recall_score(y_test, y_pred, pos_label=1).round(3)))\n",
    "    print('F1 : {}'.format(metrics.f1_score(y_test, y_pred, pos_label=1).round(3)))"
   ]
  },
  {
   "cell_type": "markdown",
   "metadata": {},
   "source": [
    "## 연체자 data duplicate"
   ]
  },
  {
   "cell_type": "code",
   "execution_count": 6,
   "metadata": {
    "collapsed": false
   },
   "outputs": [
    {
     "name": "stdout",
     "output_type": "stream",
     "text": [
      "95946\n",
      "4287\n"
     ]
    }
   ],
   "source": [
    "cust = cust_data[cust_data['TARGET'] == 0]\n",
    "cust_overdue = cust_data[cust_data['TARGET'] == 1]     # 연체자\n",
    "\n",
    "print(cust.shape[0])\n",
    "print(cust_overdue.shape[0])"
   ]
  },
  {
   "cell_type": "code",
   "execution_count": 7,
   "metadata": {
    "collapsed": false
   },
   "outputs": [
    {
     "data": {
      "text/plain": [
       "Index(['ACTL_FMLY_NUM', 'AGE', 'ARPU', 'AUTR_FAIL_MCNT', 'AUTR_FAIL_YN',\n",
       "       'AVG_CALL_FREQ', 'AVG_CALL_TIME', 'AVG_STLN_RATE', 'CB_GUIF_AMT',\n",
       "       'CB_GUIF_CNT',\n",
       "       ...\n",
       "       'MATE_OCCP_NAME_C_07', 'MATE_OCCP_NAME_C_08', 'MATE_OCCP_NAME_C_09',\n",
       "       'MATE_OCCP_NAME_C_10', 'MATE_OCCP_NAME_C_11', 'MATE_OCCP_NAME_C_12',\n",
       "       'MATE_OCCP_NAME_C_13', 'MATE_OCCP_NAME_C_14', 'MATE_OCCP_NAME_C_15',\n",
       "       'MATE_OCCP_NAME_C_16'],\n",
       "      dtype='object', length=278)"
      ]
     },
     "execution_count": 7,
     "metadata": {},
     "output_type": "execute_result"
    }
   ],
   "source": [
    "variables = cust_data.drop('TARGET', 1).columns\n",
    "variables"
   ]
  },
  {
   "cell_type": "markdown",
   "metadata": {},
   "source": [
    "### ML modeling"
   ]
  },
  {
   "cell_type": "code",
   "execution_count": 8,
   "metadata": {
    "collapsed": false
   },
   "outputs": [
    {
     "name": "stdout",
     "output_type": "stream",
     "text": [
      "연체자 수 train : 3439 / 80186\n",
      "연체자 수 test  : 848 / 20047\n"
     ]
    }
   ],
   "source": [
    "# train / test set 분리\n",
    "x = cust_data.drop('TARGET', axis=1)\n",
    "y = cust_data['TARGET']\n",
    "\n",
    "x_train, x_test, y_train, y_test = train_test_split(x, y, test_size=0.2, random_state=0)\n",
    "\n",
    "print('연체자 수 train : {} / {}'.format(sum(y_train == 1), y_train.shape[0]))\n",
    "print('연체자 수 test  : {} / {}'.format(sum(y_test  == 1), y_test.shape[0]))"
   ]
  },
  {
   "cell_type": "code",
   "execution_count": 9,
   "metadata": {
    "collapsed": false
   },
   "outputs": [
    {
     "name": "stdout",
     "output_type": "stream",
     "text": [
      "(3439, 278)\n",
      "(3439,)\n"
     ]
    }
   ],
   "source": [
    "# train set 중에서 연체자만 추출\n",
    "x_overdue = x_train[y_train == 1]\n",
    "y_overdue = y_train[y_train == 1]\n",
    "print(x_overdue.shape)\n",
    "print(y_overdue.shape)"
   ]
  },
  {
   "cell_type": "code",
   "execution_count": 10,
   "metadata": {
    "collapsed": true
   },
   "outputs": [],
   "source": [
    "# clf = GradientBoostingClassifier(n_estimators=500, random_state=0)"
   ]
  },
  {
   "cell_type": "code",
   "execution_count": 11,
   "metadata": {
    "collapsed": false
   },
   "outputs": [
    {
     "name": "stdout",
     "output_type": "stream",
     "text": [
      "=========================================  0\n",
      "train overdue 6878\n",
      "\n",
      "------------------------\n",
      "confusion matrix\n",
      "[[18891   308]\n",
      " [  552   296]]\n",
      "accuracy : 0.957\n",
      "precision : 0.49\n",
      "recall : 0.349\n",
      "F1 : 0.408\n",
      "------------------------\n",
      "=========================================  1\n",
      "train overdue 10317\n",
      "\n",
      "------------------------\n",
      "confusion matrix\n",
      "[[18709   490]\n",
      " [  465   383]]\n",
      "accuracy : 0.952\n",
      "precision : 0.439\n",
      "recall : 0.452\n",
      "F1 : 0.445\n",
      "------------------------\n",
      "=========================================  2\n",
      "train overdue 13756\n",
      "\n",
      "------------------------\n",
      "confusion matrix\n",
      "[[18588   611]\n",
      " [  408   440]]\n",
      "accuracy : 0.949\n",
      "precision : 0.419\n",
      "recall : 0.519\n",
      "F1 : 0.463\n",
      "------------------------\n"
     ]
    }
   ],
   "source": [
    "max_epoch = 2\n",
    "\n",
    "for i in range(max_epoch+1):\n",
    "    x_train = pd.concat([x_train, x_overdue])\n",
    "    y_train = pd.concat([y_train, y_overdue])\n",
    "\n",
    "    x2_train, x2_test, y2_train, y2_test = train_test_split(x_train, y_train, test_size=0.2, random_state=35228)\n",
    "#     x_train, x_test, y_train, y_test = train_test_split(x, y, test_size=0.2)\n",
    "\n",
    "    print('========================================= ', i)\n",
    "    print('train overdue {}'.format(sum(y_train == 1)))\n",
    "    print('')\n",
    "    \n",
    "    clf = GradientBoostingClassifier(n_estimators=500, random_state=0)\n",
    "#     clf = GradientBoostingClassifier(n_estimators=500, max_features='auto', random_state=0)\n",
    "#     clf = GradientBoostingClassifier(n_estimators=500, max_features='auto', learning_rate=0.01, random_state=0)\n",
    "\n",
    "    clf.fit(x2_train, y2_train)\n",
    "#     clf.fit(x_train, y_train)\n",
    "    \n",
    "#     varDic = {'var':variables, 'importance':clf.feature_importances_}\n",
    "#     importance = pd.DataFrame(varDic)\n",
    "#     print(importance.sort_values(by='importance', ascending=False).head(10))\n",
    "\n",
    "    print('------------------------')\n",
    "#     y_pred = clf.predict(x2_test)\n",
    "#     model_performance(y2_test, y_pred)\n",
    "\n",
    "    y_pred_0 = clf.predict(x_test)\n",
    "    model_performance(y_test, y_pred_0)\n",
    "    print('------------------------')\n",
    "\n",
    "    if i == max_epoch:\n",
    "        y_pred_test = clf.predict(test_data)\n",
    "        test_data['TARGET'] = y_pred_test"
   ]
  },
  {
   "cell_type": "code",
   "execution_count": 12,
   "metadata": {
    "collapsed": true
   },
   "outputs": [],
   "source": [
    "# random_state = 0 : 0.461 / 35228 : 0.463 /"
   ]
  },
  {
   "cell_type": "markdown",
   "metadata": {},
   "source": [
    "### Test Set에서 연체자로 분류된 사람 수"
   ]
  },
  {
   "cell_type": "code",
   "execution_count": 15,
   "metadata": {
    "collapsed": false
   },
   "outputs": [
    {
     "data": {
      "text/plain": [
       "97"
      ]
     },
     "execution_count": 15,
     "metadata": {},
     "output_type": "execute_result"
    }
   ],
   "source": [
    "targets = test_data['TARGET']\n",
    "sum(targets)"
   ]
  },
  {
   "cell_type": "code",
   "execution_count": 17,
   "metadata": {
    "collapsed": true
   },
   "outputs": [],
   "source": [
    "test_data.to_csv(\"testset_1012.csv\", index=False)"
   ]
  },
  {
   "cell_type": "code",
   "execution_count": null,
   "metadata": {
    "collapsed": true
   },
   "outputs": [],
   "source": []
  }
 ],
 "metadata": {
  "anaconda-cloud": {},
  "kernelspec": {
   "display_name": "Python [conda root]",
   "language": "python",
   "name": "conda-root-py"
  },
  "language_info": {
   "codemirror_mode": {
    "name": "ipython",
    "version": 3
   },
   "file_extension": ".py",
   "mimetype": "text/x-python",
   "name": "python",
   "nbconvert_exporter": "python",
   "pygments_lexer": "ipython3",
   "version": "3.5.2"
  }
 },
 "nbformat": 4,
 "nbformat_minor": 1
}
