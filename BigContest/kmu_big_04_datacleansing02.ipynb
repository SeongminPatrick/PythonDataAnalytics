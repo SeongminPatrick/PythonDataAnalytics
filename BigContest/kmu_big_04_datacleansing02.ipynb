{
 "cells": [
  {
   "cell_type": "code",
   "execution_count": 1,
   "metadata": {
    "collapsed": true
   },
   "outputs": [],
   "source": [
    "import pandas as pd\n",
    "import numpy as np\n",
    "from sklearn.model_selection import train_test_split\n",
    "from sklearn import metrics"
   ]
  },
  {
   "cell_type": "code",
   "execution_count": 2,
   "metadata": {
    "collapsed": false
   },
   "outputs": [],
   "source": [
    "# Training set\n",
    "cust = pd.read_csv('data_0915_u.csv')\n",
    "cust.shape"
   ]
  },
  {
   "cell_type": "code",
   "execution_count": 3,
   "metadata": {
    "collapsed": false
   },
   "outputs": [
    {
     "data": {
      "text/plain": [
       "(2019, 79)"
      ]
     },
     "execution_count": 3,
     "metadata": {},
     "output_type": "execute_result"
    }
   ],
   "source": [
    "# Test set\n",
    "# cust = pd.read_csv('test_0930.csv')\n",
    "# cust.shape"
   ]
  },
  {
   "cell_type": "code",
   "execution_count": 4,
   "metadata": {
    "collapsed": false
   },
   "outputs": [],
   "source": [
    "cust.loc[pd.isnull(cust.LAST_CHLD_AGE), 'LAST_CHLD_AGE'] = 0\n",
    "cust.loc[cust['OCCP_NAME_G'] == '*', 'OCCP_NAME_G'] = '기타'\n",
    "cust.loc[pd.isnull(cust.MATE_OCCP_NAME_G), 'MATE_OCCP_NAME_G'] = '기타'\n",
    "cust.loc[cust['SEX'] == '*', 'SEX'] = 0"
   ]
  },
  {
   "cell_type": "markdown",
   "metadata": {},
   "source": [
    "### 대출건수 통합"
   ]
  },
  {
   "cell_type": "code",
   "execution_count": 5,
   "metadata": {
    "collapsed": false,
    "scrolled": true
   },
   "outputs": [],
   "source": [
    "loan_cnt = pd.Series(cust[['BNK_LNIF_CNT', 'CPT_LNIF_CNT', 'SPART_LNIF_CNT', 'ECT_LNIF_CNT']].sum(axis=1), name='LNIF_CNT')\n",
    "cust = pd.concat([cust, loan_cnt], axis=1)\n",
    "cust = cust.drop(['BNK_LNIF_CNT', 'CPT_LNIF_CNT', 'ECT_LNIF_CNT'], axis=1)\n",
    "# cust = cust.drop(['BNK_LNIF_CNT', 'CPT_LNIF_CNT', 'SPART_LNIF_CNT', 'ECT_LNIF_CNT'], axis=1)\n",
    "# cust.head()"
   ]
  },
  {
   "cell_type": "markdown",
   "metadata": {},
   "source": [
    "### 대출금액 통합"
   ]
  },
  {
   "cell_type": "code",
   "execution_count": 6,
   "metadata": {
    "collapsed": false
   },
   "outputs": [],
   "source": [
    "# 카드캐피탈대출 금액이 신용+은행대출 금액보다 많은지 여부\n",
    "CPT_LNIF_BIG = pd.Series((cust['CPT_LNIF_AMT'] > cust['TOT_CLIF_AMT'] + cust['BNK_LNIF_AMT']) & (cust['CPT_LNIF_AMT'] > 1),  name='CPT_LNIF_BIG').astype(int)\n",
    "\n",
    "# 카드캐피탈대출 금액의 총대출금액 대비 비율\n",
    "CPT_LNIF_RATIO = pd.Series(pd.Series.round(cust['CPT_LNIF_AMT'] / cust['TOT_LNIF_AMT'], 3),  name='CPT_LNIF_RATIO')\n",
    "\n",
    "cust = pd.concat([cust, CPT_LNIF_BIG, CPT_LNIF_RATIO], axis=1)\n",
    "cust = cust.drop(['TOT_CLIF_AMT', 'BNK_LNIF_AMT'], axis=1)\n",
    "# cust.head()"
   ]
  },
  {
   "cell_type": "markdown",
   "metadata": {},
   "source": [
    "### DTI : 대출금액/추정소득"
   ]
  },
  {
   "cell_type": "code",
   "execution_count": 7,
   "metadata": {
    "collapsed": false,
    "scrolled": true
   },
   "outputs": [],
   "source": [
    "dti = pd.Series(np.round(cust['TOT_LNIF_AMT'] / cust['CUST_JOB_INCM'], 3))\n",
    "cust['DTI'] = dti\n",
    "cust = cust.replace(np.inf, np.nan)\n",
    "cust = cust.fillna(value=0) \n",
    "# cust.head()"
   ]
  },
  {
   "cell_type": "markdown",
   "metadata": {},
   "source": [
    "### add"
   ]
  },
  {
   "cell_type": "code",
   "execution_count": 8,
   "metadata": {
    "collapsed": true
   },
   "outputs": [],
   "source": [
    "# 최근1년보험료연체율\n",
    "cust.loc[cust['LT1Y_PEOD_RATE'] == '0', 'LT1Y_PEOD_RATE_YN'] = 0\n",
    "cust.loc[cust['LT1Y_PEOD_RATE'] != '0', 'LT1Y_PEOD_RATE_YN'] = 1"
   ]
  },
  {
   "cell_type": "code",
   "execution_count": 9,
   "metadata": {
    "collapsed": false
   },
   "outputs": [],
   "source": [
    "# 자동이체실패월수\n",
    "cust.loc[cust['AUTR_FAIL_MCNT'] == 0, 'AUTR_FAIL_YN'] = 0\n",
    "cust.loc[cust['AUTR_FAIL_MCNT'] != 0, 'AUTR_FAIL_YN'] = 1"
   ]
  },
  {
   "cell_type": "code",
   "execution_count": 10,
   "metadata": {
    "collapsed": true
   },
   "outputs": [],
   "source": [
    "# 납부일미준수횟수\n",
    "cust.loc[cust['TLFE_UNPD_CNT'] == 0, 'TLFE_UNPD_CNT'] = 0\n",
    "cust.loc[cust['TLFE_UNPD_CNT'] != 0, 'TLFE_UNPD_CNT'] = 1"
   ]
  },
  {
   "cell_type": "code",
   "execution_count": 11,
   "metadata": {
    "collapsed": true
   },
   "outputs": [],
   "source": [
    "# 실효해지건수\n",
    "cust.loc[cust['CNTT_LAMT_CNT'] == 0, 'CNTT_LAMT_YN'] = 0\n",
    "cust.loc[cust['CNTT_LAMT_CNT'] != 0, 'CNTT_LAMT_YN'] = 1"
   ]
  },
  {
   "cell_type": "code",
   "execution_count": 12,
   "metadata": {
    "collapsed": true
   },
   "outputs": [],
   "source": [
    "# 최근1년실효해지건수\n",
    "cust.loc[cust['LT1Y_CTLT_CNT'] == 0, 'LT1Y_CTLT_YN'] = 0\n",
    "cust.loc[cust['LT1Y_CTLT_CNT'] != 0, 'LT1Y_CTLT_YN'] = 1"
   ]
  },
  {
   "cell_type": "code",
   "execution_count": 13,
   "metadata": {
    "collapsed": true
   },
   "outputs": [],
   "source": [
    "# 정지일수\n",
    "cust.loc[cust['NUM_DAY_SUSP'] == 0, 'NUM_DAY_SUSP_YN'] = 0\n",
    "cust.loc[cust['NUM_DAY_SUSP'] != 0, 'NUM_DAY_SUSP_YN'] = 1"
   ]
  },
  {
   "cell_type": "code",
   "execution_count": 14,
   "metadata": {
    "collapsed": true
   },
   "outputs": [],
   "source": [
    "# 대출정보 현재 총 건수[2산업분류]\n",
    "cust.loc[cust['SPART_LNIF_CNT'] < 2, 'SPART_LNIF_YN'] = 0\n",
    "cust.loc[cust['SPART_LNIF_CNT'] != 0, 'SPART_LNIF_YN'] = 1"
   ]
  },
  {
   "cell_type": "code",
   "execution_count": 15,
   "metadata": {
    "collapsed": true
   },
   "outputs": [],
   "source": [
    "# cust = cust.drop(['AUTR_FAIL_MCNT','CNTT_LAMT_CNT','LT1Y_CTLT_CNT','NUM_DAY_SUSP'], axis=1)"
   ]
  },
  {
   "cell_type": "markdown",
   "metadata": {},
   "source": [
    "### 범주형 변수 : category로 변환"
   ]
  },
  {
   "cell_type": "code",
   "execution_count": 16,
   "metadata": {
    "collapsed": false
   },
   "outputs": [
    {
     "data": {
      "text/plain": [
       "Index(['OCCP_NAME_G', 'MATE_OCCP_NAME_G', 'LT1Y_PEOD_RATE', 'SEX',\n",
       "       'TEL_MBSP_GRAD', 'CBPT_MBSP_YN', 'PAYM_METD', 'LINE_STUS'],\n",
       "      dtype='object')"
      ]
     },
     "execution_count": 16,
     "metadata": {},
     "output_type": "execute_result"
    }
   ],
   "source": [
    "# 범주형 변수\n",
    "cate_var = cust.columns[cust.dtypes == 'object']\n",
    "cate_var"
   ]
  },
  {
   "cell_type": "code",
   "execution_count": 17,
   "metadata": {
    "collapsed": false
   },
   "outputs": [
    {
     "data": {
      "text/html": [
       "<div>\n",
       "<style>\n",
       "    .dataframe thead tr:only-child th {\n",
       "        text-align: right;\n",
       "    }\n",
       "\n",
       "    .dataframe thead th {\n",
       "        text-align: left;\n",
       "    }\n",
       "\n",
       "    .dataframe tbody tr th {\n",
       "        vertical-align: top;\n",
       "    }\n",
       "</style>\n",
       "<table border=\"1\" class=\"dataframe\">\n",
       "  <thead>\n",
       "    <tr style=\"text-align: right;\">\n",
       "      <th></th>\n",
       "      <th>CUST_ID</th>\n",
       "    </tr>\n",
       "    <tr>\n",
       "      <th>MATE_OCCP_NAME_G</th>\n",
       "      <th></th>\n",
       "    </tr>\n",
       "  </thead>\n",
       "  <tbody>\n",
       "    <tr>\n",
       "      <th>1차산업 종사자</th>\n",
       "      <td>24</td>\n",
       "    </tr>\n",
       "    <tr>\n",
       "      <th>2차산업 종사자</th>\n",
       "      <td>155</td>\n",
       "    </tr>\n",
       "    <tr>\n",
       "      <th>3차산업 종사자</th>\n",
       "      <td>73</td>\n",
       "    </tr>\n",
       "    <tr>\n",
       "      <th>고소득 전문직</th>\n",
       "      <td>6</td>\n",
       "    </tr>\n",
       "    <tr>\n",
       "      <th>공무원</th>\n",
       "      <td>42</td>\n",
       "    </tr>\n",
       "    <tr>\n",
       "      <th>기업/단체 임원</th>\n",
       "      <td>27</td>\n",
       "    </tr>\n",
       "    <tr>\n",
       "      <th>기타</th>\n",
       "      <td>940</td>\n",
       "    </tr>\n",
       "    <tr>\n",
       "      <th>단순 노무직</th>\n",
       "      <td>13</td>\n",
       "    </tr>\n",
       "    <tr>\n",
       "      <th>단순 사무직</th>\n",
       "      <td>23</td>\n",
       "    </tr>\n",
       "    <tr>\n",
       "      <th>사무직</th>\n",
       "      <td>205</td>\n",
       "    </tr>\n",
       "    <tr>\n",
       "      <th>예체능계 종사자</th>\n",
       "      <td>8</td>\n",
       "    </tr>\n",
       "    <tr>\n",
       "      <th>운전직</th>\n",
       "      <td>62</td>\n",
       "    </tr>\n",
       "    <tr>\n",
       "      <th>자영업</th>\n",
       "      <td>143</td>\n",
       "    </tr>\n",
       "    <tr>\n",
       "      <th>전문직</th>\n",
       "      <td>38</td>\n",
       "    </tr>\n",
       "    <tr>\n",
       "      <th>주부</th>\n",
       "      <td>258</td>\n",
       "    </tr>\n",
       "    <tr>\n",
       "      <th>학생</th>\n",
       "      <td>2</td>\n",
       "    </tr>\n",
       "  </tbody>\n",
       "</table>\n",
       "</div>"
      ],
      "text/plain": [
       "                  CUST_ID\n",
       "MATE_OCCP_NAME_G         \n",
       "1차산업 종사자               24\n",
       "2차산업 종사자              155\n",
       "3차산업 종사자               73\n",
       "고소득 전문직                 6\n",
       "공무원                    42\n",
       "기업/단체 임원               27\n",
       "기타                    940\n",
       "단순 노무직                 13\n",
       "단순 사무직                 23\n",
       "사무직                   205\n",
       "예체능계 종사자                8\n",
       "운전직                    62\n",
       "자영업                   143\n",
       "전문직                    38\n",
       "주부                    258\n",
       "학생                      2"
      ]
     },
     "execution_count": 17,
     "metadata": {},
     "output_type": "execute_result"
    }
   ],
   "source": [
    "cust_temp = cust[['CUST_ID', 'MATE_OCCP_NAME_G']]   # 직종 확인\n",
    "cust_temp.groupby(['MATE_OCCP_NAME_G']).count()"
   ]
  },
  {
   "cell_type": "code",
   "execution_count": 18,
   "metadata": {
    "collapsed": false
   },
   "outputs": [
    {
     "data": {
      "text/html": [
       "<div>\n",
       "<style>\n",
       "    .dataframe thead tr:only-child th {\n",
       "        text-align: right;\n",
       "    }\n",
       "\n",
       "    .dataframe thead th {\n",
       "        text-align: left;\n",
       "    }\n",
       "\n",
       "    .dataframe tbody tr th {\n",
       "        vertical-align: top;\n",
       "    }\n",
       "</style>\n",
       "<table border=\"1\" class=\"dataframe\">\n",
       "  <thead>\n",
       "    <tr style=\"text-align: right;\">\n",
       "      <th></th>\n",
       "      <th>LT1Y_PEOD_RATE</th>\n",
       "      <th>LT1Y_PEOD_RATE_C</th>\n",
       "    </tr>\n",
       "  </thead>\n",
       "  <tbody>\n",
       "    <tr>\n",
       "      <th>0</th>\n",
       "      <td>0</td>\n",
       "      <td>0</td>\n",
       "    </tr>\n",
       "    <tr>\n",
       "      <th>1</th>\n",
       "      <td>0</td>\n",
       "      <td>0</td>\n",
       "    </tr>\n",
       "    <tr>\n",
       "      <th>2</th>\n",
       "      <td>10미만</td>\n",
       "      <td>10</td>\n",
       "    </tr>\n",
       "    <tr>\n",
       "      <th>3</th>\n",
       "      <td>0</td>\n",
       "      <td>0</td>\n",
       "    </tr>\n",
       "    <tr>\n",
       "      <th>4</th>\n",
       "      <td>50미만</td>\n",
       "      <td>50</td>\n",
       "    </tr>\n",
       "    <tr>\n",
       "      <th>5</th>\n",
       "      <td>0</td>\n",
       "      <td>0</td>\n",
       "    </tr>\n",
       "    <tr>\n",
       "      <th>6</th>\n",
       "      <td>10미만</td>\n",
       "      <td>10</td>\n",
       "    </tr>\n",
       "    <tr>\n",
       "      <th>7</th>\n",
       "      <td>0</td>\n",
       "      <td>0</td>\n",
       "    </tr>\n",
       "    <tr>\n",
       "      <th>8</th>\n",
       "      <td>0</td>\n",
       "      <td>0</td>\n",
       "    </tr>\n",
       "    <tr>\n",
       "      <th>9</th>\n",
       "      <td>20미만</td>\n",
       "      <td>20</td>\n",
       "    </tr>\n",
       "  </tbody>\n",
       "</table>\n",
       "</div>"
      ],
      "text/plain": [
       "  LT1Y_PEOD_RATE LT1Y_PEOD_RATE_C\n",
       "0              0                0\n",
       "1              0                0\n",
       "2           10미만               10\n",
       "3              0                0\n",
       "4           50미만               50\n",
       "5              0                0\n",
       "6           10미만               10\n",
       "7              0                0\n",
       "8              0                0\n",
       "9           20미만               20"
      ]
     },
     "execution_count": 18,
     "metadata": {},
     "output_type": "execute_result"
    }
   ],
   "source": [
    "# 최근1년보험료연체율 카테고리 타입으로 변환\n",
    "col01 = pd.Series(cust['LT1Y_PEOD_RATE'].astype(\"category\"), name='LT1Y_PEOD_RATE_C')\n",
    "cust = pd.concat([cust, col01], axis=1)\n",
    "cust['LT1Y_PEOD_RATE_C'].cat.categories = [\"0\",\"10\",\"20\",\"30\",\"40\",\"50\",\"60\",\"90\",\"91\"]\n",
    "cust[['LT1Y_PEOD_RATE','LT1Y_PEOD_RATE_C']].head(10)"
   ]
  },
  {
   "cell_type": "code",
   "execution_count": 19,
   "metadata": {
    "collapsed": false,
    "scrolled": true
   },
   "outputs": [
    {
     "data": {
      "text/html": [
       "<div>\n",
       "<style>\n",
       "    .dataframe thead tr:only-child th {\n",
       "        text-align: right;\n",
       "    }\n",
       "\n",
       "    .dataframe thead th {\n",
       "        text-align: left;\n",
       "    }\n",
       "\n",
       "    .dataframe tbody tr th {\n",
       "        vertical-align: top;\n",
       "    }\n",
       "</style>\n",
       "<table border=\"1\" class=\"dataframe\">\n",
       "  <thead>\n",
       "    <tr style=\"text-align: right;\">\n",
       "      <th></th>\n",
       "      <th>OCCP_NAME_G</th>\n",
       "      <th>OCCP_NAME_C</th>\n",
       "    </tr>\n",
       "  </thead>\n",
       "  <tbody>\n",
       "    <tr>\n",
       "      <th>0</th>\n",
       "      <td>사무직</td>\n",
       "      <td>10</td>\n",
       "    </tr>\n",
       "    <tr>\n",
       "      <th>1</th>\n",
       "      <td>자영업</td>\n",
       "      <td>13</td>\n",
       "    </tr>\n",
       "    <tr>\n",
       "      <th>2</th>\n",
       "      <td>학생</td>\n",
       "      <td>16</td>\n",
       "    </tr>\n",
       "    <tr>\n",
       "      <th>3</th>\n",
       "      <td>학생</td>\n",
       "      <td>16</td>\n",
       "    </tr>\n",
       "    <tr>\n",
       "      <th>4</th>\n",
       "      <td>자영업</td>\n",
       "      <td>13</td>\n",
       "    </tr>\n",
       "    <tr>\n",
       "      <th>5</th>\n",
       "      <td>사무직</td>\n",
       "      <td>10</td>\n",
       "    </tr>\n",
       "    <tr>\n",
       "      <th>6</th>\n",
       "      <td>기업/단체 임원</td>\n",
       "      <td>06</td>\n",
       "    </tr>\n",
       "    <tr>\n",
       "      <th>7</th>\n",
       "      <td>사무직</td>\n",
       "      <td>10</td>\n",
       "    </tr>\n",
       "    <tr>\n",
       "      <th>8</th>\n",
       "      <td>3차산업 종사자</td>\n",
       "      <td>03</td>\n",
       "    </tr>\n",
       "    <tr>\n",
       "      <th>9</th>\n",
       "      <td>자영업</td>\n",
       "      <td>13</td>\n",
       "    </tr>\n",
       "  </tbody>\n",
       "</table>\n",
       "</div>"
      ],
      "text/plain": [
       "  OCCP_NAME_G OCCP_NAME_C\n",
       "0         사무직          10\n",
       "1         자영업          13\n",
       "2          학생          16\n",
       "3          학생          16\n",
       "4         자영업          13\n",
       "5         사무직          10\n",
       "6    기업/단체 임원          06\n",
       "7         사무직          10\n",
       "8    3차산업 종사자          03\n",
       "9         자영업          13"
      ]
     },
     "execution_count": 19,
     "metadata": {},
     "output_type": "execute_result"
    }
   ],
   "source": [
    "# 직업 - 카테고리 타입으로 변환\n",
    "col02 = pd.Series(cust['OCCP_NAME_G'].astype(\"category\"), name='OCCP_NAME_C')\n",
    "cust = pd.concat([cust, col02], axis=1)\n",
    "cust['OCCP_NAME_C'].cat.categories = [\"01\",\"02\",\"03\",\"04\",\"05\",\"06\",\"07\",\"08\",\"09\",\"10\",\"11\",\"12\",\"13\",\"14\",\"15\",\"16\"]\n",
    "cust[['OCCP_NAME_G','OCCP_NAME_C']].head(10)"
   ]
  },
  {
   "cell_type": "code",
   "execution_count": 20,
   "metadata": {
    "collapsed": false
   },
   "outputs": [
    {
     "data": {
      "text/html": [
       "<div>\n",
       "<style>\n",
       "    .dataframe thead tr:only-child th {\n",
       "        text-align: right;\n",
       "    }\n",
       "\n",
       "    .dataframe thead th {\n",
       "        text-align: left;\n",
       "    }\n",
       "\n",
       "    .dataframe tbody tr th {\n",
       "        vertical-align: top;\n",
       "    }\n",
       "</style>\n",
       "<table border=\"1\" class=\"dataframe\">\n",
       "  <thead>\n",
       "    <tr style=\"text-align: right;\">\n",
       "      <th></th>\n",
       "      <th>MATE_OCCP_NAME_G</th>\n",
       "      <th>MATE_OCCP_NAME_C</th>\n",
       "    </tr>\n",
       "  </thead>\n",
       "  <tbody>\n",
       "    <tr>\n",
       "      <th>0</th>\n",
       "      <td>단순 사무직</td>\n",
       "      <td>09</td>\n",
       "    </tr>\n",
       "    <tr>\n",
       "      <th>1</th>\n",
       "      <td>자영업</td>\n",
       "      <td>13</td>\n",
       "    </tr>\n",
       "    <tr>\n",
       "      <th>2</th>\n",
       "      <td>기타</td>\n",
       "      <td>07</td>\n",
       "    </tr>\n",
       "    <tr>\n",
       "      <th>3</th>\n",
       "      <td>기타</td>\n",
       "      <td>07</td>\n",
       "    </tr>\n",
       "    <tr>\n",
       "      <th>4</th>\n",
       "      <td>3차산업 종사자</td>\n",
       "      <td>03</td>\n",
       "    </tr>\n",
       "    <tr>\n",
       "      <th>5</th>\n",
       "      <td>기타</td>\n",
       "      <td>07</td>\n",
       "    </tr>\n",
       "    <tr>\n",
       "      <th>6</th>\n",
       "      <td>주부</td>\n",
       "      <td>15</td>\n",
       "    </tr>\n",
       "    <tr>\n",
       "      <th>7</th>\n",
       "      <td>주부</td>\n",
       "      <td>15</td>\n",
       "    </tr>\n",
       "    <tr>\n",
       "      <th>8</th>\n",
       "      <td>기업/단체 임원</td>\n",
       "      <td>06</td>\n",
       "    </tr>\n",
       "    <tr>\n",
       "      <th>9</th>\n",
       "      <td>사무직</td>\n",
       "      <td>10</td>\n",
       "    </tr>\n",
       "  </tbody>\n",
       "</table>\n",
       "</div>"
      ],
      "text/plain": [
       "  MATE_OCCP_NAME_G MATE_OCCP_NAME_C\n",
       "0           단순 사무직               09\n",
       "1              자영업               13\n",
       "2               기타               07\n",
       "3               기타               07\n",
       "4         3차산업 종사자               03\n",
       "5               기타               07\n",
       "6               주부               15\n",
       "7               주부               15\n",
       "8         기업/단체 임원               06\n",
       "9              사무직               10"
      ]
     },
     "execution_count": 20,
     "metadata": {},
     "output_type": "execute_result"
    }
   ],
   "source": [
    "# 배우자 직업 - 카테고리 타입으로 변환\n",
    "col03 = pd.Series(cust['MATE_OCCP_NAME_G'].astype(\"category\"), name='MATE_OCCP_NAME_C')\n",
    "cust = pd.concat([cust, col03], axis=1)\n",
    "cust['MATE_OCCP_NAME_C'].cat.categories = [\"01\",\"02\",\"03\",\"04\",\"05\",\"06\",\"07\",\"08\",\"09\",\"10\",\"11\",\"12\",\"13\",\"14\",\"15\",\"16\"]\n",
    "cust[['MATE_OCCP_NAME_G','MATE_OCCP_NAME_C']].head(10)"
   ]
  },
  {
   "cell_type": "code",
   "execution_count": 21,
   "metadata": {
    "collapsed": true
   },
   "outputs": [],
   "source": [
    "cust = cust.drop(['LT1Y_PEOD_RATE', 'OCCP_NAME_G', 'MATE_OCCP_NAME_G'], axis=1)"
   ]
  },
  {
   "cell_type": "markdown",
   "metadata": {},
   "source": [
    "### 변수 통합"
   ]
  },
  {
   "cell_type": "code",
   "execution_count": 22,
   "metadata": {
    "collapsed": false
   },
   "outputs": [
    {
     "data": {
      "text/plain": [
       "Index(['SEX', 'TEL_MBSP_GRAD', 'CBPT_MBSP_YN', 'PAYM_METD', 'LINE_STUS'], dtype='object')"
      ]
     },
     "execution_count": 22,
     "metadata": {},
     "output_type": "execute_result"
    }
   ],
   "source": [
    "# object형 변수\n",
    "cate_var = cust.columns[cust.dtypes == 'object']\n",
    "cate_var"
   ]
  },
  {
   "cell_type": "code",
   "execution_count": 23,
   "metadata": {
    "collapsed": false
   },
   "outputs": [
    {
     "data": {
      "text/plain": [
       "Index(['LT1Y_PEOD_RATE_C', 'OCCP_NAME_C', 'MATE_OCCP_NAME_C'], dtype='object')"
      ]
     },
     "execution_count": 23,
     "metadata": {},
     "output_type": "execute_result"
    }
   ],
   "source": [
    "# category형 변수\n",
    "cate_var_c = cust.columns[cust.dtypes == 'category']\n",
    "cate_var_c"
   ]
  },
  {
   "cell_type": "code",
   "execution_count": 24,
   "metadata": {
    "collapsed": false
   },
   "outputs": [
    {
     "name": "stdout",
     "output_type": "stream",
     "text": [
      "Index(['ACTL_FMLY_NUM', 'AGE', 'ARPU', 'AUTR_FAIL_MCNT', 'AUTR_FAIL_YN',\n",
      "       'AVG_CALL_FREQ', 'AVG_CALL_TIME', 'AVG_STLN_RATE', 'CB_GUIF_AMT',\n",
      "       'CB_GUIF_CNT', 'CNTT_LAMT_CNT', 'CNTT_LAMT_YN', 'CPT_LNIF_AMT',\n",
      "       'CPT_LNIF_BIG', 'CPT_LNIF_RATIO', 'CRDT_CARD', 'CRDT_CARD_CNT',\n",
      "       'CRDT_GRAD_DIFF', 'CRDT_LOAN_CNT', 'CRDT_OCCR_MDIF', 'CRLN_30OVDU_RATE',\n",
      "       'CRLN_OVDU_RATE', 'CRMM_OVDU_AMT', 'CTCD_OCCR_MDIF', 'CUST_FMLY_NUM',\n",
      "       'CUST_JOB_INCM', 'DTI', 'FAIL_COUNT', 'FMLY_CLAM_CNT',\n",
      "       'FMLY_GDINS_MNPREM', 'FMLY_PLPY_CNT', 'FMLY_SVINS_MNPREM',\n",
      "       'FMLY_TOT_PREM', 'FYCM_PAID_AMT', 'GDINS_MON_PREM', 'HIGH_AMT_RATE',\n",
      "       'HSHD_INFR_INCM', 'LAST_CHLD_AGE', 'LNIF_CNT', 'LOW_AMT_RATE',\n",
      "       'LT1Y_CLOD_RATE', 'LT1Y_CTLT_CNT', 'LT1Y_CTLT_YN', 'LT1Y_MXOD_AMT',\n",
      "       'LT1Y_PEOD_RATE_YN', 'LT1Y_SLOD_RATE', 'LT1Y_STLN_AMT',\n",
      "       'LTST_CRDT_GRAD', 'L_H_RATE', 'MATE_JOB_INCM', 'MAX_MON_PREM',\n",
      "       'MIN_CNTT_DATE', 'MOBL_FATY_PRC', 'MOBL_PRIN', 'MON_TLFE_AMT',\n",
      "       'NUM_DAY_SUSP', 'NUM_DAY_SUSP_YN', 'OVDU_HIGH_RATE', 'PREM_OVDU_RATE',\n",
      "       'SPART_LNIF_CNT', 'SPART_LNIF_YN', 'SPTCT_OCCR_MDIF', 'STLN_REMN_AMT',\n",
      "       'STRT_CRDT_GRAD', 'SVINS_MON_PREM', 'TARGET', 'TEL_CNTT_QTR',\n",
      "       'TEL_OVDU_RATE', 'TLFE_UNPD_CNT', 'TOTAL_DELAY_RATE', 'TOT_CRLN_AMT',\n",
      "       'TOT_LNIF_AMT', 'TOT_LOAN_CNT', 'TOT_PREM', 'TOT_REPY_AMT'],\n",
      "      dtype='object')\n",
      "75\n"
     ]
    }
   ],
   "source": [
    "# 연속형변수\n",
    "conti_var = cust.columns[(cust.dtypes != 'object') & (cust.dtypes != 'category')].difference(['CUST_ID'])\n",
    "print(conti_var)\n",
    "print(len(conti_var))"
   ]
  },
  {
   "cell_type": "markdown",
   "metadata": {},
   "source": [
    "## feature extraction"
   ]
  },
  {
   "cell_type": "code",
   "execution_count": 25,
   "metadata": {
    "collapsed": false
   },
   "outputs": [
    {
     "name": "stdout",
     "output_type": "stream",
     "text": [
      "74\n"
     ]
    }
   ],
   "source": [
    "var_list = conti_var.difference(['TARGET'])\n",
    "totlen = len(var_list)\n",
    "print(totlen)"
   ]
  },
  {
   "cell_type": "code",
   "execution_count": 26,
   "metadata": {
    "collapsed": false
   },
   "outputs": [],
   "source": [
    "for i in range(totlen):\n",
    "    if i+1 < totlen:\n",
    "        m_data = list(zip(cust[var_list[i]], cust[var_list[i+1]]))\n",
    "        \n",
    "        feature_name = 'dv_{}_{}'.format(i, i+1)\n",
    "        m_values = pd.Series([x/y if y > 0 else x for x, y in m_data])\n",
    "        cust[feature_name] = m_values\n",
    "\n",
    "        feature_name = 'dv_{}_{}'.format(i+1, i)\n",
    "        m_values = pd.Series([y/x if x > 0 else y for x, y in m_data])\n",
    "        cust[feature_name] = m_values"
   ]
  },
  {
   "cell_type": "code",
   "execution_count": 27,
   "metadata": {
    "collapsed": false
   },
   "outputs": [
    {
     "data": {
      "text/html": [
       "<div>\n",
       "<style>\n",
       "    .dataframe thead tr:only-child th {\n",
       "        text-align: right;\n",
       "    }\n",
       "\n",
       "    .dataframe thead th {\n",
       "        text-align: left;\n",
       "    }\n",
       "\n",
       "    .dataframe tbody tr th {\n",
       "        vertical-align: top;\n",
       "    }\n",
       "</style>\n",
       "<table border=\"1\" class=\"dataframe\">\n",
       "  <thead>\n",
       "    <tr style=\"text-align: right;\">\n",
       "      <th></th>\n",
       "      <th>CUST_ID</th>\n",
       "      <th>TARGET</th>\n",
       "      <th>SPART_LNIF_CNT</th>\n",
       "      <th>TOT_LNIF_AMT</th>\n",
       "      <th>CPT_LNIF_AMT</th>\n",
       "      <th>CRDT_OCCR_MDIF</th>\n",
       "      <th>SPTCT_OCCR_MDIF</th>\n",
       "      <th>CRDT_CARD_CNT</th>\n",
       "      <th>CTCD_OCCR_MDIF</th>\n",
       "      <th>CB_GUIF_CNT</th>\n",
       "      <th>...</th>\n",
       "      <th>dv_68_69</th>\n",
       "      <th>dv_69_68</th>\n",
       "      <th>dv_69_70</th>\n",
       "      <th>dv_70_69</th>\n",
       "      <th>dv_70_71</th>\n",
       "      <th>dv_71_70</th>\n",
       "      <th>dv_71_72</th>\n",
       "      <th>dv_72_71</th>\n",
       "      <th>dv_72_73</th>\n",
       "      <th>dv_73_72</th>\n",
       "    </tr>\n",
       "  </thead>\n",
       "  <tbody>\n",
       "    <tr>\n",
       "      <th>2014</th>\n",
       "      <td>102009</td>\n",
       "      <td>0.0</td>\n",
       "      <td>0</td>\n",
       "      <td>6001</td>\n",
       "      <td>0</td>\n",
       "      <td>1</td>\n",
       "      <td>0</td>\n",
       "      <td>2</td>\n",
       "      <td>121</td>\n",
       "      <td>0</td>\n",
       "      <td>...</td>\n",
       "      <td>5.0</td>\n",
       "      <td>0.0</td>\n",
       "      <td>0.0</td>\n",
       "      <td>6001.0</td>\n",
       "      <td>6001.000000</td>\n",
       "      <td>-0.000067</td>\n",
       "      <td>-4.000000e-08</td>\n",
       "      <td>1.000000e+07</td>\n",
       "      <td>10000000.0</td>\n",
       "      <td>0.0</td>\n",
       "    </tr>\n",
       "    <tr>\n",
       "      <th>2015</th>\n",
       "      <td>102154</td>\n",
       "      <td>0.0</td>\n",
       "      <td>3</td>\n",
       "      <td>114001</td>\n",
       "      <td>3001</td>\n",
       "      <td>13</td>\n",
       "      <td>61</td>\n",
       "      <td>0</td>\n",
       "      <td>0</td>\n",
       "      <td>0</td>\n",
       "      <td>...</td>\n",
       "      <td>51.0</td>\n",
       "      <td>0.0</td>\n",
       "      <td>0.0</td>\n",
       "      <td>114001.0</td>\n",
       "      <td>87023.664122</td>\n",
       "      <td>0.000011</td>\n",
       "      <td>3.275000e-07</td>\n",
       "      <td>3.053435e+06</td>\n",
       "      <td>4000000.0</td>\n",
       "      <td>0.0</td>\n",
       "    </tr>\n",
       "    <tr>\n",
       "      <th>2016</th>\n",
       "      <td>102163</td>\n",
       "      <td>0.0</td>\n",
       "      <td>0</td>\n",
       "      <td>33001</td>\n",
       "      <td>0</td>\n",
       "      <td>0</td>\n",
       "      <td>0</td>\n",
       "      <td>2</td>\n",
       "      <td>73</td>\n",
       "      <td>0</td>\n",
       "      <td>...</td>\n",
       "      <td>4.0</td>\n",
       "      <td>0.0</td>\n",
       "      <td>0.0</td>\n",
       "      <td>33001.0</td>\n",
       "      <td>33001.000000</td>\n",
       "      <td>-0.000024</td>\n",
       "      <td>-2.000000e-07</td>\n",
       "      <td>4.000000e+06</td>\n",
       "      <td>4000000.0</td>\n",
       "      <td>0.0</td>\n",
       "    </tr>\n",
       "    <tr>\n",
       "      <th>2017</th>\n",
       "      <td>102189</td>\n",
       "      <td>0.0</td>\n",
       "      <td>0</td>\n",
       "      <td>69001</td>\n",
       "      <td>0</td>\n",
       "      <td>0</td>\n",
       "      <td>0</td>\n",
       "      <td>2</td>\n",
       "      <td>121</td>\n",
       "      <td>0</td>\n",
       "      <td>...</td>\n",
       "      <td>2.0</td>\n",
       "      <td>0.0</td>\n",
       "      <td>0.0</td>\n",
       "      <td>69001.0</td>\n",
       "      <td>69001.000000</td>\n",
       "      <td>-0.000006</td>\n",
       "      <td>-2.222222e-08</td>\n",
       "      <td>1.800000e+07</td>\n",
       "      <td>18000000.0</td>\n",
       "      <td>0.0</td>\n",
       "    </tr>\n",
       "    <tr>\n",
       "      <th>2018</th>\n",
       "      <td>102204</td>\n",
       "      <td>0.0</td>\n",
       "      <td>1</td>\n",
       "      <td>21001</td>\n",
       "      <td>21001</td>\n",
       "      <td>25</td>\n",
       "      <td>25</td>\n",
       "      <td>2</td>\n",
       "      <td>37</td>\n",
       "      <td>0</td>\n",
       "      <td>...</td>\n",
       "      <td>0.0</td>\n",
       "      <td>0.0</td>\n",
       "      <td>0.0</td>\n",
       "      <td>21001.0</td>\n",
       "      <td>51221.951220</td>\n",
       "      <td>0.000020</td>\n",
       "      <td>2.277778e-08</td>\n",
       "      <td>4.390244e+07</td>\n",
       "      <td>18000000.0</td>\n",
       "      <td>0.0</td>\n",
       "    </tr>\n",
       "  </tbody>\n",
       "</table>\n",
       "<p>5 rows × 230 columns</p>\n",
       "</div>"
      ],
      "text/plain": [
       "      CUST_ID  TARGET  SPART_LNIF_CNT  TOT_LNIF_AMT  CPT_LNIF_AMT  \\\n",
       "2014   102009     0.0               0          6001             0   \n",
       "2015   102154     0.0               3        114001          3001   \n",
       "2016   102163     0.0               0         33001             0   \n",
       "2017   102189     0.0               0         69001             0   \n",
       "2018   102204     0.0               1         21001         21001   \n",
       "\n",
       "      CRDT_OCCR_MDIF  SPTCT_OCCR_MDIF  CRDT_CARD_CNT  CTCD_OCCR_MDIF  \\\n",
       "2014               1                0              2             121   \n",
       "2015              13               61              0               0   \n",
       "2016               0                0              2              73   \n",
       "2017               0                0              2             121   \n",
       "2018              25               25              2              37   \n",
       "\n",
       "      CB_GUIF_CNT    ...     dv_68_69  dv_69_68  dv_69_70  dv_70_69  \\\n",
       "2014            0    ...          5.0       0.0       0.0    6001.0   \n",
       "2015            0    ...         51.0       0.0       0.0  114001.0   \n",
       "2016            0    ...          4.0       0.0       0.0   33001.0   \n",
       "2017            0    ...          2.0       0.0       0.0   69001.0   \n",
       "2018            0    ...          0.0       0.0       0.0   21001.0   \n",
       "\n",
       "          dv_70_71  dv_71_70      dv_71_72      dv_72_71    dv_72_73  dv_73_72  \n",
       "2014   6001.000000 -0.000067 -4.000000e-08  1.000000e+07  10000000.0       0.0  \n",
       "2015  87023.664122  0.000011  3.275000e-07  3.053435e+06   4000000.0       0.0  \n",
       "2016  33001.000000 -0.000024 -2.000000e-07  4.000000e+06   4000000.0       0.0  \n",
       "2017  69001.000000 -0.000006 -2.222222e-08  1.800000e+07  18000000.0       0.0  \n",
       "2018  51221.951220  0.000020  2.277778e-08  4.390244e+07  18000000.0       0.0  \n",
       "\n",
       "[5 rows x 230 columns]"
      ]
     },
     "execution_count": 27,
     "metadata": {},
     "output_type": "execute_result"
    }
   ],
   "source": [
    "cust.tail()"
   ]
  },
  {
   "cell_type": "code",
   "execution_count": 28,
   "metadata": {
    "collapsed": false
   },
   "outputs": [
    {
     "name": "stdout",
     "output_type": "stream",
     "text": [
      "Index(['ACTL_FMLY_NUM', 'AGE', 'ARPU', 'AUTR_FAIL_MCNT', 'AUTR_FAIL_YN',\n",
      "       'AVG_CALL_FREQ', 'AVG_CALL_TIME', 'AVG_STLN_RATE', 'CB_GUIF_AMT',\n",
      "       'CB_GUIF_CNT',\n",
      "       ...\n",
      "       'dv_71_72', 'dv_72_71', 'dv_72_73', 'dv_73_72', 'dv_7_6', 'dv_7_8',\n",
      "       'dv_8_7', 'dv_8_9', 'dv_9_10', 'dv_9_8'],\n",
      "      dtype='object', length=221)\n",
      "221\n"
     ]
    }
   ],
   "source": [
    "# 추가된 연속형변수 확인\n",
    "conti_var = cust.columns[(cust.dtypes != 'object') & (cust.dtypes != 'category')].difference(['CUST_ID'])\n",
    "print(conti_var)\n",
    "print(len(conti_var))"
   ]
  },
  {
   "cell_type": "code",
   "execution_count": 29,
   "metadata": {
    "collapsed": false
   },
   "outputs": [
    {
     "data": {
      "text/html": [
       "<div>\n",
       "<style>\n",
       "    .dataframe thead tr:only-child th {\n",
       "        text-align: right;\n",
       "    }\n",
       "\n",
       "    .dataframe thead th {\n",
       "        text-align: left;\n",
       "    }\n",
       "\n",
       "    .dataframe tbody tr th {\n",
       "        vertical-align: top;\n",
       "    }\n",
       "</style>\n",
       "<table border=\"1\" class=\"dataframe\">\n",
       "  <thead>\n",
       "    <tr style=\"text-align: right;\">\n",
       "      <th></th>\n",
       "      <th>SEX_0</th>\n",
       "      <th>SEX_1</th>\n",
       "      <th>SEX_2</th>\n",
       "      <th>TEL_MBSP_GRAD_0</th>\n",
       "      <th>TEL_MBSP_GRAD_E</th>\n",
       "      <th>TEL_MBSP_GRAD_Q</th>\n",
       "      <th>TEL_MBSP_GRAD_R</th>\n",
       "      <th>TEL_MBSP_GRAD_W</th>\n",
       "      <th>CBPT_MBSP_YN_N</th>\n",
       "      <th>CBPT_MBSP_YN_Y</th>\n",
       "      <th>PAYM_METD_0</th>\n",
       "      <th>PAYM_METD_G</th>\n",
       "      <th>PAYM_METD_K</th>\n",
       "      <th>PAYM_METD_O</th>\n",
       "      <th>PAYM_METD_R</th>\n",
       "      <th>LINE_STUS_S</th>\n",
       "      <th>LINE_STUS_U</th>\n",
       "    </tr>\n",
       "  </thead>\n",
       "  <tbody>\n",
       "    <tr>\n",
       "      <th>0</th>\n",
       "      <td>0</td>\n",
       "      <td>1</td>\n",
       "      <td>0</td>\n",
       "      <td>0</td>\n",
       "      <td>0</td>\n",
       "      <td>0</td>\n",
       "      <td>1</td>\n",
       "      <td>0</td>\n",
       "      <td>0</td>\n",
       "      <td>1</td>\n",
       "      <td>0</td>\n",
       "      <td>0</td>\n",
       "      <td>1</td>\n",
       "      <td>0</td>\n",
       "      <td>0</td>\n",
       "      <td>0</td>\n",
       "      <td>1</td>\n",
       "    </tr>\n",
       "    <tr>\n",
       "      <th>1</th>\n",
       "      <td>0</td>\n",
       "      <td>0</td>\n",
       "      <td>1</td>\n",
       "      <td>1</td>\n",
       "      <td>0</td>\n",
       "      <td>0</td>\n",
       "      <td>0</td>\n",
       "      <td>0</td>\n",
       "      <td>1</td>\n",
       "      <td>0</td>\n",
       "      <td>0</td>\n",
       "      <td>0</td>\n",
       "      <td>0</td>\n",
       "      <td>1</td>\n",
       "      <td>0</td>\n",
       "      <td>0</td>\n",
       "      <td>1</td>\n",
       "    </tr>\n",
       "    <tr>\n",
       "      <th>2</th>\n",
       "      <td>0</td>\n",
       "      <td>1</td>\n",
       "      <td>0</td>\n",
       "      <td>0</td>\n",
       "      <td>0</td>\n",
       "      <td>1</td>\n",
       "      <td>0</td>\n",
       "      <td>0</td>\n",
       "      <td>0</td>\n",
       "      <td>1</td>\n",
       "      <td>0</td>\n",
       "      <td>0</td>\n",
       "      <td>1</td>\n",
       "      <td>0</td>\n",
       "      <td>0</td>\n",
       "      <td>0</td>\n",
       "      <td>1</td>\n",
       "    </tr>\n",
       "    <tr>\n",
       "      <th>3</th>\n",
       "      <td>0</td>\n",
       "      <td>0</td>\n",
       "      <td>1</td>\n",
       "      <td>1</td>\n",
       "      <td>0</td>\n",
       "      <td>0</td>\n",
       "      <td>0</td>\n",
       "      <td>0</td>\n",
       "      <td>1</td>\n",
       "      <td>0</td>\n",
       "      <td>0</td>\n",
       "      <td>0</td>\n",
       "      <td>0</td>\n",
       "      <td>1</td>\n",
       "      <td>0</td>\n",
       "      <td>0</td>\n",
       "      <td>1</td>\n",
       "    </tr>\n",
       "    <tr>\n",
       "      <th>4</th>\n",
       "      <td>0</td>\n",
       "      <td>1</td>\n",
       "      <td>0</td>\n",
       "      <td>1</td>\n",
       "      <td>0</td>\n",
       "      <td>0</td>\n",
       "      <td>0</td>\n",
       "      <td>0</td>\n",
       "      <td>1</td>\n",
       "      <td>0</td>\n",
       "      <td>0</td>\n",
       "      <td>0</td>\n",
       "      <td>0</td>\n",
       "      <td>1</td>\n",
       "      <td>0</td>\n",
       "      <td>0</td>\n",
       "      <td>1</td>\n",
       "    </tr>\n",
       "  </tbody>\n",
       "</table>\n",
       "</div>"
      ],
      "text/plain": [
       "   SEX_0  SEX_1  SEX_2  TEL_MBSP_GRAD_0  TEL_MBSP_GRAD_E  TEL_MBSP_GRAD_Q  \\\n",
       "0      0      1      0                0                0                0   \n",
       "1      0      0      1                1                0                0   \n",
       "2      0      1      0                0                0                1   \n",
       "3      0      0      1                1                0                0   \n",
       "4      0      1      0                1                0                0   \n",
       "\n",
       "   TEL_MBSP_GRAD_R  TEL_MBSP_GRAD_W  CBPT_MBSP_YN_N  CBPT_MBSP_YN_Y  \\\n",
       "0                1                0               0               1   \n",
       "1                0                0               1               0   \n",
       "2                0                0               0               1   \n",
       "3                0                0               1               0   \n",
       "4                0                0               1               0   \n",
       "\n",
       "   PAYM_METD_0  PAYM_METD_G  PAYM_METD_K  PAYM_METD_O  PAYM_METD_R  \\\n",
       "0            0            0            1            0            0   \n",
       "1            0            0            0            1            0   \n",
       "2            0            0            1            0            0   \n",
       "3            0            0            0            1            0   \n",
       "4            0            0            0            1            0   \n",
       "\n",
       "   LINE_STUS_S  LINE_STUS_U  \n",
       "0            0            1  \n",
       "1            0            1  \n",
       "2            0            1  \n",
       "3            0            1  \n",
       "4            0            1  "
      ]
     },
     "execution_count": 29,
     "metadata": {},
     "output_type": "execute_result"
    }
   ],
   "source": [
    "# object형 변수를 dummy 변수로 변환\n",
    "dummy_var = pd.get_dummies(cust[cate_var])\n",
    "dummy_var.head()"
   ]
  },
  {
   "cell_type": "code",
   "execution_count": 30,
   "metadata": {
    "collapsed": false
   },
   "outputs": [
    {
     "data": {
      "text/html": [
       "<div>\n",
       "<style>\n",
       "    .dataframe thead tr:only-child th {\n",
       "        text-align: right;\n",
       "    }\n",
       "\n",
       "    .dataframe thead th {\n",
       "        text-align: left;\n",
       "    }\n",
       "\n",
       "    .dataframe tbody tr th {\n",
       "        vertical-align: top;\n",
       "    }\n",
       "</style>\n",
       "<table border=\"1\" class=\"dataframe\">\n",
       "  <thead>\n",
       "    <tr style=\"text-align: right;\">\n",
       "      <th></th>\n",
       "      <th>LT1Y_PEOD_RATE_C_0</th>\n",
       "      <th>LT1Y_PEOD_RATE_C_10</th>\n",
       "      <th>LT1Y_PEOD_RATE_C_20</th>\n",
       "      <th>LT1Y_PEOD_RATE_C_30</th>\n",
       "      <th>LT1Y_PEOD_RATE_C_40</th>\n",
       "      <th>LT1Y_PEOD_RATE_C_50</th>\n",
       "      <th>LT1Y_PEOD_RATE_C_60</th>\n",
       "      <th>LT1Y_PEOD_RATE_C_90</th>\n",
       "      <th>LT1Y_PEOD_RATE_C_91</th>\n",
       "      <th>OCCP_NAME_C_01</th>\n",
       "      <th>...</th>\n",
       "      <th>MATE_OCCP_NAME_C_07</th>\n",
       "      <th>MATE_OCCP_NAME_C_08</th>\n",
       "      <th>MATE_OCCP_NAME_C_09</th>\n",
       "      <th>MATE_OCCP_NAME_C_10</th>\n",
       "      <th>MATE_OCCP_NAME_C_11</th>\n",
       "      <th>MATE_OCCP_NAME_C_12</th>\n",
       "      <th>MATE_OCCP_NAME_C_13</th>\n",
       "      <th>MATE_OCCP_NAME_C_14</th>\n",
       "      <th>MATE_OCCP_NAME_C_15</th>\n",
       "      <th>MATE_OCCP_NAME_C_16</th>\n",
       "    </tr>\n",
       "  </thead>\n",
       "  <tbody>\n",
       "    <tr>\n",
       "      <th>0</th>\n",
       "      <td>1</td>\n",
       "      <td>0</td>\n",
       "      <td>0</td>\n",
       "      <td>0</td>\n",
       "      <td>0</td>\n",
       "      <td>0</td>\n",
       "      <td>0</td>\n",
       "      <td>0</td>\n",
       "      <td>0</td>\n",
       "      <td>0</td>\n",
       "      <td>...</td>\n",
       "      <td>0</td>\n",
       "      <td>0</td>\n",
       "      <td>1</td>\n",
       "      <td>0</td>\n",
       "      <td>0</td>\n",
       "      <td>0</td>\n",
       "      <td>0</td>\n",
       "      <td>0</td>\n",
       "      <td>0</td>\n",
       "      <td>0</td>\n",
       "    </tr>\n",
       "    <tr>\n",
       "      <th>1</th>\n",
       "      <td>1</td>\n",
       "      <td>0</td>\n",
       "      <td>0</td>\n",
       "      <td>0</td>\n",
       "      <td>0</td>\n",
       "      <td>0</td>\n",
       "      <td>0</td>\n",
       "      <td>0</td>\n",
       "      <td>0</td>\n",
       "      <td>0</td>\n",
       "      <td>...</td>\n",
       "      <td>0</td>\n",
       "      <td>0</td>\n",
       "      <td>0</td>\n",
       "      <td>0</td>\n",
       "      <td>0</td>\n",
       "      <td>0</td>\n",
       "      <td>1</td>\n",
       "      <td>0</td>\n",
       "      <td>0</td>\n",
       "      <td>0</td>\n",
       "    </tr>\n",
       "    <tr>\n",
       "      <th>2</th>\n",
       "      <td>0</td>\n",
       "      <td>1</td>\n",
       "      <td>0</td>\n",
       "      <td>0</td>\n",
       "      <td>0</td>\n",
       "      <td>0</td>\n",
       "      <td>0</td>\n",
       "      <td>0</td>\n",
       "      <td>0</td>\n",
       "      <td>0</td>\n",
       "      <td>...</td>\n",
       "      <td>1</td>\n",
       "      <td>0</td>\n",
       "      <td>0</td>\n",
       "      <td>0</td>\n",
       "      <td>0</td>\n",
       "      <td>0</td>\n",
       "      <td>0</td>\n",
       "      <td>0</td>\n",
       "      <td>0</td>\n",
       "      <td>0</td>\n",
       "    </tr>\n",
       "    <tr>\n",
       "      <th>3</th>\n",
       "      <td>1</td>\n",
       "      <td>0</td>\n",
       "      <td>0</td>\n",
       "      <td>0</td>\n",
       "      <td>0</td>\n",
       "      <td>0</td>\n",
       "      <td>0</td>\n",
       "      <td>0</td>\n",
       "      <td>0</td>\n",
       "      <td>0</td>\n",
       "      <td>...</td>\n",
       "      <td>1</td>\n",
       "      <td>0</td>\n",
       "      <td>0</td>\n",
       "      <td>0</td>\n",
       "      <td>0</td>\n",
       "      <td>0</td>\n",
       "      <td>0</td>\n",
       "      <td>0</td>\n",
       "      <td>0</td>\n",
       "      <td>0</td>\n",
       "    </tr>\n",
       "    <tr>\n",
       "      <th>4</th>\n",
       "      <td>0</td>\n",
       "      <td>0</td>\n",
       "      <td>0</td>\n",
       "      <td>0</td>\n",
       "      <td>0</td>\n",
       "      <td>1</td>\n",
       "      <td>0</td>\n",
       "      <td>0</td>\n",
       "      <td>0</td>\n",
       "      <td>0</td>\n",
       "      <td>...</td>\n",
       "      <td>0</td>\n",
       "      <td>0</td>\n",
       "      <td>0</td>\n",
       "      <td>0</td>\n",
       "      <td>0</td>\n",
       "      <td>0</td>\n",
       "      <td>0</td>\n",
       "      <td>0</td>\n",
       "      <td>0</td>\n",
       "      <td>0</td>\n",
       "    </tr>\n",
       "  </tbody>\n",
       "</table>\n",
       "<p>5 rows × 41 columns</p>\n",
       "</div>"
      ],
      "text/plain": [
       "   LT1Y_PEOD_RATE_C_0  LT1Y_PEOD_RATE_C_10  LT1Y_PEOD_RATE_C_20  \\\n",
       "0                   1                    0                    0   \n",
       "1                   1                    0                    0   \n",
       "2                   0                    1                    0   \n",
       "3                   1                    0                    0   \n",
       "4                   0                    0                    0   \n",
       "\n",
       "   LT1Y_PEOD_RATE_C_30  LT1Y_PEOD_RATE_C_40  LT1Y_PEOD_RATE_C_50  \\\n",
       "0                    0                    0                    0   \n",
       "1                    0                    0                    0   \n",
       "2                    0                    0                    0   \n",
       "3                    0                    0                    0   \n",
       "4                    0                    0                    1   \n",
       "\n",
       "   LT1Y_PEOD_RATE_C_60  LT1Y_PEOD_RATE_C_90  LT1Y_PEOD_RATE_C_91  \\\n",
       "0                    0                    0                    0   \n",
       "1                    0                    0                    0   \n",
       "2                    0                    0                    0   \n",
       "3                    0                    0                    0   \n",
       "4                    0                    0                    0   \n",
       "\n",
       "   OCCP_NAME_C_01         ...           MATE_OCCP_NAME_C_07  \\\n",
       "0               0         ...                             0   \n",
       "1               0         ...                             0   \n",
       "2               0         ...                             1   \n",
       "3               0         ...                             1   \n",
       "4               0         ...                             0   \n",
       "\n",
       "   MATE_OCCP_NAME_C_08  MATE_OCCP_NAME_C_09  MATE_OCCP_NAME_C_10  \\\n",
       "0                    0                    1                    0   \n",
       "1                    0                    0                    0   \n",
       "2                    0                    0                    0   \n",
       "3                    0                    0                    0   \n",
       "4                    0                    0                    0   \n",
       "\n",
       "   MATE_OCCP_NAME_C_11  MATE_OCCP_NAME_C_12  MATE_OCCP_NAME_C_13  \\\n",
       "0                    0                    0                    0   \n",
       "1                    0                    0                    1   \n",
       "2                    0                    0                    0   \n",
       "3                    0                    0                    0   \n",
       "4                    0                    0                    0   \n",
       "\n",
       "   MATE_OCCP_NAME_C_14  MATE_OCCP_NAME_C_15  MATE_OCCP_NAME_C_16  \n",
       "0                    0                    0                    0  \n",
       "1                    0                    0                    0  \n",
       "2                    0                    0                    0  \n",
       "3                    0                    0                    0  \n",
       "4                    0                    0                    0  \n",
       "\n",
       "[5 rows x 41 columns]"
      ]
     },
     "execution_count": 30,
     "metadata": {},
     "output_type": "execute_result"
    }
   ],
   "source": [
    "# category형 변수를 dummy 변수로 변환\n",
    "dummy_var_c = pd.get_dummies(cust[cate_var_c])\n",
    "dummy_var_c.head()"
   ]
  },
  {
   "cell_type": "code",
   "execution_count": 31,
   "metadata": {
    "collapsed": false,
    "scrolled": true
   },
   "outputs": [
    {
     "data": {
      "text/html": [
       "<div>\n",
       "<style>\n",
       "    .dataframe thead tr:only-child th {\n",
       "        text-align: right;\n",
       "    }\n",
       "\n",
       "    .dataframe thead th {\n",
       "        text-align: left;\n",
       "    }\n",
       "\n",
       "    .dataframe tbody tr th {\n",
       "        vertical-align: top;\n",
       "    }\n",
       "</style>\n",
       "<table border=\"1\" class=\"dataframe\">\n",
       "  <thead>\n",
       "    <tr style=\"text-align: right;\">\n",
       "      <th></th>\n",
       "      <th>ACTL_FMLY_NUM</th>\n",
       "      <th>AGE</th>\n",
       "      <th>ARPU</th>\n",
       "      <th>AUTR_FAIL_MCNT</th>\n",
       "      <th>AUTR_FAIL_YN</th>\n",
       "      <th>AVG_CALL_FREQ</th>\n",
       "      <th>AVG_CALL_TIME</th>\n",
       "      <th>AVG_STLN_RATE</th>\n",
       "      <th>CB_GUIF_AMT</th>\n",
       "      <th>CB_GUIF_CNT</th>\n",
       "      <th>...</th>\n",
       "      <th>MATE_OCCP_NAME_C_07</th>\n",
       "      <th>MATE_OCCP_NAME_C_08</th>\n",
       "      <th>MATE_OCCP_NAME_C_09</th>\n",
       "      <th>MATE_OCCP_NAME_C_10</th>\n",
       "      <th>MATE_OCCP_NAME_C_11</th>\n",
       "      <th>MATE_OCCP_NAME_C_12</th>\n",
       "      <th>MATE_OCCP_NAME_C_13</th>\n",
       "      <th>MATE_OCCP_NAME_C_14</th>\n",
       "      <th>MATE_OCCP_NAME_C_15</th>\n",
       "      <th>MATE_OCCP_NAME_C_16</th>\n",
       "    </tr>\n",
       "  </thead>\n",
       "  <tbody>\n",
       "    <tr>\n",
       "      <th>0</th>\n",
       "      <td>6</td>\n",
       "      <td>35</td>\n",
       "      <td>50000</td>\n",
       "      <td>7</td>\n",
       "      <td>1.0</td>\n",
       "      <td>240</td>\n",
       "      <td>410</td>\n",
       "      <td>0</td>\n",
       "      <td>0</td>\n",
       "      <td>0</td>\n",
       "      <td>...</td>\n",
       "      <td>0</td>\n",
       "      <td>0</td>\n",
       "      <td>1</td>\n",
       "      <td>0</td>\n",
       "      <td>0</td>\n",
       "      <td>0</td>\n",
       "      <td>0</td>\n",
       "      <td>0</td>\n",
       "      <td>0</td>\n",
       "      <td>0</td>\n",
       "    </tr>\n",
       "    <tr>\n",
       "      <th>1</th>\n",
       "      <td>4</td>\n",
       "      <td>55</td>\n",
       "      <td>30000</td>\n",
       "      <td>0</td>\n",
       "      <td>0.0</td>\n",
       "      <td>234</td>\n",
       "      <td>360</td>\n",
       "      <td>44</td>\n",
       "      <td>0</td>\n",
       "      <td>0</td>\n",
       "      <td>...</td>\n",
       "      <td>0</td>\n",
       "      <td>0</td>\n",
       "      <td>0</td>\n",
       "      <td>0</td>\n",
       "      <td>0</td>\n",
       "      <td>0</td>\n",
       "      <td>1</td>\n",
       "      <td>0</td>\n",
       "      <td>0</td>\n",
       "      <td>0</td>\n",
       "    </tr>\n",
       "    <tr>\n",
       "      <th>2</th>\n",
       "      <td>3</td>\n",
       "      <td>25</td>\n",
       "      <td>50000</td>\n",
       "      <td>10</td>\n",
       "      <td>1.0</td>\n",
       "      <td>308</td>\n",
       "      <td>995</td>\n",
       "      <td>70</td>\n",
       "      <td>0</td>\n",
       "      <td>0</td>\n",
       "      <td>...</td>\n",
       "      <td>1</td>\n",
       "      <td>0</td>\n",
       "      <td>0</td>\n",
       "      <td>0</td>\n",
       "      <td>0</td>\n",
       "      <td>0</td>\n",
       "      <td>0</td>\n",
       "      <td>0</td>\n",
       "      <td>0</td>\n",
       "      <td>0</td>\n",
       "    </tr>\n",
       "    <tr>\n",
       "      <th>3</th>\n",
       "      <td>3</td>\n",
       "      <td>60</td>\n",
       "      <td>50000</td>\n",
       "      <td>2</td>\n",
       "      <td>1.0</td>\n",
       "      <td>492</td>\n",
       "      <td>513</td>\n",
       "      <td>0</td>\n",
       "      <td>0</td>\n",
       "      <td>0</td>\n",
       "      <td>...</td>\n",
       "      <td>1</td>\n",
       "      <td>0</td>\n",
       "      <td>0</td>\n",
       "      <td>0</td>\n",
       "      <td>0</td>\n",
       "      <td>0</td>\n",
       "      <td>0</td>\n",
       "      <td>0</td>\n",
       "      <td>0</td>\n",
       "      <td>0</td>\n",
       "    </tr>\n",
       "    <tr>\n",
       "      <th>4</th>\n",
       "      <td>5</td>\n",
       "      <td>55</td>\n",
       "      <td>60000</td>\n",
       "      <td>42</td>\n",
       "      <td>1.0</td>\n",
       "      <td>108</td>\n",
       "      <td>178</td>\n",
       "      <td>0</td>\n",
       "      <td>0</td>\n",
       "      <td>0</td>\n",
       "      <td>...</td>\n",
       "      <td>0</td>\n",
       "      <td>0</td>\n",
       "      <td>0</td>\n",
       "      <td>0</td>\n",
       "      <td>0</td>\n",
       "      <td>0</td>\n",
       "      <td>0</td>\n",
       "      <td>0</td>\n",
       "      <td>0</td>\n",
       "      <td>0</td>\n",
       "    </tr>\n",
       "  </tbody>\n",
       "</table>\n",
       "<p>5 rows × 279 columns</p>\n",
       "</div>"
      ],
      "text/plain": [
       "   ACTL_FMLY_NUM  AGE   ARPU  AUTR_FAIL_MCNT  AUTR_FAIL_YN  AVG_CALL_FREQ  \\\n",
       "0              6   35  50000               7           1.0            240   \n",
       "1              4   55  30000               0           0.0            234   \n",
       "2              3   25  50000              10           1.0            308   \n",
       "3              3   60  50000               2           1.0            492   \n",
       "4              5   55  60000              42           1.0            108   \n",
       "\n",
       "   AVG_CALL_TIME  AVG_STLN_RATE  CB_GUIF_AMT  CB_GUIF_CNT  \\\n",
       "0            410              0            0            0   \n",
       "1            360             44            0            0   \n",
       "2            995             70            0            0   \n",
       "3            513              0            0            0   \n",
       "4            178              0            0            0   \n",
       "\n",
       "          ...           MATE_OCCP_NAME_C_07  MATE_OCCP_NAME_C_08  \\\n",
       "0         ...                             0                    0   \n",
       "1         ...                             0                    0   \n",
       "2         ...                             1                    0   \n",
       "3         ...                             1                    0   \n",
       "4         ...                             0                    0   \n",
       "\n",
       "   MATE_OCCP_NAME_C_09  MATE_OCCP_NAME_C_10  MATE_OCCP_NAME_C_11  \\\n",
       "0                    1                    0                    0   \n",
       "1                    0                    0                    0   \n",
       "2                    0                    0                    0   \n",
       "3                    0                    0                    0   \n",
       "4                    0                    0                    0   \n",
       "\n",
       "   MATE_OCCP_NAME_C_12  MATE_OCCP_NAME_C_13  MATE_OCCP_NAME_C_14  \\\n",
       "0                    0                    0                    0   \n",
       "1                    0                    1                    0   \n",
       "2                    0                    0                    0   \n",
       "3                    0                    0                    0   \n",
       "4                    0                    0                    0   \n",
       "\n",
       "   MATE_OCCP_NAME_C_15  MATE_OCCP_NAME_C_16  \n",
       "0                    0                    0  \n",
       "1                    0                    0  \n",
       "2                    0                    0  \n",
       "3                    0                    0  \n",
       "4                    0                    0  \n",
       "\n",
       "[5 rows x 279 columns]"
      ]
     },
     "execution_count": 31,
     "metadata": {},
     "output_type": "execute_result"
    }
   ],
   "source": [
    "x_data = pd.concat([cust[conti_var], dummy_var, dummy_var_c], axis=1)\n",
    "x_data.head()"
   ]
  },
  {
   "cell_type": "markdown",
   "metadata": {},
   "source": [
    "### 정리된 최종 데이터 저장"
   ]
  },
  {
   "cell_type": "code",
   "execution_count": 32,
   "metadata": {
    "collapsed": false
   },
   "outputs": [],
   "source": [
    "# Training set\n",
    "x_data.to_csv(\"data_transform.csv\", index=False)\n",
    "cust = pd.read_csv('data_transform.csv')\n",
    "cust.shape"
   ]
  },
  {
   "cell_type": "code",
   "execution_count": 33,
   "metadata": {
    "collapsed": false
   },
   "outputs": [
    {
     "data": {
      "text/plain": [
       "(2019, 279)"
      ]
     },
     "execution_count": 33,
     "metadata": {},
     "output_type": "execute_result"
    }
   ],
   "source": [
    "# Test set\n",
    "# x_data.to_csv(\"test_transform.csv\", index=False)\n",
    "# cust = pd.read_csv('test_transform.csv')\n",
    "# cust.shape"
   ]
  },
  {
   "cell_type": "code",
   "execution_count": null,
   "metadata": {
    "collapsed": true
   },
   "outputs": [],
   "source": []
  },
  {
   "cell_type": "code",
   "execution_count": null,
   "metadata": {
    "collapsed": true
   },
   "outputs": [],
   "source": []
  }
 ],
 "metadata": {
  "anaconda-cloud": {},
  "kernelspec": {
   "display_name": "Python [conda root]",
   "language": "python",
   "name": "conda-root-py"
  },
  "language_info": {
   "codemirror_mode": {
    "name": "ipython",
    "version": 3
   },
   "file_extension": ".py",
   "mimetype": "text/x-python",
   "name": "python",
   "nbconvert_exporter": "python",
   "pygments_lexer": "ipython3",
   "version": "3.5.2"
  }
 },
 "nbformat": 4,
 "nbformat_minor": 1
}
