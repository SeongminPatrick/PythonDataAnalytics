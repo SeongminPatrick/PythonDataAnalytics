{
 "cells": [
  {
   "cell_type": "code",
   "execution_count": 1,
   "metadata": {
    "collapsed": true
   },
   "outputs": [],
   "source": [
    "import pandas as pd\n",
    "import numpy as np\n",
    "from sklearn.model_selection import train_test_split\n",
    "from sklearn import metrics\n",
    "from sklearn.tree import DecisionTreeClassifier\n",
    "from sklearn.ensemble import GradientBoostingClassifier\n",
    "from sklearn.naive_bayes import GaussianNB"
   ]
  },
  {
   "cell_type": "code",
   "execution_count": 2,
   "metadata": {
    "collapsed": false
   },
   "outputs": [
    {
     "data": {
      "text/plain": [
       "(100233, 39)"
      ]
     },
     "execution_count": 2,
     "metadata": {},
     "output_type": "execute_result"
    }
   ],
   "source": [
    "cust_data = pd.read_csv('data_transform.csv')\n",
    "cust_data = cust_data[['TARGET',\n",
    "'AGE',\n",
    "'ARPU',\n",
    "'AUTR_FAIL_MCNT',\n",
    "'AVG_CALL_TIME',\n",
    "'CPT_LNIF_AMT',\n",
    "'CRDT_CARD',\n",
    "'CRDT_CARD_CNT',\n",
    "'CRDT_OCCR_MDIF',\n",
    "'CRMM_OVDU_AMT',\n",
    "'CTCD_OCCR_MDIF',\n",
    "'HIGH_AMT_RATE',\n",
    "'L_H_RATE',\n",
    "'LNIF_CNT',\n",
    "'LOW_AMT_RATE',\n",
    "'LT1Y_CLOD_RATE',\n",
    "'LT1Y_CTLT_CNT',\n",
    "'LT1Y_MXOD_AMT',\n",
    "'MOBL_PRIN',\n",
    "'MON_TLFE_AMT',\n",
    "'NUM_DAY_SUSP',\n",
    "'OVDU_HIGH_RATE',\n",
    "'PAYM_METD_G',\n",
    "'PREM_OVDU_RATE',\n",
    "'SPTCT_OCCR_MDIF',\n",
    "'TEL_CNTT_QTR',\n",
    "'TEL_OVDU_RATE',\n",
    "'TOT_LNIF_AMT',\n",
    "'TOT_LOAN_CNT',\n",
    "'CPT_LNIF_BIG',\n",
    "'CPT_LNIF_RATIO',\n",
    "'CRDT_CARD',\n",
    "'CRDT_GRAD_DIFF',\n",
    "'DTI',\n",
    "'FAIL_COUNT',\n",
    "'HIGH_AMT_RATE',\n",
    "'HSHD_INFR_INCM',\n",
    "'LNIF_CNT',\n",
    "'LOW_AMT_RATE'\n",
    "]]\n",
    "cust_data.shape"
   ]
  },
  {
   "cell_type": "code",
   "execution_count": 3,
   "metadata": {
    "collapsed": false
   },
   "outputs": [
    {
     "data": {
      "text/html": [
       "<div>\n",
       "<table border=\"1\" class=\"dataframe\">\n",
       "  <thead>\n",
       "    <tr style=\"text-align: right;\">\n",
       "      <th></th>\n",
       "      <th>TARGET</th>\n",
       "      <th>AGE</th>\n",
       "      <th>ARPU</th>\n",
       "      <th>AUTR_FAIL_MCNT</th>\n",
       "      <th>AVG_CALL_TIME</th>\n",
       "      <th>CPT_LNIF_AMT</th>\n",
       "      <th>CRDT_CARD</th>\n",
       "      <th>CRDT_CARD_CNT</th>\n",
       "      <th>CRDT_OCCR_MDIF</th>\n",
       "      <th>CRMM_OVDU_AMT</th>\n",
       "      <th>...</th>\n",
       "      <th>CPT_LNIF_BIG</th>\n",
       "      <th>CPT_LNIF_RATIO</th>\n",
       "      <th>CRDT_CARD</th>\n",
       "      <th>CRDT_GRAD_DIFF</th>\n",
       "      <th>DTI</th>\n",
       "      <th>FAIL_COUNT</th>\n",
       "      <th>HIGH_AMT_RATE</th>\n",
       "      <th>HSHD_INFR_INCM</th>\n",
       "      <th>LNIF_CNT</th>\n",
       "      <th>LOW_AMT_RATE</th>\n",
       "    </tr>\n",
       "  </thead>\n",
       "  <tbody>\n",
       "    <tr>\n",
       "      <th>0</th>\n",
       "      <td>0</td>\n",
       "      <td>50</td>\n",
       "      <td>30000</td>\n",
       "      <td>10</td>\n",
       "      <td>450</td>\n",
       "      <td>0</td>\n",
       "      <td>26</td>\n",
       "      <td>2</td>\n",
       "      <td>1</td>\n",
       "      <td>0</td>\n",
       "      <td>...</td>\n",
       "      <td>False</td>\n",
       "      <td>0.0</td>\n",
       "      <td>26</td>\n",
       "      <td>0</td>\n",
       "      <td>1.667</td>\n",
       "      <td>10</td>\n",
       "      <td>9002.0</td>\n",
       "      <td>7700</td>\n",
       "      <td>1</td>\n",
       "      <td>0.000000</td>\n",
       "    </tr>\n",
       "    <tr>\n",
       "      <th>1</th>\n",
       "      <td>0</td>\n",
       "      <td>50</td>\n",
       "      <td>30000</td>\n",
       "      <td>0</td>\n",
       "      <td>81</td>\n",
       "      <td>0</td>\n",
       "      <td>242</td>\n",
       "      <td>2</td>\n",
       "      <td>0</td>\n",
       "      <td>0</td>\n",
       "      <td>...</td>\n",
       "      <td>False</td>\n",
       "      <td>0.0</td>\n",
       "      <td>242</td>\n",
       "      <td>0</td>\n",
       "      <td>4.364</td>\n",
       "      <td>0</td>\n",
       "      <td>1.0</td>\n",
       "      <td>8100</td>\n",
       "      <td>1</td>\n",
       "      <td>0.000000</td>\n",
       "    </tr>\n",
       "    <tr>\n",
       "      <th>2</th>\n",
       "      <td>0</td>\n",
       "      <td>60</td>\n",
       "      <td>30000</td>\n",
       "      <td>0</td>\n",
       "      <td>139</td>\n",
       "      <td>3001</td>\n",
       "      <td>484</td>\n",
       "      <td>4</td>\n",
       "      <td>1</td>\n",
       "      <td>0</td>\n",
       "      <td>...</td>\n",
       "      <td>False</td>\n",
       "      <td>0.2</td>\n",
       "      <td>484</td>\n",
       "      <td>0</td>\n",
       "      <td>0.000</td>\n",
       "      <td>0</td>\n",
       "      <td>9001.0</td>\n",
       "      <td>4900</td>\n",
       "      <td>6</td>\n",
       "      <td>0.200053</td>\n",
       "    </tr>\n",
       "    <tr>\n",
       "      <th>3</th>\n",
       "      <td>1</td>\n",
       "      <td>35</td>\n",
       "      <td>30000</td>\n",
       "      <td>0</td>\n",
       "      <td>1118</td>\n",
       "      <td>3001</td>\n",
       "      <td>244</td>\n",
       "      <td>4</td>\n",
       "      <td>1</td>\n",
       "      <td>540000</td>\n",
       "      <td>...</td>\n",
       "      <td>False</td>\n",
       "      <td>0.5</td>\n",
       "      <td>244</td>\n",
       "      <td>0</td>\n",
       "      <td>0.000</td>\n",
       "      <td>0</td>\n",
       "      <td>3001.0</td>\n",
       "      <td>10100</td>\n",
       "      <td>8</td>\n",
       "      <td>0.500083</td>\n",
       "    </tr>\n",
       "    <tr>\n",
       "      <th>4</th>\n",
       "      <td>0</td>\n",
       "      <td>45</td>\n",
       "      <td>50000</td>\n",
       "      <td>0</td>\n",
       "      <td>396</td>\n",
       "      <td>0</td>\n",
       "      <td>97</td>\n",
       "      <td>1</td>\n",
       "      <td>1</td>\n",
       "      <td>130000</td>\n",
       "      <td>...</td>\n",
       "      <td>False</td>\n",
       "      <td>0.0</td>\n",
       "      <td>97</td>\n",
       "      <td>0</td>\n",
       "      <td>4.375</td>\n",
       "      <td>0</td>\n",
       "      <td>15002.0</td>\n",
       "      <td>4800</td>\n",
       "      <td>4</td>\n",
       "      <td>0.000000</td>\n",
       "    </tr>\n",
       "  </tbody>\n",
       "</table>\n",
       "<p>5 rows × 39 columns</p>\n",
       "</div>"
      ],
      "text/plain": [
       "   TARGET  AGE   ARPU  AUTR_FAIL_MCNT  AVG_CALL_TIME  CPT_LNIF_AMT  CRDT_CARD  \\\n",
       "0       0   50  30000              10            450             0         26   \n",
       "1       0   50  30000               0             81             0        242   \n",
       "2       0   60  30000               0            139          3001        484   \n",
       "3       1   35  30000               0           1118          3001        244   \n",
       "4       0   45  50000               0            396             0         97   \n",
       "\n",
       "   CRDT_CARD_CNT  CRDT_OCCR_MDIF  CRMM_OVDU_AMT      ...       CPT_LNIF_BIG  \\\n",
       "0              2               1              0      ...              False   \n",
       "1              2               0              0      ...              False   \n",
       "2              4               1              0      ...              False   \n",
       "3              4               1         540000      ...              False   \n",
       "4              1               1         130000      ...              False   \n",
       "\n",
       "   CPT_LNIF_RATIO  CRDT_CARD  CRDT_GRAD_DIFF    DTI  FAIL_COUNT  \\\n",
       "0             0.0         26               0  1.667          10   \n",
       "1             0.0        242               0  4.364           0   \n",
       "2             0.2        484               0  0.000           0   \n",
       "3             0.5        244               0  0.000           0   \n",
       "4             0.0         97               0  4.375           0   \n",
       "\n",
       "   HIGH_AMT_RATE  HSHD_INFR_INCM  LNIF_CNT  LOW_AMT_RATE  \n",
       "0         9002.0            7700         1      0.000000  \n",
       "1            1.0            8100         1      0.000000  \n",
       "2         9001.0            4900         6      0.200053  \n",
       "3         3001.0           10100         8      0.500083  \n",
       "4        15002.0            4800         4      0.000000  \n",
       "\n",
       "[5 rows x 39 columns]"
      ]
     },
     "execution_count": 3,
     "metadata": {},
     "output_type": "execute_result"
    }
   ],
   "source": [
    "cust_data.head()"
   ]
  },
  {
   "cell_type": "code",
   "execution_count": 4,
   "metadata": {
    "collapsed": true
   },
   "outputs": [],
   "source": [
    "def model_performance(y_test, y_pred):    \n",
    "    print('confusion matrix')\n",
    "    print(metrics.confusion_matrix(y_test, y_pred))\n",
    "    print('accuracy : {}'.format(metrics.accuracy_score(y_test, y_pred).round(3)))\n",
    "    print('precision : {}'.format(metrics.precision_score(y_test, y_pred, pos_label=1).round(3)))\n",
    "    print('recall : {}'.format(metrics.recall_score(y_test, y_pred, pos_label=1).round(3)))\n",
    "    print('F1 : {}'.format(metrics.f1_score(y_test, y_pred, pos_label=1).round(3)))"
   ]
  },
  {
   "cell_type": "markdown",
   "metadata": {},
   "source": [
    "## 연체자 data duplicate"
   ]
  },
  {
   "cell_type": "code",
   "execution_count": 5,
   "metadata": {
    "collapsed": false
   },
   "outputs": [
    {
     "name": "stdout",
     "output_type": "stream",
     "text": [
      "95946\n",
      "4287\n"
     ]
    }
   ],
   "source": [
    "cust = cust_data[cust_data['TARGET'] == 0]\n",
    "cust_overdue = cust_data[cust_data['TARGET'] == 1]     # 연체자\n",
    "\n",
    "print(cust.shape[0])\n",
    "print(cust_overdue.shape[0])"
   ]
  },
  {
   "cell_type": "code",
   "execution_count": 6,
   "metadata": {
    "collapsed": false
   },
   "outputs": [
    {
     "data": {
      "text/plain": [
       "Index(['AGE', 'ARPU', 'AUTR_FAIL_MCNT', 'AVG_CALL_TIME', 'CPT_LNIF_AMT',\n",
       "       'CRDT_CARD', 'CRDT_CARD_CNT', 'CRDT_OCCR_MDIF', 'CRMM_OVDU_AMT',\n",
       "       'CTCD_OCCR_MDIF', 'HIGH_AMT_RATE', 'L_H_RATE', 'LNIF_CNT',\n",
       "       'LOW_AMT_RATE', 'LT1Y_CLOD_RATE', 'LT1Y_CTLT_CNT', 'LT1Y_MXOD_AMT',\n",
       "       'MOBL_PRIN', 'MON_TLFE_AMT', 'NUM_DAY_SUSP', 'OVDU_HIGH_RATE',\n",
       "       'PAYM_METD_G', 'PREM_OVDU_RATE', 'SPTCT_OCCR_MDIF', 'TEL_CNTT_QTR',\n",
       "       'TEL_OVDU_RATE', 'TOT_LNIF_AMT', 'TOT_LOAN_CNT', 'CPT_LNIF_BIG',\n",
       "       'CPT_LNIF_RATIO', 'CRDT_CARD', 'CRDT_GRAD_DIFF', 'DTI', 'FAIL_COUNT',\n",
       "       'HIGH_AMT_RATE', 'HSHD_INFR_INCM', 'LNIF_CNT', 'LOW_AMT_RATE'],\n",
       "      dtype='object')"
      ]
     },
     "execution_count": 6,
     "metadata": {},
     "output_type": "execute_result"
    }
   ],
   "source": [
    "variables = cust_data.drop('TARGET', 1).columns\n",
    "variables"
   ]
  },
  {
   "cell_type": "markdown",
   "metadata": {},
   "source": [
    "### ML modeling"
   ]
  },
  {
   "cell_type": "code",
   "execution_count": 7,
   "metadata": {
    "collapsed": false
   },
   "outputs": [
    {
     "name": "stdout",
     "output_type": "stream",
     "text": [
      "연체자 수 train : 3439 / 80186\n",
      "연체자 수 test  : 848 / 20047\n"
     ]
    }
   ],
   "source": [
    "# train / test set 분리\n",
    "x = cust_data.drop('TARGET', axis=1)\n",
    "y = cust_data['TARGET']\n",
    "\n",
    "x_train, x_test, y_train, y_test = train_test_split(x, y, test_size=0.2, random_state=0)\n",
    "\n",
    "print('연체자 수 train : {} / {}'.format(sum(y_train == 1), y_train.shape[0]))\n",
    "print('연체자 수 test  : {} / {}'.format(sum(y_test  == 1), y_test.shape[0]))"
   ]
  },
  {
   "cell_type": "code",
   "execution_count": 8,
   "metadata": {
    "collapsed": false
   },
   "outputs": [
    {
     "name": "stdout",
     "output_type": "stream",
     "text": [
      "(3439, 38)\n",
      "(3439,)\n"
     ]
    }
   ],
   "source": [
    "# train set 중에서 연체자만 추출\n",
    "x_overdue = x_train[y_train == 1]\n",
    "y_overdue = y_train[y_train == 1]\n",
    "print(x_overdue.shape)\n",
    "print(y_overdue.shape)"
   ]
  },
  {
   "cell_type": "code",
   "execution_count": 9,
   "metadata": {
    "collapsed": false,
    "scrolled": false
   },
   "outputs": [
    {
     "name": "stdout",
     "output_type": "stream",
     "text": [
      "=========================================  0\n",
      "test 16038 : test overdue 720\n",
      "\n",
      "------------------------\n",
      "confusion matrix\n",
      "[[19061   138]\n",
      " [  664   184]]\n",
      "accuracy : 0.96\n",
      "precision : 0.571\n",
      "recall : 0.217\n",
      "F1 : 0.315\n",
      "------------------------\n",
      "=========================================  1\n",
      "test 16725 : test overdue 1415\n",
      "\n",
      "------------------------\n",
      "confusion matrix\n",
      "[[18895   304]\n",
      " [  560   288]]\n",
      "accuracy : 0.957\n",
      "precision : 0.486\n",
      "recall : 0.34\n",
      "F1 : 0.4\n",
      "------------------------\n",
      "=========================================  2\n",
      "test 17413 : test overdue 2095\n",
      "\n",
      "------------------------\n",
      "confusion matrix\n",
      "[[18719   480]\n",
      " [  486   362]]\n",
      "accuracy : 0.952\n",
      "precision : 0.43\n",
      "recall : 0.427\n",
      "F1 : 0.428\n",
      "------------------------\n",
      "=========================================  3\n",
      "test 18101 : test overdue 2740\n",
      "\n",
      "------------------------\n",
      "confusion matrix\n",
      "[[18538   661]\n",
      " [  437   411]]\n",
      "accuracy : 0.945\n",
      "precision : 0.383\n",
      "recall : 0.485\n",
      "F1 : 0.428\n",
      "------------------------\n",
      "=========================================  4\n",
      "test 18789 : test overdue 3403\n",
      "\n",
      "------------------------\n",
      "confusion matrix\n",
      "[[18377   822]\n",
      " [  392   456]]\n",
      "accuracy : 0.939\n",
      "precision : 0.357\n",
      "recall : 0.538\n",
      "F1 : 0.429\n",
      "------------------------\n",
      "=========================================  5\n",
      "test 19477 : test overdue 4161\n",
      "\n",
      "------------------------\n",
      "confusion matrix\n",
      "[[18250   949]\n",
      " [  361   487]]\n",
      "accuracy : 0.935\n",
      "precision : 0.339\n",
      "recall : 0.574\n",
      "F1 : 0.426\n",
      "------------------------\n"
     ]
    }
   ],
   "source": [
    "max_epoch = 5\n",
    "\n",
    "for i in range(max_epoch+1):\n",
    "    x2_train, x2_test, y2_train, y2_test = train_test_split(x_train, y_train, test_size=0.2, random_state=0)\n",
    "    \n",
    "    print('========================================= ', i)\n",
    "    print('test {} : test overdue {}'.format(y2_test.shape[0], sum(y2_test == 1)))\n",
    "    print('')\n",
    "    \n",
    "#     clf = DecisionTreeClassifier()\n",
    "    clf = GradientBoostingClassifier(n_estimators=500, random_state=0)\n",
    "    \n",
    "    clf.fit(x2_train, y2_train)\n",
    "    \n",
    "#     y_pred = clf.predict(x2_test)\n",
    "#     model_performance(y2_test, y_pred)\n",
    "    \n",
    "#     varDic = {'var':variables, 'importance':clf.feature_importances_}\n",
    "#     importance = pd.DataFrame(varDic)\n",
    "#     print(importance.sort_values(by='importance', ascending=False).head(10))\n",
    "\n",
    "    x_train = pd.concat([x_train, x_overdue])\n",
    "    y_train = pd.concat([y_train, y_overdue])\n",
    "\n",
    "#     if i == max_epoch:\n",
    "    print('------------------------')\n",
    "    y_pred_0 = clf.predict(x_test)\n",
    "    model_performance(y_test, y_pred_0)\n",
    "    print('------------------------')"
   ]
  },
  {
   "cell_type": "code",
   "execution_count": null,
   "metadata": {
    "collapsed": true
   },
   "outputs": [],
   "source": []
  },
  {
   "cell_type": "code",
   "execution_count": null,
   "metadata": {
    "collapsed": true
   },
   "outputs": [],
   "source": []
  },
  {
   "cell_type": "code",
   "execution_count": null,
   "metadata": {
    "collapsed": true
   },
   "outputs": [],
   "source": []
  },
  {
   "cell_type": "code",
   "execution_count": null,
   "metadata": {
    "collapsed": true
   },
   "outputs": [],
   "source": []
  },
  {
   "cell_type": "code",
   "execution_count": null,
   "metadata": {
    "collapsed": true
   },
   "outputs": [],
   "source": []
  },
  {
   "cell_type": "code",
   "execution_count": null,
   "metadata": {
    "collapsed": true
   },
   "outputs": [],
   "source": []
  },
  {
   "cell_type": "code",
   "execution_count": null,
   "metadata": {
    "collapsed": true
   },
   "outputs": [],
   "source": []
  },
  {
   "cell_type": "code",
   "execution_count": null,
   "metadata": {
    "collapsed": true
   },
   "outputs": [],
   "source": []
  },
  {
   "cell_type": "code",
   "execution_count": null,
   "metadata": {
    "collapsed": true
   },
   "outputs": [],
   "source": [
    "\n"
   ]
  },
  {
   "cell_type": "code",
   "execution_count": null,
   "metadata": {
    "collapsed": true
   },
   "outputs": [],
   "source": []
  },
  {
   "cell_type": "code",
   "execution_count": null,
   "metadata": {
    "collapsed": true
   },
   "outputs": [],
   "source": []
  },
  {
   "cell_type": "code",
   "execution_count": null,
   "metadata": {
    "collapsed": true
   },
   "outputs": [],
   "source": []
  },
  {
   "cell_type": "code",
   "execution_count": null,
   "metadata": {
    "collapsed": true
   },
   "outputs": [],
   "source": []
  }
 ],
 "metadata": {
  "anaconda-cloud": {},
  "kernelspec": {
   "display_name": "Python [conda root]",
   "language": "python",
   "name": "conda-root-py"
  },
  "language_info": {
   "codemirror_mode": {
    "name": "ipython",
    "version": 3
   },
   "file_extension": ".py",
   "mimetype": "text/x-python",
   "name": "python",
   "nbconvert_exporter": "python",
   "pygments_lexer": "ipython3",
   "version": "3.5.2"
  }
 },
 "nbformat": 4,
 "nbformat_minor": 1
}
