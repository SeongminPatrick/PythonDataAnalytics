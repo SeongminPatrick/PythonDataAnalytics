{
 "cells": [
  {
   "cell_type": "code",
   "execution_count": 1,
   "metadata": {
    "collapsed": true
   },
   "outputs": [],
   "source": [
    "import pandas as pd\n",
    "import numpy as np\n",
    "from sklearn.model_selection import train_test_split\n",
    "from sklearn import metrics\n",
    "from sklearn.tree import DecisionTreeClassifier\n",
    "from sklearn.ensemble import GradientBoostingClassifier\n",
    "from sklearn.naive_bayes import GaussianNB"
   ]
  },
  {
   "cell_type": "code",
   "execution_count": 2,
   "metadata": {
    "collapsed": false
   },
   "outputs": [
    {
     "data": {
      "text/plain": [
       "(100233, 126)"
      ]
     },
     "execution_count": 2,
     "metadata": {},
     "output_type": "execute_result"
    }
   ],
   "source": [
    "cust_data = pd.read_csv('data_transform.csv')\n",
    "cust_data.shape"
   ]
  },
  {
   "cell_type": "code",
   "execution_count": 3,
   "metadata": {
    "collapsed": false
   },
   "outputs": [
    {
     "data": {
      "text/html": [
       "<div>\n",
       "<style>\n",
       "    .dataframe thead tr:only-child th {\n",
       "        text-align: right;\n",
       "    }\n",
       "\n",
       "    .dataframe thead th {\n",
       "        text-align: left;\n",
       "    }\n",
       "\n",
       "    .dataframe tbody tr th {\n",
       "        vertical-align: top;\n",
       "    }\n",
       "</style>\n",
       "<table border=\"1\" class=\"dataframe\">\n",
       "  <thead>\n",
       "    <tr style=\"text-align: right;\">\n",
       "      <th></th>\n",
       "      <th>ACTL_FMLY_NUM</th>\n",
       "      <th>AGE</th>\n",
       "      <th>ARPU</th>\n",
       "      <th>AUTR_FAIL_MCNT</th>\n",
       "      <th>AVG_CALL_FREQ</th>\n",
       "      <th>AVG_CALL_TIME</th>\n",
       "      <th>AVG_STLN_RATE</th>\n",
       "      <th>CB_GUIF_AMT</th>\n",
       "      <th>CB_GUIF_CNT</th>\n",
       "      <th>CNTT_LAMT_CNT</th>\n",
       "      <th>...</th>\n",
       "      <th>MATE_OCCP_NAME_C_07</th>\n",
       "      <th>MATE_OCCP_NAME_C_08</th>\n",
       "      <th>MATE_OCCP_NAME_C_09</th>\n",
       "      <th>MATE_OCCP_NAME_C_10</th>\n",
       "      <th>MATE_OCCP_NAME_C_11</th>\n",
       "      <th>MATE_OCCP_NAME_C_12</th>\n",
       "      <th>MATE_OCCP_NAME_C_13</th>\n",
       "      <th>MATE_OCCP_NAME_C_14</th>\n",
       "      <th>MATE_OCCP_NAME_C_15</th>\n",
       "      <th>MATE_OCCP_NAME_C_16</th>\n",
       "    </tr>\n",
       "  </thead>\n",
       "  <tbody>\n",
       "    <tr>\n",
       "      <th>0</th>\n",
       "      <td>4</td>\n",
       "      <td>50</td>\n",
       "      <td>30000</td>\n",
       "      <td>10</td>\n",
       "      <td>493</td>\n",
       "      <td>450</td>\n",
       "      <td>0</td>\n",
       "      <td>420001</td>\n",
       "      <td>3</td>\n",
       "      <td>0</td>\n",
       "      <td>...</td>\n",
       "      <td>0</td>\n",
       "      <td>0</td>\n",
       "      <td>0</td>\n",
       "      <td>0</td>\n",
       "      <td>0</td>\n",
       "      <td>0</td>\n",
       "      <td>0</td>\n",
       "      <td>0</td>\n",
       "      <td>1</td>\n",
       "      <td>0</td>\n",
       "    </tr>\n",
       "    <tr>\n",
       "      <th>1</th>\n",
       "      <td>4</td>\n",
       "      <td>50</td>\n",
       "      <td>30000</td>\n",
       "      <td>0</td>\n",
       "      <td>22</td>\n",
       "      <td>81</td>\n",
       "      <td>0</td>\n",
       "      <td>0</td>\n",
       "      <td>0</td>\n",
       "      <td>0</td>\n",
       "      <td>...</td>\n",
       "      <td>0</td>\n",
       "      <td>0</td>\n",
       "      <td>0</td>\n",
       "      <td>0</td>\n",
       "      <td>0</td>\n",
       "      <td>0</td>\n",
       "      <td>0</td>\n",
       "      <td>0</td>\n",
       "      <td>1</td>\n",
       "      <td>0</td>\n",
       "    </tr>\n",
       "    <tr>\n",
       "      <th>2</th>\n",
       "      <td>4</td>\n",
       "      <td>60</td>\n",
       "      <td>30000</td>\n",
       "      <td>0</td>\n",
       "      <td>17</td>\n",
       "      <td>139</td>\n",
       "      <td>0</td>\n",
       "      <td>0</td>\n",
       "      <td>0</td>\n",
       "      <td>0</td>\n",
       "      <td>...</td>\n",
       "      <td>0</td>\n",
       "      <td>0</td>\n",
       "      <td>0</td>\n",
       "      <td>0</td>\n",
       "      <td>0</td>\n",
       "      <td>0</td>\n",
       "      <td>0</td>\n",
       "      <td>0</td>\n",
       "      <td>0</td>\n",
       "      <td>0</td>\n",
       "    </tr>\n",
       "    <tr>\n",
       "      <th>3</th>\n",
       "      <td>2</td>\n",
       "      <td>35</td>\n",
       "      <td>30000</td>\n",
       "      <td>0</td>\n",
       "      <td>0</td>\n",
       "      <td>1118</td>\n",
       "      <td>0</td>\n",
       "      <td>0</td>\n",
       "      <td>0</td>\n",
       "      <td>0</td>\n",
       "      <td>...</td>\n",
       "      <td>1</td>\n",
       "      <td>0</td>\n",
       "      <td>0</td>\n",
       "      <td>0</td>\n",
       "      <td>0</td>\n",
       "      <td>0</td>\n",
       "      <td>0</td>\n",
       "      <td>0</td>\n",
       "      <td>0</td>\n",
       "      <td>0</td>\n",
       "    </tr>\n",
       "    <tr>\n",
       "      <th>4</th>\n",
       "      <td>4</td>\n",
       "      <td>45</td>\n",
       "      <td>50000</td>\n",
       "      <td>0</td>\n",
       "      <td>354</td>\n",
       "      <td>396</td>\n",
       "      <td>95</td>\n",
       "      <td>0</td>\n",
       "      <td>0</td>\n",
       "      <td>0</td>\n",
       "      <td>...</td>\n",
       "      <td>0</td>\n",
       "      <td>0</td>\n",
       "      <td>0</td>\n",
       "      <td>0</td>\n",
       "      <td>0</td>\n",
       "      <td>0</td>\n",
       "      <td>0</td>\n",
       "      <td>0</td>\n",
       "      <td>1</td>\n",
       "      <td>0</td>\n",
       "    </tr>\n",
       "  </tbody>\n",
       "</table>\n",
       "<p>5 rows × 126 columns</p>\n",
       "</div>"
      ],
      "text/plain": [
       "   ACTL_FMLY_NUM  AGE   ARPU  AUTR_FAIL_MCNT  AVG_CALL_FREQ  AVG_CALL_TIME  \\\n",
       "0              4   50  30000              10            493            450   \n",
       "1              4   50  30000               0             22             81   \n",
       "2              4   60  30000               0             17            139   \n",
       "3              2   35  30000               0              0           1118   \n",
       "4              4   45  50000               0            354            396   \n",
       "\n",
       "   AVG_STLN_RATE  CB_GUIF_AMT  CB_GUIF_CNT  CNTT_LAMT_CNT  \\\n",
       "0              0       420001            3              0   \n",
       "1              0            0            0              0   \n",
       "2              0            0            0              0   \n",
       "3              0            0            0              0   \n",
       "4             95            0            0              0   \n",
       "\n",
       "          ...           MATE_OCCP_NAME_C_07  MATE_OCCP_NAME_C_08  \\\n",
       "0         ...                             0                    0   \n",
       "1         ...                             0                    0   \n",
       "2         ...                             0                    0   \n",
       "3         ...                             1                    0   \n",
       "4         ...                             0                    0   \n",
       "\n",
       "   MATE_OCCP_NAME_C_09  MATE_OCCP_NAME_C_10  MATE_OCCP_NAME_C_11  \\\n",
       "0                    0                    0                    0   \n",
       "1                    0                    0                    0   \n",
       "2                    0                    0                    0   \n",
       "3                    0                    0                    0   \n",
       "4                    0                    0                    0   \n",
       "\n",
       "   MATE_OCCP_NAME_C_12  MATE_OCCP_NAME_C_13  MATE_OCCP_NAME_C_14  \\\n",
       "0                    0                    0                    0   \n",
       "1                    0                    0                    0   \n",
       "2                    0                    0                    0   \n",
       "3                    0                    0                    0   \n",
       "4                    0                    0                    0   \n",
       "\n",
       "   MATE_OCCP_NAME_C_15  MATE_OCCP_NAME_C_16  \n",
       "0                    1                    0  \n",
       "1                    1                    0  \n",
       "2                    0                    0  \n",
       "3                    0                    0  \n",
       "4                    1                    0  \n",
       "\n",
       "[5 rows x 126 columns]"
      ]
     },
     "execution_count": 3,
     "metadata": {},
     "output_type": "execute_result"
    }
   ],
   "source": [
    "cust_data.head()"
   ]
  },
  {
   "cell_type": "code",
   "execution_count": 4,
   "metadata": {
    "collapsed": true
   },
   "outputs": [],
   "source": [
    "def model_performance(y_test, y_pred):    \n",
    "    print('confusion matrix')\n",
    "    print(metrics.confusion_matrix(y_test, y_pred))\n",
    "    print('accuracy : {}'.format(metrics.accuracy_score(y_test, y_pred).round(3)))\n",
    "    print('precision : {}'.format(metrics.precision_score(y_test, y_pred, pos_label=1).round(3)))\n",
    "    print('recall : {}'.format(metrics.recall_score(y_test, y_pred, pos_label=1).round(3)))\n",
    "    print('F1 : {}'.format(metrics.f1_score(y_test, y_pred, pos_label=1).round(3)))"
   ]
  },
  {
   "cell_type": "markdown",
   "metadata": {},
   "source": [
    "## 연체자 data duplicate"
   ]
  },
  {
   "cell_type": "code",
   "execution_count": 5,
   "metadata": {
    "collapsed": false
   },
   "outputs": [
    {
     "name": "stdout",
     "output_type": "stream",
     "text": [
      "95946\n",
      "4287\n"
     ]
    }
   ],
   "source": [
    "cust = cust_data[cust_data['TARGET'] == 0]\n",
    "cust_overdue = cust_data[cust_data['TARGET'] == 1]     # 연체자\n",
    "\n",
    "print(cust.shape[0])\n",
    "print(cust_overdue.shape[0])"
   ]
  },
  {
   "cell_type": "code",
   "execution_count": 6,
   "metadata": {
    "collapsed": false
   },
   "outputs": [
    {
     "data": {
      "text/plain": [
       "Index(['ACTL_FMLY_NUM', 'AGE', 'ARPU', 'AUTR_FAIL_MCNT', 'AVG_CALL_FREQ',\n",
       "       'AVG_CALL_TIME', 'AVG_STLN_RATE', 'CB_GUIF_AMT', 'CB_GUIF_CNT',\n",
       "       'CNTT_LAMT_CNT',\n",
       "       ...\n",
       "       'MATE_OCCP_NAME_C_07', 'MATE_OCCP_NAME_C_08', 'MATE_OCCP_NAME_C_09',\n",
       "       'MATE_OCCP_NAME_C_10', 'MATE_OCCP_NAME_C_11', 'MATE_OCCP_NAME_C_12',\n",
       "       'MATE_OCCP_NAME_C_13', 'MATE_OCCP_NAME_C_14', 'MATE_OCCP_NAME_C_15',\n",
       "       'MATE_OCCP_NAME_C_16'],\n",
       "      dtype='object', length=125)"
      ]
     },
     "execution_count": 6,
     "metadata": {},
     "output_type": "execute_result"
    }
   ],
   "source": [
    "variables = cust_data.drop('TARGET', 1).columns\n",
    "variables"
   ]
  },
  {
   "cell_type": "markdown",
   "metadata": {},
   "source": [
    "### ML modeling"
   ]
  },
  {
   "cell_type": "code",
   "execution_count": 10,
   "metadata": {
    "collapsed": false
   },
   "outputs": [
    {
     "name": "stdout",
     "output_type": "stream",
     "text": [
      "연체자 수 train : 3439 / 80186\n",
      "연체자 수 test  : 848 / 20047\n"
     ]
    }
   ],
   "source": [
    "# train / test set 분리\n",
    "x = cust_data.drop('TARGET', axis=1)\n",
    "y = cust_data['TARGET']\n",
    "\n",
    "x_train, x_test, y_train, y_test = train_test_split(x, y, test_size=0.2, random_state=0)\n",
    "\n",
    "print('연체자 수 train : {} / {}'.format(sum(y_train == 1), y_train.shape[0]))\n",
    "print('연체자 수 test  : {} / {}'.format(sum(y_test  == 1), y_test.shape[0]))"
   ]
  },
  {
   "cell_type": "code",
   "execution_count": 11,
   "metadata": {
    "collapsed": false
   },
   "outputs": [
    {
     "name": "stdout",
     "output_type": "stream",
     "text": [
      "(3439, 125)\n",
      "(3439,)\n"
     ]
    }
   ],
   "source": [
    "# train set 중에서 연체자만 추출\n",
    "x_overdue = x_train[y_train == 1]\n",
    "y_overdue = y_train[y_train == 1]\n",
    "print(x_overdue.shape)\n",
    "print(y_overdue.shape)"
   ]
  },
  {
   "cell_type": "code",
   "execution_count": 12,
   "metadata": {
    "collapsed": false,
    "scrolled": false
   },
   "outputs": [
    {
     "name": "stdout",
     "output_type": "stream",
     "text": [
      "=========================================  0\n",
      "confusion matrix\n",
      "[[14757   561]\n",
      " [  523   197]]\n",
      "accuracy : 0.932\n",
      "precision : 0.26\n",
      "recall : 0.274\n",
      "F1 : 0.267\n",
      "    importance              var\n",
      "78    0.062590      PAYM_METD_G\n",
      "14    0.053831    CRDT_CARD_CNT\n",
      "54    0.043811  SPTCT_OCCR_MDIF\n",
      "17    0.031038   CRDT_OCCR_MDIF\n",
      "58    0.026946     TEL_CNTT_QTR\n",
      "49    0.024513        MOBL_PRIN\n",
      "64    0.024307     TOT_LOAN_CNT\n",
      "4     0.024043    AVG_CALL_FREQ\n",
      "34    0.023324   HSHD_INFR_INCM\n",
      "63    0.021932     TOT_LNIF_AMT\n",
      "------------------------\n",
      "=========================================  1\n",
      "confusion matrix\n",
      "[[14667   643]\n",
      " [  204  1211]]\n",
      "accuracy : 0.949\n",
      "precision : 0.653\n",
      "recall : 0.856\n",
      "F1 : 0.741\n",
      "    importance              var\n",
      "52    0.105835   OVDU_HIGH_RATE\n",
      "14    0.071197    CRDT_CARD_CNT\n",
      "54    0.042488  SPTCT_OCCR_MDIF\n",
      "17    0.033798   CRDT_OCCR_MDIF\n",
      "49    0.032815        MOBL_PRIN\n",
      "64    0.030066     TOT_LOAN_CNT\n",
      "34    0.028847   HSHD_INFR_INCM\n",
      "63    0.023212     TOT_LNIF_AMT\n",
      "1     0.023045              AGE\n",
      "5     0.022354    AVG_CALL_TIME\n",
      "------------------------\n",
      "=========================================  2\n",
      "confusion matrix\n",
      "[[14675   643]\n",
      " [   72  2023]]\n",
      "accuracy : 0.959\n",
      "precision : 0.759\n",
      "recall : 0.966\n",
      "F1 : 0.85\n",
      "    importance              var\n",
      "52    0.126202   OVDU_HIGH_RATE\n",
      "14    0.091344    CRDT_CARD_CNT\n",
      "54    0.044948  SPTCT_OCCR_MDIF\n",
      "17    0.037062   CRDT_OCCR_MDIF\n",
      "49    0.029263        MOBL_PRIN\n",
      "64    0.026325     TOT_LOAN_CNT\n",
      "63    0.025848     TOT_LNIF_AMT\n",
      "34    0.024611   HSHD_INFR_INCM\n",
      "5     0.022811    AVG_CALL_TIME\n",
      "4     0.022637    AVG_CALL_FREQ\n",
      "------------------------\n",
      "=========================================  3\n",
      "confusion matrix\n",
      "[[14769   592]\n",
      " [   16  2724]]\n",
      "accuracy : 0.966\n",
      "precision : 0.821\n",
      "recall : 0.994\n",
      "F1 : 0.9\n",
      "    importance              var\n",
      "52    0.148739   OVDU_HIGH_RATE\n",
      "14    0.106566    CRDT_CARD_CNT\n",
      "54    0.046647  SPTCT_OCCR_MDIF\n",
      "17    0.036770   CRDT_OCCR_MDIF\n",
      "64    0.034253     TOT_LOAN_CNT\n",
      "63    0.030447     TOT_LNIF_AMT\n",
      "49    0.027102        MOBL_PRIN\n",
      "4     0.022239    AVG_CALL_FREQ\n",
      "58    0.020915     TEL_CNTT_QTR\n",
      "5     0.019654    AVG_CALL_TIME\n",
      "------------------------\n",
      "=========================================  4\n",
      "confusion matrix\n",
      "[[14750   636]\n",
      " [    0  3403]]\n",
      "accuracy : 0.966\n",
      "precision : 0.843\n",
      "recall : 1.0\n",
      "F1 : 0.915\n",
      "    importance              var\n",
      "52    0.158849   OVDU_HIGH_RATE\n",
      "14    0.115377    CRDT_CARD_CNT\n",
      "54    0.045249  SPTCT_OCCR_MDIF\n",
      "64    0.035945     TOT_LOAN_CNT\n",
      "17    0.035624   CRDT_OCCR_MDIF\n",
      "63    0.023977     TOT_LNIF_AMT\n",
      "49    0.023924        MOBL_PRIN\n",
      "37    0.022757     LOW_AMT_RATE\n",
      "58    0.021680     TEL_CNTT_QTR\n",
      "5     0.019804    AVG_CALL_TIME\n",
      "------------------------\n",
      "=========================================  5\n",
      "confusion matrix\n",
      "[[14700   616]\n",
      " [    0  4161]]\n",
      "accuracy : 0.968\n",
      "precision : 0.871\n",
      "recall : 1.0\n",
      "F1 : 0.931\n",
      "    importance              var\n",
      "52    0.169063   OVDU_HIGH_RATE\n",
      "14    0.123044    CRDT_CARD_CNT\n",
      "54    0.042115  SPTCT_OCCR_MDIF\n",
      "64    0.037604     TOT_LOAN_CNT\n",
      "17    0.031107   CRDT_OCCR_MDIF\n",
      "63    0.030214     TOT_LNIF_AMT\n",
      "49    0.025345        MOBL_PRIN\n",
      "5     0.022726    AVG_CALL_TIME\n",
      "4     0.022199    AVG_CALL_FREQ\n",
      "58    0.019273     TEL_CNTT_QTR\n",
      "------------------------\n",
      "=========================================  6\n",
      "confusion matrix\n",
      "[[14726   664]\n",
      " [    0  4774]]\n",
      "accuracy : 0.967\n",
      "precision : 0.878\n",
      "recall : 1.0\n",
      "F1 : 0.935\n",
      "    importance              var\n",
      "52    0.175504   OVDU_HIGH_RATE\n",
      "14    0.126601    CRDT_CARD_CNT\n",
      "64    0.043739     TOT_LOAN_CNT\n",
      "54    0.040832  SPTCT_OCCR_MDIF\n",
      "17    0.030461   CRDT_OCCR_MDIF\n",
      "63    0.029375     TOT_LNIF_AMT\n",
      "5     0.022655    AVG_CALL_TIME\n",
      "49    0.022232        MOBL_PRIN\n",
      "1     0.020764              AGE\n",
      "36    0.020657         LNIF_CNT\n",
      "------------------------\n",
      "=========================================  7\n",
      "confusion matrix\n",
      "[[14691   658]\n",
      " [    0  5503]]\n",
      "accuracy : 0.968\n",
      "precision : 0.893\n",
      "recall : 1.0\n",
      "F1 : 0.944\n",
      "    importance              var\n",
      "52    0.179717   OVDU_HIGH_RATE\n",
      "14    0.131513    CRDT_CARD_CNT\n",
      "64    0.043625     TOT_LOAN_CNT\n",
      "54    0.039644  SPTCT_OCCR_MDIF\n",
      "63    0.033916     TOT_LNIF_AMT\n",
      "17    0.030893   CRDT_OCCR_MDIF\n",
      "49    0.023335        MOBL_PRIN\n",
      "36    0.022432         LNIF_CNT\n",
      "5     0.018228    AVG_CALL_TIME\n",
      "4     0.017384    AVG_CALL_FREQ\n",
      "------------------------\n",
      "=========================================  8\n",
      "confusion matrix\n",
      "[[14655   635]\n",
      " [    0  6250]]\n",
      "accuracy : 0.971\n",
      "precision : 0.908\n",
      "recall : 1.0\n",
      "F1 : 0.952\n",
      "    importance              var\n",
      "52    0.182929   OVDU_HIGH_RATE\n",
      "14    0.134463    CRDT_CARD_CNT\n",
      "64    0.046486     TOT_LOAN_CNT\n",
      "54    0.037462  SPTCT_OCCR_MDIF\n",
      "63    0.029599     TOT_LNIF_AMT\n",
      "17    0.026087   CRDT_OCCR_MDIF\n",
      "49    0.023005        MOBL_PRIN\n",
      "36    0.022488         LNIF_CNT\n",
      "5     0.021804    AVG_CALL_TIME\n",
      "34    0.020863   HSHD_INFR_INCM\n",
      "------------------------\n",
      "=========================================  9\n",
      "confusion matrix\n",
      "[[14680   622]\n",
      " [    0  6926]]\n",
      "accuracy : 0.972\n",
      "precision : 0.918\n",
      "recall : 1.0\n",
      "F1 : 0.957\n",
      "    importance              var\n",
      "52    0.186792   OVDU_HIGH_RATE\n",
      "14    0.138978    CRDT_CARD_CNT\n",
      "64    0.046125     TOT_LOAN_CNT\n",
      "54    0.038999  SPTCT_OCCR_MDIF\n",
      "17    0.027710   CRDT_OCCR_MDIF\n",
      "63    0.025090     TOT_LNIF_AMT\n",
      "37    0.023232     LOW_AMT_RATE\n",
      "49    0.022247        MOBL_PRIN\n",
      "58    0.020038     TEL_CNTT_QTR\n",
      "36    0.018966         LNIF_CNT\n",
      "------------------------\n"
     ]
    }
   ],
   "source": [
    "max_epoch = 9\n",
    "\n",
    "for i in range(max_epoch+1):\n",
    "    x2_train, x2_test, y2_train, y2_test = train_test_split(x_train, y_train, test_size=0.2, random_state=0)\n",
    "    \n",
    "    print('========================================= ', i)\n",
    "#     print('test {} : test overdue {}'.format(y2_test.shape[0], sum(y2_test == 1)))\n",
    "#     print('')\n",
    "    \n",
    "    clf = DecisionTreeClassifier()\n",
    "#     clf = GradientBoostingClassifier(n_estimators=500, random_state=0)\n",
    "    \n",
    "    clf.fit(x2_train, y2_train)\n",
    "    \n",
    "    y_pred = clf.predict(x2_test)\n",
    "    model_performance(y2_test, y_pred)\n",
    "    \n",
    "    varDic = {'var':variables, 'importance':clf.feature_importances_}\n",
    "    importance = pd.DataFrame(varDic)\n",
    "    print(importance.sort_values(by='importance', ascending=False).head(10))\n",
    "\n",
    "    x_train = pd.concat([x_train, x_overdue])\n",
    "    y_train = pd.concat([y_train, y_overdue])\n",
    "\n",
    "#     if i == max_epoch:\n",
    "#     print('------------------------')\n",
    "#     y_pred_0 = clf.predict(x_test)\n",
    "#     model_performance(y_test, y_pred_0)\n",
    "    print('------------------------')"
   ]
  },
  {
   "cell_type": "code",
   "execution_count": null,
   "metadata": {
    "collapsed": true
   },
   "outputs": [],
   "source": []
  },
  {
   "cell_type": "code",
   "execution_count": null,
   "metadata": {
    "collapsed": true
   },
   "outputs": [],
   "source": []
  },
  {
   "cell_type": "code",
   "execution_count": null,
   "metadata": {
    "collapsed": true
   },
   "outputs": [],
   "source": []
  },
  {
   "cell_type": "code",
   "execution_count": null,
   "metadata": {
    "collapsed": true
   },
   "outputs": [],
   "source": []
  },
  {
   "cell_type": "code",
   "execution_count": null,
   "metadata": {
    "collapsed": true
   },
   "outputs": [],
   "source": []
  },
  {
   "cell_type": "code",
   "execution_count": null,
   "metadata": {
    "collapsed": true
   },
   "outputs": [],
   "source": []
  },
  {
   "cell_type": "code",
   "execution_count": null,
   "metadata": {
    "collapsed": true
   },
   "outputs": [],
   "source": []
  },
  {
   "cell_type": "code",
   "execution_count": null,
   "metadata": {
    "collapsed": true
   },
   "outputs": [],
   "source": []
  },
  {
   "cell_type": "code",
   "execution_count": null,
   "metadata": {
    "collapsed": true
   },
   "outputs": [],
   "source": [
    "\n"
   ]
  },
  {
   "cell_type": "code",
   "execution_count": null,
   "metadata": {
    "collapsed": true
   },
   "outputs": [],
   "source": []
  },
  {
   "cell_type": "code",
   "execution_count": null,
   "metadata": {
    "collapsed": true
   },
   "outputs": [],
   "source": []
  },
  {
   "cell_type": "code",
   "execution_count": null,
   "metadata": {
    "collapsed": true
   },
   "outputs": [],
   "source": []
  },
  {
   "cell_type": "code",
   "execution_count": null,
   "metadata": {
    "collapsed": true
   },
   "outputs": [],
   "source": []
  }
 ],
 "metadata": {
  "anaconda-cloud": {},
  "kernelspec": {
   "display_name": "Python [conda root]",
   "language": "python",
   "name": "conda-root-py"
  },
  "language_info": {
   "codemirror_mode": {
    "name": "ipython",
    "version": 3
   },
   "file_extension": ".py",
   "mimetype": "text/x-python",
   "name": "python",
   "nbconvert_exporter": "python",
   "pygments_lexer": "ipython3",
   "version": "3.5.2"
  }
 },
 "nbformat": 4,
 "nbformat_minor": 1
}
