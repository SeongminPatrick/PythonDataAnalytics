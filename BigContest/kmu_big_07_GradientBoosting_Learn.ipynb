{
 "cells": [
  {
   "cell_type": "code",
   "execution_count": 10,
   "metadata": {
    "collapsed": false
   },
   "outputs": [],
   "source": [
    "import pandas as pd\n",
    "import numpy as np\n",
    "from sklearn.model_selection import train_test_split\n",
    "from sklearn import metrics\n",
    "from sklearn.tree import DecisionTreeClassifier\n",
    "from sklearn.ensemble import GradientBoostingClassifier\n",
    "from sklearn import model_selection"
   ]
  },
  {
   "cell_type": "code",
   "execution_count": 11,
   "metadata": {
    "collapsed": false
   },
   "outputs": [
    {
     "data": {
      "text/plain": [
       "(100233, 126)"
      ]
     },
     "execution_count": 11,
     "metadata": {},
     "output_type": "execute_result"
    }
   ],
   "source": [
    "cust_data = pd.read_csv('data_transform.csv')\n",
    "cust_data.shape"
   ]
  },
  {
   "cell_type": "markdown",
   "metadata": {},
   "source": [
    "### 필요없는 컬럼 삭제"
   ]
  },
  {
   "cell_type": "code",
   "execution_count": 12,
   "metadata": {
    "collapsed": false
   },
   "outputs": [],
   "source": [
    "cust_data = cust_data.drop(['MON_TLFE_AMT','SVINS_MON_PREM','MAX_MON_PREM','STLN_REMN_AMT','GDINS_MON_PREM','AVG_STLN_RATE',\n",
    "                            'FMLY_SVINS_MNPREM','CRLN_OVDU_RATE','FMLY_GDINS_MNPREM','TOT_CRLN_AMT','MIN_CNTT_DATE','ARPU',\n",
    "                            'CRDT_LOAN_CNT','LT1Y_STLN_AMT','TOT_REPY_AMT','CUST_JOB_INCM','FMLY_CLAM_CNT','TEL_CNTT_QTR',\n",
    "                            'ACTL_FMLY_NUM','CUST_FMLY_NUM','HSHD_INFR_INCM','MATE_JOB_INCM','FMLY_TOT_PREM','FYCM_PAID_AMT',\n",
    "                            'AVG_CALL_FREQ','TOT_PREM'\n",
    "                           ], axis=1)"
   ]
  },
  {
   "cell_type": "code",
   "execution_count": 13,
   "metadata": {
    "collapsed": true
   },
   "outputs": [],
   "source": [
    "# selected_var = ['TARGET','OVDU_HIGH_RATE','CRDT_CARD_CNT','AUTR_FAIL_MCNT','MATE_OCCP_NAME_C_02','MATE_OCCP_NAME_C_03',\n",
    "#                 'MATE_OCCP_NAME_C_09','MATE_OCCP_NAME_C_13','MATE_OCCP_NAME_C_16']\n",
    "# cust_l1_data = cust_data[selected_var]\n",
    "# cust_l1_data.head()"
   ]
  },
  {
   "cell_type": "code",
   "execution_count": 14,
   "metadata": {
    "collapsed": true
   },
   "outputs": [],
   "source": [
    "def model_performance(y_test, y_pred):    \n",
    "    print('confusion matrix')\n",
    "    print(metrics.confusion_matrix(y_test, y_pred))\n",
    "    print('accuracy : {}'.format(metrics.accuracy_score(y_test, y_pred).round(3)))\n",
    "    print('precision : {}'.format(metrics.precision_score(y_test, y_pred, pos_label=1).round(3)))\n",
    "    print('recall : {}'.format(metrics.recall_score(y_test, y_pred, pos_label=1).round(3)))\n",
    "    print('F1 : {}'.format(metrics.f1_score(y_test, y_pred, pos_label=1).round(3)))"
   ]
  },
  {
   "cell_type": "markdown",
   "metadata": {},
   "source": [
    "### ML modeling"
   ]
  },
  {
   "cell_type": "code",
   "execution_count": 15,
   "metadata": {
    "collapsed": false
   },
   "outputs": [
    {
     "name": "stdout",
     "output_type": "stream",
     "text": [
      "연체자 수 train : 3439 / 80186\n",
      "연체자 수 test  : 848 / 20047\n"
     ]
    }
   ],
   "source": [
    "# train / test set 분리\n",
    "x = cust_data.drop('TARGET', axis=1)\n",
    "y = cust_data['TARGET']\n",
    "\n",
    "x_train, x_test, y_train, y_test = train_test_split(x, y, test_size=0.2, random_state=0)\n",
    "\n",
    "print('연체자 수 train : {} / {}'.format(sum(y_train == 1), y_train.shape[0]))\n",
    "print('연체자 수 test  : {} / {}'.format(sum(y_test  == 1), y_test.shape[0]))"
   ]
  },
  {
   "cell_type": "code",
   "execution_count": 16,
   "metadata": {
    "collapsed": false
   },
   "outputs": [
    {
     "name": "stdout",
     "output_type": "stream",
     "text": [
      "(3439, 99)\n",
      "(3439,)\n"
     ]
    }
   ],
   "source": [
    "# train set 중에서 연체자만 추출\n",
    "x_overdue = x_train[y_train == 1]\n",
    "y_overdue = y_train[y_train == 1]\n",
    "print(x_overdue.shape)\n",
    "print(y_overdue.shape)"
   ]
  },
  {
   "cell_type": "code",
   "execution_count": 17,
   "metadata": {
    "collapsed": true
   },
   "outputs": [],
   "source": [
    "clf = GradientBoostingClassifier(n_estimators=500)\n",
    "clf_0 = GradientBoostingClassifier(n_estimators=500)\n",
    "clf_1 = GradientBoostingClassifier(n_estimators=500)"
   ]
  },
  {
   "cell_type": "code",
   "execution_count": 19,
   "metadata": {
    "collapsed": false,
    "scrolled": false
   },
   "outputs": [
    {
     "name": "stdout",
     "output_type": "stream",
     "text": [
      "=========================================  0\n",
      "confusion matrix\n",
      "[[18395   804]\n",
      " [  372   476]]\n",
      "accuracy : 0.941\n",
      "precision : 0.372\n",
      "recall : 0.561\n",
      "F1 : 0.447\n",
      "=========================================  1\n",
      "confusion matrix\n",
      "[[18262   937]\n",
      " [  340   508]]\n",
      "accuracy : 0.936\n",
      "precision : 0.352\n",
      "recall : 0.599\n",
      "F1 : 0.443\n",
      "confusion matrix\n",
      "[[18262   937]\n",
      " [  340   508]]\n",
      "accuracy : 0.936\n",
      "precision : 0.352\n",
      "recall : 0.599\n",
      "F1 : 0.443\n",
      "confusion matrix\n",
      "[[18917   282]\n",
      " [  656   192]]\n",
      "accuracy : 0.953\n",
      "precision : 0.405\n",
      "recall : 0.226\n",
      "F1 : 0.29\n",
      "confusion matrix\n",
      "[[ 3239 15960]\n",
      " [   64   784]]\n",
      "accuracy : 0.201\n",
      "precision : 0.047\n",
      "recall : 0.925\n",
      "F1 : 0.089\n",
      "20047\n",
      "20047\n",
      "20047\n"
     ]
    }
   ],
   "source": [
    "max_epoch = 1\n",
    "\n",
    "for i in range(max_epoch+1):\n",
    "    x2_train, x2_test, y2_train, y2_test = train_test_split(x_train, y_train, test_size=0.2, random_state=0)\n",
    "    \n",
    "    print('========================================= ', i)\n",
    "    \n",
    "    clf.fit(x2_train, y2_train)\n",
    "\n",
    "    y_pred_f = clf.predict(x_test)\n",
    "    model_performance(y_test, y_pred_f)\n",
    "\n",
    "    # 연체자 duplicate\n",
    "    x_train = pd.concat([x_train, x_overdue])\n",
    "    y_train = pd.concat([y_train, y_overdue])\n",
    "\n",
    "    if i == max_epoch :\n",
    "        y_pred = clf.predict(x_train)\n",
    "\n",
    "        x3_train_0 = x_train[y_pred == 0]\n",
    "        y3_train_0 = y_train[y_pred == 0]\n",
    "\n",
    "        x3_train_1 = x_train[y_pred == 1]\n",
    "        y3_train_1 = y_train[y_pred == 1]\n",
    "\n",
    "        clf_0.fit(x3_train_0, y3_train_0)\n",
    "        clf_1.fit(x3_train_1, y3_train_1)\n",
    "\n",
    "        y_pred = clf.predict(x_test)\n",
    "        model_performance(y_test, y_pred)\n",
    "\n",
    "        y_pred_0 = clf_0.predict(x_test)\n",
    "        model_performance(y_test, y_pred_0)\n",
    "\n",
    "        y_pred_1 = clf_1.predict(x_test)\n",
    "        model_performance(y_test, y_pred_1)\n",
    "\n",
    "        print(y_pred.shape[0])\n",
    "        print(y_pred_0.shape[0])\n",
    "        print(y_pred_1.shape[0])"
   ]
  },
  {
   "cell_type": "code",
   "execution_count": null,
   "metadata": {
    "collapsed": true
   },
   "outputs": [],
   "source": []
  },
  {
   "cell_type": "code",
   "execution_count": null,
   "metadata": {
    "collapsed": true
   },
   "outputs": [],
   "source": []
  }
 ],
 "metadata": {
  "anaconda-cloud": {},
  "kernelspec": {
   "display_name": "Python [conda root]",
   "language": "python",
   "name": "conda-root-py"
  },
  "language_info": {
   "codemirror_mode": {
    "name": "ipython",
    "version": 3
   },
   "file_extension": ".py",
   "mimetype": "text/x-python",
   "name": "python",
   "nbconvert_exporter": "python",
   "pygments_lexer": "ipython3",
   "version": "3.5.2"
  }
 },
 "nbformat": 4,
 "nbformat_minor": 1
}
