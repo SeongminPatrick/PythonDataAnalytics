{
 "cells": [
  {
   "cell_type": "markdown",
   "metadata": {},
   "source": [
    "00분에 한 번씩 휴식 시간 알림"
   ]
  },
  {
   "cell_type": "code",
   "execution_count": 14,
   "metadata": {
    "collapsed": true
   },
   "outputs": [],
   "source": [
    "import webbrowser\n",
    "import time"
   ]
  },
  {
   "cell_type": "code",
   "execution_count": 21,
   "metadata": {
    "collapsed": true
   },
   "outputs": [],
   "source": [
    "total = 3\n",
    "count = 0"
   ]
  },
  {
   "cell_type": "code",
   "execution_count": 22,
   "metadata": {
    "collapsed": false
   },
   "outputs": [
    {
     "name": "stdout",
     "output_type": "stream",
     "text": [
      "Start on : Sun Feb 19 21:21:09 2017\n",
      "Start on : Sun Feb 19 21:21:19 2017\n",
      "Start on : Sun Feb 19 21:21:29 2017\n"
     ]
    }
   ],
   "source": [
    "while(count < total):\n",
    "    print(\"Start on : \" + time.ctime())\n",
    "    time.sleep(10)\n",
    "    webbrowser.open(\"https://www.youtube.com/watch?v=5iSlfF8TQ9k\")\n",
    "    count = count + 1"
   ]
  },
  {
   "cell_type": "markdown",
   "metadata": {
    "collapsed": true
   },
   "source": [
    "====================================="
   ]
  },
  {
   "cell_type": "markdown",
   "metadata": {},
   "source": [
    "이미지를 파일명순으로 정렬하면 나오는 시크릿 메시지"
   ]
  },
  {
   "cell_type": "code",
   "execution_count": 1,
   "metadata": {
    "collapsed": true
   },
   "outputs": [],
   "source": [
    "import os\n",
    "import re"
   ]
  },
  {
   "cell_type": "code",
   "execution_count": 2,
   "metadata": {
    "collapsed": true
   },
   "outputs": [],
   "source": [
    "def rename_files():\n",
    "    # 1. 폴더에서 파일명 가져오기\n",
    "    cwd = os.getcwd()\n",
    "    print(cwd)\n",
    "    \n",
    "    file_path = cwd + \"\\\\prank\"\n",
    "    file_list = os.listdir(file_path)\n",
    "    os.chdir(file_path)\n",
    "    \n",
    "    # 2. rename filename\n",
    "    for fname in file_list:\n",
    "        new_fname = re.sub('[^A-z.]', '', fname)\n",
    "        os.rename(fname, new_fname)\n",
    "        \n",
    "    os.chdir(cwd)\n",
    "    print(\"Done\")"
   ]
  },
  {
   "cell_type": "code",
   "execution_count": 3,
   "metadata": {
    "collapsed": false
   },
   "outputs": [
    {
     "name": "stdout",
     "output_type": "stream",
     "text": [
      "c:\\Python_DataAnalysis\\Udacity\\PythonBasics\n",
      "Done\n"
     ]
    }
   ],
   "source": [
    "rename_files()"
   ]
  },
  {
   "cell_type": "code",
   "execution_count": 31,
   "metadata": {
    "collapsed": false
   },
   "outputs": [
    {
     "data": {
      "text/plain": [
       "'cairo.jpg'"
      ]
     },
     "execution_count": 31,
     "metadata": {},
     "output_type": "execute_result"
    }
   ],
   "source": [
    "# 문자열에서 숫자만 제거\n",
    "fname = \"17cairo.jpg\"\n",
    "fname = re.sub('[^A-z.]', '', fname)\n",
    "fname"
   ]
  },
  {
   "cell_type": "markdown",
   "metadata": {
    "collapsed": true
   },
   "source": [
    "====================================="
   ]
  },
  {
   "cell_type": "markdown",
   "metadata": {},
   "source": [
    "Send Text Messages"
   ]
  },
  {
   "cell_type": "code",
   "execution_count": 3,
   "metadata": {
    "collapsed": false
   },
   "outputs": [],
   "source": [
    "from twilio.rest import TwilioRestClient"
   ]
  }
 ],
 "metadata": {
  "anaconda-cloud": {},
  "kernelspec": {
   "display_name": "Python [default]",
   "language": "python",
   "name": "python3"
  },
  "language_info": {
   "codemirror_mode": {
    "name": "ipython",
    "version": 3
   },
   "file_extension": ".py",
   "mimetype": "text/x-python",
   "name": "python",
   "nbconvert_exporter": "python",
   "pygments_lexer": "ipython3",
   "version": "3.5.2"
  }
 },
 "nbformat": 4,
 "nbformat_minor": 1
}
