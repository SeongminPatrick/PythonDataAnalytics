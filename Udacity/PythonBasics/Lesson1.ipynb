{
 "cells": [
  {
   "cell_type": "markdown",
   "metadata": {},
   "source": [
    "00분에 한 번씩 휴식 시간 알림"
   ]
  },
  {
   "cell_type": "code",
   "execution_count": 14,
   "metadata": {
    "collapsed": true
   },
   "outputs": [],
   "source": [
    "import webbrowser\n",
    "import time"
   ]
  },
  {
   "cell_type": "code",
   "execution_count": 21,
   "metadata": {
    "collapsed": true
   },
   "outputs": [],
   "source": [
    "total = 3\n",
    "count = 0"
   ]
  },
  {
   "cell_type": "code",
   "execution_count": 22,
   "metadata": {
    "collapsed": false
   },
   "outputs": [
    {
     "name": "stdout",
     "output_type": "stream",
     "text": [
      "Start on : Sun Feb 19 21:21:09 2017\n",
      "Start on : Sun Feb 19 21:21:19 2017\n",
      "Start on : Sun Feb 19 21:21:29 2017\n"
     ]
    }
   ],
   "source": [
    "while(count < total):\n",
    "    print(\"Start on : \" + time.ctime())\n",
    "    time.sleep(10)\n",
    "    webbrowser.open(\"https://www.youtube.com/watch?v=5iSlfF8TQ9k\")\n",
    "    count = count + 1"
   ]
  },
  {
   "cell_type": "markdown",
   "metadata": {
    "collapsed": true
   },
   "source": [
    "====================================="
   ]
  },
  {
   "cell_type": "markdown",
   "metadata": {},
   "source": [
    "이미지를 파일명순으로 정렬하면 나오는 시크릿 메시지"
   ]
  },
  {
   "cell_type": "code",
   "execution_count": 2,
   "metadata": {
    "collapsed": true
   },
   "outputs": [],
   "source": [
    "import os"
   ]
  },
  {
   "cell_type": "code",
   "execution_count": 3,
   "metadata": {
    "collapsed": true
   },
   "outputs": [],
   "source": [
    "def rename_files():\n",
    "    # 1. 폴더에서 파일명 가져오기\n",
    "    file_list = os.listdir(\"prank\")\n",
    "    print(file_list)\n",
    "    # 2. rename filename\n",
    "    "
   ]
  },
  {
   "cell_type": "code",
   "execution_count": 4,
   "metadata": {
    "collapsed": false
   },
   "outputs": [
    {
     "name": "stdout",
     "output_type": "stream",
     "text": [
      "['16los angeles.jpg', '17cairo.jpg', '22rochester.jpg', '25madrid.jpg', '28houston.jpg', '29bristol.jpg', '29buenos aires.jpg', '2chennai.jpg', '2hyderabad.jpg', '35miami.jpg', '36sydney.jpg', '37athens.jpg', '41seoul.jpg', '45austin.jpg', '45ithaca.jpg', '46colombo.jpg', '47london.jpg', '47sao paulo.jpg', '47singapore.jpg', '48sunnyvale.jpg', '4istanbul.jpg', '50san diego.jpg', '52new york.jpg', '54dallas.jpg', '55kiev.jpg', '5bogota.jpg', '61edinbrugh.jpg', '64seattle.jpg', '66san jose.jpg', '68pune.jpg', '69chicago.jpg', '69shanghai.jpg', '72bangalore.jpg', '72bucharest.jpg', '73delhi.jpg', '74tel aviv.jpg', '83gainesville.jpg', '88jacksonville.jpg', '89berkeley.jpg', '90beijing.jpg', '93manchester.jpg', '96karachi.jpg', '97oakland.jpg', '9barcelona.jpg']\n"
     ]
    }
   ],
   "source": [
    "rename_files()"
   ]
  },
  {
   "cell_type": "code",
   "execution_count": null,
   "metadata": {
    "collapsed": true
   },
   "outputs": [],
   "source": []
  }
 ],
 "metadata": {
  "anaconda-cloud": {},
  "kernelspec": {
   "display_name": "Python [default]",
   "language": "python",
   "name": "python3"
  },
  "language_info": {
   "codemirror_mode": {
    "name": "ipython",
    "version": 3
   },
   "file_extension": ".py",
   "mimetype": "text/x-python",
   "name": "python",
   "nbconvert_exporter": "python",
   "pygments_lexer": "ipython3",
   "version": "3.5.2"
  }
 },
 "nbformat": 4,
 "nbformat_minor": 1
}
