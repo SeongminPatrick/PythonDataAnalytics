{
 "cells": [
  {
   "cell_type": "markdown",
   "metadata": {},
   "source": [
    "간단한 Movie Website"
   ]
  },
  {
   "cell_type": "code",
   "execution_count": 6,
   "metadata": {
    "collapsed": true
   },
   "outputs": [],
   "source": [
    "import media"
   ]
  },
  {
   "cell_type": "code",
   "execution_count": 7,
   "metadata": {
    "collapsed": true
   },
   "outputs": [],
   "source": [
    "toyStory = media.Movie(\"Toy Story\",\"Toys come to life\",\"http://www.impawards.com/1995/posters/toy_story_ver1_xlg.jpg\",\n",
    "                       \"https://www.youtube.com/watch?v=abjl8RUuM-8\")\n",
    "avatar = media.Movie(\"Avatar\",\"alien planet\",\"http://yourentertainmentnow.com/wp-content/uploads/2009/11/avatarfrenchposter-111809.jpg\",\n",
    "                    \"https://www.youtube.com/watch?v=osIUyjyXzoA\")\n",
    "hunger = media.Movie(\"Hunger Game\",\"reality show\",\"http://movie.phinf.naver.net/20131105_185/1383644515842maJk5_JPEG/movie_image.jpg\",\n",
    "                    \"https://www.youtube.com/watch?v=Bsqyejmof28\")"
   ]
  },
  {
   "cell_type": "code",
   "execution_count": 8,
   "metadata": {
    "collapsed": false
   },
   "outputs": [
    {
     "name": "stdout",
     "output_type": "stream",
     "text": [
      "Toys come to life\n"
     ]
    }
   ],
   "source": [
    "print(toyStory.story)"
   ]
  },
  {
   "cell_type": "code",
   "execution_count": 9,
   "metadata": {
    "collapsed": false
   },
   "outputs": [],
   "source": [
    "hunger.show_trailer()"
   ]
  }
 ],
 "metadata": {
  "anaconda-cloud": {},
  "kernelspec": {
   "display_name": "Python [default]",
   "language": "python",
   "name": "python3"
  },
  "language_info": {
   "codemirror_mode": {
    "name": "ipython",
    "version": 3
   },
   "file_extension": ".py",
   "mimetype": "text/x-python",
   "name": "python",
   "nbconvert_exporter": "python",
   "pygments_lexer": "ipython3",
   "version": "3.5.2"
  }
 },
 "nbformat": 4,
 "nbformat_minor": 1
}
