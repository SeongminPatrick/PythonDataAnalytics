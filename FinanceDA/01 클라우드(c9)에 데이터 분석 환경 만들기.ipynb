{
 "cells": [
  {
   "cell_type": "markdown",
   "metadata": {
    "deletable": true,
    "editable": true,
    "slideshow": {
     "slide_type": "slide"
    }
   },
   "source": [
    "### 데이터 분석 환경 만들기 \n",
    "# 클라우드 IDE (c9)\n",
    "\n",
    "<img width=\"400\" src=\"https://upload.wikimedia.org/wikipedia/commons/5/5f/Cloud9IDE.png\">\n",
    "\n",
    "#### 이승준 fb.com/plusjune"
   ]
  },
  {
   "cell_type": "markdown",
   "metadata": {
    "deletable": true,
    "editable": true,
    "slideshow": {
     "slide_type": "slide"
    }
   },
   "source": [
    "# c9.io에 계정 만들기\n",
    "* https://c9.io 계정을 생성 (무료계정)"
   ]
  },
  {
   "cell_type": "markdown",
   "metadata": {
    "deletable": true,
    "editable": true,
    "slideshow": {
     "slide_type": "slide"
    }
   },
   "source": [
    "# Workspace 생성\n",
    "1. Workspace name, Description에 적정한 문자열을 입력\n",
    "1. Choose a template 에서 Blank를 선택\n",
    "1. [Create Workspace] 선택\n",
    "\n",
    "<img width=\"400\" src=\"https://dl.dropboxusercontent.com/u/177075/images/general/c9-01.png\" align=\"left\"/> \n",
    "<img width=\"400\" src=\"https://dl.dropboxusercontent.com/u/177075/images/general/c9-creat-a-new-workspace.png\" align=\"left\"/>"
   ]
  },
  {
   "cell_type": "markdown",
   "metadata": {
    "deletable": true,
    "editable": true,
    "slideshow": {
     "slide_type": "skip"
    }
   },
   "source": [
    "# 운영체제 확인\n",
    "\n",
    "```bash\n",
    "$ uname -a\n",
    "```\n",
    "\n",
    "```\n",
    "Linux plusjune1-ipy-2355606 4.2.0-c9 #1 SMP Fri Nov 20 14:49:01 UTC 2015 x86_64 x86_64 x86_64 GNU/Linux\n",
    "```\n",
    "\n"
   ]
  },
  {
   "cell_type": "markdown",
   "metadata": {
    "deletable": true,
    "editable": true,
    "slideshow": {
     "slide_type": "slide"
    }
   },
   "source": [
    "# 우분투 설정\n",
    "```bash\n",
    "# 우분투 설치 정보 최신 업데이트\n",
    "$ sudo apt-get update\n",
    "```"
   ]
  },
  {
   "cell_type": "markdown",
   "metadata": {
    "deletable": true,
    "editable": true,
    "slideshow": {
     "slide_type": "slide"
    }
   },
   "source": [
    "# 패키지 설치\n",
    "\n",
    "```bash\n",
    "# pip 업그레이드\n",
    "$ sudo pip3 install -U pip\n",
    "$ sudo pip3 install -U setuptools\n",
    "\n",
    "# virtualenv 설치\n",
    "$ sudo pip3 install virtualenv\n",
    "\n",
    "# numpy, pandas 설치\n",
    "$ sudo pip3 install numpy\n",
    "$ sudo pip3 install cython\n",
    "$ sudo pip3 install pandas\n",
    "$ sudo pip3 install pandas_datareader\n",
    "\n",
    "# ipython, jupyter, matplotlib\n",
    "$ sudo pip3 install ipython pyzmq tornado matplotlib jinja2 pygments\n",
    "$ sudo pip3 install jupyter\n",
    "\n",
    "# requests, beautifulsoup4\n",
    "$ sudo pip3 install requests\n",
    "$ sudo pip3 install lxml\n",
    "$ sudo pip3 install beautifulsoup4\n",
    "```"
   ]
  },
  {
   "cell_type": "markdown",
   "metadata": {
    "deletable": true,
    "editable": true,
    "slideshow": {
     "slide_type": "slide"
    }
   },
   "source": [
    "# 설치 확인\n",
    "pip list 명령으로 설치된 파이썬 패키지들을 확인할 수 있다\n",
    "\n",
    "```bash\n",
    "$ pip3 list\n",
    "beautifulsoup4 (4.4.1)\n",
    "chardet (2.2.1)\n",
    "colorama (0.2.5)\n",
    "decorator (4.0.4)\n",
    "…\n",
    "```"
   ]
  },
  {
   "cell_type": "markdown",
   "metadata": {
    "deletable": true,
    "editable": true,
    "slideshow": {
     "slide_type": "slide"
    }
   },
   "source": [
    "# (참고) python3를 기본으로 사용하기\n",
    "\n",
    "```bash\n",
    "$ sudo update-alternatives --install /usr/bin/python python /usr/bin/python3.4.3\n",
    "$ alias python=python3\n",
    "```"
   ]
  },
  {
   "cell_type": "markdown",
   "metadata": {
    "deletable": true,
    "editable": true,
    "slideshow": {
     "slide_type": "slide"
    }
   },
   "source": [
    "# jupyter notebook 서버 실행\n",
    "c9.io 터미널에서 jupyter notebook 를 실행한다. (브라우저 없이 서버로 실행)\n",
    "\n",
    "```bash\n",
    "$ jupyter notebook --ip=0.0.0.0 --port=8080 --no-browser\n",
    "```"
   ]
  },
  {
   "cell_type": "markdown",
   "metadata": {
    "deletable": true,
    "editable": true,
    "slideshow": {
     "slide_type": "slide"
    }
   },
   "source": [
    "# 브라우저에서 접속\n",
    "\n",
    "jupyter notebook 서버의 URL을 확인 한다 <br/> (메뉴의 Preview > Preview Running Application 선택) \n",
    "\n",
    "<img width=\"600\" src=\"https://db.tt/Ly2uzmFA\" > \n",
    "\n",
    "* 브라우저에서 별도 탭을 열고 jupyter notebook 서버의 URL을 입력 \n",
    "* URL은 일반적으로 \"http:// workspace 이름 + 계정 그리고 c9user.io\" <br/>(예: http://jupyter-notebook-plusjune.c9users.io/ )\n",
    "* 다음과 같은 화면에 나온다면 성공\n",
    "\n",
    "<img src=\"https://db.tt/XUUKTpNy\" />"
   ]
  },
  {
   "cell_type": "markdown",
   "metadata": {
    "deletable": true,
    "editable": true,
    "slideshow": {
     "slide_type": "slide"
    }
   },
   "source": [
    "# 토큰 인증\n",
    "\n",
    "<img src=\"http://i.imgur.com/gSzITRs.png\" >\n",
    "    \n",
    "다음과 같이 명령을 입력하여 표시되는 다음 내용 중 토큰(token) 부분만 복사하여 입력\n",
    "\n",
    "```bash\n",
    "$ jupyter notebook list\n",
    "Currently running servers:\n",
    "http://0.0.0.0:8080/?token=8bb77bd37304a54f770cb9f8b8374bdcd6a552284bd9b7ba :: /home/ubuntu/workspace\n",
    "```\n",
    "                \n",
    "아래와 같은 URL을 사용할 수 도 있다.\n",
    "\n",
    "```bash\n",
    "http://your-server:8080/?token=8bb77bd37304a54f770cb9f8b8374bdcd6a552284bd9b7ba\n",
    "```\n",
    "\n",
    "1회만 입력하면 토큰이 만료되기 전까지 다시 물어보지 않는다."
   ]
  },
  {
   "cell_type": "markdown",
   "metadata": {
    "deletable": true,
    "editable": true,
    "slideshow": {
     "slide_type": "skip"
    }
   },
   "source": [
    "# (참고) jupyter notebook 실행시 텍스트 화면\n",
    "다음과 같이 명령하여 jupyter notebook 을 실행했을 때,\n",
    "\n",
    "```bash\n",
    "$ jupyter notebook --ip=0.0.0.0 --port=8080\n",
    "```\n",
    "다음과 같은 화면이 표시된다면, (신버전에서 만 보입니다)\n",
    "q, y 를 차례로 눌러 이 화면(lynx)을 종료하고 진행합니다. 아예 안뜨도록 하려면 다음과 같이 명령을 씁니다.\n",
    "\n",
    "```bash\n",
    "$ jupyter notebook --ip=0.0.0.0 --port=8080 --no-browser\n",
    "```\n",
    "\n",
    "참고로, 이 화면은 링크스(Lynx)라는 텍스트 브라우저 화면입니다. jupyter notebook이 실행되면서 실행된 컴퓨터에 있는 기본 브라우저를 띄워준 것인데, 별도 브라우저가 설치되지 않아서 기본 텍스트 브라우저인 링스(Lynx) 가 실행된 것입니다.\n",
    "\n",
    "<img align=\"left\"  width=\"380\" src=\"https://db.tt/AheS7NbV\" />"
   ]
  },
  {
   "cell_type": "markdown",
   "metadata": {
    "deletable": true,
    "editable": true,
    "slideshow": {
     "slide_type": "notes"
    }
   },
   "source": [
    "# 참고 자료\n",
    "* [[FAQ] Jupyter Notebook 실행시 토큰을 입력하라고 나옵니다](https://financedata.github.io/posts/jupyter-notebook-authentication.html )\n",
    "* [[FAQ] pip로 패키지 설치가 되지 않습니다](https://financedata.github.io/posts/faq_pip_packge_fail.html)"
   ]
  }
 ],
 "metadata": {
  "anaconda-cloud": {},
  "celltoolbar": "Slideshow",
  "kernelspec": {
   "display_name": "Python [default]",
   "language": "python",
   "name": "python3"
  },
  "language_info": {
   "codemirror_mode": {
    "name": "ipython",
    "version": 3
   },
   "file_extension": ".py",
   "mimetype": "text/x-python",
   "name": "python",
   "nbconvert_exporter": "python",
   "pygments_lexer": "ipython3",
   "version": "3.5.2"
  }
 },
 "nbformat": 4,
 "nbformat_minor": 0
}
