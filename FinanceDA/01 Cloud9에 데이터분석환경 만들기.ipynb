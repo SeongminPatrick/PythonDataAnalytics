{
 "cells": [
  {
   "cell_type": "markdown",
   "metadata": {},
   "source": [
    "# 클라우드 IDE (c9)에 데이터 분석 환경 만들기 \n",
    "\n",
    "### [참조 블로그](https://nbviewer.ipython.org/gist/FinanceData/ce2d4180328bc747b096071e8aee4225)"
   ]
  },
  {
   "cell_type": "markdown",
   "metadata": {},
   "source": [
    "## c9.io에 계정 만들기\n",
    "* https://c9.io 계정을 생성 (무료계정. HDD 2GB)"
   ]
  },
  {
   "cell_type": "markdown",
   "metadata": {},
   "source": [
    "## Workspace 생성\n",
    "1. Workspace name, Description에 적정한 문자열을 입력\n",
    "1. Choose a template 에서 Blank를 선택\n",
    "1. [Create Workspace] 선택"
   ]
  },
  {
   "cell_type": "markdown",
   "metadata": {},
   "source": [
    "## 운영체제 확인\n",
    "\n",
    "```bash\n",
    "$ uname -a\n",
    "```\n",
    "\n",
    "```\n",
    "Linux plusjune1-ipy-2355606 4.2.0-c9 #1 SMP Fri Nov 20 14:49:01 UTC 2015 x86_64 x86_64 x86_64 GNU/Linux\n",
    "```\n",
    "\n"
   ]
  },
  {
   "cell_type": "markdown",
   "metadata": {},
   "source": [
    "## 우분투 설정\n",
    "```bash\n",
    "# 우분투 설치 정보 최신 업데이트\n",
    "$ sudo apt-get update\n",
    "```"
   ]
  },
  {
   "cell_type": "markdown",
   "metadata": {},
   "source": [
    "## 필요한 패키지 설치\n",
    "\n",
    "```bash\n",
    "# pip 업그레이드\n",
    "$ sudo pip3 install -U pip\n",
    "$ sudo pip3 install -U setuptools\n",
    "\n",
    "# virtualenv 설치\n",
    "$ sudo pip3 install virtualenv\n",
    "\n",
    "# numpy, pandas 설치\n",
    "$ sudo pip3 install numpy\n",
    "$ sudo pip3 install cython\n",
    "$ sudo pip3 install pandas\n",
    "$ sudo pip3 install pandas_datareader\n",
    "\n",
    "# ipython, jupyter, matplotlib\n",
    "$ sudo pip3 install ipython pyzmq tornado matplotlib jinja2 pygments\n",
    "$ sudo pip3 install jupyter\n",
    "\n",
    "# requests, beautifulsoup4\n",
    "$ sudo pip3 install requests\n",
    "$ sudo pip3 install lxml\n",
    "$ sudo pip3 install beautifulsoup4\n",
    "```"
   ]
  },
  {
   "cell_type": "markdown",
   "metadata": {},
   "source": [
    "## 설치 확인\n",
    "\n",
    "```bash\n",
    "$ pip3 list\n",
    "beautifulsoup4 (4.4.1)\n",
    "chardet (2.2.1)\n",
    "colorama (0.2.5)\n",
    "decorator (4.0.4)\n",
    "…\n",
    "```"
   ]
  },
  {
   "cell_type": "markdown",
   "metadata": {},
   "source": [
    "## python3를 기본으로 사용하기\n",
    "\n",
    "```bash\n",
    "$ sudo update-alternatives --install /usr/bin/python python /usr/bin/python3.4.3\n",
    "$ alias python=python3\n",
    "```"
   ]
  },
  {
   "cell_type": "markdown",
   "metadata": {},
   "source": [
    "## jupyter notebook 서버 실행\n",
    "\n",
    "c9.io 터미널에서 jupyter notebook 를 실행한다. (브라우저 없이 서버로 실행)\n",
    "\n",
    "```bash\n",
    "$ jupyter notebook --ip=0.0.0.0 --port=8080 --no-browser\n",
    "```"
   ]
  },
  {
   "cell_type": "markdown",
   "metadata": {},
   "source": [
    "다음과 같이 명령을 입력하여 표시되는 다음 내용 중 토큰(token) 부분만 복사\n",
    "\n",
    "```bash\n",
    "$ jupyter notebook list\n",
    "Currently running servers:\n",
    "http://0.0.0.0:8080/?token=8bb77bd37304a54f770cb9f8b8374bdcd6a552284bd9b7ba :: /home/ubuntu/workspace\n",
    "\n",
    "(참고)                \n",
    "http://0.0.0.0:8080/?token=8bb77bd37304a54f770cb9f8b8374bdcd6a552284bd9b7ba 부분을 마우스로 클릭하면 클라이언트에서 노트북이 실행된다.\n",
    "```"
   ]
  },
  {
   "cell_type": "markdown",
   "metadata": {},
   "source": [
    "## 브라우저에서 접속\n",
    "\n",
    "jupyter notebook 서버의 URL을 확인 한다 <br/> (메뉴의 Preview > Preview Running Application 선택) \n",
    "\n",
    "\n",
    "* 브라우저에서 별도 탭을 열고 jupyter notebook 서버의 URL을 입력 \n",
    "* URL은 일반적으로 \"http:// workspace 이름 + 계정 그리고 c9user.io\" <br/>(예: http://jupyter-notebook-plusjune.c9users.io/ )\n"
   ]
  },
  {
   "cell_type": "markdown",
   "metadata": {},
   "source": [
    "# 토큰 인증\n",
    "\n",
    "<img src=\"http://i.imgur.com/gSzITRs.png\" >\n",
    "\n",
    "위에서 복사한 토큰 입력\n",
    "\n",
    "1회만 입력하면 토큰이 만료되기 전까지 다시 물어보지 않는다."
   ]
  }
 ],
 "metadata": {
  "kernelspec": {
   "display_name": "Python 3",
   "language": "python",
   "name": "python3"
  },
  "language_info": {
   "codemirror_mode": {
    "name": "ipython",
    "version": 3
   },
   "file_extension": ".py",
   "mimetype": "text/x-python",
   "name": "python",
   "nbconvert_exporter": "python",
   "pygments_lexer": "ipython3",
   "version": "3.5.2"
  }
 },
 "nbformat": 4,
 "nbformat_minor": 2
}
