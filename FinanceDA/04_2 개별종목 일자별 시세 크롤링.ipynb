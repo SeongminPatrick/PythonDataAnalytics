{
 "cells": [
  {
   "cell_type": "markdown",
   "metadata": {},
   "source": [
    "# 거래소 개별종목 일자별 시세 크롤링"
   ]
  },
  {
   "cell_type": "markdown",
   "metadata": {},
   "source": [
    "### 일자별 시세\n",
    "[링크](http://marketdata.krx.co.kr/mdi#document=040204)"
   ]
  },
  {
   "cell_type": "markdown",
   "metadata": {},
   "source": [
    "주식 - 종목정보 - 일자별 시세 - CSV 선택"
   ]
  },
  {
   "cell_type": "markdown",
   "metadata": {},
   "source": [
    "### 종목 코드"
   ]
  },
  {
   "cell_type": "markdown",
   "metadata": {},
   "source": [
    "* 거래소 단축코드 6 자리 : A035420 (네이버)\n",
    "* ISIN 코드 12 자리 : KR7035420009"
   ]
  },
  {
   "cell_type": "markdown",
   "metadata": {},
   "source": [
    "http://marketdata.krx.co.kr/contents/COM/GenerateOTP.jspx 에서 사용되는 항목"
   ]
  },
  {
   "cell_type": "markdown",
   "metadata": {},
   "source": [
    "![img](./images/04-2-1.jpg)"
   ]
  },
  {
   "cell_type": "markdown",
   "metadata": {},
   "source": [
    "### 데이터 가져오기"
   ]
  },
  {
   "cell_type": "code",
   "execution_count": 1,
   "metadata": {
    "collapsed": true
   },
   "outputs": [],
   "source": [
    "import pandas as pd\n",
    "import numpy as np\n",
    "import requests\n",
    "from io import BytesIO\n",
    "from datetime import datetime, timedelta"
   ]
  },
  {
   "cell_type": "code",
   "execution_count": 2,
   "metadata": {
    "collapsed": true
   },
   "outputs": [],
   "source": [
    "def get_daily_price(code, fromdate=None, todate=None):\n",
    "    if todate == None:\n",
    "        todate = datetime.today().strftime('%Y%m%d')   # 오늘 날짜\n",
    "\n",
    "    if fromdate == None:\n",
    "        fromdate = (datetime.today() - timedelta(days=30)).strftime('%Y%m%d')   # 30일 이전 날짜\n",
    "\n",
    "    # STEP 01: Generate OTP\n",
    "    gen_otp_url = \"http://marketdata.krx.co.kr/contents/COM/GenerateOTP.jspx\"\n",
    "    gen_otp_data = {\n",
    "        'name':'fileDown',\n",
    "        'filetype':'csv',\n",
    "        'url':'MKD/04/0402/04020100/mkd04020100t3_02',\n",
    "        'isu_cd':code,\n",
    "        'fromdate':fromdate,\n",
    "        'todate':todate,\n",
    "    }\n",
    "    \n",
    "    r = requests.post(gen_otp_url, gen_otp_data)\n",
    "    code = r.content  # 리턴받은 값을 아래 요청의 입력으로 사용.\n",
    "    \n",
    "    # STEP 02: download\n",
    "    down_url = 'http://file.krx.co.kr/download.jspx'\n",
    "    down_data = {\n",
    "        'code': code,\n",
    "    }\n",
    "    \n",
    "    r = requests.post(down_url, down_data)\n",
    "    r.encoding = \"utf-8-sig\"\n",
    "    df = pd.read_csv(BytesIO(r.content), header=0, thousands=',')\n",
    "    return df"
   ]
  },
  {
   "cell_type": "code",
   "execution_count": 3,
   "metadata": {
    "collapsed": false
   },
   "outputs": [
    {
     "data": {
      "text/html": [
       "<div>\n",
       "<table border=\"1\" class=\"dataframe\">\n",
       "  <thead>\n",
       "    <tr style=\"text-align: right;\">\n",
       "      <th></th>\n",
       "      <th>년/월/일</th>\n",
       "      <th>종가</th>\n",
       "      <th>대비</th>\n",
       "      <th>거래량(주)</th>\n",
       "      <th>거래대금(원)</th>\n",
       "      <th>시가</th>\n",
       "      <th>고가</th>\n",
       "      <th>저가</th>\n",
       "      <th>시가총액(백만)</th>\n",
       "      <th>상장주식수(주)</th>\n",
       "    </tr>\n",
       "  </thead>\n",
       "  <tbody>\n",
       "    <tr>\n",
       "      <th>0</th>\n",
       "      <td>2017/04/05</td>\n",
       "      <td>843000</td>\n",
       "      <td>-7000</td>\n",
       "      <td>99674</td>\n",
       "      <td>84156754608</td>\n",
       "      <td>857000</td>\n",
       "      <td>859000</td>\n",
       "      <td>835000</td>\n",
       "      <td>27787538</td>\n",
       "      <td>32962679</td>\n",
       "    </tr>\n",
       "    <tr>\n",
       "      <th>1</th>\n",
       "      <td>2017/04/04</td>\n",
       "      <td>850000</td>\n",
       "      <td>-23000</td>\n",
       "      <td>59594</td>\n",
       "      <td>51010262154</td>\n",
       "      <td>868000</td>\n",
       "      <td>869000</td>\n",
       "      <td>846000</td>\n",
       "      <td>28018277</td>\n",
       "      <td>32962679</td>\n",
       "    </tr>\n",
       "    <tr>\n",
       "      <th>2</th>\n",
       "      <td>2017/04/03</td>\n",
       "      <td>873000</td>\n",
       "      <td>18000</td>\n",
       "      <td>54884</td>\n",
       "      <td>47808834000</td>\n",
       "      <td>855000</td>\n",
       "      <td>878000</td>\n",
       "      <td>843000</td>\n",
       "      <td>28776419</td>\n",
       "      <td>32962679</td>\n",
       "    </tr>\n",
       "    <tr>\n",
       "      <th>3</th>\n",
       "      <td>2017/03/31</td>\n",
       "      <td>855000</td>\n",
       "      <td>-6000</td>\n",
       "      <td>50026</td>\n",
       "      <td>42957075000</td>\n",
       "      <td>861000</td>\n",
       "      <td>870000</td>\n",
       "      <td>854000</td>\n",
       "      <td>28183091</td>\n",
       "      <td>32962679</td>\n",
       "    </tr>\n",
       "    <tr>\n",
       "      <th>4</th>\n",
       "      <td>2017/03/30</td>\n",
       "      <td>861000</td>\n",
       "      <td>-3000</td>\n",
       "      <td>57075</td>\n",
       "      <td>49337280851</td>\n",
       "      <td>865000</td>\n",
       "      <td>874000</td>\n",
       "      <td>856000</td>\n",
       "      <td>28380867</td>\n",
       "      <td>32962679</td>\n",
       "    </tr>\n",
       "  </tbody>\n",
       "</table>\n",
       "</div>"
      ],
      "text/plain": [
       "        년/월/일      종가     대비  거래량(주)      거래대금(원)      시가      고가      저가  \\\n",
       "0  2017/04/05  843000  -7000   99674  84156754608  857000  859000  835000   \n",
       "1  2017/04/04  850000 -23000   59594  51010262154  868000  869000  846000   \n",
       "2  2017/04/03  873000  18000   54884  47808834000  855000  878000  843000   \n",
       "3  2017/03/31  855000  -6000   50026  42957075000  861000  870000  854000   \n",
       "4  2017/03/30  861000  -3000   57075  49337280851  865000  874000  856000   \n",
       "\n",
       "   시가총액(백만)  상장주식수(주)  \n",
       "0  27787538  32962679  \n",
       "1  28018277  32962679  \n",
       "2  28776419  32962679  \n",
       "3  28183091  32962679  \n",
       "4  28380867  32962679  "
      ]
     },
     "execution_count": 3,
     "metadata": {},
     "output_type": "execute_result"
    }
   ],
   "source": [
    "df = get_daily_price('KR7035420009')\n",
    "df.head()"
   ]
  },
  {
   "cell_type": "code",
   "execution_count": 4,
   "metadata": {
    "collapsed": false
   },
   "outputs": [
    {
     "data": {
      "text/html": [
       "<div>\n",
       "<table border=\"1\" class=\"dataframe\">\n",
       "  <thead>\n",
       "    <tr style=\"text-align: right;\">\n",
       "      <th></th>\n",
       "      <th>open</th>\n",
       "      <th>hign</th>\n",
       "      <th>low</th>\n",
       "      <th>close</th>\n",
       "      <th>volume</th>\n",
       "    </tr>\n",
       "    <tr>\n",
       "      <th>date</th>\n",
       "      <th></th>\n",
       "      <th></th>\n",
       "      <th></th>\n",
       "      <th></th>\n",
       "      <th></th>\n",
       "    </tr>\n",
       "  </thead>\n",
       "  <tbody>\n",
       "    <tr>\n",
       "      <th>2017/04/05</th>\n",
       "      <td>857000</td>\n",
       "      <td>859000</td>\n",
       "      <td>835000</td>\n",
       "      <td>843000</td>\n",
       "      <td>99674</td>\n",
       "    </tr>\n",
       "    <tr>\n",
       "      <th>2017/04/04</th>\n",
       "      <td>868000</td>\n",
       "      <td>869000</td>\n",
       "      <td>846000</td>\n",
       "      <td>850000</td>\n",
       "      <td>59594</td>\n",
       "    </tr>\n",
       "    <tr>\n",
       "      <th>2017/04/03</th>\n",
       "      <td>855000</td>\n",
       "      <td>878000</td>\n",
       "      <td>843000</td>\n",
       "      <td>873000</td>\n",
       "      <td>54884</td>\n",
       "    </tr>\n",
       "    <tr>\n",
       "      <th>2017/03/31</th>\n",
       "      <td>861000</td>\n",
       "      <td>870000</td>\n",
       "      <td>854000</td>\n",
       "      <td>855000</td>\n",
       "      <td>50026</td>\n",
       "    </tr>\n",
       "    <tr>\n",
       "      <th>2017/03/30</th>\n",
       "      <td>865000</td>\n",
       "      <td>874000</td>\n",
       "      <td>856000</td>\n",
       "      <td>861000</td>\n",
       "      <td>57075</td>\n",
       "    </tr>\n",
       "  </tbody>\n",
       "</table>\n",
       "</div>"
      ],
      "text/plain": [
       "              open    hign     low   close  volume\n",
       "date                                              \n",
       "2017/04/05  857000  859000  835000  843000   99674\n",
       "2017/04/04  868000  869000  846000  850000   59594\n",
       "2017/04/03  855000  878000  843000  873000   54884\n",
       "2017/03/31  861000  870000  854000  855000   50026\n",
       "2017/03/30  865000  874000  856000  861000   57075"
      ]
     },
     "execution_count": 4,
     "metadata": {},
     "output_type": "execute_result"
    }
   ],
   "source": [
    "df = df.loc[:, ['년/월/일','시가','고가','저가','종가','거래량(주)']]\n",
    "df.columns = ['date','open','hign','low','close','volume']\n",
    "df.set_index('date', inplace=True)\n",
    "df.head()"
   ]
  },
  {
   "cell_type": "code",
   "execution_count": 5,
   "metadata": {
    "collapsed": false
   },
   "outputs": [],
   "source": [
    "%matplotlib inline\n",
    "import matplotlib.pyplot as plt"
   ]
  },
  {
   "cell_type": "code",
   "execution_count": 6,
   "metadata": {
    "collapsed": true
   },
   "outputs": [],
   "source": [
    "# plot의 한글 표시 설정"
   ]
  },
  {
   "cell_type": "code",
   "execution_count": 7,
   "metadata": {
    "collapsed": false
   },
   "outputs": [
    {
     "data": {
      "text/plain": [
       "['sans-serif']"
      ]
     },
     "execution_count": 7,
     "metadata": {},
     "output_type": "execute_result"
    }
   ],
   "source": [
    "plt.rcParams[\"font.family\"]"
   ]
  },
  {
   "cell_type": "code",
   "execution_count": 8,
   "metadata": {
    "collapsed": true
   },
   "outputs": [],
   "source": [
    "plt.rcParams[\"font.family\"] = 'NanumBarunGothic'\n",
    "plt.rcParams[\"font.size\"] = 10"
   ]
  },
  {
   "cell_type": "code",
   "execution_count": 9,
   "metadata": {
    "collapsed": false
   },
   "outputs": [
    {
     "data": {
      "text/plain": [
       "<matplotlib.text.Text at 0x2afe384eb70>"
      ]
     },
     "execution_count": 9,
     "metadata": {},
     "output_type": "execute_result"
    },
    {
     "data": {
      "image/png": "[encoded data removed]",
      "text/plain": [
       "<matplotlib.figure.Figure at 0x2afe387f940>"
      ]
     },
     "metadata": {},
     "output_type": "display_data"
    }
   ],
   "source": [
    "df['open'].plot(figsize=(18,8))\n",
    "df['close'].plot(grid=True)\n",
    "plt.legend()\n",
    "plt.xlabel('035420 (네이버)')"
   ]
  }
 ],
 "metadata": {
  "anaconda-cloud": {},
  "kernelspec": {
   "display_name": "Python [conda root]",
   "language": "python",
   "name": "conda-root-py"
  },
  "language_info": {
   "codemirror_mode": {
    "name": "ipython",
    "version": 3
   },
   "file_extension": ".py",
   "mimetype": "text/x-python",
   "name": "python",
   "nbconvert_exporter": "python",
   "pygments_lexer": "ipython3",
   "version": "3.5.2"
  }
 },
 "nbformat": 4,
 "nbformat_minor": 1
}
