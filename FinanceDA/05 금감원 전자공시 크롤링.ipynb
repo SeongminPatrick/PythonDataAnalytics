{
 "cells": [
  {
   "cell_type": "markdown",
   "metadata": {},
   "source": [
    "# 금융감독원 전자공시(DART) 크롤링"
   ]
  },
  {
   "cell_type": "markdown",
   "metadata": {},
   "source": [
    "## 전자공시 웹페이지"
   ]
  },
  {
   "cell_type": "markdown",
   "metadata": {},
   "source": [
    "http://dart.fss.or.kr/dsac001/search.ax"
   ]
  },
  {
   "cell_type": "markdown",
   "metadata": {},
   "source": [
    "* selectDate : 날짜\n",
    "* Cookie : DSAC001_MAXRESULTS=100;     \n",
    "* 전자공시 목록을 조회하려면 Cookie를 사용해야 한다...!"
   ]
  },
  {
   "cell_type": "markdown",
   "metadata": {},
   "source": [
    "![img](./images/05-1.jpg)"
   ]
  },
  {
   "cell_type": "markdown",
   "metadata": {},
   "source": [
    "## wget을 사용하여 html 파일 다운받기"
   ]
  },
  {
   "cell_type": "markdown",
   "metadata": {},
   "source": [
    "* https://eternallybored.org/misc/wget/\n",
    "* 윈도우 64비트용 다운로드\n",
    "* Anaconda3 폴더에 wget64.exe 파일 복사"
   ]
  },
  {
   "cell_type": "code",
   "execution_count": 1,
   "metadata": {
    "collapsed": false
   },
   "outputs": [
    {
     "name": "stderr",
     "output_type": "stream",
     "text": [
      "--2017-04-07 16:58:50--  http://dart.fss.or.kr/dsac001/search.ax?selectDate=20170405\n",
      "Resolving dart.fss.or.kr (dart.fss.or.kr)... 61.73.60.200\n",
      "Connecting to dart.fss.or.kr (dart.fss.or.kr)|61.73.60.200|:80... connected.\n",
      "HTTP request sent, awaiting response... 200 OK\n",
      "Length: unspecified [text/html]\n",
      "Saving to: 'DART-20170405.html'\n",
      "\n",
      "     0K .......... .......... .......... .......... ..........  796K\n",
      "    50K .......... .......... .......... .......... .......... 2.58M\n",
      "   100K .......... .......... .......... .......... .......... 3.81M\n",
      "   150K .......... .......... .......... .......... .......... 3.83M\n",
      "   200K .......... .......... .......... .......... .......... 3.49M\n",
      "   250K .......... .......... .......... .......... .......... 2.34M\n",
      "   300K .......... .......... .......... .......... .......... 4.48M\n",
      "   350K .......... .......... .......... .......... .......... 3.10M\n",
      "   400K .......... .......... .......... .......... .......... 2.58M\n",
      "   450K .......... .......... .......... .......... .......... 2.41M\n",
      "   500K .......... .......... .......... .......... .......... 2.07M\n",
      "   550K .......... .......... .......... .......... .......... 1.70M\n",
      "   600K .......... .......... .......... .......... .......... 1.66M\n",
      "   650K .......... .......... .......... .......... .......... 1.06M\n",
      "   700K .......... .......... .......... .......... ..........  175K\n",
      "   750K .......... .......... .......... .......... .......... 1.13M\n",
      "   800K .......... .......... .......... .......... .......... 1.44M\n",
      "   850K .......... .......... .......... .......... .......... 3.02M\n",
      "   900K .......... .......... .......... .......... .......... 2.31M\n",
      "   950K .......... .......... .......... .......... .......... 2.84M\n",
      "  1000K .......... .......... .......... .......... .......... 2.96M\n",
      "  1050K .......... .......... .......... .......... .......... 2.59M\n",
      "  1100K .......... .......... .......... .......... .......... 2.89M\n",
      "  1150K .......... .......... .......... .......... .......... 2.72M\n",
      "  1200K .......... .......... .......... .......... .......... 2.35M\n",
      "  1250K .......... .......... .......... .......... .......... 2.90M\n",
      "  1300K .......... .......... .......... .......... .......... 3.30M\n",
      "  1350K .......... .......... .......... .......... .......... 3.00M\n",
      "  1400K .......... .......... .......... .......... .......... 3.74M\n",
      "  1450K .......... .......... .......... .......... .......... 2.54M\n",
      "  1500K .......... .......... .......... .......... .......... 3.56M\n",
      "  1550K .......... .......... .......... .......... .......... 3.44M\n",
      "  1600K .......... .......... .......... .......... .......... 2.99M\n",
      "  1650K .......... .......... .......... .......... .......... 3.04M\n",
      "  1700K .......... .......... .......... .......... .......... 3.48M\n",
      "  1750K .......... .......... .......... .......... .......... 2.87M\n",
      "  1800K .......... .......... .......... .......... .......... 3.52M\n",
      "  1850K .......... .......... .......... .......... .......... 2.86M\n",
      "  1900K .......... .......... .......... .......... .......... 3.89M\n",
      "  1950K .......... .......... .......... .......... .......... 3.27M\n",
      "  2000K .......... .......... .......... .......... .......... 3.92M\n",
      "  2050K .......... .......... .......... .......... .......... 2.51M\n",
      "  2100K .......... .......... .......... .......... .......... 3.51M\n",
      "  2150K .......... .......... .......... .......... .......... 4.05M\n",
      "  2200K .......... .......... .......... .......... .......... 3.24M\n",
      "  2250K .......... .......... .......... .......... .......... 3.54M\n",
      "  2300K .......... ..                                          9.75M=1.2s\n",
      "\n",
      "2017-04-07 16:58:54 (1.94 MB/s) - 'DART-20170405.html' saved [2367734]\n",
      "\n"
     ]
    }
   ],
   "source": [
    "! wget64 http://dart.fss.or.kr/dsac001/search.ax?selectDate=20170405 \\\n",
    "--header=\"Cookie:DSAC001_MAXRESULTS=5000;\" \\\n",
    "-O DART-20170405.html"
   ]
  },
  {
   "cell_type": "markdown",
   "metadata": {
    "collapsed": true
   },
   "source": [
    "## request 를 이용하여 wget 함수 만들기"
   ]
  },
  {
   "cell_type": "code",
   "execution_count": 2,
   "metadata": {
    "collapsed": true
   },
   "outputs": [],
   "source": [
    "import requests\n",
    "import os\n",
    "from datetime import datetime, timedelta"
   ]
  },
  {
   "cell_type": "code",
   "execution_count": 3,
   "metadata": {
    "collapsed": true
   },
   "outputs": [],
   "source": [
    "data_dir = './dart_html/'   # 파일 저장할 폴더"
   ]
  },
  {
   "cell_type": "code",
   "execution_count": 4,
   "metadata": {
    "collapsed": true
   },
   "outputs": [],
   "source": [
    "url_templete = 'http://dart.fss.or.kr/dsac001/search.ax?selectDate=%s'\n",
    "headers = {'Cookie':'DSAC001_MAXRESULTS=5000;'}"
   ]
  },
  {
   "cell_type": "code",
   "execution_count": 5,
   "metadata": {
    "collapsed": true
   },
   "outputs": [],
   "source": [
    "# wget 함수"
   ]
  },
  {
   "cell_type": "code",
   "execution_count": 6,
   "metadata": {
    "collapsed": true
   },
   "outputs": [],
   "source": [
    "def wget(url, local_filename):\n",
    "    r = requests.get(url, headers=headers, stream=True)\n",
    "    f = open(local_filename, 'wb')\n",
    "    for chunk in r.iter_content(chunk_size=1024): \n",
    "        if chunk:\n",
    "            f.write(chunk)\n",
    "            f.flush()\n",
    "    return local_filename"
   ]
  },
  {
   "cell_type": "code",
   "execution_count": 7,
   "metadata": {
    "collapsed": false
   },
   "outputs": [],
   "source": [
    "# 크롤링할 날짜 범위\n",
    "start_day = datetime(2017, 4, 1)\n",
    "end_day = datetime(2017, 4, 5)\n",
    "delta = end_day - start_day"
   ]
  },
  {
   "cell_type": "code",
   "execution_count": 8,
   "metadata": {
    "collapsed": false
   },
   "outputs": [
    {
     "name": "stdout",
     "output_type": "stream",
     "text": [
      "DART-20170401.html (0.00 MB) downloaded\n",
      "DART-20170402.html (0.00 MB) downloaded\n",
      "DART-20170403.html (2.59 MB) downloaded\n",
      "DART-20170404.html (2.08 MB) downloaded\n",
      "DART-20170405.html (2.26 MB) downloaded\n"
     ]
    }
   ],
   "source": [
    "for i in range(delta.days + 1):\n",
    "    d = start_day + timedelta(days=i)        # 1일씩 증가\n",
    "    rdate = d.strftime('%Y%m%d')\n",
    "    filename = 'DART-' + rdate + '.html'     # 저장할 로컬 파일명\n",
    "    wget(url_templete % rdate, data_dir + filename)   # 크롤링\n",
    "    fsize = os.path.getsize(data_dir + filename) / (1024 ** 2)\n",
    "    print (\"%s (%.2f MB) downloaded\" % (filename, fsize))"
   ]
  },
  {
   "cell_type": "markdown",
   "metadata": {
    "collapsed": true
   },
   "source": [
    "## html 분석"
   ]
  },
  {
   "cell_type": "markdown",
   "metadata": {
    "collapsed": true
   },
   "source": [
    "![img](./images/05-2.jpg)"
   ]
  },
  {
   "cell_type": "code",
   "execution_count": 9,
   "metadata": {
    "collapsed": true
   },
   "outputs": [],
   "source": [
    "from bs4 import BeautifulSoup"
   ]
  },
  {
   "cell_type": "code",
   "execution_count": 16,
   "metadata": {
    "collapsed": true
   },
   "outputs": [],
   "source": [
    "fname = \"./dart_html/DART-20170405.html\"\n",
    "\n",
    "with open(fname, encoding='utf-8') as f:\n",
    "    text = f.read()\n",
    "    soup = BeautifulSoup(text, \"lxml\")"
   ]
  },
  {
   "cell_type": "code",
   "execution_count": 17,
   "metadata": {
    "collapsed": false
   },
   "outputs": [
    {
     "data": {
      "text/plain": [
       "'\\n\\n\\t\\t전체\\n\\t\\t \\xa02,241건\\n\\n\\t\\t\\t\\t\\t(2017년 04월 05일)\\n\\n\\t\\t\\n\\t'"
      ]
     },
     "execution_count": 17,
     "metadata": {},
     "output_type": "execute_result"
    }
   ],
   "source": [
    "# body-div-p-b\n",
    "sel_list = soup.select('div p b')\n",
    "counts = 0\n",
    "count_str = sel_list[0].text\n",
    "count_str"
   ]
  },
  {
   "cell_type": "code",
   "execution_count": 18,
   "metadata": {
    "collapsed": false
   },
   "outputs": [
    {
     "data": {
      "text/plain": [
       "'전체2,241건(2017년04월05일)'"
      ]
     },
     "execution_count": 18,
     "metadata": {},
     "output_type": "execute_result"
    }
   ],
   "source": [
    "count_str = \"\".join(count_str.split())\n",
    "count_str"
   ]
  },
  {
   "cell_type": "markdown",
   "metadata": {},
   "source": [
    "![img](./images/05-3.jpg)"
   ]
  },
  {
   "cell_type": "code",
   "execution_count": 19,
   "metadata": {
    "collapsed": false
   },
   "outputs": [
    {
     "name": "stdout",
     "output_type": "stream",
     "text": [
      "총 건수: 2242\n"
     ]
    }
   ],
   "source": [
    "# table\n",
    "table = soup.find('table')\n",
    "trs = table.findAll('tr')\n",
    "print (\"총 건수:\", len(trs))"
   ]
  },
  {
   "cell_type": "code",
   "execution_count": 20,
   "metadata": {
    "collapsed": false
   },
   "outputs": [
    {
     "name": "stdout",
     "output_type": "stream",
     "text": [
      "18:29 SK가스 유가증권시장\n",
      "증권신고서(채무증권)\n",
      "http://dart.fss.or.kr//dsaf001/main.do?rcpNo=20170405002607\n",
      "SK가스 2017-04-05\n",
      "\n",
      "18:11 오백볼트 코넥스시장\n",
      "[기재정정]감사보고서제출\n",
      "http://dart.fss.or.kr//dsaf001/main.do?rcpNo=20170405601087\n",
      "오백볼트 2017-04-05\n",
      "\n",
      "18:06 우리카드이천십칠의일유동화전문유한회사 기타법인\n",
      "[기재정정]자산양도등의등록신청서\n",
      "http://dart.fss.or.kr//dsaf001/main.do?rcpNo=20170317000629\n",
      "우리카드 2017-03-17\n",
      "\n",
      "18:06 디비에르메스유동화전문유한회사 기타법인\n",
      "[첨부추가]자산양도등의등록신청서\n",
      "http://dart.fss.or.kr//dsaf001/main.do?rcpNo=20170322000224\n",
      "동부증권 2017-03-22\n",
      "\n",
      "17:59 스테코 기타법인\n",
      "감사보고서 (2016.12)\n",
      "http://dart.fss.or.kr//dsaf001/main.do?rcpNo=20170405002553\n",
      "삼일회계법인 2017-04-05\n",
      "\n",
      "17:59 마이크로텍 기타법인\n",
      "감사보고서 (2016.12)\n",
      "http://dart.fss.or.kr//dsaf001/main.do?rcpNo=20170405002551\n",
      "회계법인정연 2017-04-05\n",
      "\n",
      "17:59 울산꿈나무 기타법인\n",
      "감사보고서 (2016.12)\n",
      "http://dart.fss.or.kr//dsaf001/main.do?rcpNo=20170405002550\n",
      "서린회계법인 2017-04-05\n",
      "\n",
      "17:59 제다하네스 기타법인\n",
      "감사보고서 (2016.12)\n",
      "http://dart.fss.or.kr//dsaf001/main.do?rcpNo=20170405002549\n",
      "팔공공인회계사감사반(제206호) 2017-04-05\n",
      "\n",
      "17:59 이화에스피에스 기타법인\n",
      "감사보고서 (2016.12)\n",
      "http://dart.fss.or.kr//dsaf001/main.do?rcpNo=20170405002548\n",
      "청진공인회계사감사반(제457호) 2017-04-05\n",
      "\n"
     ]
    }
   ],
   "source": [
    "# 0 (첫번째)는 테이블 헤더이므로 제외.\n",
    "for tr in trs[1:10]:\n",
    "    tds = tr.findAll('td')\n",
    "    print(tds[0].text.strip(), end=\" \" )          # 시간\n",
    "    print(tds[1].text.strip(), end=\" \" )          # 공시대상회사\n",
    "    print(tds[1].img['alt'])                      # 이미지 태그 (유가증권, 코스닥, 코넥스 등)\n",
    "    print( \" \".join(tds[2].text.split()) )\n",
    "    print( 'http://dart.fss.or.kr/' + tds[2].a['href'] )   # 링크\n",
    "    print( tds[3].text.strip(), end=\" \")                   # 제출인\n",
    "    print( tds[4].text.strip().replace('.', '-') )         # 접수일자\n",
    "    print()"
   ]
  },
  {
   "cell_type": "code",
   "execution_count": null,
   "metadata": {
    "collapsed": true
   },
   "outputs": [],
   "source": []
  },
  {
   "cell_type": "code",
   "execution_count": null,
   "metadata": {
    "collapsed": true
   },
   "outputs": [],
   "source": []
  },
  {
   "cell_type": "code",
   "execution_count": null,
   "metadata": {
    "collapsed": true
   },
   "outputs": [],
   "source": []
  },
  {
   "cell_type": "code",
   "execution_count": null,
   "metadata": {
    "collapsed": true
   },
   "outputs": [],
   "source": []
  },
  {
   "cell_type": "code",
   "execution_count": null,
   "metadata": {
    "collapsed": true
   },
   "outputs": [],
   "source": []
  }
 ],
 "metadata": {
  "anaconda-cloud": {},
  "kernelspec": {
   "display_name": "Python [conda root]",
   "language": "python",
   "name": "conda-root-py"
  },
  "language_info": {
   "codemirror_mode": {
    "name": "ipython",
    "version": 3
   },
   "file_extension": ".py",
   "mimetype": "text/x-python",
   "name": "python",
   "nbconvert_exporter": "python",
   "pygments_lexer": "ipython3",
   "version": "3.5.2"
  }
 },
 "nbformat": 4,
 "nbformat_minor": 1
}
