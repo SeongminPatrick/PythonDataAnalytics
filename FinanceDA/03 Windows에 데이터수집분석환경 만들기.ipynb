{
 "cells": [
  {
   "cell_type": "markdown",
   "metadata": {},
   "source": [
    "# Windows에 데이터 분석 환경 만들기"
   ]
  },
  {
   "cell_type": "markdown",
   "metadata": {},
   "source": [
    "# 1. Python"
   ]
  },
  {
   "cell_type": "markdown",
   "metadata": {},
   "source": [
    "* 파이썬은 3.5 이상 64 비트 버전으로 설치할 것\n",
    "* Tensorflow 는 64 비트만 지원됨"
   ]
  },
  {
   "cell_type": "markdown",
   "metadata": {},
   "source": [
    "### 필요한 python package 설치 (콘솔)"
   ]
  },
  {
   "cell_type": "markdown",
   "metadata": {},
   "source": [
    "```bash\n",
    "# pip 업그레이드\n",
    "> pip3 install -U pip\n",
    "> pip3 install -U setuptools\n",
    "\n",
    "# virtualenv 설치\n",
    "> pip3 install virtualenv\n",
    "\n",
    "# numpy, pandas 설치\n",
    "> pip3 install numpy\n",
    "> pip3 install cython\n",
    "> pip3 install pandas\n",
    "> pip3 install pandas_datareader\n",
    "\n",
    "# ipython, jupyter, matplotlib\n",
    "> pip3 install pyzmq tornado matplotlib jinja2 pygments\n",
    "> pip3 install jupyter\n",
    "\n",
    "# requests, beautifulsoup4\n",
    "> pip3 install requests\n",
    "> pip3 install lxml\n",
    "> pip3 install beautifulsoup4\n",
    "> pip3 install xlrd\n",
    "```"
   ]
  },
  {
   "cell_type": "markdown",
   "metadata": {},
   "source": [
    "# 2. MySQL"
   ]
  },
  {
   "cell_type": "markdown",
   "metadata": {},
   "source": [
    "## MySQL 설치"
   ]
  },
  {
   "cell_type": "markdown",
   "metadata": {},
   "source": [
    "[MySQL Community Server 5.6.13.1](https://dev.mysql.com/downloads/file/?id=414335) 다운로드"
   ]
  },
  {
   "cell_type": "markdown",
   "metadata": {},
   "source": [
    "설치 중 root 및 admin 사용자 계정 생성 및 암호 설정"
   ]
  },
  {
   "cell_type": "markdown",
   "metadata": {},
   "source": [
    "* root   / finda\\***\n",
    "* woosa7 / finda\\***  (DB Admin User)"
   ]
  },
  {
   "cell_type": "markdown",
   "metadata": {},
   "source": [
    "설치 완료 후 MySQL \\ MySQLServer 폴더의 my.ini 파일 열어서 다음 설정 확인 및 수정. (인코딩 : utf-8)"
   ]
  },
  {
   "cell_type": "markdown",
   "metadata": {},
   "source": [
    "* default-character-set=utf8 \n",
    "* character-set-server=utf8"
   ]
  },
  {
   "cell_type": "markdown",
   "metadata": {},
   "source": [
    "## 시스템 환경 변수에 MySQL 실행파일 경로 추가"
   ]
  },
  {
   "cell_type": "markdown",
   "metadata": {},
   "source": [
    "* 윈도 아이콘 - 마우스 오른쪽 버튼 - 시스템 - 고급 시스템 설정 - 환경변수"
   ]
  },
  {
   "cell_type": "markdown",
   "metadata": {},
   "source": [
    "* 시스템 변수 PATH 에 \"c:\\MySQL\\MySQL Server 5.6\\bin\" 경로 추가"
   ]
  },
  {
   "cell_type": "markdown",
   "metadata": {},
   "source": [
    "## MySQL 설치 확인"
   ]
  },
  {
   "cell_type": "markdown",
   "metadata": {},
   "source": [
    "콘솔에서 mysql 접속"
   ]
  },
  {
   "cell_type": "markdown",
   "metadata": {},
   "source": [
    "```bash\n",
    "> mysql -uroot -p\n",
    "(root 계정 암호 입력)\n",
    "```"
   ]
  },
  {
   "cell_type": "markdown",
   "metadata": {},
   "source": [
    "```bash\n",
    "mysql> use world;                    # (default DB)\n",
    "mysql> select count(*) from city;    # 4079\n",
    "mysql> exit\n",
    "```"
   ]
  },
  {
   "cell_type": "markdown",
   "metadata": {},
   "source": [
    "# 3. 데이터 수집 및 분석을 위한 databse 생성"
   ]
  },
  {
   "cell_type": "markdown",
   "metadata": {},
   "source": [
    "* MySQL Workbench 실행\n",
    "* Create a new schema 아이콘 클릭"
   ]
  },
  {
   "cell_type": "markdown",
   "metadata": {},
   "source": [
    "![img](./images/mysql_0001.jpg)"
   ]
  },
  {
   "cell_type": "markdown",
   "metadata": {},
   "source": [
    "* Collation을 \"utf8 - default collation\"으로 선택 후 schema 생성"
   ]
  },
  {
   "cell_type": "markdown",
   "metadata": {},
   "source": [
    "### 생성해 놓은 기초 데이터 복원"
   ]
  },
  {
   "cell_type": "markdown",
   "metadata": {},
   "source": [
    "* dropbox 에서 findb_dump.sql.gz 다운로드 후 압축 해제. [링크](https://www.dropbox.com/s/1f44sylm9b32jqi/findb_dump.sql.gz?dl=0)"
   ]
  },
  {
   "cell_type": "markdown",
   "metadata": {},
   "source": [
    "* (참고) 테이블 생성을 위한 스크립트 [링크](https://www.dropbox.com/s/wfxiscrkb0d9xez/finda_create_tables.sql?dl=0)"
   ]
  },
  {
   "cell_type": "markdown",
   "metadata": {},
   "source": [
    "* Navigator 메뉴 중 Data Import/Restore 선택"
   ]
  },
  {
   "cell_type": "markdown",
   "metadata": {},
   "source": [
    "![img](./images/mysql_0004.jpg)"
   ]
  },
  {
   "cell_type": "markdown",
   "metadata": {},
   "source": [
    "* Import form self-Contained File 선택 (schema 레벨로 복원)\n",
    "\n",
    "* Default Target Schema 목록에서 해당 스키마 선택\n",
    "\n",
    "* Start Import 버튼 클릭"
   ]
  },
  {
   "cell_type": "markdown",
   "metadata": {},
   "source": [
    "복원 완료 후 데이터 확인 (MySQL Workbench)"
   ]
  },
  {
   "cell_type": "markdown",
   "metadata": {},
   "source": [
    "```bash\n",
    "desc stock_master;\n",
    "select count(*) from stock_master;\n",
    "```"
   ]
  },
  {
   "cell_type": "markdown",
   "metadata": {},
   "source": [
    "![img](./images/mysql_0006.jpg)"
   ]
  },
  {
   "cell_type": "markdown",
   "metadata": {},
   "source": [
    "# 4. python을 위한 mysql-connector 설치"
   ]
  },
  {
   "cell_type": "markdown",
   "metadata": {},
   "source": [
    "https://dev.mysql.com/downloads/connector/python/"
   ]
  },
  {
   "cell_type": "markdown",
   "metadata": {},
   "source": [
    "Python 3.5 이상일 경우 Select Operating System에서 \"Platfor Independent\" 선택"
   ]
  },
  {
   "cell_type": "markdown",
   "metadata": {},
   "source": [
    "![img](./images/mysql_0007.jpg)"
   ]
  },
  {
   "cell_type": "markdown",
   "metadata": {},
   "source": [
    "zip 파일 다운로드 후 압축 해제"
   ]
  },
  {
   "cell_type": "markdown",
   "metadata": {},
   "source": [
    "콘솔창에서 해당 폴더로 이동한 후 다음 명령 입력"
   ]
  },
  {
   "cell_type": "markdown",
   "metadata": {},
   "source": [
    "``` bash\n",
    "> python setup.py install\n",
    "```"
   ]
  },
  {
   "cell_type": "markdown",
   "metadata": {},
   "source": [
    "설치 확인"
   ]
  },
  {
   "cell_type": "markdown",
   "metadata": {},
   "source": [
    "``` bash\n",
    "> python\n",
    "\n",
    ">>> import mysql.connector\n",
    "\n",
    "에러 없으면 정상적으로 설치된 것.\n",
    "\n",
    "```"
   ]
  }
 ],
 "metadata": {
  "kernelspec": {
   "display_name": "Python 3",
   "language": "python",
   "name": "python3"
  },
  "language_info": {
   "codemirror_mode": {
    "name": "ipython",
    "version": 3
   },
   "file_extension": ".py",
   "mimetype": "text/x-python",
   "name": "python",
   "nbconvert_exporter": "python",
   "pygments_lexer": "ipython3",
   "version": "3.5.2"
  }
 },
 "nbformat": 4,
 "nbformat_minor": 2
}
