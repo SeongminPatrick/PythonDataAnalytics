{
 "cells": [
  {
   "cell_type": "markdown",
   "metadata": {},
   "source": [
    "# Import Data from Web"
   ]
  },
  {
   "cell_type": "markdown",
   "metadata": {},
   "source": [
    "## 1. 웹 저장소에 있는 flat file 가져오기"
   ]
  },
  {
   "cell_type": "code",
   "execution_count": 1,
   "metadata": {
    "collapsed": true
   },
   "outputs": [],
   "source": [
    "from urllib.request import urlretrieve\n",
    "import pandas as pd"
   ]
  },
  {
   "cell_type": "code",
   "execution_count": 2,
   "metadata": {
    "collapsed": true
   },
   "outputs": [],
   "source": [
    "# 레드 와인의 물리화학적 성분과 품질 등급 : University of California, Irvine\n",
    "url = 'https://s3.amazonaws.com/assets.datacamp.com/production/course_1606/datasets/winequality-red.csv'"
   ]
  },
  {
   "cell_type": "markdown",
   "metadata": {},
   "source": [
    "로컬에 파일로 저장한 후 데이터 읽기"
   ]
  },
  {
   "cell_type": "code",
   "execution_count": 3,
   "metadata": {
    "collapsed": false
   },
   "outputs": [
    {
     "data": {
      "text/plain": [
       "('data/winequality-red.csv', <http.client.HTTPMessage at 0x124e4764710>)"
      ]
     },
     "execution_count": 3,
     "metadata": {},
     "output_type": "execute_result"
    }
   ],
   "source": [
    "urlretrieve(url, 'data/winequality-red.csv')"
   ]
  },
  {
   "cell_type": "code",
   "execution_count": 4,
   "metadata": {
    "collapsed": false
   },
   "outputs": [
    {
     "data": {
      "text/html": [
       "<div>\n",
       "<table border=\"1\" class=\"dataframe\">\n",
       "  <thead>\n",
       "    <tr style=\"text-align: right;\">\n",
       "      <th></th>\n",
       "      <th>fixed acidity</th>\n",
       "      <th>volatile acidity</th>\n",
       "      <th>citric acid</th>\n",
       "      <th>residual sugar</th>\n",
       "      <th>chlorides</th>\n",
       "      <th>free sulfur dioxide</th>\n",
       "      <th>total sulfur dioxide</th>\n",
       "      <th>density</th>\n",
       "      <th>pH</th>\n",
       "      <th>sulphates</th>\n",
       "      <th>alcohol</th>\n",
       "      <th>quality</th>\n",
       "    </tr>\n",
       "  </thead>\n",
       "  <tbody>\n",
       "    <tr>\n",
       "      <th>0</th>\n",
       "      <td>7.4</td>\n",
       "      <td>0.70</td>\n",
       "      <td>0.00</td>\n",
       "      <td>1.9</td>\n",
       "      <td>0.076</td>\n",
       "      <td>11.0</td>\n",
       "      <td>34.0</td>\n",
       "      <td>0.9978</td>\n",
       "      <td>3.51</td>\n",
       "      <td>0.56</td>\n",
       "      <td>9.4</td>\n",
       "      <td>5</td>\n",
       "    </tr>\n",
       "    <tr>\n",
       "      <th>1</th>\n",
       "      <td>7.8</td>\n",
       "      <td>0.88</td>\n",
       "      <td>0.00</td>\n",
       "      <td>2.6</td>\n",
       "      <td>0.098</td>\n",
       "      <td>25.0</td>\n",
       "      <td>67.0</td>\n",
       "      <td>0.9968</td>\n",
       "      <td>3.20</td>\n",
       "      <td>0.68</td>\n",
       "      <td>9.8</td>\n",
       "      <td>5</td>\n",
       "    </tr>\n",
       "    <tr>\n",
       "      <th>2</th>\n",
       "      <td>7.8</td>\n",
       "      <td>0.76</td>\n",
       "      <td>0.04</td>\n",
       "      <td>2.3</td>\n",
       "      <td>0.092</td>\n",
       "      <td>15.0</td>\n",
       "      <td>54.0</td>\n",
       "      <td>0.9970</td>\n",
       "      <td>3.26</td>\n",
       "      <td>0.65</td>\n",
       "      <td>9.8</td>\n",
       "      <td>5</td>\n",
       "    </tr>\n",
       "    <tr>\n",
       "      <th>3</th>\n",
       "      <td>11.2</td>\n",
       "      <td>0.28</td>\n",
       "      <td>0.56</td>\n",
       "      <td>1.9</td>\n",
       "      <td>0.075</td>\n",
       "      <td>17.0</td>\n",
       "      <td>60.0</td>\n",
       "      <td>0.9980</td>\n",
       "      <td>3.16</td>\n",
       "      <td>0.58</td>\n",
       "      <td>9.8</td>\n",
       "      <td>6</td>\n",
       "    </tr>\n",
       "    <tr>\n",
       "      <th>4</th>\n",
       "      <td>7.4</td>\n",
       "      <td>0.70</td>\n",
       "      <td>0.00</td>\n",
       "      <td>1.9</td>\n",
       "      <td>0.076</td>\n",
       "      <td>11.0</td>\n",
       "      <td>34.0</td>\n",
       "      <td>0.9978</td>\n",
       "      <td>3.51</td>\n",
       "      <td>0.56</td>\n",
       "      <td>9.4</td>\n",
       "      <td>5</td>\n",
       "    </tr>\n",
       "  </tbody>\n",
       "</table>\n",
       "</div>"
      ],
      "text/plain": [
       "   fixed acidity  volatile acidity  citric acid  residual sugar  chlorides  \\\n",
       "0            7.4              0.70         0.00             1.9      0.076   \n",
       "1            7.8              0.88         0.00             2.6      0.098   \n",
       "2            7.8              0.76         0.04             2.3      0.092   \n",
       "3           11.2              0.28         0.56             1.9      0.075   \n",
       "4            7.4              0.70         0.00             1.9      0.076   \n",
       "\n",
       "   free sulfur dioxide  total sulfur dioxide  density    pH  sulphates  \\\n",
       "0                 11.0                  34.0   0.9978  3.51       0.56   \n",
       "1                 25.0                  67.0   0.9968  3.20       0.68   \n",
       "2                 15.0                  54.0   0.9970  3.26       0.65   \n",
       "3                 17.0                  60.0   0.9980  3.16       0.58   \n",
       "4                 11.0                  34.0   0.9978  3.51       0.56   \n",
       "\n",
       "   alcohol  quality  \n",
       "0      9.4        5  \n",
       "1      9.8        5  \n",
       "2      9.8        5  \n",
       "3      9.8        6  \n",
       "4      9.4        5  "
      ]
     },
     "execution_count": 4,
     "metadata": {},
     "output_type": "execute_result"
    }
   ],
   "source": [
    "df = pd.read_csv('data/winequality-red.csv', sep=';')  # 로컬 파일 읽기\n",
    "df.head()"
   ]
  },
  {
   "cell_type": "markdown",
   "metadata": {},
   "source": [
    "파일을 로컬로 저장하지 않고 웹에서 바로 데이터프레임으로 읽기"
   ]
  },
  {
   "cell_type": "code",
   "execution_count": 5,
   "metadata": {
    "collapsed": false
   },
   "outputs": [
    {
     "data": {
      "text/html": [
       "<div>\n",
       "<table border=\"1\" class=\"dataframe\">\n",
       "  <thead>\n",
       "    <tr style=\"text-align: right;\">\n",
       "      <th></th>\n",
       "      <th>fixed acidity</th>\n",
       "      <th>volatile acidity</th>\n",
       "      <th>citric acid</th>\n",
       "      <th>residual sugar</th>\n",
       "      <th>chlorides</th>\n",
       "      <th>free sulfur dioxide</th>\n",
       "      <th>total sulfur dioxide</th>\n",
       "      <th>density</th>\n",
       "      <th>pH</th>\n",
       "      <th>sulphates</th>\n",
       "      <th>alcohol</th>\n",
       "      <th>quality</th>\n",
       "    </tr>\n",
       "  </thead>\n",
       "  <tbody>\n",
       "    <tr>\n",
       "      <th>1594</th>\n",
       "      <td>6.2</td>\n",
       "      <td>0.600</td>\n",
       "      <td>0.08</td>\n",
       "      <td>2.0</td>\n",
       "      <td>0.090</td>\n",
       "      <td>32.0</td>\n",
       "      <td>44.0</td>\n",
       "      <td>0.99490</td>\n",
       "      <td>3.45</td>\n",
       "      <td>0.58</td>\n",
       "      <td>10.5</td>\n",
       "      <td>5</td>\n",
       "    </tr>\n",
       "    <tr>\n",
       "      <th>1595</th>\n",
       "      <td>5.9</td>\n",
       "      <td>0.550</td>\n",
       "      <td>0.10</td>\n",
       "      <td>2.2</td>\n",
       "      <td>0.062</td>\n",
       "      <td>39.0</td>\n",
       "      <td>51.0</td>\n",
       "      <td>0.99512</td>\n",
       "      <td>3.52</td>\n",
       "      <td>0.76</td>\n",
       "      <td>11.2</td>\n",
       "      <td>6</td>\n",
       "    </tr>\n",
       "    <tr>\n",
       "      <th>1596</th>\n",
       "      <td>6.3</td>\n",
       "      <td>0.510</td>\n",
       "      <td>0.13</td>\n",
       "      <td>2.3</td>\n",
       "      <td>0.076</td>\n",
       "      <td>29.0</td>\n",
       "      <td>40.0</td>\n",
       "      <td>0.99574</td>\n",
       "      <td>3.42</td>\n",
       "      <td>0.75</td>\n",
       "      <td>11.0</td>\n",
       "      <td>6</td>\n",
       "    </tr>\n",
       "    <tr>\n",
       "      <th>1597</th>\n",
       "      <td>5.9</td>\n",
       "      <td>0.645</td>\n",
       "      <td>0.12</td>\n",
       "      <td>2.0</td>\n",
       "      <td>0.075</td>\n",
       "      <td>32.0</td>\n",
       "      <td>44.0</td>\n",
       "      <td>0.99547</td>\n",
       "      <td>3.57</td>\n",
       "      <td>0.71</td>\n",
       "      <td>10.2</td>\n",
       "      <td>5</td>\n",
       "    </tr>\n",
       "    <tr>\n",
       "      <th>1598</th>\n",
       "      <td>6.0</td>\n",
       "      <td>0.310</td>\n",
       "      <td>0.47</td>\n",
       "      <td>3.6</td>\n",
       "      <td>0.067</td>\n",
       "      <td>18.0</td>\n",
       "      <td>42.0</td>\n",
       "      <td>0.99549</td>\n",
       "      <td>3.39</td>\n",
       "      <td>0.66</td>\n",
       "      <td>11.0</td>\n",
       "      <td>6</td>\n",
       "    </tr>\n",
       "  </tbody>\n",
       "</table>\n",
       "</div>"
      ],
      "text/plain": [
       "      fixed acidity  volatile acidity  citric acid  residual sugar  chlorides  \\\n",
       "1594            6.2             0.600         0.08             2.0      0.090   \n",
       "1595            5.9             0.550         0.10             2.2      0.062   \n",
       "1596            6.3             0.510         0.13             2.3      0.076   \n",
       "1597            5.9             0.645         0.12             2.0      0.075   \n",
       "1598            6.0             0.310         0.47             3.6      0.067   \n",
       "\n",
       "      free sulfur dioxide  total sulfur dioxide  density    pH  sulphates  \\\n",
       "1594                 32.0                  44.0  0.99490  3.45       0.58   \n",
       "1595                 39.0                  51.0  0.99512  3.52       0.76   \n",
       "1596                 29.0                  40.0  0.99574  3.42       0.75   \n",
       "1597                 32.0                  44.0  0.99547  3.57       0.71   \n",
       "1598                 18.0                  42.0  0.99549  3.39       0.66   \n",
       "\n",
       "      alcohol  quality  \n",
       "1594     10.5        5  \n",
       "1595     11.2        6  \n",
       "1596     11.0        6  \n",
       "1597     10.2        5  \n",
       "1598     11.0        6  "
      ]
     },
     "execution_count": 5,
     "metadata": {},
     "output_type": "execute_result"
    }
   ],
   "source": [
    "df2 = pd.read_csv(url, sep=';')\n",
    "df2.tail()"
   ]
  },
  {
   "cell_type": "code",
   "execution_count": 6,
   "metadata": {
    "collapsed": true
   },
   "outputs": [],
   "source": [
    "%matplotlib inline\n",
    "import matplotlib.pyplot as plt"
   ]
  },
  {
   "cell_type": "code",
   "execution_count": 7,
   "metadata": {
    "collapsed": false
   },
   "outputs": [
    {
     "data": {
      "text/plain": [
       "<matplotlib.text.Text at 0x124e4faeb38>"
      ]
     },
     "execution_count": 7,
     "metadata": {},
     "output_type": "execute_result"
    },
    {
     "data": {
      "image/png": "[encoded data removed]",
      "text/plain": [
       "<matplotlib.figure.Figure at 0x124e4f87588>"
      ]
     },
     "metadata": {},
     "output_type": "display_data"
    }
   ],
   "source": [
    "df['quality'].value_counts().plot(kind='barh')\n",
    "plt.ylabel('quality')"
   ]
  },
  {
   "cell_type": "code",
   "execution_count": 8,
   "metadata": {
    "collapsed": false
   },
   "outputs": [
    {
     "data": {
      "text/plain": [
       "<matplotlib.text.Text at 0x124e507e208>"
      ]
     },
     "execution_count": 8,
     "metadata": {},
     "output_type": "execute_result"
    },
    {
     "data": {
      "image/png": "[encoded data removed]",
      "text/plain": [
       "<matplotlib.figure.Figure at 0x124e5030d30>"
      ]
     },
     "metadata": {},
     "output_type": "display_data"
    }
   ],
   "source": [
    "df.ix[:, 0:1].plot(kind='hist')\n",
    "plt.xlabel('fixed acidity (g(tartaric acid)/dm$^3$)')\n",
    "plt.ylabel('count')"
   ]
  },
  {
   "cell_type": "markdown",
   "metadata": {},
   "source": [
    "## 2. 웹 저장소에 있는 excel file 가져오기"
   ]
  },
  {
   "cell_type": "code",
   "execution_count": 9,
   "metadata": {
    "collapsed": true
   },
   "outputs": [],
   "source": [
    "url = 'http://s3.amazonaws.com/assets.datacamp.com/course/importing_data_into_r/latitude.xls'"
   ]
  },
  {
   "cell_type": "code",
   "execution_count": 10,
   "metadata": {
    "collapsed": false
   },
   "outputs": [
    {
     "data": {
      "text/plain": [
       "dict_keys(['1700', '1900'])"
      ]
     },
     "execution_count": 10,
     "metadata": {},
     "output_type": "execute_result"
    }
   ],
   "source": [
    "xl = pd.read_excel(url, sheetname=None)  # all sheets\n",
    "\n",
    "xl.keys()   # sheet names"
   ]
  },
  {
   "cell_type": "code",
   "execution_count": 11,
   "metadata": {
    "collapsed": false
   },
   "outputs": [
    {
     "data": {
      "text/html": [
       "<div>\n",
       "<table border=\"1\" class=\"dataframe\">\n",
       "  <thead>\n",
       "    <tr style=\"text-align: right;\">\n",
       "      <th></th>\n",
       "      <th>country</th>\n",
       "      <th>1700</th>\n",
       "    </tr>\n",
       "  </thead>\n",
       "  <tbody>\n",
       "    <tr>\n",
       "      <th>0</th>\n",
       "      <td>Afghanistan</td>\n",
       "      <td>34.565000</td>\n",
       "    </tr>\n",
       "    <tr>\n",
       "      <th>1</th>\n",
       "      <td>Akrotiri and Dhekelia</td>\n",
       "      <td>34.616667</td>\n",
       "    </tr>\n",
       "    <tr>\n",
       "      <th>2</th>\n",
       "      <td>Albania</td>\n",
       "      <td>41.312000</td>\n",
       "    </tr>\n",
       "    <tr>\n",
       "      <th>3</th>\n",
       "      <td>Algeria</td>\n",
       "      <td>36.720000</td>\n",
       "    </tr>\n",
       "    <tr>\n",
       "      <th>4</th>\n",
       "      <td>American Samoa</td>\n",
       "      <td>-14.307000</td>\n",
       "    </tr>\n",
       "  </tbody>\n",
       "</table>\n",
       "</div>"
      ],
      "text/plain": [
       "                 country       1700\n",
       "0            Afghanistan  34.565000\n",
       "1  Akrotiri and Dhekelia  34.616667\n",
       "2                Albania  41.312000\n",
       "3                Algeria  36.720000\n",
       "4         American Samoa -14.307000"
      ]
     },
     "execution_count": 11,
     "metadata": {},
     "output_type": "execute_result"
    }
   ],
   "source": [
    "xl['1700'].head()"
   ]
  },
  {
   "cell_type": "markdown",
   "metadata": {},
   "source": [
    "## 3. HTTP requests : requests"
   ]
  },
  {
   "cell_type": "code",
   "execution_count": 12,
   "metadata": {
    "collapsed": true
   },
   "outputs": [],
   "source": [
    "import requests"
   ]
  },
  {
   "cell_type": "code",
   "execution_count": 13,
   "metadata": {
    "collapsed": false
   },
   "outputs": [
    {
     "data": {
      "text/plain": [
       "'<!DOCTYPE HTML> <html lang=\"ko\"> <head><meta charset=\"euc-kr\"><meta http-equiv=\"X-UA-Compatible\" content=\"IE=edge\"><meta http-equiv=\"refresh\" content=\"600\" /><meta name=\"viewport\" content=\"width=1023\" />                                                                                                                                                                                                                                                                                                                                                                                    <meta property=\"og:title\"       content=\"경제 금융 : 네이버뉴스\"><meta property=\"og:type\"        content=\"website\"><meta property=\"og:url\"         content=\"http://news.naver.com/main/list.nhn?mode=LS2D&mid=shm&sid1=101&sid2=259\"><meta property=\"og:image\"       content=\"http://static.news.naver.net/image/news/ogtag/navernews_200x200_20160804.png\"/><meta property=\"og:description\" content=\"각 언론사별 금융 기사 제공\"><meta name=\"twitter:card\"\\t\\t'"
      ]
     },
     "execution_count": 13,
     "metadata": {},
     "output_type": "execute_result"
    }
   ],
   "source": [
    "url = 'http://news.naver.com/main/list.nhn?mode=LS2D&mid=shm&sid1=101&sid2=259'\n",
    "\n",
    "r = requests.get(url)\n",
    "\n",
    "text = r.text\n",
    "text = \"\".join(text.split('\\r\\n'))    # 텍스트를 쪼갠 후 다시 합침.\n",
    "text[:1000]"
   ]
  },
  {
   "cell_type": "markdown",
   "metadata": {},
   "source": [
    "## 4. BeautifulSoup : HTML parsing"
   ]
  },
  {
   "cell_type": "code",
   "execution_count": 1,
   "metadata": {
    "collapsed": true
   },
   "outputs": [],
   "source": [
    "import requests\n",
    "from bs4 import BeautifulSoup"
   ]
  },
  {
   "cell_type": "code",
   "execution_count": 2,
   "metadata": {
    "collapsed": true
   },
   "outputs": [],
   "source": [
    "url = 'http://finance.naver.com/news/news_list.nhn?mode=LSS2D&section_id=101&section_id2=258'  # 네이버 금융 뉴스\n",
    "\n",
    "r = requests.get(url)\n",
    "html_doc = r.text"
   ]
  },
  {
   "cell_type": "code",
   "execution_count": 16,
   "metadata": {
    "collapsed": false
   },
   "outputs": [
    {
     "data": {
      "text/plain": [
       "'<!--  global include --><html lang=\"ko\"> <head>  <title>   네이버 금융  </title>  <meta content=\"text/html; charset=utf-8\" http-equiv=\"Content-Type\"/>  <meta content=\"text/javascript\" http-equiv=\"Content-Script-Type\"/>  <meta content=\"text/css\" http-equiv=\"Content-Style-Type\"/>  <meta content=\"http://finance.naver.com/news/news_list.nhn?mode=LSS2D&amp;section_id=101&amp;section_id2=258&amp;type=0\" property=\"og:url\"/>  <meta content=\"실시간 속보 : 네이버 금융\" property=\"og:title\"/>  <meta content=\"관심종목의 실시간 주가를 가장 빠르게 확인하는 곳\" property=\"og:description\"/>  <meta content=\"http://static.naver.net/m/stock/im/2016/08/og_stock-200.png\" property=\"og:image\"/>  <meta content=\"article\" property=\"og:type\"/>  <meta content=\"\" property=\"og:article:thumbnailUrl\"/>  <meta content=\"네이버금융\" property=\"og:article:author\"/>  <meta content=\"http://FINANCE.NAVER.COM\" property=\"og:article:author:url\"/>  <link href=\"http://finance.naver.com/css/finance_header.css?20170323063447\" rel=\"stylesheet\" type=\"text/css\"/>  <link href=\"http://finance.naver.com/css/newstock.css?20170323063447\" rel=\"stylesheet\" type=\"text/css\"/>  <link href=\"http://finance.naver.com/css/common.css?20170323063447\" rel=\"stylesheet\" type=\"text/css\"/>  <link href=\"http://finance.naver.com/css/layout.css?20170323063447\" rel=\"stylesheet\" type=\"text/css\"/>  <link href=\"http://finance.naver.com/css/main.css?20170323063447\" rel=\"stylesheet\" type=\"text/css\"/>  <link href=\"http://finance.naver.com/css/newstock2.css?20170323063447\" rel=\"stylesheet\" type=\"text/css\"/>  <link href=\"http://finance.naver.com/css/newstock3.css?20170323063447\" rel=\"stylesheet\" type=\"text/css\"/>  <link href=\"http://finance.naver.com/css/world.css?20170323063447\" rel=\"stylesheet\" type=\"text/css\"/>  <script src=\"/js/jindo.min.ns.1.5.3.euckr.js?20170323063447\" type=\"text/javascript\">  </script>  <script src=\"/js/release/common.js?20170323063447\" type=\"text/javascript\">  </script>  <script src=\"/js/jindoComponent/jindo.Component.1.0.3.js?20170323063447\" type=\"text/javascript\"'"
      ]
     },
     "execution_count": 16,
     "metadata": {},
     "output_type": "execute_result"
    }
   ],
   "source": [
    "# Create a BeautifulSoup object from the HTML\n",
    "soup = BeautifulSoup(html_doc, \"lxml\")\n",
    "pretty_soup = soup.prettify()\n",
    "pretty_soup = \"\".join(pretty_soup.split('\\n'))\n",
    "pretty_soup[0:2000]"
   ]
  },
  {
   "cell_type": "code",
   "execution_count": 17,
   "metadata": {
    "collapsed": false
   },
   "outputs": [
    {
     "data": {
      "text/plain": [
       "<title>네이버 금융</title>"
      ]
     },
     "execution_count": 17,
     "metadata": {},
     "output_type": "execute_result"
    }
   ],
   "source": [
    "page_title = soup.title\n",
    "page_title"
   ]
  },
  {
   "cell_type": "code",
   "execution_count": 18,
   "metadata": {
    "collapsed": false
   },
   "outputs": [
    {
     "name": "stdout",
     "output_type": "stream",
     "text": [
      "[주간추천주]신한금융투자\n",
      "/news/news_read.nhn?article_id=0003794235&office_id=018&mode=LSS3D&type=0&section_id=101&section_id2=258&section_id3=401\n",
      "\"코스닥과 중소형주 강세 5월까지 지속될 것\"\n",
      "/news/news_read.nhn?article_id=0003970489&office_id=277&mode=LSS3D&type=0&section_id=101&section_id2=258&section_id3=401\n",
      "[M&A의 비밀①]역사상 국내 최대 M&A는?\n",
      "/news/news_read.nhn?article_id=0003794196&office_id=018&mode=LSS3D&type=0&section_id=101&section_id2=258&section_id3=401\n",
      "물류수송 편리한 산업단지 ‘의왕테크노파크’, 수도권 기업체 관심\n",
      "/news/news_read.nhn?article_id=0003010459&office_id=011&mode=LSS3D&type=0&section_id=101&section_id2=258&section_id3=401\n",
      "다음주 코스피 2130~2180 전망…美 재무부 환율보고서 불확실성\n",
      "/news/news_read.nhn?article_id=0003970473&office_id=277&mode=LSS3D&type=0&section_id=101&section_id2=258&section_id3=401\n",
      "[뉴욕증시 마감] 시리아 공습·부진한 고용지표에 약보합\n",
      "/news/news_read.nhn?article_id=0003794158&office_id=018&mode=LSS3D&type=0&section_id=101&section_id2=258&section_id3=401\n",
      "[M&A의 비밀②]M&A로 성장한 국내 최대 기업은?\n",
      "/news/news_read.nhn?article_id=0003794155&office_id=018&mode=LSS3D&type=0&section_id=101&section_id2=258&section_id3=401\n",
      "\"삼성전자, 견조한 실적흐름 가속화 예상\"\n",
      "/news/news_read.nhn?article_id=0003970464&office_id=277&mode=LSS3D&type=0&section_id=101&section_id2=258&section_id3=401\n",
      "[표]해외 한국 DR 주간등락률\n",
      "/news/news_read.nhn?article_id=0003794140&office_id=018&mode=LSS3D&type=0&section_id=101&section_id2=258&section_id3=401\n",
      "성공이란 초라한 현재를 넘어 미래의 잠재력을 보는 것\n",
      "/news/news_read.nhn?article_id=0003853365&office_id=008&mode=LSS3D&type=0&section_id=101&section_id2=258&section_id3=401\n"
     ]
    }
   ],
   "source": [
    "# 'a' 태그 검색\n",
    "a_tags = soup.find_all('a')\n",
    "\n",
    "for link in a_tags:\n",
    "    title = link.get('title')\n",
    "    href = link.get('href')\n",
    "    if (href.find('LSS3D') > 0) & (title != None):   # 타이틀이 있고 특정 단어 포함한 링크만 출력\n",
    "        print(link.get('title'))\n",
    "        print(link.get('href'))"
   ]
  },
  {
   "cell_type": "markdown",
   "metadata": {},
   "source": [
    "## 5. lxml.html 사용 - 네이버 뉴스 검색"
   ]
  },
  {
   "cell_type": "markdown",
   "metadata": {},
   "source": [
    "<a class=\"> : 링크에 class 태그 있는 경우"
   ]
  },
  {
   "cell_type": "code",
   "execution_count": 36,
   "metadata": {
    "collapsed": true
   },
   "outputs": [],
   "source": [
    "import requests\n",
    "import lxml.html\n",
    "from urllib.parse import quote_plus"
   ]
  },
  {
   "cell_type": "code",
   "execution_count": 37,
   "metadata": {
    "collapsed": false
   },
   "outputs": [],
   "source": [
    "# 검색단어. 네이버는 인코딩을 바꿔주어야 한다.\n",
    "word = '딥러닝'\n",
    "word_percent = quote_plus(word.encode('cp949'))"
   ]
  },
  {
   "cell_type": "code",
   "execution_count": 38,
   "metadata": {
    "collapsed": false
   },
   "outputs": [],
   "source": [
    "# 날짜 범위\n",
    "startDate = '2017-04-01'\n",
    "endDate = '2017-04-07'"
   ]
  },
  {
   "cell_type": "code",
   "execution_count": 39,
   "metadata": {
    "collapsed": false
   },
   "outputs": [
    {
     "data": {
      "text/plain": [
       "'http://news.naver.com/main/search/search.nhn?refresh=&so=rel.dsc&stPhoto=&stPaper=&stRelease=&ie=MS949&detail=0&rcsection=&sm=all.basic&pd=4&query=%B5%F6%B7%AF%B4%D7&startDate=2017-04-01&endDate=2017-04-07&page=1'"
      ]
     },
     "execution_count": 39,
     "metadata": {},
     "output_type": "execute_result"
    }
   ],
   "source": [
    "url = ('http://news.naver.com/main/search/search.nhn?refresh=&so=rel.dsc&stPhoto=&stPaper='\n",
    "       '&stRelease=&ie=MS949&detail=0&rcsection=&sm=all.basic&pd=4&'\n",
    "       'query={query}&startDate={start}&endDate={end}&page={page}')\n",
    "\n",
    "url.format(query=word_percent, start=startDate, end=endDate, page=1)"
   ]
  },
  {
   "cell_type": "code",
   "execution_count": 41,
   "metadata": {
    "collapsed": false
   },
   "outputs": [],
   "source": [
    "# 뉴스 기사 크롤링 - 5 페이지\n",
    "articles = []\n",
    "\n",
    "for page in range(1, 5): \n",
    "    page_url = url.format(query=word_percent, start=startDate, end=endDate, page=page)\n",
    "    res = requests.get(page_url)\n",
    "    root = lxml.html.fromstring(res.text)\n",
    "    titles = root.cssselect('a.go_naver')\n",
    "    for title in titles:\n",
    "        article_url = title.attrib['href']\n",
    "        art_res = requests.get(article_url)\n",
    "        art_root = lxml.html.fromstring(art_res.text)\n",
    "        body = art_root.cssselect('#articleBodyContents')[0]\n",
    "        articles.append(body.text_content())"
   ]
  },
  {
   "cell_type": "code",
   "execution_count": 42,
   "metadata": {
    "collapsed": false
   },
   "outputs": [
    {
     "data": {
      "text/plain": [
       "32"
      ]
     },
     "execution_count": 42,
     "metadata": {},
     "output_type": "execute_result"
    }
   ],
   "source": [
    "len(articles)"
   ]
  },
  {
   "cell_type": "code",
   "execution_count": 43,
   "metadata": {
    "collapsed": false
   },
   "outputs": [
    {
     "data": {
      "text/plain": [
       "'\\n\\t\\n\\t\\n\\n\\n\\n// flash 오류를 우회하기 위한 함수 추가\\nfunction _flash_removeCallback() {}\\n\\n\\t\\n\\t\"프리퍼드네트웍스와 \\'체이너\\' 프레임워크 공동 개발\"(지디넷코리아=임민철 기자)[도쿄(일본)=임민철 기자]인텔이 딥러닝 분야에서 구글과 경쟁하는 기술을 개발하고 있다는 일본의 스타트업 \\'프리퍼드네트웍스(PFN)\\'와 협력하기로 했다.인텔은 6일 일본 도쿄에서 PFN이라는 현지 스타트업과 함께 \\'체이너(Chainer)\\'라는 오픈소스 딥러닝 프레임워크를 개발하기로 했다고 밝혔다. 이 발표는 AI 시장 대응을 위한 사업전략 및 관련 기술 로드맵을 소개하는 \\'인텔AI데이\\' 컨퍼런스를 진행하면서 나왔다.체이너는 PFN이 지난 2015년 6월 오픈소스로 공개한 파이썬 기반의 프레임워크다. 인텔은 앞으로 체이너 프레임워크 개발을 위해 PFN와 협력한다. 체이너를 통해 인텔 아키텍처 기반의 범용 컴퓨팅 인프라에서 딥러닝의 성능을 끌어낼 수 있는 결과물을 제공하겠다는 계획이다.                      인텔이 2017년 4월 6일 일본 도쿄 AI데이 현장에서 딥러닝 스타트업 프리퍼드네트웍스(PFN)가 만든 오픈소스 프레임워크 체이너(Chainer)를 함께 개발하기로 했다고 발표했다.양사 협력은 다음 5가지 활동으로 구체화한다. 첫째, 인텔아키텍처 기반 체이너 성능을 지속 최적화한다. 둘째, 체이너 업데이트에 지속 대응한다. 셋째, 범용 컴퓨팅, 가속기, 라이브러리 등을 포함한 인텔 아키텍처에 체이너를 최적화해 지속 갱신한다. 넷째, 양사 협력의 결과를 인텔의 깃허브 프로젝트 저장소 커뮤니티와 공유한다. 다섯째, AI 및 딥러닝 시장 성장을 앞당길 마케팅에 힘을 모은다.인텔은 제온, 제온파이, 아리아(Arria) 10 FPGA 시리즈, 너바나(Nervana)를 비롯한 주요 프로세서 제품을 AI 시대에 걸맞는 솔루션의 일부로 내걸고 있다. 체이너 프레임워크는 이런 AI용 하드웨어 솔루션의 성능을 최대한 끌어낼 수 있는 인텔 매쓰커널라이브러리(MKL) 및 MKL 딥뉴럴넷(DNN) 등 오픈소스소프트웨어 라이브러리를 기본 구성요소로 활용할 예정이다.                      토루 니시카와 프리퍼드네트웍스(PFN) 최고경영자체이너가 뭐고 이를 만든 PFN은 어떤 회사이기에, 인텔이 이렇게 공들여 협력하겠다는 계획을 내놓은 걸까.토루 니시카와 PFN 최고경영자는 \"도요타, 화낙, NTT, 엔비디아, 시스코, 인텔과 협력하고 있다\"며 \"기업들이 사물인터넷(IoT) 환경 운영에 필요한 딥러닝을 위해 체이너를 활용 중인데, 체이너가 인텔 아키텍처에 최적화하면 AI와 딥러닝 개발자에게 이익이 될 것\"이라고 전망했다.그간 개발자들은 인공지능(AI) 애플리케이션 및 딥러닝 프레임워크를 개발하고 구현하기 위해 특수목적 컴퓨팅 환경을 갖추는 데 어려움이 있었다. 많은 시간과 비용이 들고 개발 복잡성도 감수해야 했다는 지적이다. 체이너는 이런 부담을 덜어줄 수단으로 묘사됐다.                      프리퍼드네트웍스(PFN) 측이 제시한 딥러닝 프레임워크 체이너의 성능 측정 벤치마크. 이미지넷 분류 훈련시간 기준으로 구글 텐서플로를 비롯한 기존 기술보다 나은 성능을 보여 준다.PFN 측은 2년 전 체이너 공개 후 자신들이 \\'기술로 구글을 앞서는 게 목표\\'라 공언했다. 구글이 기존 머신러닝 라이브러리 \\'디스트빌리프\\'와 이를 대체한 \\'텐서플로(TensorFlow)\\'보다 나은 기술을 확보하겠다는 뜻이었다. 인텔이 딥러닝 API 변환툴로 선보인 \\'너바나그래프\\'가 구글 텐서플로를 지원하고 있는데, 인텔은 이와 별개로 PFN의 체이너 역시 주요 AI 관련 기술로 인식하고 투자에 나선 모양새다.디파인바이런(Define-by-Run)이라는 기능이 체이너의 기술적 특징으로 강조됐다. PFN의 설명에 따르면 이는 딥러닝 구현시 복잡한 신경망 설계를 쉽고 직관적으로 하게 해준다. 토치(Torch), 카페(Caffe), 테아노(Theano) 등 기존 프레임워크의 디파인앤드런(Define-and-Run) 방식과 차별화되는 지점이다.PFN은 그간 일본 제조 기업들과의 협력 성과로도 이름을 알렸다. 2014년부터 도요타와 자율주행차량 개발을 위해 협력 중이며, 2015년부터는 파나소닉과 운전자보조시스템 개발을 위해 손을 잡았고, 산업용 로봇 제조사 화낙(Fanuc)과도 파트너십을 맺고 있다. 미국 시스코시스템즈와도 통신장비 제조에 딥러닝 기술을 심기 위해 협업하고 있다.임민철 기자(imc@zdnet.co.kr)\\n\\t\\n\\t'"
      ]
     },
     "execution_count": 43,
     "metadata": {},
     "output_type": "execute_result"
    }
   ],
   "source": [
    "articles[0]"
   ]
  },
  {
   "cell_type": "code",
   "execution_count": 48,
   "metadata": {
    "collapsed": false
   },
   "outputs": [
    {
     "data": {
      "text/plain": [
       "'// \"프리퍼드네트웍스와 \\'체이너\\' 프레임워크 공동 개발\"(지디넷코리아=임민철 기자)[도쿄(일본)=임민철 기자]인텔이 딥러닝 분야에서 구글과 경쟁하는 기술을 개발하고 있다는 일본의 스타트업 \\'프리퍼드네트웍스(PFN)\\'와 협력하기로 했다.인텔은 6일 일본 도쿄에서 PFN이라는 현지 스타트업과 함께 \\'체이너(Chainer)\\'라는 오픈소스 딥러닝 프레임워크를 개발하기로 했다고 밝혔다. 이 발표는 AI 시장 대응을 위한 사업전략 및 관련 기술 로드맵을 소개하는 \\'인텔AI데이\\' 컨퍼런스를 진행하면서 나왔다.체이너는 PFN이 지난 2015년 6월 오픈소스로 공개한 파이썬 기반의 프레임워크다. 인텔은 앞으로 체이너 프레임워크 개발을 위해 PFN와 협력한다. 체이너를 통해 인텔 아키텍처 기반의 범용 컴퓨팅 인프라에서 딥러닝의 성능을 끌어낼 수 있는 결과물을 제공하겠다는 계획이다.                      인텔이 2017년 4월 6일 일본 도쿄 AI데이 현장에서 딥러닝 스타트업 프리퍼드네트웍스(PFN)가 만든 오픈소스 프레임워크 체이너(Chainer)를 함께 개발하기로 했다고 발표했다.양사 협력은 다음 5가지 활동으로 구체화한다. 첫째, 인텔아키텍처 기반 체이너 성능을 지속 최적화한다. 둘째, 체이너 업데이트에 지속 대응한다. 셋째, 범용 컴퓨팅, 가속기, 라이브러리 등을 포함한 인텔 아키텍처에 체이너를 최적화해 지속 갱신한다. 넷째, 양사 협력의 결과를 인텔의 깃허브 프로젝트 저장소 커뮤니티와 공유한다. 다섯째, AI 및 딥러닝 시장 성장을 앞당길 마케팅에 힘을 모은다.인텔은 제온, 제온파이, 아리아(Arria) 10 FPGA 시리즈, 너바나(Nervana)를 비롯한 주요 프로세서 제품을 AI 시대에 걸맞는 솔루션의 일부로 내걸고 있다. 체이너 프레임워크는 이런 AI용 하드웨어 솔루션의 성능을 최대한 끌어낼 수 있는 인텔 매쓰커널라이브러리(MKL) 및 MKL 딥뉴럴넷(DNN) 등 오픈소스소프트웨어 라이브러리를 기본 구성요소로 활용할 예정이다.                      토루 니시카와 프리퍼드네트웍스(PFN) 최고경영자체이너가 뭐고 이를 만든 PFN은 어떤 회사이기에, 인텔이 이렇게 공들여 협력하겠다는 계획을 내놓은 걸까.토루 니시카와 PFN 최고경영자는 \"도요타, 화낙, NTT, 엔비디아, 시스코, 인텔과 협력하고 있다\"며 \"기업들이 사물인터넷(IoT) 환경 운영에 필요한 딥러닝을 위해 체이너를 활용 중인데, 체이너가 인텔 아키텍처에 최적화하면 AI와 딥러닝 개발자에게 이익이 될 것\"이라고 전망했다.그간 개발자들은 인공지능(AI) 애플리케이션 및 딥러닝 프레임워크를 개발하고 구현하기 위해 특수목적 컴퓨팅 환경을 갖추는 데 어려움이 있었다. 많은 시간과 비용이 들고 개발 복잡성도 감수해야 했다는 지적이다. 체이너는 이런 부담을 덜어줄 수단으로 묘사됐다.                      프리퍼드네트웍스(PFN) 측이 제시한 딥러닝 프레임워크 체이너의 성능 측정 벤치마크. 이미지넷 분류 훈련시간 기준으로 구글 텐서플로를 비롯한 기존 기술보다 나은 성능을 보여 준다.PFN 측은 2년 전 체이너 공개 후 자신들이 \\'기술로 구글을 앞서는 게 목표\\'라 공언했다. 구글이 기존 머신러닝 라이브러리 \\'디스트빌리프\\'와 이를 대체한 \\'텐서플로(TensorFlow)\\'보다 나은 기술을 확보하겠다는 뜻이었다. 인텔이 딥러닝 API 변환툴로 선보인 \\'너바나그래프\\'가 구글 텐서플로를 지원하고 있는데, 인텔은 이와 별개로 PFN의 체이너 역시 주요 AI 관련 기술로 인식하고 투자에 나선 모양새다.디파인바이런(Define-by-Run)이라는 기능이 체이너의 기술적 특징으로 강조됐다. PFN의 설명에 따르면 이는 딥러닝 구현시 복잡한 신경망 설계를 쉽고 직관적으로 하게 해준다. 토치(Torch), 카페(Caffe), 테아노(Theano) 등 기존 프레임워크의 디파인앤드런(Define-and-Run) 방식과 차별화되는 지점이다.PFN은 그간 일본 제조 기업들과의 협력 성과로도 이름을 알렸다. 2014년부터 도요타와 자율주행차량 개발을 위해 협력 중이며, 2015년부터는 파나소닉과 운전자보조시스템 개발을 위해 손을 잡았고, 산업용 로봇 제조사 화낙(Fanuc)과도 파트너십을 맺고 있다. 미국 시스코시스템즈와도 통신장비 제조에 딥러닝 기술을 심기 위해 협업하고 있다.임민철 기자(imc@zdnet.co.kr)'"
      ]
     },
     "execution_count": 48,
     "metadata": {},
     "output_type": "execute_result"
    }
   ],
   "source": [
    "# 불필요한 내용 제거\n",
    "articles[0].replace('flash 오류를 우회하기 위한 함수 추가\\nfunction _flash_removeCallback() {}', '').replace('\\n','').replace('\\t','')"
   ]
  },
  {
   "cell_type": "markdown",
   "metadata": {
    "collapsed": false
   },
   "source": [
    "## 6. API & JSON"
   ]
  },
  {
   "cell_type": "markdown",
   "metadata": {},
   "source": [
    "### Open Movie Database (OMDB) API 통해 영화 정보 가져오기"
   ]
  },
  {
   "cell_type": "code",
   "execution_count": 19,
   "metadata": {
    "collapsed": true
   },
   "outputs": [],
   "source": [
    "import requests"
   ]
  },
  {
   "cell_type": "code",
   "execution_count": 20,
   "metadata": {
    "collapsed": false
   },
   "outputs": [
    {
     "data": {
      "text/plain": [
       "'{\"Title\":\"The Avengers\",\"Year\":\"2012\",\"Rated\":\"PG-13\",\"Released\":\"04 May 2012\",\"Runtime\":\"143 min\",\"Genre\":\"Action, Sci-Fi\",\"Director\":\"Joss Whedon\",\"Writer\":\"Joss Whedon (screenplay), Zak Penn (story), Joss Whedon (story)\",\"Actors\":\"Robert Downey Jr., Chris Evans, Mark Ruffalo, Chris Hemsworth\",\"Plot\":\"Earth\\'s mightiest heroes must come together and learn to fight as a team if they are to stop the mischievous Loki and his alien army from enslaving humanity.\",\"Language\":\"English, Russian\",\"Country\":\"USA\",\"Awards\":\"Nominated for 1 Oscar. Another 35 wins & 77 nominations.\",\"Poster\":\"https://images-na.ssl-images-amazon.com/images/M/MV5BMTk2NTI1MTU4N15BMl5BanBnXkFtZTcwODg0OTY0Nw@@._V1_SX300.jpg\",\"Ratings\":[{\"Source\":\"Internet Movie Database\",\"Value\":\"8.1/10\"},{\"Source\":\"Rotten Tomatoes\",\"Value\":\"92%\"},{\"Source\":\"Metacritic\",\"Value\":\"69/100\"}],\"Metascore\":\"69\",\"imdbRating\":\"8.1\",\"imdbVotes\":\"1,037,900\",\"imdbID\":\"tt0848228\",\"Type\":\"movie\",\"DVD\":\"25 Sep 2012\",\"BoxOffice\":\"$623,279,547.00\",\"Production\":\"Walt Disney Pictures\",\"Website\":\"http://marvel.com/avengers_movie\",\"Response\":\"True\"}'"
      ]
     },
     "execution_count": 20,
     "metadata": {},
     "output_type": "execute_result"
    }
   ],
   "source": [
    "url = 'http://www.omdbapi.com/?t=avengers'\n",
    "r = requests.get(url)\n",
    "r.text"
   ]
  },
  {
   "cell_type": "code",
   "execution_count": 21,
   "metadata": {
    "collapsed": false
   },
   "outputs": [
    {
     "name": "stdout",
     "output_type": "stream",
     "text": [
      "Rated:  PG-13\n",
      "Writer:  Joss Whedon (screenplay), Zak Penn (story), Joss Whedon (story)\n",
      "Language:  English, Russian\n",
      "imdbVotes:  1,037,900\n",
      "DVD:  25 Sep 2012\n",
      "Response:  True\n",
      "imdbRating:  8.1\n",
      "Country:  USA\n",
      "Actors:  Robert Downey Jr., Chris Evans, Mark Ruffalo, Chris Hemsworth\n",
      "Website:  http://marvel.com/avengers_movie\n",
      "Title:  The Avengers\n",
      "Released:  04 May 2012\n",
      "Metascore:  69\n",
      "BoxOffice:  $623,279,547.00\n",
      "Awards:  Nominated for 1 Oscar. Another 35 wins & 77 nominations.\n",
      "Type:  movie\n",
      "Production:  Walt Disney Pictures\n",
      "Director:  Joss Whedon\n",
      "Ratings:  [{'Value': '8.1/10', 'Source': 'Internet Movie Database'}, {'Value': '92%', 'Source': 'Rotten Tomatoes'}, {'Value': '69/100', 'Source': 'Metacritic'}]\n",
      "Runtime:  143 min\n",
      "Year:  2012\n",
      "Poster:  https://images-na.ssl-images-amazon.com/images/M/MV5BMTk2NTI1MTU4N15BMl5BanBnXkFtZTcwODg0OTY0Nw@@._V1_SX300.jpg\n",
      "Genre:  Action, Sci-Fi\n",
      "imdbID:  tt0848228\n",
      "Plot:  Earth's mightiest heroes must come together and learn to fight as a team if they are to stop the mischievous Loki and his alien army from enslaving humanity.\n"
     ]
    }
   ],
   "source": [
    "json_data = r.json()\n",
    "\n",
    "# json_data 의 키-값 출력\n",
    "for k in json_data.keys():\n",
    "    print(k + ': ', json_data[k])"
   ]
  },
  {
   "cell_type": "markdown",
   "metadata": {},
   "source": [
    "# 6. Tweeter API"
   ]
  },
  {
   "cell_type": "markdown",
   "metadata": {},
   "source": [
    "* https://dev.twitter.com 접속 후 회원가입\n",
    "* 오른쪽 위 \"My Apps\" 선택\n",
    "* Create New App\n",
    "* 각 항목 입력 후 등록\n",
    "* Keys and Access Tokens 탭으로 이동"
   ]
  },
  {
   "cell_type": "markdown",
   "metadata": {},
   "source": [
    "(콘솔에서) pip3 install tweepy"
   ]
  },
  {
   "cell_type": "code",
   "execution_count": 22,
   "metadata": {
    "collapsed": false
   },
   "outputs": [],
   "source": [
    "import tweepy\n",
    "import json\n",
    "import pandas as pd"
   ]
  },
  {
   "cell_type": "code",
   "execution_count": 23,
   "metadata": {
    "collapsed": false
   },
   "outputs": [],
   "source": [
    "# OAuth authentication credentials\n",
    "access_token = \"719707261-cihmPGdeBpPGF4TtNX8g9NfomwIlttTu2B309R0x\"\n",
    "access_token_secret = \"W45XmzFmFZewfPWPNjrsScnFLYbZAyVyLCN5qrpxbSjr5\"\n",
    "consumer_key = \"Bd9IuuquDvd34YEgohyfQLPuY\"\n",
    "consumer_secret = \"dhxlKev5UPivv4vQMSOjmAXW3yXByTqM2Fj3rjI6uBvEVRPEdC\"\n",
    "\n",
    "# tweepy's OAuth handler\n",
    "auth = tweepy.OAuthHandler(consumer_key, consumer_secret)\n",
    "auth.set_access_token(access_token, access_token_secret)"
   ]
  },
  {
   "cell_type": "code",
   "execution_count": 24,
   "metadata": {
    "collapsed": true
   },
   "outputs": [],
   "source": [
    "# 트위터 데이터 스트리밍 리스너 클래스\n",
    "class TweetStreamListener(tweepy.StreamListener):\n",
    "    def __init__(self, api=None):\n",
    "        super(TweetStreamListener, self).__init__()\n",
    "        self.num_tweets = 0\n",
    "        self.file = open(\"tweets.txt\", \"w\")  # 로컬에 파일로 저장.\n",
    "\n",
    "    def on_status(self, status):\n",
    "        tweet = status._json\n",
    "        self.file.write( json.dumps(tweet) + '\\n' )\n",
    "        self.num_tweets += 1\n",
    "        if self.num_tweets < 100:\n",
    "            return True\n",
    "        else:\n",
    "            return False\n",
    "        self.file.close()\n",
    "\n",
    "    def on_error(self, status):\n",
    "        print(status)"
   ]
  },
  {
   "cell_type": "code",
   "execution_count": 25,
   "metadata": {
    "collapsed": true
   },
   "outputs": [],
   "source": [
    "# 리스너 초기화\n",
    "l = TweetStreamListener()\n",
    "stream = tweepy.Stream(auth, l)\n"
   ]
  },
  {
   "cell_type": "code",
   "execution_count": 26,
   "metadata": {
    "collapsed": false
   },
   "outputs": [],
   "source": [
    "# 키워드\n",
    "stream.filter(track=['clinton', 'trump', 'obama'])"
   ]
  },
  {
   "cell_type": "code",
   "execution_count": 27,
   "metadata": {
    "collapsed": false
   },
   "outputs": [],
   "source": [
    "tweets_data_file = 'tweets.txt'\n",
    "\n",
    "tweets_data = []\n",
    "\n",
    "# 파일을 읽어서 리스트에 담기\n",
    "tweets_file = open(tweets_data_file, \"r\")\n",
    "\n",
    "for line in tweets_file:\n",
    "    tweet = json.loads(line)\n",
    "    tweets_data.append(tweet)\n",
    "\n",
    "tweets_file.close()"
   ]
  },
  {
   "cell_type": "code",
   "execution_count": 28,
   "metadata": {
    "collapsed": false
   },
   "outputs": [
    {
     "data": {
      "text/plain": [
       "dict_keys(['contributors', 'retweet_count', 'timestamp_ms', 'place', 'text', 'retweeted', 'favorite_count', 'id_str', 'in_reply_to_user_id_str', 'entities', 'geo', 'id', 'lang', 'user', 'favorited', 'source', 'is_quote_status', 'in_reply_to_status_id_str', 'created_at', 'filter_level', 'retweeted_status', 'truncated', 'in_reply_to_user_id', 'in_reply_to_status_id', 'coordinates', 'in_reply_to_screen_name'])"
      ]
     },
     "execution_count": 28,
     "metadata": {},
     "output_type": "execute_result"
    }
   ],
   "source": [
    "tweets_data[0].keys()"
   ]
  },
  {
   "cell_type": "code",
   "execution_count": 29,
   "metadata": {
    "collapsed": false
   },
   "outputs": [
    {
     "data": {
      "text/html": [
       "<div>\n",
       "<table border=\"1\" class=\"dataframe\">\n",
       "  <thead>\n",
       "    <tr style=\"text-align: right;\">\n",
       "      <th></th>\n",
       "      <th>text</th>\n",
       "      <th>favorite_count</th>\n",
       "      <th>retweet_count</th>\n",
       "      <th>lang</th>\n",
       "    </tr>\n",
       "  </thead>\n",
       "  <tbody>\n",
       "    <tr>\n",
       "      <th>0</th>\n",
       "      <td>RT @willwilkinson: Whatever you thought was tr...</td>\n",
       "      <td>0</td>\n",
       "      <td>0</td>\n",
       "      <td>en</td>\n",
       "    </tr>\n",
       "    <tr>\n",
       "      <th>1</th>\n",
       "      <td>RT @DaShanneStokes: You may have been able to ...</td>\n",
       "      <td>0</td>\n",
       "      <td>0</td>\n",
       "      <td>en</td>\n",
       "    </tr>\n",
       "    <tr>\n",
       "      <th>2</th>\n",
       "      <td>RT @IngrahamAngle: Trump's America First agend...</td>\n",
       "      <td>0</td>\n",
       "      <td>0</td>\n",
       "      <td>en</td>\n",
       "    </tr>\n",
       "    <tr>\n",
       "      <th>3</th>\n",
       "      <td>https://t.co/IMyVMJVhJ2 - Baltimore police ove...</td>\n",
       "      <td>0</td>\n",
       "      <td>0</td>\n",
       "      <td>en</td>\n",
       "    </tr>\n",
       "    <tr>\n",
       "      <th>4</th>\n",
       "      <td>Was the US missile strike on Syria legal?: htt...</td>\n",
       "      <td>0</td>\n",
       "      <td>0</td>\n",
       "      <td>en</td>\n",
       "    </tr>\n",
       "  </tbody>\n",
       "</table>\n",
       "</div>"
      ],
      "text/plain": [
       "                                                text  favorite_count  \\\n",
       "0  RT @willwilkinson: Whatever you thought was tr...               0   \n",
       "1  RT @DaShanneStokes: You may have been able to ...               0   \n",
       "2  RT @IngrahamAngle: Trump's America First agend...               0   \n",
       "3  https://t.co/IMyVMJVhJ2 - Baltimore police ove...               0   \n",
       "4  Was the US missile strike on Syria legal?: htt...               0   \n",
       "\n",
       "   retweet_count lang  \n",
       "0              0   en  \n",
       "1              0   en  \n",
       "2              0   en  \n",
       "3              0   en  \n",
       "4              0   en  "
      ]
     },
     "execution_count": 29,
     "metadata": {},
     "output_type": "execute_result"
    }
   ],
   "source": [
    "df = pd.DataFrame(tweets_data, columns=['text', 'favorite_count','retweet_count', 'lang'])\n",
    "df.head()"
   ]
  },
  {
   "cell_type": "code",
   "execution_count": 30,
   "metadata": {
    "collapsed": false
   },
   "outputs": [
    {
     "data": {
      "text/plain": [
       "99"
      ]
     },
     "execution_count": 30,
     "metadata": {},
     "output_type": "execute_result"
    }
   ],
   "source": [
    "len(df)"
   ]
  },
  {
   "cell_type": "code",
   "execution_count": 31,
   "metadata": {
    "collapsed": true
   },
   "outputs": [],
   "source": [
    "import re\n",
    "\n",
    "def word_in_text(word, tweet):   # 문장 속에 해당 단어가 있는지 확인.\n",
    "    word = word.lower()\n",
    "    text = tweet.lower()\n",
    "    match = re.search(word, text)\n",
    "    \n",
    "    if match:\n",
    "        return True\n",
    "    return False"
   ]
  },
  {
   "cell_type": "code",
   "execution_count": 32,
   "metadata": {
    "collapsed": false
   },
   "outputs": [],
   "source": [
    "[clinton, trump, obama] = [0, 0, 0]\n",
    "\n",
    "for index, row in df.iterrows():\n",
    "    #print(index, row['text'])\n",
    "    clinton += word_in_text('clinton', row['text'])\n",
    "    trump += word_in_text('trump', row['text'])\n",
    "    obama += word_in_text('obama', row['text'])"
   ]
  },
  {
   "cell_type": "code",
   "execution_count": 33,
   "metadata": {
    "collapsed": false
   },
   "outputs": [],
   "source": [
    "%matplotlib inline\n",
    "import matplotlib.pyplot as plt\n",
    "import seaborn as sns\n",
    "sns.set(color_codes=True)"
   ]
  },
  {
   "cell_type": "code",
   "execution_count": 34,
   "metadata": {
    "collapsed": false
   },
   "outputs": [
    {
     "data": {
      "image/png": "[encoded data removed]",
      "text/plain": [
       "<matplotlib.figure.Figure at 0x124e74f2518>"
      ]
     },
     "metadata": {},
     "output_type": "display_data"
    }
   ],
   "source": [
    "tx = sns.barplot(['clinton', 'trump', 'obama'], [clinton, trump, obama])\n",
    "tx.set(ylabel=\"count\")\n",
    "plt.show()"
   ]
  }
 ],
 "metadata": {
  "anaconda-cloud": {},
  "kernelspec": {
   "display_name": "Python [default]",
   "language": "python",
   "name": "python3"
  },
  "language_info": {
   "codemirror_mode": {
    "name": "ipython",
    "version": 3
   },
   "file_extension": ".py",
   "mimetype": "text/x-python",
   "name": "python",
   "nbconvert_exporter": "python",
   "pygments_lexer": "ipython3",
   "version": "3.5.2"
  }
 },
 "nbformat": 4,
 "nbformat_minor": 2
}
