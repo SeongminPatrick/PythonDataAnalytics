{
 "cells": [
  {
   "cell_type": "markdown",
   "metadata": {},
   "source": [
    "# Import Data from Web"
   ]
  },
  {
   "cell_type": "markdown",
   "metadata": {},
   "source": [
    "## 웹 저장소에 있는 flat file 가져오기"
   ]
  },
  {
   "cell_type": "code",
   "execution_count": 1,
   "metadata": {
    "collapsed": true
   },
   "outputs": [],
   "source": [
    "from urllib.request import urlretrieve\n",
    "import pandas as pd"
   ]
  },
  {
   "cell_type": "code",
   "execution_count": 2,
   "metadata": {
    "collapsed": true
   },
   "outputs": [],
   "source": [
    "# 레드 와인의 물리화학적 성분과 품질 등급 : University of California, Irvine\n",
    "url = 'https://s3.amazonaws.com/assets.datacamp.com/production/course_1606/datasets/winequality-red.csv'"
   ]
  },
  {
   "cell_type": "markdown",
   "metadata": {},
   "source": [
    "로컬에 파일로 저장한 후 데이터 읽기"
   ]
  },
  {
   "cell_type": "code",
   "execution_count": 3,
   "metadata": {
    "collapsed": false
   },
   "outputs": [
    {
     "data": {
      "text/plain": [
       "('data/winequality-red.csv', <http.client.HTTPMessage at 0x111963fd0>)"
      ]
     },
     "execution_count": 3,
     "metadata": {},
     "output_type": "execute_result"
    }
   ],
   "source": [
    "urlretrieve(url, 'data/winequality-red.csv')"
   ]
  },
  {
   "cell_type": "code",
   "execution_count": 4,
   "metadata": {
    "collapsed": false
   },
   "outputs": [
    {
     "data": {
      "text/html": [
       "<div>\n",
       "<table border=\"1\" class=\"dataframe\">\n",
       "  <thead>\n",
       "    <tr style=\"text-align: right;\">\n",
       "      <th></th>\n",
       "      <th>fixed acidity</th>\n",
       "      <th>volatile acidity</th>\n",
       "      <th>citric acid</th>\n",
       "      <th>residual sugar</th>\n",
       "      <th>chlorides</th>\n",
       "      <th>free sulfur dioxide</th>\n",
       "      <th>total sulfur dioxide</th>\n",
       "      <th>density</th>\n",
       "      <th>pH</th>\n",
       "      <th>sulphates</th>\n",
       "      <th>alcohol</th>\n",
       "      <th>quality</th>\n",
       "    </tr>\n",
       "  </thead>\n",
       "  <tbody>\n",
       "    <tr>\n",
       "      <th>0</th>\n",
       "      <td>7.4</td>\n",
       "      <td>0.70</td>\n",
       "      <td>0.00</td>\n",
       "      <td>1.9</td>\n",
       "      <td>0.076</td>\n",
       "      <td>11.0</td>\n",
       "      <td>34.0</td>\n",
       "      <td>0.9978</td>\n",
       "      <td>3.51</td>\n",
       "      <td>0.56</td>\n",
       "      <td>9.4</td>\n",
       "      <td>5</td>\n",
       "    </tr>\n",
       "    <tr>\n",
       "      <th>1</th>\n",
       "      <td>7.8</td>\n",
       "      <td>0.88</td>\n",
       "      <td>0.00</td>\n",
       "      <td>2.6</td>\n",
       "      <td>0.098</td>\n",
       "      <td>25.0</td>\n",
       "      <td>67.0</td>\n",
       "      <td>0.9968</td>\n",
       "      <td>3.20</td>\n",
       "      <td>0.68</td>\n",
       "      <td>9.8</td>\n",
       "      <td>5</td>\n",
       "    </tr>\n",
       "    <tr>\n",
       "      <th>2</th>\n",
       "      <td>7.8</td>\n",
       "      <td>0.76</td>\n",
       "      <td>0.04</td>\n",
       "      <td>2.3</td>\n",
       "      <td>0.092</td>\n",
       "      <td>15.0</td>\n",
       "      <td>54.0</td>\n",
       "      <td>0.9970</td>\n",
       "      <td>3.26</td>\n",
       "      <td>0.65</td>\n",
       "      <td>9.8</td>\n",
       "      <td>5</td>\n",
       "    </tr>\n",
       "    <tr>\n",
       "      <th>3</th>\n",
       "      <td>11.2</td>\n",
       "      <td>0.28</td>\n",
       "      <td>0.56</td>\n",
       "      <td>1.9</td>\n",
       "      <td>0.075</td>\n",
       "      <td>17.0</td>\n",
       "      <td>60.0</td>\n",
       "      <td>0.9980</td>\n",
       "      <td>3.16</td>\n",
       "      <td>0.58</td>\n",
       "      <td>9.8</td>\n",
       "      <td>6</td>\n",
       "    </tr>\n",
       "    <tr>\n",
       "      <th>4</th>\n",
       "      <td>7.4</td>\n",
       "      <td>0.70</td>\n",
       "      <td>0.00</td>\n",
       "      <td>1.9</td>\n",
       "      <td>0.076</td>\n",
       "      <td>11.0</td>\n",
       "      <td>34.0</td>\n",
       "      <td>0.9978</td>\n",
       "      <td>3.51</td>\n",
       "      <td>0.56</td>\n",
       "      <td>9.4</td>\n",
       "      <td>5</td>\n",
       "    </tr>\n",
       "  </tbody>\n",
       "</table>\n",
       "</div>"
      ],
      "text/plain": [
       "   fixed acidity  volatile acidity  citric acid  residual sugar  chlorides  \\\n",
       "0            7.4              0.70         0.00             1.9      0.076   \n",
       "1            7.8              0.88         0.00             2.6      0.098   \n",
       "2            7.8              0.76         0.04             2.3      0.092   \n",
       "3           11.2              0.28         0.56             1.9      0.075   \n",
       "4            7.4              0.70         0.00             1.9      0.076   \n",
       "\n",
       "   free sulfur dioxide  total sulfur dioxide  density    pH  sulphates  \\\n",
       "0                 11.0                  34.0   0.9978  3.51       0.56   \n",
       "1                 25.0                  67.0   0.9968  3.20       0.68   \n",
       "2                 15.0                  54.0   0.9970  3.26       0.65   \n",
       "3                 17.0                  60.0   0.9980  3.16       0.58   \n",
       "4                 11.0                  34.0   0.9978  3.51       0.56   \n",
       "\n",
       "   alcohol  quality  \n",
       "0      9.4        5  \n",
       "1      9.8        5  \n",
       "2      9.8        5  \n",
       "3      9.8        6  \n",
       "4      9.4        5  "
      ]
     },
     "execution_count": 4,
     "metadata": {},
     "output_type": "execute_result"
    }
   ],
   "source": [
    "df = pd.read_csv('data/winequality-red.csv', sep=';')  # 로컬 파일 읽기\n",
    "df.head()"
   ]
  },
  {
   "cell_type": "markdown",
   "metadata": {},
   "source": [
    "파일을 로컬로 저장하지 않고 웹에서 바로 데이터프레임으로 읽기"
   ]
  },
  {
   "cell_type": "code",
   "execution_count": 5,
   "metadata": {
    "collapsed": false
   },
   "outputs": [
    {
     "data": {
      "text/html": [
       "<div>\n",
       "<table border=\"1\" class=\"dataframe\">\n",
       "  <thead>\n",
       "    <tr style=\"text-align: right;\">\n",
       "      <th></th>\n",
       "      <th>fixed acidity</th>\n",
       "      <th>volatile acidity</th>\n",
       "      <th>citric acid</th>\n",
       "      <th>residual sugar</th>\n",
       "      <th>chlorides</th>\n",
       "      <th>free sulfur dioxide</th>\n",
       "      <th>total sulfur dioxide</th>\n",
       "      <th>density</th>\n",
       "      <th>pH</th>\n",
       "      <th>sulphates</th>\n",
       "      <th>alcohol</th>\n",
       "      <th>quality</th>\n",
       "    </tr>\n",
       "  </thead>\n",
       "  <tbody>\n",
       "    <tr>\n",
       "      <th>1594</th>\n",
       "      <td>6.2</td>\n",
       "      <td>0.600</td>\n",
       "      <td>0.08</td>\n",
       "      <td>2.0</td>\n",
       "      <td>0.090</td>\n",
       "      <td>32.0</td>\n",
       "      <td>44.0</td>\n",
       "      <td>0.99490</td>\n",
       "      <td>3.45</td>\n",
       "      <td>0.58</td>\n",
       "      <td>10.5</td>\n",
       "      <td>5</td>\n",
       "    </tr>\n",
       "    <tr>\n",
       "      <th>1595</th>\n",
       "      <td>5.9</td>\n",
       "      <td>0.550</td>\n",
       "      <td>0.10</td>\n",
       "      <td>2.2</td>\n",
       "      <td>0.062</td>\n",
       "      <td>39.0</td>\n",
       "      <td>51.0</td>\n",
       "      <td>0.99512</td>\n",
       "      <td>3.52</td>\n",
       "      <td>0.76</td>\n",
       "      <td>11.2</td>\n",
       "      <td>6</td>\n",
       "    </tr>\n",
       "    <tr>\n",
       "      <th>1596</th>\n",
       "      <td>6.3</td>\n",
       "      <td>0.510</td>\n",
       "      <td>0.13</td>\n",
       "      <td>2.3</td>\n",
       "      <td>0.076</td>\n",
       "      <td>29.0</td>\n",
       "      <td>40.0</td>\n",
       "      <td>0.99574</td>\n",
       "      <td>3.42</td>\n",
       "      <td>0.75</td>\n",
       "      <td>11.0</td>\n",
       "      <td>6</td>\n",
       "    </tr>\n",
       "    <tr>\n",
       "      <th>1597</th>\n",
       "      <td>5.9</td>\n",
       "      <td>0.645</td>\n",
       "      <td>0.12</td>\n",
       "      <td>2.0</td>\n",
       "      <td>0.075</td>\n",
       "      <td>32.0</td>\n",
       "      <td>44.0</td>\n",
       "      <td>0.99547</td>\n",
       "      <td>3.57</td>\n",
       "      <td>0.71</td>\n",
       "      <td>10.2</td>\n",
       "      <td>5</td>\n",
       "    </tr>\n",
       "    <tr>\n",
       "      <th>1598</th>\n",
       "      <td>6.0</td>\n",
       "      <td>0.310</td>\n",
       "      <td>0.47</td>\n",
       "      <td>3.6</td>\n",
       "      <td>0.067</td>\n",
       "      <td>18.0</td>\n",
       "      <td>42.0</td>\n",
       "      <td>0.99549</td>\n",
       "      <td>3.39</td>\n",
       "      <td>0.66</td>\n",
       "      <td>11.0</td>\n",
       "      <td>6</td>\n",
       "    </tr>\n",
       "  </tbody>\n",
       "</table>\n",
       "</div>"
      ],
      "text/plain": [
       "      fixed acidity  volatile acidity  citric acid  residual sugar  chlorides  \\\n",
       "1594            6.2             0.600         0.08             2.0      0.090   \n",
       "1595            5.9             0.550         0.10             2.2      0.062   \n",
       "1596            6.3             0.510         0.13             2.3      0.076   \n",
       "1597            5.9             0.645         0.12             2.0      0.075   \n",
       "1598            6.0             0.310         0.47             3.6      0.067   \n",
       "\n",
       "      free sulfur dioxide  total sulfur dioxide  density    pH  sulphates  \\\n",
       "1594                 32.0                  44.0  0.99490  3.45       0.58   \n",
       "1595                 39.0                  51.0  0.99512  3.52       0.76   \n",
       "1596                 29.0                  40.0  0.99574  3.42       0.75   \n",
       "1597                 32.0                  44.0  0.99547  3.57       0.71   \n",
       "1598                 18.0                  42.0  0.99549  3.39       0.66   \n",
       "\n",
       "      alcohol  quality  \n",
       "1594     10.5        5  \n",
       "1595     11.2        6  \n",
       "1596     11.0        6  \n",
       "1597     10.2        5  \n",
       "1598     11.0        6  "
      ]
     },
     "execution_count": 5,
     "metadata": {},
     "output_type": "execute_result"
    }
   ],
   "source": [
    "df2 = pd.read_csv(url, sep=';')\n",
    "df2.tail()"
   ]
  },
  {
   "cell_type": "code",
   "execution_count": 6,
   "metadata": {
    "collapsed": true
   },
   "outputs": [],
   "source": [
    "%matplotlib inline\n",
    "import matplotlib.pyplot as plt"
   ]
  },
  {
   "cell_type": "code",
   "execution_count": 7,
   "metadata": {
    "collapsed": false
   },
   "outputs": [
    {
     "data": {
      "text/plain": [
       "<matplotlib.text.Text at 0x1162637b8>"
      ]
     },
     "execution_count": 7,
     "metadata": {},
     "output_type": "execute_result"
    },
    {
     "data": {
      "image/png": "[encoded data removed]",
      "text/plain": [
       "<matplotlib.figure.Figure at 0x112f34b38>"
      ]
     },
     "metadata": {},
     "output_type": "display_data"
    }
   ],
   "source": [
    "df['quality'].value_counts().plot(kind='barh')\n",
    "plt.ylabel('quality')"
   ]
  },
  {
   "cell_type": "code",
   "execution_count": 8,
   "metadata": {
    "collapsed": false
   },
   "outputs": [
    {
     "data": {
      "text/plain": [
       "<matplotlib.text.Text at 0x1163d3630>"
      ]
     },
     "execution_count": 8,
     "metadata": {},
     "output_type": "execute_result"
    },
    {
     "data": {
      "image/png": "[encoded data removed]",
      "text/plain": [
       "<matplotlib.figure.Figure at 0x109feecc0>"
      ]
     },
     "metadata": {},
     "output_type": "display_data"
    }
   ],
   "source": [
    "df.ix[:, 0:1].plot(kind='hist')\n",
    "plt.xlabel('fixed acidity (g(tartaric acid)/dm$^3$)')\n",
    "plt.ylabel('count')"
   ]
  },
  {
   "cell_type": "markdown",
   "metadata": {},
   "source": [
    "## 웹 저장소에 있는 excel file 가져오기"
   ]
  },
  {
   "cell_type": "code",
   "execution_count": 9,
   "metadata": {
    "collapsed": true
   },
   "outputs": [],
   "source": [
    "url = 'http://s3.amazonaws.com/assets.datacamp.com/course/importing_data_into_r/latitude.xls'"
   ]
  },
  {
   "cell_type": "code",
   "execution_count": 10,
   "metadata": {
    "collapsed": false
   },
   "outputs": [
    {
     "data": {
      "text/plain": [
       "dict_keys(['1700', '1900'])"
      ]
     },
     "execution_count": 10,
     "metadata": {},
     "output_type": "execute_result"
    }
   ],
   "source": [
    "xl = pd.read_excel(url, sheetname=None)  # all sheets\n",
    "\n",
    "xl.keys()   # sheet names"
   ]
  },
  {
   "cell_type": "code",
   "execution_count": 11,
   "metadata": {
    "collapsed": false
   },
   "outputs": [
    {
     "data": {
      "text/html": [
       "<div>\n",
       "<table border=\"1\" class=\"dataframe\">\n",
       "  <thead>\n",
       "    <tr style=\"text-align: right;\">\n",
       "      <th></th>\n",
       "      <th>country</th>\n",
       "      <th>1700</th>\n",
       "    </tr>\n",
       "  </thead>\n",
       "  <tbody>\n",
       "    <tr>\n",
       "      <th>0</th>\n",
       "      <td>Afghanistan</td>\n",
       "      <td>34.565000</td>\n",
       "    </tr>\n",
       "    <tr>\n",
       "      <th>1</th>\n",
       "      <td>Akrotiri and Dhekelia</td>\n",
       "      <td>34.616667</td>\n",
       "    </tr>\n",
       "    <tr>\n",
       "      <th>2</th>\n",
       "      <td>Albania</td>\n",
       "      <td>41.312000</td>\n",
       "    </tr>\n",
       "    <tr>\n",
       "      <th>3</th>\n",
       "      <td>Algeria</td>\n",
       "      <td>36.720000</td>\n",
       "    </tr>\n",
       "    <tr>\n",
       "      <th>4</th>\n",
       "      <td>American Samoa</td>\n",
       "      <td>-14.307000</td>\n",
       "    </tr>\n",
       "  </tbody>\n",
       "</table>\n",
       "</div>"
      ],
      "text/plain": [
       "                 country       1700\n",
       "0            Afghanistan  34.565000\n",
       "1  Akrotiri and Dhekelia  34.616667\n",
       "2                Albania  41.312000\n",
       "3                Algeria  36.720000\n",
       "4         American Samoa -14.307000"
      ]
     },
     "execution_count": 11,
     "metadata": {},
     "output_type": "execute_result"
    }
   ],
   "source": [
    "xl['1700'].head()"
   ]
  },
  {
   "cell_type": "markdown",
   "metadata": {},
   "source": [
    "## HTTP requests : requests"
   ]
  },
  {
   "cell_type": "code",
   "execution_count": 32,
   "metadata": {
    "collapsed": true
   },
   "outputs": [],
   "source": [
    "import requests"
   ]
  },
  {
   "cell_type": "code",
   "execution_count": 34,
   "metadata": {
    "collapsed": false
   },
   "outputs": [
    {
     "data": {
      "text/plain": [
       "'<!DOCTYPE HTML> \\r\\n<html lang=\"ko\"> \\r\\n<head>\\r\\n<meta charset=\"euc-kr\">\\r\\n<meta http-equiv=\"X-UA-Compatible\" content=\"IE=edge\">\\r\\n<meta http-equiv=\"refresh\" content=\"600\" />\\r\\n<meta name=\"viewport\" content=\"width=1023\" />\\r\\n\\r\\n    \\r\\n        \\r\\n            \\r\\n                \\r\\n                    \\r\\n                        \\r\\n                        \\r\\n                        \\r\\n                    \\r\\n                    \\r\\n                    \\r\\n                    \\r\\n                    \\r\\n                \\r\\n            \\r\\n            \\r\\n            \\r\\n            \\r\\n        \\r\\n    \\r\\n    \\r\\n    \\r\\n    \\r\\n    \\r\\n    \\r\\n    \\r\\n    \\r\\n    \\r\\n    \\r\\n    \\r\\n    \\r\\n    \\r\\n    \\r\\n    \\r\\n    \\r\\n    \\r\\n\\r\\n<meta property=\"og:title\"       content=\"경제 금융 : 네이버뉴스\">\\r\\n<meta property=\"og:type\"        content=\"website\">\\r\\n<meta property=\"og:url\"         content=\"http://news.naver.com/main/list.nhn?mode=LS2D&mid=shm&sid1=101&sid2=259\">\\r\\n<meta property=\"og:image\"       content=\"http://static.news.naver.net/image/news/ogtag/navernews_200x200_2016'"
      ]
     },
     "execution_count": 34,
     "metadata": {},
     "output_type": "execute_result"
    }
   ],
   "source": [
    "url = 'http://news.naver.com/main/list.nhn?mode=LS2D&mid=shm&sid1=101&sid2=259'\n",
    "\n",
    "r = requests.get(url)\n",
    "\n",
    "text = r.text\n",
    "text[:1000]"
   ]
  },
  {
   "cell_type": "markdown",
   "metadata": {},
   "source": [
    "## BeautifulSoup : HTML parsing"
   ]
  },
  {
   "cell_type": "code",
   "execution_count": 35,
   "metadata": {
    "collapsed": true
   },
   "outputs": [],
   "source": [
    "import requests\n",
    "from bs4 import BeautifulSoup"
   ]
  },
  {
   "cell_type": "code",
   "execution_count": 37,
   "metadata": {
    "collapsed": true
   },
   "outputs": [],
   "source": [
    "url = 'http://news.naver.com/main/list.nhn?mode=LS2D&mid=shm&sid1=101&sid2=259'\n",
    "\n",
    "r = requests.get(url)\n",
    "html_doc = r.text"
   ]
  },
  {
   "cell_type": "code",
   "execution_count": 38,
   "metadata": {
    "collapsed": false
   },
   "outputs": [
    {
     "data": {
      "text/plain": [
       "'<!DOCTYPE HTML>\\n<html lang=\"ko\">\\n <head>\\n  <meta charset=\"utf-8\"/>\\n  <meta content=\"IE=edge\" http-equiv=\"X-UA-Compatible\"/>\\n  <meta content=\"600\" http-equiv=\"refresh\"/>\\n  <meta content=\"width=1023\" name=\"viewport\"/>\\n  <meta content=\"경제 금융 : 네이버뉴스\" property=\"og:title\"/>\\n  <meta content=\"website\" property=\"og:type\"/>\\n  <meta content=\"http://news.naver.com/main/list.nhn?mode=LS2D&amp;mid=shm&amp;sid1=101&amp;sid2=259\" property=\"og:url\"/>\\n  <meta content=\"http://static.news.naver.net/image/news/ogtag/navernews_200x200_20160804.png\" property=\"og:image\"/>\\n  <meta content=\"각 언론사별 금융 기사 제공\" property=\"og:description\"/>\\n  <meta content=\"summary\" name=\"twitter:card\"/>\\n  <meta content=\"경제 금융 : 네이버뉴스\" name=\"twitter:title\"/>\\n  <meta content=\"네이버 뉴스\" name=\"twitter:site\"/>\\n  <meta content=\"네이버 뉴스\" name=\"twitter:creator\"/>\\n  <meta content=\"http://static.news.naver.net/image/news/ogtag/navernews_200x200_20160804.png\" name=\"twitter:image\"/>\\n  <meta content=\"각 언론사별 금융 기사 제공\" name=\"twitter:description\"/>\\n '"
      ]
     },
     "execution_count": 38,
     "metadata": {},
     "output_type": "execute_result"
    }
   ],
   "source": [
    "# Create a BeautifulSoup object from the HTML\n",
    "soup = BeautifulSoup(html_doc, \"lxml\")\n",
    "pretty_soup = soup.prettify()\n",
    "pretty_soup[:1000]"
   ]
  },
  {
   "cell_type": "code",
   "execution_count": 39,
   "metadata": {
    "collapsed": false
   },
   "outputs": [
    {
     "data": {
      "text/plain": [
       "<title>경제 : 네이버 뉴스\t</title>"
      ]
     },
     "execution_count": 39,
     "metadata": {},
     "output_type": "execute_result"
    }
   ],
   "source": [
    "page_title = soup.title\n",
    "page_title"
   ]
  },
  {
   "cell_type": "code",
   "execution_count": 40,
   "metadata": {
    "collapsed": false
   },
   "outputs": [
    {
     "name": "stdout",
     "output_type": "stream",
     "text": [
      "#lnb\n",
      "None\n",
      "#snb\n",
      "None\n",
      "#main_content\n",
      "None\n",
      "http://www.naver.com/\n",
      "None\n",
      "http://news.naver.com/\n",
      "None\n",
      "/main/election/president2017/index.nhn\n",
      "None\n",
      "http://entertain.naver.com/home\n",
      "None\n",
      "http://sports.news.naver.com\n",
      "None\n",
      "http://newsstand.naver.com\n",
      "None\n",
      "http://weather.naver.com\n",
      "None\n",
      "/main/home.nhn\n",
      "None\n",
      "/main/list.nhn?mode=LSD&mid=sec&sid1=001\n",
      "None\n",
      "/main/main.nhn?mode=LSD&mid=shm&sid1=100\n",
      "None\n",
      "/main/main.nhn?mode=LSD&mid=shm&sid1=101\n",
      "None\n",
      "/main/main.nhn?mode=LSD&mid=shm&sid1=102\n",
      "None\n",
      "/main/main.nhn?mode=LSD&mid=shm&sid1=103\n",
      "None\n",
      "/main/main.nhn?mode=LSD&mid=shm&sid1=104\n",
      "None\n",
      "/main/main.nhn?mode=LSD&mid=shm&sid1=105\n",
      "None\n",
      "/main/opinion/home.nhn\n",
      "None\n",
      "/main/photo/index.nhn?mid=pho\n",
      "None\n",
      "/main/tv/index.nhn?mid=tvh\n",
      "None\n",
      "/main/ranking/popularDay.nhn?mid=etc&sid1=111\n",
      "None\n",
      "http://weather.naver.com/rgn/cityWetrCity.nhn?cityRgnCd=CT001013\n",
      "None\n",
      "http://weather.naver.com/rgn/cityWetrCity.nhn?cityRgnCd=CT001028\n",
      "None\n",
      "http://weather.naver.com/rgn/cityWetrCity.nhn?cityRgnCd=CT001015\n",
      "None\n",
      "http://weather.naver.com/rgn/cityWetrCity.nhn?cityRgnCd=CT006005\n",
      "None\n",
      "http://weather.naver.com/rgn/cityWetrCity.nhn?cityRgnCd=CT005010\n",
      "None\n",
      "http://weather.naver.com/rgn/cityWetrCity.nhn?cityRgnCd=CT004001\n",
      "None\n",
      "http://weather.naver.com/rgn/cityWetrCity.nhn?cityRgnCd=CT003007\n",
      "None\n",
      "http://weather.naver.com/rgn/cityWetrCity.nhn?cityRgnCd=CT011005\n",
      "None\n",
      "http://weather.naver.com/rgn/cityWetrCity.nhn?cityRgnCd=CT010011\n",
      "None\n",
      "http://weather.naver.com/rgn/cityWetrCity.nhn?cityRgnCd=CT008008\n",
      "None\n",
      "http://weather.naver.com/rgn/cityWetrCity.nhn?cityRgnCd=CT007007\n",
      "None\n",
      "http://weather.naver.com/rgn/cityWetrCity.nhn?cityRgnCd=CT012005\n",
      "None\n",
      "http://weather.naver.com/rgn/cityWetrCity.nhn?cityRgnCd=CT008012\n",
      "None\n",
      "http://weather.naver.com/rgn/cityWetrCity.nhn?cityRgnCd=CT009002\n",
      "None\n",
      "http://news.naver.com/main/history/mainnews/index.nhn\n",
      "주요뉴스\n",
      "http://news.naver.com/main/read.nhn?mode=LSD&mid=shm&sid1=100&oid=421&aid=0002653120\n",
      "北, 미중회담 직전 미사일 도발…\"60km 비행\" 실패 추정\n",
      "http://news.naver.com/main/read.nhn?mode=LSD&mid=shm&sid1=154&oid=081&aid=0002811045\n",
      "앞으로 10일간 '단일화 전쟁'…아킬레스건 극복해야 이긴다\n",
      "http://news.naver.com/main/read.nhn?mode=LSD&mid=shm&sid1=102&oid=001&aid=0009163800\n",
      "세월호 휴대전화·블랙박스 즉시 복원 추진…민간전문기관..\n",
      "http://news.naver.com/main/read.nhn?mode=LSD&mid=shm&sid1=103&oid=052&aid=0000994857\n",
      "식목일, 전국 곳곳 봄비…남해안 80mm↑\n",
      "http://news.naver.com/main/read.nhn?mode=LSD&mid=shm&sid1=154&oid=421&aid=0002653099\n",
      "경선 첫고비 넘은 안철수…대선 승리까진 '산너머 산'\n",
      "http://news.naver.com/main/read.nhn?mode=LSD&mid=shm&sid1=102&oid=003&aid=0007871193\n",
      "해수부 \"남대서양 3차수색 종료…추가생존자 못찾아\"\n",
      "http://news.naver.com/main/read.nhn?mode=LSD&mid=shm&sid1=102&oid=001&aid=0009163829\n",
      "\"경주지진 이후에도 긴급재난문자 10∼30분 지연발송\"\n",
      "http://news.naver.com/main/read.nhn?mode=LSD&mid=shm&sid1=154&oid=421&aid=0002653017\n",
      "쩐의 전쟁 '대선'…선거비용 보전, 발등 불 떨어진 정당들\n",
      "http://news.naver.com/main/read.nhn?mode=LSD&mid=shm&sid1=101&oid=003&aid=0007871204\n",
      "정부, 온실가스 배출 여유분 과다 이월 기업에 불이익 부과\n",
      "http://news.naver.com/main/read.nhn?mode=LSD&mid=shm&sid1=100&oid=469&aid=0000196430\n",
      "안종범 수첩 보니…박근혜는 '민원 대통령'\n",
      "http://news.naver.com/main/read.nhn?mode=LSD&mid=shm&sid1=101&oid=001&aid=0009163549\n",
      "소득 있는 곳에 세금 있다지만…법인·근로자 절반 세금 0원\n",
      "http://news.naver.com/main/read.nhn?mode=LSD&mid=shm&sid1=102&oid=023&aid=0003269334\n",
      "중학생이 속눈썹 연장 시술? \"저는 원래 길었거든요\"\n",
      "http://news.naver.com/main/read.nhn?mode=LSD&mid=shm&sid1=102&oid=008&aid=0003851343\n",
      "\"한달 축의금만 100만원\"…비혼족 부장님의 비명\n",
      "http://news.naver.com/main/read.nhn?mode=LSD&mid=shm&sid1=101&oid=001&aid=0009163645\n",
      "2월 경상수지 흑자 84억 달러…수출 호조에 3개월래 최대\n",
      "http://news.naver.com/main/read.nhn?mode=LSD&mid=shm&sid1=102&oid=079&aid=0002950719\n",
      "협박범에 피해 여고생 신상정보 넘긴 법원\n",
      "http://news.naver.com/main/read.nhn?mode=LSD&mid=shm&sid1=101&oid=079&aid=0002950732\n",
      "\"목 좋은 사거리에 위치한 은행 볼 수 없을 수도\"\n",
      "http://news.naver.com/main/read.nhn?mode=LSD&mid=shm&sid1=105&oid=293&aid=0000019555\n",
      "안드로이드, 윈도우 누르고 OS 시장점유율 1위 올라\n",
      "http://news.naver.com/main/read.nhn?mode=LSD&mid=shm&sid1=102&oid=001&aid=0009163559\n",
      "한국 복지수준 나아졌지만 국민행복도는 '추락'\n",
      "http://news.naver.com/main/read.nhn?mode=LSD&mid=shm&sid1=100&oid=023&aid=0003269260\n",
      "중국의 '사드 쇼비니즘'…현대차 매장, 손님 끊겼다\n",
      "http://news.naver.com/main/read.nhn?mode=LSD&mid=shm&sid1=101&oid=025&aid=0002701712\n",
      "'손톱 밑 가시' 뺐다던 푸드트럭, 5000만원 날리고 줄폐업\n",
      "http://news.naver.com/main/read.nhn?mode=LSD&mid=shm&sid1=103&oid=023&aid=0003269293\n",
      "수선화·진달래·개나리… 베란다에서 봄을 키운다\n",
      "http://news.naver.com/main/read.nhn?mode=LSD&mid=shm&sid1=101&oid=023&aid=0003269376\n",
      "14세 테슬라, 114세 '자동차 제국' 넘다\n",
      "http://news.naver.com/main/hotissue/sectionList.nhn?mid=hot&sid1=110&cid=1019690\n",
      "상식in뉴스\n",
      "http://news.naver.com/main/officeList.nhn\n",
      "언론사 뉴스\n",
      "http://newslibrary.naver.com/search/searchByDate.nhn\n",
      "라이브러리\n",
      "http://news.naver.com/main/history/mainnews/index.nhn\n",
      "기사배열 이력\n",
      "/main/main.nhn?mode=LSD&mid=shm&sid1=101\n",
      "None\n",
      "/main/list.nhn?mode=LS2D&mid=shm&sid1=101&sid2=259\n",
      "None\n",
      "/main/list.nhn?mode=LS2D&mid=shm&sid1=101&sid2=258\n",
      "None\n",
      "/main/list.nhn?mode=LS2D&mid=shm&sid1=101&sid2=261\n",
      "None\n",
      "/main/list.nhn?mode=LS2D&mid=shm&sid1=101&sid2=771\n",
      "None\n",
      "/main/list.nhn?mode=LS2D&mid=shm&sid1=101&sid2=260\n",
      "None\n",
      "/main/list.nhn?mode=LS2D&mid=shm&sid1=101&sid2=262\n",
      "None\n",
      "/main/list.nhn?mode=LS2D&mid=shm&sid1=101&sid2=310\n",
      "None\n",
      "/main/list.nhn?mode=LS2D&mid=shm&sid1=101&sid2=263\n",
      "None\n",
      "/main/list.nhn?mode=LSD&mid=sec&sid1=101\n",
      "None\n",
      "http://news.naver.com/main/election/president2017/index.nhn\n",
      "None\n",
      "http://news.naver.com/main/hotissue/sectionList.nhn?mid=hot&sid1=110&cid=1019690\n",
      "None\n",
      "http://news.naver.com/main/read.nhn?mode=LS2D&mid=shm&sid1=101&sid2=259&oid=011&aid=0003008150\n",
      "None\n",
      "http://news.naver.com/main/read.nhn?mode=LS2D&mid=shm&sid1=101&sid2=259&oid=011&aid=0003008150\n",
      "None\n",
      "http://news.naver.com/main/read.nhn?mode=LS2D&mid=shm&sid1=101&sid2=259&oid=018&aid=0003791084\n",
      "None\n",
      "http://news.naver.com/main/read.nhn?mode=LS2D&mid=shm&sid1=101&sid2=259&oid=277&aid=0003968430\n",
      "None\n",
      "http://news.naver.com/main/read.nhn?mode=LS2D&mid=shm&sid1=101&sid2=259&oid=011&aid=0003008145\n",
      "None\n",
      "http://news.naver.com/main/read.nhn?mode=LS2D&mid=shm&sid1=101&sid2=259&oid=011&aid=0003008145\n",
      "None\n",
      "http://news.naver.com/main/read.nhn?mode=LS2D&mid=shm&sid1=101&sid2=259&oid=003&aid=0007871389\n",
      "None\n",
      "http://news.naver.com/main/read.nhn?mode=LS2D&mid=shm&sid1=101&sid2=259&oid=003&aid=0007871389\n",
      "None\n",
      "http://news.naver.com/main/read.nhn?mode=LS2D&mid=shm&sid1=101&sid2=259&oid=277&aid=0003968427\n",
      "None\n",
      "http://news.naver.com/main/read.nhn?mode=LS2D&mid=shm&sid1=101&sid2=259&oid=277&aid=0003968427\n",
      "None\n",
      "http://news.naver.com/main/read.nhn?mode=LS2D&mid=shm&sid1=101&sid2=259&oid=417&aid=0000242752\n",
      "None\n",
      "http://news.naver.com/main/read.nhn?mode=LS2D&mid=shm&sid1=101&sid2=259&oid=417&aid=0000242752\n",
      "None\n",
      "http://news.naver.com/main/read.nhn?mode=LS2D&mid=shm&sid1=101&sid2=259&oid=018&aid=0003791078\n",
      "None\n",
      "http://news.naver.com/main/read.nhn?mode=LS2D&mid=shm&sid1=101&sid2=259&oid=417&aid=0000242750\n",
      "None\n",
      "http://news.naver.com/main/read.nhn?mode=LS2D&mid=shm&sid1=101&sid2=259&oid=417&aid=0000242750\n",
      "None\n",
      "http://news.naver.com/main/read.nhn?mode=LS2D&mid=shm&sid1=101&sid2=259&oid=417&aid=0000242749\n",
      "None\n",
      "http://news.naver.com/main/read.nhn?mode=LS2D&mid=shm&sid1=101&sid2=259&oid=417&aid=0000242749\n",
      "None\n",
      "http://news.naver.com/main/read.nhn?mode=LS2D&mid=shm&sid1=101&sid2=259&oid=001&aid=0009163913\n",
      "None\n",
      "http://news.naver.com/main/read.nhn?mode=LS2D&mid=shm&sid1=101&sid2=259&oid=001&aid=0009163913\n",
      "None\n",
      "http://news.naver.com/main/read.nhn?mode=LS2D&mid=shm&sid1=101&sid2=259&oid=417&aid=0000242746\n",
      "None\n",
      "http://news.naver.com/main/read.nhn?mode=LS2D&mid=shm&sid1=101&sid2=259&oid=417&aid=0000242746\n",
      "None\n",
      "http://news.naver.com/main/read.nhn?mode=LS2D&mid=shm&sid1=101&sid2=259&oid=421&aid=0002653164\n",
      "None\n",
      "http://news.naver.com/main/read.nhn?mode=LS2D&mid=shm&sid1=101&sid2=259&oid=421&aid=0002653164\n",
      "None\n",
      "http://news.naver.com/main/read.nhn?mode=LS2D&mid=shm&sid1=101&sid2=259&oid=366&aid=0000365227\n",
      "None\n",
      "http://news.naver.com/main/read.nhn?mode=LS2D&mid=shm&sid1=101&sid2=259&oid=417&aid=0000242745\n",
      "None\n",
      "http://news.naver.com/main/read.nhn?mode=LS2D&mid=shm&sid1=101&sid2=259&oid=417&aid=0000242745\n",
      "None\n",
      "http://news.naver.com/main/read.nhn?mode=LS2D&mid=shm&sid1=101&sid2=259&oid=417&aid=0000242744\n",
      "None\n",
      "http://news.naver.com/main/read.nhn?mode=LS2D&mid=shm&sid1=101&sid2=259&oid=417&aid=0000242744\n",
      "None\n",
      "http://news.naver.com/main/read.nhn?mode=LS2D&mid=shm&sid1=101&sid2=259&oid=001&aid=0009163901\n",
      "None\n",
      "http://news.naver.com/main/read.nhn?mode=LS2D&mid=shm&sid1=101&sid2=259&oid=001&aid=0009163901\n",
      "None\n",
      "http://news.naver.com/main/read.nhn?mode=LS2D&mid=shm&sid1=101&sid2=259&oid=421&aid=0002653155\n",
      "None\n",
      "http://news.naver.com/main/read.nhn?mode=LS2D&mid=shm&sid1=101&sid2=259&oid=421&aid=0002653155\n",
      "None\n",
      "http://news.naver.com/main/read.nhn?mode=LS2D&mid=shm&sid1=101&sid2=259&oid=016&aid=0001219959\n",
      "None\n",
      "http://news.naver.com/main/read.nhn?mode=LS2D&mid=shm&sid1=101&sid2=259&oid=016&aid=0001219959\n",
      "None\n",
      "http://news.naver.com/main/read.nhn?mode=LS2D&mid=shm&sid1=101&sid2=259&oid=018&aid=0003791055\n",
      "None\n",
      "http://news.naver.com/main/read.nhn?mode=LS2D&mid=shm&sid1=101&sid2=259&oid=018&aid=0003791055\n",
      "None\n",
      "?sid2=259&sid1=101&mid=shm&mode=LS2D&date=20170405&page=2\n",
      "None\n",
      "?sid2=259&sid1=101&mid=shm&mode=LS2D&date=20170405&page=3\n",
      "None\n",
      "?sid2=259&sid1=101&mid=shm&mode=LS2D&date=20170405&page=4\n",
      "None\n",
      "?sid2=259&sid1=101&mid=shm&mode=LS2D&date=20170405&page=5\n",
      "None\n",
      "?sid2=259&sid1=101&mid=shm&mode=LS2D&date=20170405&page=6\n",
      "None\n",
      "?sid2=259&sid1=101&mid=shm&mode=LS2D&date=20170404\n",
      "None\n",
      "?sid2=259&sid1=101&mid=shm&mode=LS2D&date=20170403\n",
      "None\n",
      "?sid2=259&sid1=101&mid=shm&mode=LS2D&date=20170402\n",
      "None\n",
      "?sid2=259&sid1=101&mid=shm&mode=LS2D&date=20170401\n",
      "None\n",
      "/main/ranking/popularDay.nhn\n",
      "None\n",
      "None\n",
      "None\n",
      "None\n",
      "None\n",
      "None\n",
      "None\n",
      "None\n",
      "None\n",
      "None\n",
      "None\n",
      "None\n",
      "None\n",
      "None\n",
      "None\n",
      "None\n",
      "None\n",
      "None\n",
      "None\n",
      "None\n",
      "None\n",
      "None\n",
      "None\n",
      "/main/ranking/popularDay.nhn?rankingType=popular_day&sectionId=100\n",
      "None\n",
      "/main/ranking/read.nhn?mid=etc&sid1=111&rankingType=popular_day&oid=020&aid=0003055405&date=20170405&type=1&rankingSeq=1&rankingSectionId=100\n",
      "박근혜 前대통령 “사익 취한 것 없다” 담담히 혐의부인… 檢측 답답함 느껴\n",
      "/main/ranking/popularDay.nhn?rankingType=popular_day&sectionId=101\n",
      "None\n",
      "/main/ranking/read.nhn?mid=etc&sid1=111&rankingType=popular_day&oid=025&aid=0002701712&date=20170405&type=1&rankingSeq=1&rankingSectionId=101\n",
      "‘손톱 밑 가시’ 뺐다던 푸드트럭, 5000만원 날리고 줄폐업\n",
      "/main/ranking/popularDay.nhn?rankingType=popular_day&sectionId=102\n",
      "None\n",
      "/main/ranking/read.nhn?mid=etc&sid1=111&rankingType=popular_day&oid=023&aid=0003269374&date=20170405&type=1&rankingSeq=1&rankingSectionId=102\n",
      "휠체어 학생에… 계단 강의실 고집한 대학생들\n",
      "/main/ranking/popularDay.nhn?rankingType=popular_day&sectionId=103\n",
      "None\n",
      "/main/ranking/read.nhn?mid=etc&sid1=111&rankingType=popular_day&oid=055&aid=0000519011&date=20170404&type=2&rankingSeq=1&rankingSectionId=103\n",
      "대기오염 심한 지역 사망자의 뇌…\"미세먼지 치매 유발\"\n",
      "/main/ranking/popularDay.nhn?rankingType=popular_day&sectionId=104\n",
      "None\n",
      "/main/ranking/read.nhn?mid=etc&sid1=111&rankingType=popular_day&oid=449&aid=0000127446&date=20170404&type=2&rankingSeq=1&rankingSectionId=104\n",
      "‘33억짜리 반지’ 끼고 찰칵…트럼프 또 홍역\n",
      "/main/ranking/popularDay.nhn?rankingType=popular_day&sectionId=105\n",
      "None\n",
      "/main/ranking/read.nhn?mid=etc&sid1=111&rankingType=popular_day&oid=277&aid=0003968245&date=20170405&type=1&rankingSeq=1&rankingSectionId=105\n",
      "휴대폰 액정 깨져도 '자가치유'한다\n",
      "/main/ranking/popularDay.nhn?rankingType=popular_day&sectionId=106\n",
      "None\n",
      "/main/ranking/read.nhn?mid=etc&sid1=111&rankingType=popular_day&oid=241&aid=0002659413&date=20170405&type=1&rankingSeq=1&rankingSectionId=106\n",
      "[초점IS] 이준기♥전혜빈 열애와 함께 불거진 예능 진정성 논란\n",
      "/main/ranking/popularDay.nhn?rankingType=popular_day&sectionId=107\n",
      "None\n",
      "/main/ranking/read.nhn?mid=etc&sid1=111&rankingType=popular_day&oid=382&aid=0000554498&date=20170405&type=1&rankingSeq=1&rankingSectionId=107\n",
      "현역 최다승 배영수의 귀환 “처음부터 다시 시작이다!”\n",
      "/main/ranking/read.nhn?mid=etc&sid1=111&rankingType=popular_day&oid=020&aid=0003055405&date=20170405&type=1&rankingSeq=1&rankingSectionId=100\n",
      "박근혜 前대통령 “사익 취한 것 없다” 담담히 혐의부인… 檢측 답답함 느껴\n",
      "/main/ranking/read.nhn?mid=etc&sid1=111&rankingType=popular_day&oid=469&aid=0000196430&date=20170405&type=1&rankingSeq=2&rankingSectionId=100\n",
      "[단독]안종범 수첩 보니…박근혜는 ‘민원 대통령’\n",
      "/main/ranking/read.nhn?mid=etc&sid1=111&rankingType=popular_day&oid=020&aid=0003055393&date=20170405&type=1&rankingSeq=3&rankingSectionId=100\n",
      "“반문 적폐연대” “무능한 상속자”… 프레임 전쟁 시작됐다\n",
      "/main/ranking/read.nhn?mid=etc&sid1=111&rankingType=popular_day&oid=421&aid=0002653021&date=20170405&type=1&rankingSeq=4&rankingSectionId=100\n",
      "미중정상회담 직전 北, 미사일 도발…\"1발, 60km 비행\"(종합)\n",
      "/main/ranking/read.nhn?mid=etc&sid1=111&rankingType=popular_day&oid=421&aid=0002653042&date=20170405&type=1&rankingSeq=5&rankingSectionId=100\n",
      "홍준표 \"정치적 탄핵 가능하지만…탄핵은 민중·인민재판\"\n",
      "/main/ranking/read.nhn?mid=etc&sid1=111&rankingType=popular_day&oid=025&aid=0002701731&date=20170405&type=1&rankingSeq=6&rankingSectionId=100\n",
      "“2012년보다 1000만 배 강해져 … 특정인 반대 위한 연대 안 한다”\n",
      "/main/ranking/read.nhn?mid=etc&sid1=111&rankingType=popular_day&oid=001&aid=0009163685&date=20170405&type=1&rankingSeq=7&rankingSectionId=100\n",
      "北, 미중 정상회담 앞두고 동해상 탄도미사일 1발 발사(종합2보)\n",
      "/main/ranking/read.nhn?mid=etc&sid1=111&rankingType=popular_day&oid=421&aid=0002653017&date=20170405&type=1&rankingSeq=8&rankingSectionId=100\n",
      "쩐의 전쟁 '대선'…선거비용 보전, 발등 불 떨어진 정당들\n",
      "/main/ranking/read.nhn?mid=etc&sid1=111&rankingType=popular_day&oid=025&aid=0002701712&date=20170405&type=1&rankingSeq=1&rankingSectionId=101\n",
      "‘손톱 밑 가시’ 뺐다던 푸드트럭, 5000만원 날리고 줄폐업\n",
      "/main/ranking/read.nhn?mid=etc&sid1=111&rankingType=popular_day&oid=023&aid=0003269260&date=20170405&type=1&rankingSeq=2&rankingSectionId=101\n",
      "중국의 '사드 쇼비니즘'… 현대차 매장, 손님 끊겼다\n",
      "/main/ranking/read.nhn?mid=etc&sid1=111&rankingType=popular_day&oid=001&aid=0009163549&date=20170405&type=1&rankingSeq=3&rankingSectionId=101\n",
      "소득 있는 곳에 세금 있다지만…법인·근로자 절반 세금 0원\n",
      "/main/ranking/read.nhn?mid=etc&sid1=111&rankingType=popular_day&oid=023&aid=0003269376&date=20170405&type=1&rankingSeq=4&rankingSectionId=101\n",
      "14세 테슬라, 114세 '자동차 제국' 넘다\n",
      "/main/ranking/read.nhn?mid=etc&sid1=111&rankingType=popular_day&oid=008&aid=0003851318&date=20170405&type=1&rankingSeq=5&rankingSectionId=101\n",
      "연봉 1억이 한계가구?..1340조 가계부채 통계 뒤죽박죽 \n",
      "/main/ranking/read.nhn?mid=etc&sid1=111&rankingType=popular_day&oid=001&aid=0009163568&date=20170405&type=1&rankingSeq=6&rankingSectionId=101\n",
      "제주 관광 '사드 충격' 크지 않아…일본·동남아·싼커가 채웠다\n",
      "/main/ranking/read.nhn?mid=etc&sid1=111&rankingType=popular_day&oid=079&aid=0002950732&date=20170405&type=1&rankingSeq=7&rankingSectionId=101\n",
      "“목 좋은 사거리에 위치한 은행 볼 수 없을 수도”\n",
      "/main/ranking/read.nhn?mid=etc&sid1=111&rankingType=popular_day&oid=421&aid=0002653023&date=20170405&type=1&rankingSeq=8&rankingSectionId=101\n",
      "\"도시바 반도체 입찰 日 기업 불참…미국으로 기울 듯\"\n",
      "/main/ranking/read.nhn?mid=etc&sid1=111&rankingType=popular_day&oid=023&aid=0003269374&date=20170405&type=1&rankingSeq=1&rankingSectionId=102\n",
      "휠체어 학생에… 계단 강의실 고집한 대학생들\n",
      "/main/ranking/read.nhn?mid=etc&sid1=111&rankingType=popular_day&oid=469&aid=0000196417&date=20170405&type=1&rankingSeq=2&rankingSectionId=102\n",
      "날 풀리자, 동네 유원지 된 캠퍼스\n",
      "/main/ranking/read.nhn?mid=etc&sid1=111&rankingType=popular_day&oid=023&aid=0003269334&date=20170405&type=1&rankingSeq=3&rankingSectionId=102\n",
      "[NOW] 중학생이 속눈썹 연장 시술? \"저는 원래 길었거든요\"\n",
      "/main/ranking/read.nhn?mid=etc&sid1=111&rankingType=popular_day&oid=001&aid=0009163596&date=20170405&type=1&rankingSeq=4&rankingSectionId=102\n",
      "사라지는 유학생들…\"공부한다\"며 한국 와서 종적 감춰\n",
      "/main/ranking/read.nhn?mid=etc&sid1=111&rankingType=popular_day&oid=214&aid=0000756029&date=20170404&type=2&rankingSeq=5&rankingSectionId=102\n",
      "폭행 가해학생이 학교폭력 예방 모델?…가슴 치는 피해학생\n",
      "/main/ranking/read.nhn?mid=etc&sid1=111&rankingType=popular_day&oid=008&aid=0003851343&date=20170405&type=1&rankingSeq=6&rankingSectionId=102\n",
      "\"한달 축의금만 100만원\"…비혼족 부장님의 비명\n",
      "/main/ranking/read.nhn?mid=etc&sid1=111&rankingType=popular_day&oid=079&aid=0002950719&date=20170405&type=1&rankingSeq=7&rankingSectionId=102\n",
      "[단독] 협박범에 피해 여고생 신상정보 넘긴 법원\n",
      "/main/ranking/read.nhn?mid=etc&sid1=111&rankingType=popular_day&oid=055&aid=0000519014&date=20170404&type=2&rankingSeq=8&rankingSectionId=102\n",
      "\"경제적인 부담 너무 커서\"…간병하다가 가족도 '골병'\n",
      "/main/ranking/read.nhn?mid=etc&sid1=111&rankingType=popular_day&oid=055&aid=0000519011&date=20170404&type=2&rankingSeq=1&rankingSectionId=103\n",
      "대기오염 심한 지역 사망자의 뇌…\"미세먼지 치매 유발\"\n",
      "/main/ranking/read.nhn?mid=etc&sid1=111&rankingType=popular_day&oid=052&aid=0000994857&date=20170405&type=2&rankingSeq=2&rankingSectionId=103\n",
      "[날씨] 식목일, 전국 곳곳 봄비...남해안 80mm↑\n",
      "/main/ranking/read.nhn?mid=etc&sid1=111&rankingType=popular_day&oid=025&aid=0002701652&date=20170405&type=1&rankingSeq=3&rankingSectionId=103\n",
      "올 봄, 양말을 신어야 촌티를 벗는다\n",
      "/main/ranking/read.nhn?mid=etc&sid1=111&rankingType=popular_day&oid=023&aid=0003269293&date=20170405&type=1&rankingSeq=4&rankingSectionId=103\n",
      "[The Table] 수선화·진달래·개나리… 베란다에서 봄을 키운다\n",
      "/main/ranking/read.nhn?mid=etc&sid1=111&rankingType=popular_day&oid=023&aid=0003269399&date=20170405&type=1&rankingSeq=5&rankingSectionId=103\n",
      "칫솔모는 부드러운 게 좋고, 치실은 하루 한 번으로 충분\n",
      "/main/ranking/read.nhn?mid=etc&sid1=111&rankingType=popular_day&oid=421&aid=0002652974&date=20170405&type=1&rankingSeq=6&rankingSectionId=103\n",
      "이랜드그룹, 부동산·브랜드사업 잇단 매각에도 줄지않는 부채비율\n",
      "/main/ranking/read.nhn?mid=etc&sid1=111&rankingType=popular_day&oid=469&aid=0000196409&date=20170405&type=1&rankingSeq=7&rankingSectionId=103\n",
      "요즘 것들의 연애시, 편지지 아닌 SNS에 쓴다\n",
      "/main/ranking/read.nhn?mid=etc&sid1=111&rankingType=popular_day&oid=025&aid=0002701755&date=20170405&type=1&rankingSeq=8&rankingSectionId=103\n",
      "9450억 드는 신라왕경 복원 순항 … “세계문화유산 해제될라” 우려도\n",
      "/main/ranking/read.nhn?mid=etc&sid1=111&rankingType=popular_day&oid=449&aid=0000127446&date=20170404&type=2&rankingSeq=1&rankingSectionId=104\n",
      "‘33억짜리 반지’ 끼고 찰칵…트럼프 또 홍역\n",
      "/main/ranking/read.nhn?mid=etc&sid1=111&rankingType=popular_day&oid=023&aid=0003269344&date=20170405&type=1&rankingSeq=2&rankingSectionId=104\n",
      "[월드 톡톡] 로마 가로등 LED로 바꿨더니… \"냉동창고 같다\" 거센 반대여론\n",
      "/main/ranking/read.nhn?mid=etc&sid1=111&rankingType=popular_day&oid=001&aid=0009163542&date=20170405&type=1&rankingSeq=3&rankingSectionId=104\n",
      "미국, 비자심사 '깐깐하게'…한국 등 38개 비자면제국에도 적용\n",
      "/main/ranking/read.nhn?mid=etc&sid1=111&rankingType=popular_day&oid=001&aid=0009163541&date=20170405&type=1&rankingSeq=4&rankingSectionId=104\n",
      "시리아 화학무기 살상의혹 전세계 규탄…안보리 긴급회의(종합)\n",
      "/main/ranking/read.nhn?mid=etc&sid1=111&rankingType=popular_day&oid=003&aid=0007871176&date=20170405&type=0&rankingSeq=5&rankingSectionId=104\n",
      "공범 목에 폭탄걸어 폭사시킨 女 은행강도, 종신형 복역중 숨져\n",
      "/main/ranking/read.nhn?mid=etc&sid1=111&rankingType=popular_day&oid=028&aid=0002359506&date=20170404&type=1&rankingSeq=6&rankingSectionId=104\n",
      " 뱃길엔 고래도 있어요…10마리 중 1마리 ‘교통사고’ 경험  \n",
      "/main/ranking/read.nhn?mid=etc&sid1=111&rankingType=popular_day&oid=025&aid=0002701718&date=20170405&type=0&rankingSeq=7&rankingSectionId=104\n",
      "빈곤에 지친 중앙아시아 ‘앵그리 2030’ … 테러로 눈돌린다\n",
      "/main/ranking/read.nhn?mid=etc&sid1=111&rankingType=popular_day&oid=005&aid=0000982156&date=20170404&type=1&rankingSeq=8&rankingSectionId=104\n",
      "동물병원 아픈 친구들 지키는 ‘고양이’ 간호사 (사진)\n",
      "/main/ranking/read.nhn?mid=etc&sid1=111&rankingType=popular_day&oid=277&aid=0003968245&date=20170405&type=1&rankingSeq=1&rankingSectionId=105\n",
      "휴대폰 액정 깨져도 '자가치유'한다\n",
      "/main/ranking/read.nhn?mid=etc&sid1=111&rankingType=popular_day&oid=293&aid=0000019555&date=20170405&type=1&rankingSeq=2&rankingSectionId=105\n",
      "안드로이드, 윈도우 누르고 OS 시장점유율 1위 올라\n",
      "/main/ranking/read.nhn?mid=etc&sid1=111&rankingType=popular_day&oid=025&aid=0002701668&date=20170405&type=1&rankingSeq=3&rankingSectionId=105\n",
      "[J report] 전자여권 코리아 기술, 해외시장 겨눈다\n",
      "/main/ranking/read.nhn?mid=etc&sid1=111&rankingType=popular_day&oid=079&aid=0002950713&date=20170405&type=1&rankingSeq=4&rankingSectionId=105\n",
      "이통사, 5G 선점 전쟁…공허한 5G 홍보 경쟁\n",
      "/main/ranking/read.nhn?mid=etc&sid1=111&rankingType=popular_day&oid=001&aid=0009163466&date=20170405&type=1&rankingSeq=5&rankingSectionId=105\n",
      "NASA 탐사선, 토성고리 안쪽 진입후 '장렬한 최후'\n",
      "/main/ranking/read.nhn?mid=etc&sid1=111&rankingType=popular_day&oid=277&aid=0003968250&date=20170405&type=1&rankingSeq=6&rankingSectionId=105\n",
      "갤S8+ vs 갤S7엣지 vs 아이폰7+ 배터리 최강자는?\n",
      "/main/ranking/read.nhn?mid=etc&sid1=111&rankingType=popular_day&oid=031&aid=0000406981&date=20170405&type=1&rankingSeq=7&rankingSectionId=105\n",
      "'갤S8∙G6' 음성인식 AI, 구형폰에도 적용?\n",
      "/main/ranking/read.nhn?mid=etc&sid1=111&rankingType=popular_day&oid=011&aid=0003008015&date=20170405&type=1&rankingSeq=8&rankingSectionId=105\n",
      "[단독] 갤S8發 '인증 혁명'...금융·쇼핑이 달라진다\n",
      "/main/ranking/read.nhn?mid=etc&sid1=111&rankingType=popular_day&oid=241&aid=0002659413&date=20170405&type=1&rankingSeq=1&rankingSectionId=106\n",
      "[초점IS] 이준기♥전혜빈 열애와 함께 불거진 예능 진정성 논란\n",
      "/main/ranking/read.nhn?mid=etc&sid1=111&rankingType=popular_day&oid=117&aid=0002894778&date=20170405&type=1&rankingSeq=2&rankingSectionId=106\n",
      "[夜TV]'귓속말' 불쌍했던 이상윤이 달라졌다…통쾌 역습 사이다\n",
      "/main/ranking/read.nhn?mid=etc&sid1=111&rankingType=popular_day&oid=117&aid=0002894780&date=20170405&type=1&rankingSeq=3&rankingSectionId=106\n",
      "[MD인터뷰②] 김윤진이 밝힌 할리우드 생활 \"다니엘 헤니처럼 직접 운전\"\n",
      "/main/ranking/read.nhn?mid=etc&sid1=111&rankingType=popular_day&oid=112&aid=0002908392&date=20170405&type=1&rankingSeq=4&rankingSectionId=106\n",
      "[팝인터뷰②]산다라박 \"발연기 혹평에 위축, 대중 잘 설득하고파\" \n",
      "/main/ranking/read.nhn?mid=etc&sid1=111&rankingType=popular_day&oid=076&aid=0003073886&date=20170405&type=1&rankingSeq=5&rankingSectionId=106\n",
      "'불청' 새친구 박재홍, 등장하자마자 신효범과 '러브라인'[종합]\n",
      "/main/ranking/read.nhn?mid=etc&sid1=111&rankingType=popular_day&oid=117&aid=0002894765&date=20170404&type=1&rankingSeq=6&rankingSectionId=106\n",
      "[MD리뷰] '역적' 윤균상, 심희섭과 상봉…채수빈과는 생이별\n",
      "/main/ranking/read.nhn?mid=etc&sid1=111&rankingType=popular_day&oid=076&aid=0003073887&date=20170405&type=1&rankingSeq=7&rankingSectionId=106\n",
      "'뭉뜬' 함께하니 더 좋은 싱가포르…차태현 출격 예고 (종합)\n",
      "/main/ranking/read.nhn?mid=etc&sid1=111&rankingType=popular_day&oid=076&aid=0003073942&date=20170405&type=1&rankingSeq=8&rankingSectionId=106\n",
      "[단독] 홍상수 감독·김민희, 유럽서 자서전 발간 '대담한 행보'\n",
      "/sports/index.nhn?ctg=ranking_news&mod=read&ranking_type=popular_day&date=2017-04-05&office_id=382&article_id=0000554498\n",
      "현역 최다승 배영수의 귀환 “처음부터 다시 시작이다!”\n",
      "/sports/index.nhn?ctg=ranking_news&mod=read&ranking_type=popular_day&date=2017-04-05&office_id=109&article_id=0003510841\n",
      "美언론 주목, “LAD 성적, 류현진 부활에 달렸다”\n",
      "/sports/index.nhn?ctg=ranking_news&mod=read&ranking_type=popular_day&date=2017-04-05&office_id=109&article_id=0003510857\n",
      "美 언론 '박병호 콜업 시기, 트리플A 최고 관심사'\n",
      "/sports/index.nhn?ctg=ranking_news&mod=read&ranking_type=popular_day&date=2017-04-05&office_id=139&article_id=0002072630\n",
      "[EPL 31R] '즐라탄 PK골' 맨유, 에버턴과 1-1 극적 무승부...20G 무패\n",
      "/sports/index.nhn?ctg=ranking_news&mod=read&ranking_type=popular_day&date=2017-04-05&office_id=241&article_id=0002659392\n",
      "'호세 효과'에서 '이대호 효과', 롯데 4번이 펼친 큰 우산\n",
      "/sports/index.nhn?ctg=ranking_news&mod=read&ranking_type=popular_day&date=2017-04-05&office_id=108&article_id=0002603865\n",
      "'상상 그 이상' 이대호가 롯데에 가져온 위닝 멘탈리티!\n",
      "/sports/index.nhn?ctg=ranking_news&mod=read&ranking_type=popular_day&date=2017-04-05&office_id=109&article_id=0003510844\n",
      "[오!쎈 분석]'개막 4연승' LG, 대진운인가 실력인가\n",
      "/sports/index.nhn?ctg=ranking_news&mod=read&ranking_type=popular_day&date=2017-04-05&office_id=108&article_id=0002603866\n",
      "'4연패' 심상찮은 넥센의 초반 부진, 위기감 커진다\n",
      "/main/ranking/popularDay.nhn\n",
      "None\n",
      "http://news.naver.com/main/election/president2017/index.nhn\n",
      "None\n",
      "http://news.naver.com/main/election/president2017/index.nhn\n",
      "None\n",
      "http://news.naver.com/main/election/president2017/index.nhn\n",
      "None\n",
      "javascript:void(0);\n",
      "None\n",
      "javascript:void(0);\n",
      "None\n",
      "javascript:void(0);\n",
      "None\n",
      "http://finance.naver.com/sise/sise_index.nhn?code=KOSPI\n",
      "None\n",
      "http://finance.naver.com/sise/sise_index.nhn?code=KOSDAQ\n",
      "None\n",
      "http://finance.naver.com/mystock/\n",
      "None\n",
      "http://finance.naver.com/item/main.nhn?code=053800\n",
      "None\n",
      "http://finance.naver.com/item/main.nhn?code=008700\n",
      "None\n",
      "http://finance.naver.com/item/main.nhn?code=004770\n",
      "None\n",
      "http://info.finance.naver.com/fund/fundFinder.nhn\n",
      "None\n",
      "http://info.finance.naver.com/fund/fundDetail.nhn?fundCd=K55301BD4689\n",
      "None\n",
      "http://info.finance.naver.com/fund/fundDetail.nhn?fundCd=K55105B11894\n",
      "None\n",
      "http://info.finance.naver.com/fund/fundDetail.nhn?fundCd=K55301B52703\n",
      "None\n",
      "http://finance.naver.com/myfund/holdList.nhn\n",
      "None\n",
      "http://info.finance.naver.com/marketindex/exchangeMain.nhn\n",
      "None\n",
      "http://news.naver.com/main/read.nhn?mode=LSD&mid=shm&sid1=104&oid=005&aid=0000982156&cid=1011500&iid=2222061\n",
      "None\n",
      "http://news.naver.com/main/read.nhn?mode=LSD&mid=shm&sid1=104&oid=005&aid=0000982156&cid=1011500&iid=2222061\n",
      "None\n",
      "http://news.naver.com/main/read.nhn?mode=LSD&mid=shm&sid1=104&oid=028&aid=0002359506&cid=1011500&iid=2221685\n",
      "None\n",
      "http://news.naver.com/main/read.nhn?mode=LSD&mid=shm&sid1=104&oid=028&aid=0002359506&cid=1011500&iid=2221685\n",
      "None\n",
      "http://news.naver.com/main/read.nhn?mode=LSD&mid=shm&sid1=102&oid=052&aid=0000994610&cid=1011500&iid=2221800\n",
      "None\n",
      "http://news.naver.com/main/read.nhn?mode=LSD&mid=shm&sid1=102&oid=052&aid=0000994610&cid=1011500&iid=2221800\n",
      "None\n",
      "http://news.naver.com/main/read.nhn?mode=LSD&mid=shm&sid1=104&oid=056&aid=0010439376&cid=1011500&iid=2221813\n",
      "None\n",
      "http://news.naver.com/main/read.nhn?mode=LSD&mid=shm&sid1=104&oid=056&aid=0010439376&cid=1011500&iid=2221813\n",
      "None\n",
      "http://news.naver.com/main/read.nhn?mode=LSD&mid=shm&sid1=104&oid=081&aid=0002810968&cid=1011500&iid=2221886\n",
      "None\n",
      "http://news.naver.com/main/read.nhn?mode=LSD&mid=shm&sid1=104&oid=081&aid=0002810968&cid=1011500&iid=2221886\n",
      "None\n",
      "http://news.naver.com/main/read.nhn?mode=LSD&mid=shm&sid1=103&oid=055&aid=0000519011&cid=512473&iid=49448528\n",
      "None\n",
      "http://news.naver.com/main/read.nhn?mode=LSD&mid=shm&sid1=103&oid=055&aid=0000519011&cid=512473&iid=49448528\n",
      "None\n",
      "http://news.naver.com/main/read.nhn?mode=LSD&mid=shm&sid1=102&oid=214&aid=0000756029&cid=512473&iid=49448530\n",
      "None\n",
      "http://news.naver.com/main/read.nhn?mode=LSD&mid=shm&sid1=104&oid=449&aid=0000127446&cid=512473&iid=49448529\n",
      "None\n",
      "http://news.naver.com/main/read.nhn?mode=LSD&mid=shm&sid1=102&oid=055&aid=0000519014&cid=512473&iid=49448527\n",
      "None\n",
      "http://news.naver.com/main/hotissue/dailyList.nhn\n",
      "분야별 주요뉴스\n",
      "None\n",
      "None\n",
      "None\n",
      "None\n",
      "None\n",
      "None\n",
      "None\n",
      "None\n",
      "http://news.naver.com/main/read.nhn?mode=LSD&mid=shm&sid1=100&oid=020&aid=0003055405\n",
      "박근혜 前대통령 \"사익 취한 것 없다\" 담담히 혐의부인…檢측 답답함 느껴\n",
      "http://news.naver.com/main/read.nhn?mode=LSD&mid=shm&sid1=100&oid=421&aid=0002653120\n",
      "北, 미중회담 직전 미사일 도발…\"60km 비행\" 실패 추정(종합2보)\n",
      "http://news.naver.com/main/read.nhn?mode=LSD&mid=shm&sid1=100&oid=081&aid=0002811045\n",
      "앞으로 10일간 '단일화 전쟁'…아킬레스건 극복해야 이긴다\n",
      "http://news.naver.com/main/read.nhn?mode=LSD&mid=shm&sid1=100&oid=025&aid=0002701731\n",
      "\"2012년보다 1000만 배 강해져…특정인 반대 위한 연대 안 한다\"\n",
      "http://news.naver.com/main/read.nhn?mode=LSD&mid=shm&sid1=100&oid=001&aid=0009163482\n",
      "문재인, 경남 양산 부친 묘소 참배…선대위 구성 논의\n",
      "http://news.naver.com/main/read.nhn?mode=LSD&mid=shm&sid1=100&oid=421&aid=0002653042\n",
      "홍준표 \"정치적 탄핵 가능하지만…탄핵은 민중·인민재판\"\n",
      "http://news.naver.com/main/read.nhn?mode=LSD&mid=shm&sid1=102&oid=001&aid=0009163496\n",
      "세월호 육상이송, '15일 지연' 기로…해수부, 오전 입장 낼 듯\n",
      "http://news.naver.com/main/read.nhn?mode=LSD&mid=shm&sid1=102&oid=001&aid=0009163829\n",
      "\"경주지진 이후에도 긴급재난문자 10∼30분 지연발송\"\n",
      "http://news.naver.com/main/read.nhn?mode=LSD&mid=shm&sid1=102&oid=008&aid=0003851343\n",
      "\"한달 축의금만 100만원\"…비혼족 부장님의 비명\n",
      "http://news.naver.com/main/read.nhn?mode=LSD&mid=shm&sid1=102&oid=023&aid=0003269334\n",
      "중학생이 속눈썹 연장 시술? \"저는 원래 길었거든요\"\n",
      "http://news.naver.com/main/read.nhn?mode=LSD&mid=shm&sid1=102&oid=020&aid=0003055402\n",
      "정신질환자 강력범죄율 일반인 10배?… 일반인 절반도 안돼\n",
      "http://news.naver.com/main/read.nhn?mode=LSD&mid=shm&sid1=104&oid=001&aid=0009163541\n",
      "시리아 화학무기 살상의혹 전세계 규탄…안보리 긴급회의\n",
      "http://news.naver.com/main/read.nhn?mode=LSD&mid=shm&sid1=104&oid=025&aid=0002701718\n",
      "빈곤에 지친 중앙아시아 '앵그리 2030' … 테러로 눈돌린다\n",
      "http://news.naver.com/main/read.nhn?mode=LSD&mid=shm&sid1=104&oid=001&aid=0009163542\n",
      "미국, 비자심사 '깐깐하게'…한국 등 38개 비자면제국에도 적용\n",
      "http://news.naver.com/main/read.nhn?mode=LSD&mid=shm&sid1=104&oid=023&aid=0003269344\n",
      "로마 가로등 LED로 바꿨더니… \"냉동창고 같다\" 거센 반대여론\n",
      "http://sports.news.naver.com/wbaseball/news/read.nhn?oid=109&aid=0003510840\n",
      "None\n",
      "http://sports.news.naver.com/golf/news/read.nhn?oid=561&aid=0000000005\n",
      "None\n",
      "http://sports.news.naver.com/volleyball/news/read.nhn?oid=025&aid=0002701690\n",
      "None\n",
      "http://sports.news.naver.com/golf/news/read.nhn?oid=001&aid=0009163711\n",
      "None\n",
      "http://sports.news.naver.com/kfootball/news/read.nhn?oid=253&aid=0000000374\n",
      "None\n",
      "http://sports.news.naver.com/basketball/news/read.nhn?oid=079&aid=0002950717\n",
      "None\n",
      "http://sports.news.naver.com/kfootball/news/read.nhn?oid=382&aid=0000554508\n",
      "None\n",
      "http://sports.news.naver.com/volleyball/news/read.nhn?oid=076&aid=0003073901\n",
      "None\n",
      "http://sports.news.naver.com/kbaseball/news/read.nhn?oid=001&aid=0009163743\n",
      "None\n",
      "http://sports.news.naver.com/general/news/read.nhn?oid=001&aid=0009163558\n",
      "None\n",
      "http://sports.news.naver.com/volleyball/news/read.nhn?oid=003&aid=0007871170\n",
      "None\n",
      "http://sports.news.naver.com/kbaseball/news/read.nhn?oid=529&aid=0000009103\n",
      "None\n",
      "http://sports.news.naver.com/wbaseball/news/read.nhn?oid=410&aid=0000382306\n",
      "None\n",
      "http://sports.news.naver.com/kfootball/news/read.nhn?oid=076&aid=0003073893\n",
      "None\n",
      "http://sports.news.naver.com/golf/news/read.nhn?oid=001&aid=0009163586\n",
      "None\n",
      "http://entertain.naver.com/read?oid=241&aid=0002659402\n",
      "None\n",
      "http://entertain.naver.com/read?oid=117&aid=0002894778\n",
      "None\n",
      "http://entertain.naver.com/read?oid=112&aid=0002908398\n",
      "None\n",
      "http://entertain.naver.com/read?oid=076&aid=0003073988\n",
      "None\n",
      "http://entertain.naver.com/read?oid=108&aid=0002603904\n",
      "None\n",
      "http://entertain.naver.com/read?oid=112&aid=0002908392\n",
      "None\n",
      "http://entertain.naver.com/read?oid=076&aid=0003073942\n",
      "None\n",
      "http://entertain.naver.com/read?oid=109&aid=0003510927\n",
      "None\n",
      "http://entertain.naver.com/read?oid=109&aid=0003510852\n",
      "None\n",
      "http://entertain.naver.com/read?oid=241&aid=0002659447\n",
      "None\n",
      "http://entertain.naver.com/read?oid=076&aid=0003073972\n",
      "None\n",
      "http://entertain.naver.com/read?oid=241&aid=0002659413\n",
      "None\n",
      "http://entertain.naver.com/read?oid=076&aid=0003073968\n",
      "None\n",
      "http://entertain.naver.com/read?oid=213&aid=0000956771\n",
      "None\n",
      "http://entertain.naver.com/read?oid=311&aid=0000720041\n",
      "None\n",
      "http://news.naver.com/main/read.nhn?mode=LSD&mid=shm&sid1=101&oid=001&aid=0009163645\n",
      "2월 경상수지 흑자 84억 달러…수출 호조에 3개월래 최대\n",
      "http://news.naver.com/main/read.nhn?mode=LSD&mid=shm&sid1=101&oid=001&aid=0009163549\n",
      "소득 있는 곳에 세금 있다지만…법인·근로자 절반 세금 0원\n",
      "http://news.naver.com/main/read.nhn?mode=LSD&mid=shm&sid1=101&oid=003&aid=0007871204\n",
      "정부, 온실가스 배출 여유분 과다 이월 기업에 불이익 부과\n",
      "http://news.naver.com/main/read.nhn?mode=LSD&mid=shm&sid1=101&oid=018&aid=0003790913\n",
      "이주열 \"소비 회복, 일자리 창출이 근본적 해결책\"\n",
      "http://news.naver.com/main/read.nhn?mode=LSD&mid=shm&sid1=101&oid=001&aid=0009163794\n",
      "유일호 \"실물회복 조짐에도 북한 미사일 등으로 긴장 못 늦춰\"\n",
      "http://news.naver.com/main/read.nhn?mode=LSD&mid=shm&sid1=101&oid=079&aid=0002950732\n",
      "\"목 좋은 사거리에 위치한 은행 볼 수 없을 수도\"\n",
      "http://news.naver.com/main/read.nhn?mode=LSD&mid=shm&sid1=103&oid=052&aid=0000994857\n",
      "식목일, 전국 곳곳 봄비…남해안 80mm↑\n",
      "http://news.naver.com/main/read.nhn?mode=LSD&mid=shm&sid1=103&oid=023&aid=0003269293\n",
      "수선화·진달래·개나리… 베란다에서 봄을 키운다\n",
      "http://news.naver.com/main/read.nhn?mode=LSD&mid=shm&sid1=103&oid=025&aid=0002701652\n",
      "올 봄, 양말을 신어야 촌티를 벗는다\n",
      "http://news.naver.com/main/read.nhn?mode=LSD&mid=shm&sid1=103&oid=469&aid=0000196409\n",
      "요즘 것들의 연애시, 편지지 아닌 SNS에 쓴다\n",
      "http://news.naver.com/main/read.nhn?mode=LSD&mid=shm&sid1=103&oid=469&aid=0000196408\n",
      "사랑 표현법 달라도 고민의 흔적은 같다\n",
      "http://news.naver.com/main/read.nhn?mode=LSD&mid=shm&sid1=105&oid=079&aid=0002950713\n",
      "이통사, 5G 선점 전쟁…공허한 5G 홍보 경쟁\n",
      "http://news.naver.com/main/read.nhn?mode=LSD&mid=shm&sid1=105&oid=293&aid=0000019555\n",
      "안드로이드, 윈도우 누르고 OS 시장점유율 1위 올라\n",
      "http://news.naver.com/main/read.nhn?mode=LSD&mid=shm&sid1=105&oid=025&aid=0002701668\n",
      "전자여권 코리아 기술, 해외시장 겨눈다\n",
      "http://news.naver.com/main/read.nhn?mode=LSD&mid=shm&sid1=105&oid=277&aid=0003968245\n",
      "휴대폰 액정 깨져도 '자가치유'한다\n",
      "http://news.naver.com/main/hotissue/dailyList.nhn\n",
      "None\n",
      "http://news.naver.com/main/hotissue/sectionList.nhn?mid=hot&sid1=110&cid=1019690\n",
      "None\n",
      "http://news.naver.com/main/hotissue/sectionList.nhn?mid=hot&sid1=110&cid=1019690\n",
      "None\n",
      "http://news.naver.com/main/hotissue/sectionList.nhn?mid=hot&sid1=110&cid=1019690\n",
      "None\n",
      "#\n",
      "새창\n",
      "http://search.naver.com/search.naver?where=nexearch&query=3%EC%9B%94%20%EC%99%B8%ED%99%98%EB%B3%B4%EC%9C%A0%EC%95%A1%203753%EC%96%B5%20%EB%8B%AC%EB%9F%AC&ie=utf8&sm=nws_htk\n",
      "3월 외환보유액 3753억 달러\n",
      "http://search.naver.com/search.naver?where=nexearch&query=%EA%B9%80%EC%A2%85%EC%9D%B8%20%EB%8C%80%EC%84%A0%EC%B6%9C%EB%A7%88%20%EC%84%A0%EC%96%B8&ie=utf8&sm=nws_htk\n",
      "김종인 대선출마 선언\n",
      "http://search.naver.com/search.naver?where=nexearch&query=%ED%8A%B8%EB%9F%BC%ED%94%84%20%EB%B6%81%ED%95%9C%EC%9D%80%20%EC%9D%B8%EB%A5%98%EC%9D%98%20%EB%AC%B8%EC%A0%9C&ie=utf8&sm=nws_htk\n",
      "트럼프 북한은 인류의 문제\n",
      "http://search.naver.com/search.naver?where=nexearch&query=%EA%B5%AD%EC%A0%9C%EC%9C%A0%EA%B0%80%20WTI%201.6%25%20%EC%83%81%EC%8A%B9&ie=utf8&sm=nws_htk\n",
      "국제유가 WTI 1.6% 상승\n",
      "http://search.naver.com/search.naver?where=nexearch&query=%EC%9A%B8%EC%82%B0%20%EC%95%84%ED%8C%8C%ED%8A%B8%EC%84%9C%20%EB%B6%88&ie=utf8&sm=nws_htk\n",
      "울산 아파트서 불\n",
      "http://search.naver.com/search.naver?where=nexearch&query=%EB%AF%B8%EC%84%B8%EB%A8%BC%EC%A7%80%20%EB%82%98%EC%81%A8&ie=utf8&sm=nws_htk\n",
      "미세먼지 나쁨\n",
      "http://search.naver.com/search.naver?where=nexearch&query=%EB%AF%B8%EC%88%98%EC%8A%B5%EC%9E%90%20%EA%B0%80%EC%A1%B1&ie=utf8&sm=nws_htk\n",
      "미수습자 가족\n",
      "http://search.naver.com/search.naver?where=nexearch&query=%EA%B5%AD%EB%AF%BC%EC%9D%98%EB%8B%B9%20%EB%8C%80%EC%84%A0%20%ED%9B%84%EB%B3%B4%20%ED%99%95%EC%A0%95&ie=utf8&sm=nws_htk\n",
      "국민의당 대선 후보 확정\n",
      "http://search.naver.com/search.naver?where=nexearch&query=%EB%AF%B8%20%EC%A4%91%20%EC%A0%95%EC%83%81%ED%9A%8C%EB%8B%B4&ie=utf8&sm=nws_htk\n",
      "미 중 정상회담\n",
      "http://search.naver.com/search.naver?where=nexearch&query=%EB%B2%9A%EA%BD%83%20%EC%B6%95%EC%A0%9C&ie=utf8&sm=nws_htk\n",
      "벚꽃 축제\n",
      "javascript:history.back();\n",
      "None\n",
      "#\n",
      "None\n",
      "#\n",
      "None\n",
      "#\n",
      "None\n",
      "/main/scrap/index.nhn\n",
      "None\n",
      "http://www.naver.com/rules/service.html\n",
      "None\n",
      "/main/ombudsman/index.nhn\n",
      "None\n",
      "/main/ombudsman/edit.nhn?mid=omb\n",
      "None\n",
      "http://www.naver.com/rules/privacy.html\n",
      "None\n",
      "http://www.naver.com/rules/disclaimer.html\n",
      "None\n",
      "#\n",
      "None\n",
      "http://www.navercorp.com/\n",
      "None\n",
      "http://www.navercorp.com/\n",
      "None\n"
     ]
    }
   ],
   "source": [
    "# Find all 'a' tags\n",
    "a_tags = soup.find_all('a')\n",
    "\n",
    "for link in a_tags:\n",
    "    print(link.get('href'))\n",
    "    print(link.get('title'))"
   ]
  },
  {
   "cell_type": "markdown",
   "metadata": {
    "collapsed": false
   },
   "source": [
    "# API & JSON"
   ]
  },
  {
   "cell_type": "markdown",
   "metadata": {},
   "source": [
    "### Open Movie Database (OMDB) API 통해 영화 정보 가져오기"
   ]
  },
  {
   "cell_type": "code",
   "execution_count": 41,
   "metadata": {
    "collapsed": true
   },
   "outputs": [],
   "source": [
    "import requests"
   ]
  },
  {
   "cell_type": "code",
   "execution_count": 42,
   "metadata": {
    "collapsed": false
   },
   "outputs": [
    {
     "data": {
      "text/plain": [
       "'{\"Title\":\"The Avengers\",\"Year\":\"2012\",\"Rated\":\"PG-13\",\"Released\":\"04 May 2012\",\"Runtime\":\"143 min\",\"Genre\":\"Action, Sci-Fi\",\"Director\":\"Joss Whedon\",\"Writer\":\"Joss Whedon (screenplay), Zak Penn (story), Joss Whedon (story)\",\"Actors\":\"Robert Downey Jr., Chris Evans, Mark Ruffalo, Chris Hemsworth\",\"Plot\":\"Earth\\'s mightiest heroes must come together and learn to fight as a team if they are to stop the mischievous Loki and his alien army from enslaving humanity.\",\"Language\":\"English, Russian\",\"Country\":\"USA\",\"Awards\":\"Nominated for 1 Oscar. Another 35 wins & 77 nominations.\",\"Poster\":\"https://images-na.ssl-images-amazon.com/images/M/MV5BMTk2NTI1MTU4N15BMl5BanBnXkFtZTcwODg0OTY0Nw@@._V1_SX300.jpg\",\"Ratings\":[{\"Source\":\"Internet Movie Database\",\"Value\":\"8.1/10\"},{\"Source\":\"Rotten Tomatoes\",\"Value\":\"92%\"},{\"Source\":\"Metacritic\",\"Value\":\"69/100\"}],\"Metascore\":\"69\",\"imdbRating\":\"8.1\",\"imdbVotes\":\"1,037,900\",\"imdbID\":\"tt0848228\",\"Type\":\"movie\",\"DVD\":\"25 Sep 2012\",\"BoxOffice\":\"$623,279,547.00\",\"Production\":\"Walt Disney Pictures\",\"Website\":\"http://marvel.com/avengers_movie\",\"Response\":\"True\"}'"
      ]
     },
     "execution_count": 42,
     "metadata": {},
     "output_type": "execute_result"
    }
   ],
   "source": [
    "url = 'http://www.omdbapi.com/?t=avengers'\n",
    "r = requests.get(url)\n",
    "r.text"
   ]
  },
  {
   "cell_type": "code",
   "execution_count": 43,
   "metadata": {
    "collapsed": false
   },
   "outputs": [
    {
     "name": "stdout",
     "output_type": "stream",
     "text": [
      "Title:  The Avengers\n",
      "Year:  2012\n",
      "Rated:  PG-13\n",
      "Released:  04 May 2012\n",
      "Runtime:  143 min\n",
      "Genre:  Action, Sci-Fi\n",
      "Director:  Joss Whedon\n",
      "Writer:  Joss Whedon (screenplay), Zak Penn (story), Joss Whedon (story)\n",
      "Actors:  Robert Downey Jr., Chris Evans, Mark Ruffalo, Chris Hemsworth\n",
      "Plot:  Earth's mightiest heroes must come together and learn to fight as a team if they are to stop the mischievous Loki and his alien army from enslaving humanity.\n",
      "Language:  English, Russian\n",
      "Country:  USA\n",
      "Awards:  Nominated for 1 Oscar. Another 35 wins & 77 nominations.\n",
      "Poster:  https://images-na.ssl-images-amazon.com/images/M/MV5BMTk2NTI1MTU4N15BMl5BanBnXkFtZTcwODg0OTY0Nw@@._V1_SX300.jpg\n",
      "Ratings:  [{'Source': 'Internet Movie Database', 'Value': '8.1/10'}, {'Source': 'Rotten Tomatoes', 'Value': '92%'}, {'Source': 'Metacritic', 'Value': '69/100'}]\n",
      "Metascore:  69\n",
      "imdbRating:  8.1\n",
      "imdbVotes:  1,037,900\n",
      "imdbID:  tt0848228\n",
      "Type:  movie\n",
      "DVD:  25 Sep 2012\n",
      "BoxOffice:  $623,279,547.00\n",
      "Production:  Walt Disney Pictures\n",
      "Website:  http://marvel.com/avengers_movie\n",
      "Response:  True\n"
     ]
    }
   ],
   "source": [
    "json_data = r.json()\n",
    "\n",
    "# Print each key-value pair in json_data\n",
    "for k in json_data.keys():\n",
    "    print(k + ': ', json_data[k])"
   ]
  },
  {
   "cell_type": "markdown",
   "metadata": {},
   "source": [
    "# Tweeter API"
   ]
  },
  {
   "cell_type": "markdown",
   "metadata": {},
   "source": [
    "* https://dev.twitter.com 접속 후 회원가입\n",
    "* 오른쪽 위 \"My Apps\" 선택\n",
    "* Create New App\n",
    "* 각 항목 입력 후 등록\n",
    "* Keys and Access Tokens 탭으로 이동"
   ]
  },
  {
   "cell_type": "markdown",
   "metadata": {},
   "source": [
    "(콘솔에서) pip3 install tweepy"
   ]
  },
  {
   "cell_type": "code",
   "execution_count": 47,
   "metadata": {
    "collapsed": false
   },
   "outputs": [
    {
     "ename": "ModuleNotFoundError",
     "evalue": "No module named 'tweepy'",
     "output_type": "error",
     "traceback": [
      "\u001b[0;31m---------------------------------------------------------------------------\u001b[0m",
      "\u001b[0;31mModuleNotFoundError\u001b[0m                       Traceback (most recent call last)",
      "\u001b[0;32m<ipython-input-47-9d8dd8a91c0e>\u001b[0m in \u001b[0;36m<module>\u001b[0;34m()\u001b[0m\n\u001b[0;32m----> 1\u001b[0;31m \u001b[0;32mimport\u001b[0m \u001b[0mtweepy\u001b[0m\u001b[0;34m\u001b[0m\u001b[0m\n\u001b[0m",
      "\u001b[0;31mModuleNotFoundError\u001b[0m: No module named 'tweepy'"
     ]
    }
   ],
   "source": [
    "import tweepy"
   ]
  },
  {
   "cell_type": "code",
   "execution_count": null,
   "metadata": {
    "collapsed": true
   },
   "outputs": [],
   "source": []
  },
  {
   "cell_type": "code",
   "execution_count": null,
   "metadata": {
    "collapsed": true
   },
   "outputs": [],
   "source": []
  },
  {
   "cell_type": "code",
   "execution_count": null,
   "metadata": {
    "collapsed": true
   },
   "outputs": [],
   "source": []
  },
  {
   "cell_type": "code",
   "execution_count": null,
   "metadata": {
    "collapsed": true
   },
   "outputs": [],
   "source": []
  },
  {
   "cell_type": "code",
   "execution_count": null,
   "metadata": {
    "collapsed": true
   },
   "outputs": [],
   "source": []
  }
 ],
 "metadata": {
  "kernelspec": {
   "display_name": "Python 3",
   "language": "python",
   "name": "python3"
  },
  "language_info": {
   "codemirror_mode": {
    "name": "ipython",
    "version": 3
   },
   "file_extension": ".py",
   "mimetype": "text/x-python",
   "name": "python",
   "nbconvert_exporter": "python",
   "pygments_lexer": "ipython3",
   "version": "3.6.0"
  }
 },
 "nbformat": 4,
 "nbformat_minor": 2
}
