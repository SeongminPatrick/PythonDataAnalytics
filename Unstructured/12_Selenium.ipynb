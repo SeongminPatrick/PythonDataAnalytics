{
 "cells": [
  {
   "cell_type": "code",
   "execution_count": 1,
   "metadata": {
    "collapsed": true
   },
   "outputs": [],
   "source": [
    "import requests\n",
    "import lxml.html"
   ]
  },
  {
   "cell_type": "code",
   "execution_count": 3,
   "metadata": {
    "collapsed": true
   },
   "outputs": [],
   "source": [
    "res = requests.get('http://cartoon.media.daum.net')\n",
    "root = lxml.html.fromstring(res.content)"
   ]
  },
  {
   "cell_type": "markdown",
   "metadata": {},
   "source": [
    "## Selenium 설치\n",
    "1. 명령창에\n",
    "* pip install selenium\n",
    "1. Selenium 홈페이지 접속\n",
    "1. Selenium Standalone Server를 작업 폴더에 다운로드\n",
    "1. 원하는 웹 브라우저의 드라이버를 작업 폴더에 다운로드\n",
    "* Chrome: https://sites.google.com/a/chromium.org/chromedriver/downloads\n",
    "* Edge: https://developer.microsoft.com/en-us/microsoft-edge/tools/webdriver/\n",
    "* Firefox: https://github.com/mozilla/geckodriver/releases\n",
    "* Safari: https://webkit.org/blog/6900/webdriver-support-in-safari-10/"
   ]
  },
  {
   "cell_type": "code",
   "execution_count": 10,
   "metadata": {
    "collapsed": true
   },
   "outputs": [],
   "source": [
    "# 크롬 띄우기\n",
    "from selenium.webdriver import Chrome, Firefox\n",
    "browser = Chrome()"
   ]
  },
  {
   "cell_type": "code",
   "execution_count": 11,
   "metadata": {
    "collapsed": false
   },
   "outputs": [],
   "source": [
    "browser.get('http://cartoon.media.daum.net')"
   ]
  },
  {
   "cell_type": "markdown",
   "metadata": {},
   "source": [
    "## find_element"
   ]
  },
  {
   "cell_type": "code",
   "execution_count": 12,
   "metadata": {
    "collapsed": false
   },
   "outputs": [
    {
     "data": {
      "text/plain": [
       "<selenium.webdriver.remote.webelement.WebElement (session=\"031a4373f643a3aeb2c672820fe4b779\", element=\"0.02044178798923757-1\")>"
      ]
     },
     "execution_count": 12,
     "metadata": {},
     "output_type": "execute_result"
    }
   ],
   "source": [
    "browser.find_element_by_css_selector('a.link_wt')"
   ]
  },
  {
   "cell_type": "code",
   "execution_count": 13,
   "metadata": {
    "collapsed": false
   },
   "outputs": [
    {
     "name": "stdout",
     "output_type": "stream",
     "text": [
      "빛나는 손을\n",
      "http://cartoon.media.daum.net/webtoon/view/Hand\n",
      "라디오 갤럭시\n",
      "http://cartoon.media.daum.net/webtoon/view/RadioGalaxy\n",
      "어떤 거짓말\n",
      "http://cartoon.media.daum.net/webtoon/view/AnythingLie\n",
      "성인이토록 보통의\n",
      "http://cartoon.media.daum.net/webtoon/view/NormalLikeThis\n",
      "반지하셋방\n",
      "http://cartoon.media.daum.net/webtoon/view/UnderRoom\n",
      "골든왈츠\n",
      "http://cartoon.media.daum.net/webtoon/view/GoldenWaltz\n",
      "오늘의 초능력\n",
      "http://cartoon.media.daum.net/webtoon/view/Supernatural\n",
      "메모리스트\n",
      "http://cartoon.media.daum.net/webtoon/view/MEMORIST\n",
      "발자국이 녹기 전에\n",
      "http://cartoon.media.daum.net/webtoon/view/BeforeWarm\n",
      "아쿠아맨\n",
      "http://cartoon.media.daum.net/webtoon/view/aquaman\n",
      "리안소울의 엑소클럽\n",
      "http://cartoon.media.daum.net/webtoon/view/ExoClub\n",
      "궁상가족\n",
      "http://cartoon.media.daum.net/webtoon/view/poverty\n",
      "얌얌숲 당근길 토요요\n",
      "http://cartoon.media.daum.net/webtoon/view/toyoyo\n",
      "홍도\n",
      "http://cartoon.media.daum.net/webtoon/view/hongdo\n",
      "천연 天緣\n",
      "http://cartoon.media.daum.net/webtoon/view/heavencouple\n",
      "레드스톰\n",
      "http://cartoon.media.daum.net/webtoon/view/redstorm\n",
      "무장\n",
      "http://cartoon.media.daum.net/webtoon/view/mujang\n"
     ]
    }
   ],
   "source": [
    "for element in browser.find_elements_by_css_selector('a.link_wt'):\n",
    "    try:\n",
    "        title = element.find_element_by_tag_name('strong').text\n",
    "    except:\n",
    "        pass\n",
    "    else:\n",
    "        link = element.get_attribute('href')\n",
    "        print(title)\n",
    "        print(link)"
   ]
  },
  {
   "cell_type": "markdown",
   "metadata": {},
   "source": [
    "## click"
   ]
  },
  {
   "cell_type": "code",
   "execution_count": 14,
   "metadata": {
    "collapsed": true
   },
   "outputs": [],
   "source": [
    "monday_tab = browser.find_element_by_css_selector('a[data-day=\"mon\"]')\n",
    "monday_tab.click()"
   ]
  },
  {
   "cell_type": "markdown",
   "metadata": {},
   "source": [
    "## 검색 버튼 클릭"
   ]
  },
  {
   "cell_type": "code",
   "execution_count": 15,
   "metadata": {
    "collapsed": true
   },
   "outputs": [],
   "source": [
    "search_button = browser.find_element_by_css_selector('#searchOpenBtn')\n",
    "search_button.click()"
   ]
  },
  {
   "cell_type": "code",
   "execution_count": 20,
   "metadata": {
    "collapsed": false
   },
   "outputs": [],
   "source": [
    "link = browser.find_element_by_css_selector('a.link_wt')\n",
    "link.click()"
   ]
  },
  {
   "cell_type": "markdown",
   "metadata": {},
   "source": [
    "## 단어 검색"
   ]
  },
  {
   "cell_type": "code",
   "execution_count": 21,
   "metadata": {
    "collapsed": true
   },
   "outputs": [],
   "source": [
    "search = browser.find_element_by_id('searchKeyword')\n",
    "# search_button = browser.find_element_by_css_selector('#searchKeyword') # 위와 동일"
   ]
  },
  {
   "cell_type": "code",
   "execution_count": 22,
   "metadata": {
    "collapsed": true
   },
   "outputs": [],
   "source": [
    "search.send_keys('미생')"
   ]
  },
  {
   "cell_type": "code",
   "execution_count": 23,
   "metadata": {
    "collapsed": true
   },
   "outputs": [],
   "source": [
    "from selenium.webdriver.common.keys import Keys"
   ]
  },
  {
   "cell_type": "code",
   "execution_count": 24,
   "metadata": {
    "collapsed": true
   },
   "outputs": [],
   "source": [
    "search.send_keys(Keys.ENTER)"
   ]
  },
  {
   "cell_type": "markdown",
   "metadata": {},
   "source": [
    "키 목록: http://selenium-python.readthedocs.io/api.html#module-selenium.webdriver.common.keys"
   ]
  },
  {
   "cell_type": "markdown",
   "metadata": {},
   "source": [
    "### wait\n",
    "* find_element를 했을 때 페이지 로딩이 끝나지 않았으면 최대 10초까지 기다림"
   ]
  },
  {
   "cell_type": "code",
   "execution_count": 25,
   "metadata": {
    "collapsed": true
   },
   "outputs": [],
   "source": [
    "browser.implicitly_wait(10)"
   ]
  },
  {
   "cell_type": "markdown",
   "metadata": {},
   "source": [
    "### close"
   ]
  },
  {
   "cell_type": "code",
   "execution_count": 26,
   "metadata": {
    "collapsed": true
   },
   "outputs": [],
   "source": [
    "browser.quit()"
   ]
  },
  {
   "cell_type": "markdown",
   "metadata": {},
   "source": [
    "# 네이버 카페"
   ]
  },
  {
   "cell_type": "code",
   "execution_count": null,
   "metadata": {
    "collapsed": true
   },
   "outputs": [],
   "source": []
  },
  {
   "cell_type": "code",
   "execution_count": null,
   "metadata": {
    "collapsed": true
   },
   "outputs": [],
   "source": []
  },
  {
   "cell_type": "code",
   "execution_count": null,
   "metadata": {
    "collapsed": true
   },
   "outputs": [],
   "source": []
  },
  {
   "cell_type": "code",
   "execution_count": null,
   "metadata": {
    "collapsed": true
   },
   "outputs": [],
   "source": []
  },
  {
   "cell_type": "code",
   "execution_count": null,
   "metadata": {
    "collapsed": true
   },
   "outputs": [],
   "source": []
  },
  {
   "cell_type": "code",
   "execution_count": null,
   "metadata": {
    "collapsed": true
   },
   "outputs": [],
   "source": []
  },
  {
   "cell_type": "code",
   "execution_count": null,
   "metadata": {
    "collapsed": true
   },
   "outputs": [],
   "source": []
  },
  {
   "cell_type": "code",
   "execution_count": null,
   "metadata": {
    "collapsed": true
   },
   "outputs": [],
   "source": []
  },
  {
   "cell_type": "code",
   "execution_count": null,
   "metadata": {
    "collapsed": true
   },
   "outputs": [],
   "source": []
  },
  {
   "cell_type": "code",
   "execution_count": null,
   "metadata": {
    "collapsed": true
   },
   "outputs": [],
   "source": []
  },
  {
   "cell_type": "code",
   "execution_count": null,
   "metadata": {
    "collapsed": true
   },
   "outputs": [],
   "source": []
  }
 ],
 "metadata": {
  "anaconda-cloud": {},
  "kernelspec": {
   "display_name": "Python [conda root]",
   "language": "python",
   "name": "conda-root-py"
  },
  "language_info": {
   "codemirror_mode": {
    "name": "ipython",
    "version": 3
   },
   "file_extension": ".py",
   "mimetype": "text/x-python",
   "name": "python",
   "nbconvert_exporter": "python",
   "pygments_lexer": "ipython3",
   "version": "3.5.2"
  }
 },
 "nbformat": 4,
 "nbformat_minor": 1
}
