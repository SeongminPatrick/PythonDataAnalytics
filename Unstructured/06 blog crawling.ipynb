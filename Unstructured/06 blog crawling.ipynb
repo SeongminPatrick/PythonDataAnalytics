{
 "cells": [
  {
   "cell_type": "markdown",
   "metadata": {},
   "source": [
    "# naver blog 크롤링"
   ]
  },
  {
   "cell_type": "code",
   "execution_count": 1,
   "metadata": {
    "collapsed": true
   },
   "outputs": [],
   "source": [
    "from urllib.parse import quote_plus\n",
    "import requests\n",
    "import lxml.html"
   ]
  },
  {
   "cell_type": "code",
   "execution_count": 47,
   "metadata": {
    "collapsed": true
   },
   "outputs": [],
   "source": [
    "search_url = ('http://section.blog.naver.com/sub/SearchBlog.nhn?type=post&option.keyword={query}'\n",
    "              '&option.page.currentPage={page}&option.orderBy=sim')\n",
    "\n",
    "query = quote_plus('딥러닝 바이오')"
   ]
  },
  {
   "cell_type": "code",
   "execution_count": 48,
   "metadata": {
    "collapsed": true
   },
   "outputs": [],
   "source": [
    "url = search_url.format(query=query, page=2)\n",
    "res = requests.get(url)\n",
    "root = lxml.html.fromstring(res.text)"
   ]
  },
  {
   "cell_type": "code",
   "execution_count": 49,
   "metadata": {
    "collapsed": false
   },
   "outputs": [
    {
     "name": "stdout",
     "output_type": "stream",
     "text": [
      "NEC, 귀구멍 생체인식 기술과 딥러닝으로 실내 대상자의 '위치측정기술' 개발 http://blog.naver.com/seminartoday?Redirect=Log&logNo=220850742260&from=section\n",
      "차세대 투자처 전기차배터리ᆞ딥러닝 ...미리 선점 돈 벌자. http://blog.naver.com/ksmarkman1?Redirect=Log&logNo=220782402770&from=section\n",
      "[바이오코리아] BIO KOREA 2016 현장 스케치 - 전시회 및 컨퍼런스 http://lse7927.blog.me/220672847984\n",
      "삼성메디슨, 세계최초 '딥러닝' 기술접목 유방암 진단기 개발 http://blog.naver.com/dhseo1308?Redirect=Log&logNo=220719552807&from=section\n",
      "딥러닝과 빅데이터 산업동향 http://itdcenter.blog.me/220762637181\n",
      "제4차 산업혁명? 세상을 바꿀 테크놀로지 100 http://gami1023.blog.me/220976312058\n",
      "2017년 상반기 GSAT 대비 시사 정리 – 5. 3월 중순~4월 초 추가분 http://blog.naver.com/yankmo?Redirect=Log&logNo=220974707792&from=section\n",
      "[IT 위클리] 액션 스타 이연걸, 창업 대열에 합류 http://blog.naver.com/china_lab?Redirect=Log&logNo=220943673693&from=section\n",
      "[중국의 반격]중국의 인공지능 어디까지 왔나? http://blog.naver.com/china_lab?Redirect=Log&logNo=220967572423&from=section\n",
      "AI-바이오 융합이 가져올 경제적 효과 http://hyungrac1000.blog.me/220916319450\n"
     ]
    }
   ],
   "source": [
    "for link in root.cssselect('h5 a'):\n",
    "    print(link.text_content(), link.attrib['href'])"
   ]
  },
  {
   "cell_type": "markdown",
   "metadata": {},
   "source": [
    "## URL 분해"
   ]
  },
  {
   "cell_type": "code",
   "execution_count": 50,
   "metadata": {
    "collapsed": true
   },
   "outputs": [],
   "source": [
    "from urllib.parse import parse_qs, urlparse"
   ]
  },
  {
   "cell_type": "code",
   "execution_count": 51,
   "metadata": {
    "collapsed": false
   },
   "outputs": [
    {
     "data": {
      "text/plain": [
       "ParseResult(scheme='http', netloc='blog.naver.com', path='/dhseo1308', params='', query='Redirect=Log&logNo=220719552807&from=section', fragment='')"
      ]
     },
     "execution_count": 51,
     "metadata": {},
     "output_type": "execute_result"
    }
   ],
   "source": [
    "result = urlparse('http://blog.naver.com/dhseo1308?Redirect=Log&logNo=220719552807&from=section')\n",
    "result"
   ]
  },
  {
   "cell_type": "code",
   "execution_count": 52,
   "metadata": {
    "collapsed": true
   },
   "outputs": [],
   "source": [
    "# path : user id, logNo : blog post id"
   ]
  },
  {
   "cell_type": "code",
   "execution_count": 53,
   "metadata": {
    "collapsed": false
   },
   "outputs": [
    {
     "data": {
      "text/plain": [
       "'/dhseo1308'"
      ]
     },
     "execution_count": 53,
     "metadata": {},
     "output_type": "execute_result"
    }
   ],
   "source": [
    "result.path"
   ]
  },
  {
   "cell_type": "code",
   "execution_count": 54,
   "metadata": {
    "collapsed": false
   },
   "outputs": [
    {
     "data": {
      "text/plain": [
       "{'Redirect': ['Log'], 'from': ['section'], 'logNo': ['220719552807']}"
      ]
     },
     "execution_count": 54,
     "metadata": {},
     "output_type": "execute_result"
    }
   ],
   "source": [
    "qs = parse_qs(result.query)\n",
    "qs"
   ]
  },
  {
   "cell_type": "code",
   "execution_count": 55,
   "metadata": {
    "collapsed": false
   },
   "outputs": [
    {
     "data": {
      "text/plain": [
       "'220719552807'"
      ]
     },
     "execution_count": 55,
     "metadata": {},
     "output_type": "execute_result"
    }
   ],
   "source": [
    "qs['logNo'][0]"
   ]
  },
  {
   "cell_type": "code",
   "execution_count": 56,
   "metadata": {
    "collapsed": false
   },
   "outputs": [
    {
     "data": {
      "text/plain": [
       "'http://blog.naver.com/PostView.nhn?blogId=dhseo1308&logNo=220719552807'"
      ]
     },
     "execution_count": 56,
     "metadata": {},
     "output_type": "execute_result"
    }
   ],
   "source": [
    "# 블로그 해당글의 최종 URL\n",
    "post_url = 'http://blog.naver.com/PostView.nhn?blogId={}&logNo={}'.format(result.path[1:], qs['logNo'][0])\n",
    "post_url"
   ]
  },
  {
   "cell_type": "markdown",
   "metadata": {},
   "source": [
    "## 게시물 내용 가져오기"
   ]
  },
  {
   "cell_type": "code",
   "execution_count": 57,
   "metadata": {
    "collapsed": true
   },
   "outputs": [],
   "source": [
    "post_res = requests.get(post_url)\n",
    "post_root = lxml.html.fromstring(post_res.text)"
   ]
  },
  {
   "cell_type": "code",
   "execution_count": 58,
   "metadata": {
    "collapsed": true
   },
   "outputs": [],
   "source": [
    "# css : class는 \".\"으로, id 는 \"#\" 으로 구분"
   ]
  },
  {
   "cell_type": "code",
   "execution_count": 59,
   "metadata": {
    "collapsed": false
   },
   "outputs": [
    {
     "data": {
      "text/plain": [
       "\"\\r\\n\\t\\t\\t\\t\\t\\t\\r\\n\\t\\t\\t\\t\\t\\t\\t \\r\\n삼성메디슨, 세계최초 '딥러닝' 기술접목 유방암 진단기 개발\\r\\nhttp://www.edaily.co.kr/news/NewsRead.edy?SCD=JC51&newsid=01708886612652856&DCD=A00305&OutLnkChk=Y\\r\\n\\xa0\\r\\n솔고바이오(043100) 삼성메디슨 자회사 지분보유[특징주]솔고바이오, 삼성메디슨 등 美·中에 초음파 진단기 수출…↑http://view.asiae.co.kr/news/view.htm?idxno=2016020313405605593\\r\\n솔고바이오는 삼성메디슨 계열사 메디너스의 지분 14.02%를 보유한 것으로 알려져 관련주로 부각됐다.\\r\\n\\t\\t\\t\\t\\t\\t\\r\\n\\t\\t\\t\\t\\t\\t\""
      ]
     },
     "execution_count": 59,
     "metadata": {},
     "output_type": "execute_result"
    }
   ],
   "source": [
    "post_root.cssselect('div#postViewArea')[0].text_content()"
   ]
  },
  {
   "cell_type": "markdown",
   "metadata": {},
   "source": [
    "## 블로그 크롤링"
   ]
  },
  {
   "cell_type": "code",
   "execution_count": 60,
   "metadata": {
    "collapsed": true
   },
   "outputs": [],
   "source": [
    "import tqdm\n",
    "from urllib.parse import urljoin"
   ]
  },
  {
   "cell_type": "code",
   "execution_count": 61,
   "metadata": {
    "collapsed": true
   },
   "outputs": [],
   "source": [
    "keyword = '딥러닝 바이오'\n",
    "query = quote_plus(keyword)"
   ]
  },
  {
   "cell_type": "code",
   "execution_count": 62,
   "metadata": {
    "collapsed": true
   },
   "outputs": [],
   "source": [
    "search_url = ('http://section.blog.naver.com/sub/SearchBlog.nhn?type=post&option.keyword={query}'\n",
    "              '&option.page.currentPage={page}&option.orderBy=sim')"
   ]
  },
  {
   "cell_type": "code",
   "execution_count": 66,
   "metadata": {
    "collapsed": false
   },
   "outputs": [
    {
     "name": "stdout",
     "output_type": "stream",
     "text": [
      "\n"
     ]
    }
   ],
   "source": [
    "posts = []\n",
    "for page in tqdm.tqdm_notebook(range(1, 11)):\n",
    "    url = search_url.format(query=query, page=page)\n",
    "    res = requests.get(url)\n",
    "    root = lxml.html.fromstring(res.text)\n",
    "    \n",
    "    for link in root.cssselect('h5 a'):\n",
    "        link_url = link.attrib['href']\n",
    "\n",
    "        # 다른 형식의 주소는 무시\n",
    "        if not link_url.startswith('http://blog.naver.com'):\n",
    "            continue\n",
    "\n",
    "        # 진짜 주소\n",
    "        result = urlparse(link_url)\n",
    "        blog_id = result.path[1:]\n",
    "        qs = parse_qs(result.query)\n",
    "        post_id = qs['logNo'][0]\n",
    "        post_url = 'http://blog.naver.com/PostView.nhn?blogId={}&logNo={}'.format(blog_id, post_id)\n",
    "        \n",
    "        # 본문 가져오기\n",
    "        post_res = requests.get(post_url)\n",
    "        post_root = lxml.html.fromstring(post_res.text)\n",
    "        \n",
    "        try:\n",
    "            body = post_root.cssselect('div#postViewArea')[0]\n",
    "            posts.append(body.text_content())\n",
    "        except IndexError:\n",
    "            continue"
   ]
  },
  {
   "cell_type": "code",
   "execution_count": 67,
   "metadata": {
    "collapsed": false
   },
   "outputs": [
    {
     "data": {
      "text/plain": [
       "55"
      ]
     },
     "execution_count": 67,
     "metadata": {},
     "output_type": "execute_result"
    }
   ],
   "source": [
    "len(posts)"
   ]
  },
  {
   "cell_type": "code",
   "execution_count": 68,
   "metadata": {
    "collapsed": true
   },
   "outputs": [],
   "source": [
    "# CSV로 저장"
   ]
  },
  {
   "cell_type": "code",
   "execution_count": 69,
   "metadata": {
    "collapsed": true
   },
   "outputs": [],
   "source": [
    "import csv\n",
    "import re"
   ]
  },
  {
   "cell_type": "code",
   "execution_count": 70,
   "metadata": {
    "collapsed": true
   },
   "outputs": [],
   "source": [
    "with open('posts.csv', 'w', encoding='utf8', newline='') as f:\n",
    "    w = csv.writer(f)\n",
    "    for post in posts:\n",
    "        post_short = re.sub(r'\\s+', ' ', post)  # 모든 종류의 공백을 빈 칸 하나로 바꿈 (엑셀에서 보기 좋게)\n",
    "        w.writerow([post_short])"
   ]
  },
  {
   "cell_type": "code",
   "execution_count": 71,
   "metadata": {
    "collapsed": true
   },
   "outputs": [],
   "source": [
    "# csv에서 불러오기"
   ]
  },
  {
   "cell_type": "code",
   "execution_count": 88,
   "metadata": {
    "collapsed": true
   },
   "outputs": [],
   "source": [
    "posts = []\n",
    "with open('posts.csv', encoding='utf8') as f:\n",
    "    reader = csv.reader(f)\n",
    "    for row in reader:\n",
    "        post = row[0]\n",
    "        if len(post) > 100:\n",
    "            posts.append(post)"
   ]
  },
  {
   "cell_type": "code",
   "execution_count": 89,
   "metadata": {
    "collapsed": false
   },
   "outputs": [
    {
     "data": {
      "text/plain": [
       "55"
      ]
     },
     "execution_count": 89,
     "metadata": {},
     "output_type": "execute_result"
    }
   ],
   "source": [
    "len(posts)"
   ]
  },
  {
   "cell_type": "code",
   "execution_count": 90,
   "metadata": {
    "collapsed": false
   },
   "outputs": [
    {
     "data": {
      "text/plain": [
       "[' 전문가처럼 정확한 인공지능 혈압측정기술 최초 개발- 뇌신경 모방 딥러닝 기술 적용, 바이오진단용으로 활용 기대 등록일 2016-11-09 전문가처럼 정확한 인공지능 혈압측정기술 최초 개발 - 뇌신경 모방 딥러닝 기술 적용, 바이오진단용으로 활용 기대 - □ 미래창조과학부(장관 최양희)는 인공지능 딥러닝 기술을 이용하여 의사 등 전문가가 측정하는 수준의 정확성을 갖는 혈압측정기술을 한양대 장준혁 교수 연구팀이 세계 최초로 개발하였다고 밝혔다. * 인공지능 딥러닝 기술 : 대용량의 데이터나 복잡한 자료들 속에서 사람의 뇌신경에서 학습하는 메커니즘처럼 컴퓨터를 학습시켜 핵심적인 내용과 기능을 분류하거나 군집화할 수 있는 기계학습방법 o 혈압은 사람의 건강상태를 보여주는 가장 중요한 생체신호이다. 혈압을 잴 때는 현재, 압박대를 감아 재는 간접적인 방식이 사용되는데, 전문가가 청진기로 재는 것처럼 정확도가 높은 혈압측정 기술이 개발되었다. □ 장준혁 교수 연구팀(한양대)은 미래창조과학부 기초연구사업(개인연구)의 지원으로 연구를 수행했으며, 이 연구는 국제적인 학술지 IEEE 산업정보 트랜잭션 10월 15일자에 게재되었다. o 논문명과 저자 정보는 다음과 같다. - 논문명 : Oscillometric Blood Pressure Estimation Based on Deep Learning - 저자 정보 : 장준혁 교수(교신저자, 한양대), 이수정(제1저자, 한양대) □ 논문의 주요 내용은 다음과 같다. 1. 연구의 필요성 ○ 혈압은 환자의 건강상태를 보여주는 가장 중요한 생체신호이다. 2012년 세계보건기구 (WHO) 발표기준 전 세계 사망자 가운데 31%가 심혈관질환 사망자로 발표되었다. 현재 오실로메트릭 혈압측정방법이 수축기 혈압과 이완기 혈압을 추정하는 방법으로 널리 사용되고 있지만 경험적인 방법(최대진폭방법)이라는 한계가 있어 수학적 방법, 뉴럴 네트워크 방법* 등 여러 방법들이 대안으로 시도되고 있지만 만족할 만한 연구 성과를 얻을 수 없었다. * 뉴럴 네트워크 방법 : 사람의 신경망의 물리적 구조를 본 뜬 수학적 모델링방법으로 딥러닝 기술 이전에는 학습오류가 치명적인 단점으로 알려져 대중화되지 못함. 2. 연구 내용 ○ 이번 연구는 캐나다 오타와 대학의 임상데이터 국제협력을 통해 이루어졌다. 딥러닝은 인공지능의 한 기법으로 인간의 두뇌가 수많은 데이터 속에서 패턴을 발견한 뒤 사물을 구분하는 정보처리 방식을 모방해 알고리즘이 사물을 인지 혹은 분별할 수 있도록 하는 최신기술이다. 이러한 딥러닝 기술을 적용하면 사람이 모든 판단 기준을 정해주지 않아도 컴퓨터가 스스로 인지·추론·판단할 수 있는 인공지능 시스템을 만들 수 있다. ○ 이 연구는 딥러닝기반 혈압측정방법을 개발하였는데, 실제로 딥러닝 특징 추출과 분류를 위한 강력한 생성 네트워크이다. 특히 대용량의 빅데이터로 사전훈련을 통해 학습오류에 빠지는 근본적인 문제를 해결할 수 있는 것으로 알려져 있다. 기존의 딥러닝 기술을 음성인식 등에 효과적으로 사용되어 우수성이 입증되었지만 전문가에 의해 측정된 혈압데이터가 소량 존재하는 관계로 딥러닝을 학습하기 충분하지 않아 실제 적용이 불가능하다고 판단되었다. ○ 연구팀은 이 문제를 해결하기 위해 이세돌의 대국으로 유명한 ‘알파고‘가 사용한 것으로 알려진 강화학습과 개념적으로 유사한, 일종의 데이터 강화기법인 부트스트랩알고리즘*을 고안하였다. 이것은 인공 특징벡터데이터*를 증폭하여 얻어내고 이를 훈련 샘플로 사용하여 효율적으로 인공특징 벡터와 사전에 얻어진 기준 레퍼런스 혈압* 사이의 복잡한 비선형 기능을 학습하였다. 이러한 데이터증폭기술과 딥러닝기술의 결합으로 전문가가 직접 측정하는 청각 기준혈압과 유사하게 추정할 수 있다는 것을 세계 최초로 규명하였다. * 부트스트랩알고리즘 : 인공신경망의 효과적인 학습을 위해 연구진에서 사용한 일종의 데이터 강화학습알고리즘으로 유사한 통계적 특성을 가지는 데이터를 반복적으로 증폭하여 얻어내는 기술 * 인공 특징벡터데이터 : 혈압의 변화를 효과적으로 표현하기 위해 인공적으로 추출된 벡터로써 딥러닝의 입력으로 사용된 특징 벡터 * 기준 레퍼펀스 혈압 : 전문가가 측정하여 구해 낸 추정혈압의 기준 정답이 되는 혈압 3. 연구 성과 ○ 이번 연구는 인공지능 딥러닝 기술을 혈압측정기술에 세계 최초로 적용했다. 새롭게 개발한 딥러닝 기반 오실로메트릭 혈압추정기술은 기존 최대진폭방법(maximum amplitude algorithm)에 비해, 사람으로부터 측정되는 생체측정 데이터를 증폭하는 일종의 강화학습을 통해 인공지능 기반 딥러닝 기술을 효과적으로 학습하여 혈압을 추정한다. 연구팀은 이 기술을 활용해 오실로메트릭기반 혈압추정알고리즘을 개발했고 기존 대표 방법의 90%대 성능에 대비하여 새로운 추정 혈압의 결과는 95%대의 큰 성능 향상을 보였다고 밝혔다. ○ 금번 연구결과는 기존 협압측정기술의 알고리즘의 성능을 대폭 향상시킬 수 있는 동시에 측정자별 데이터가 시간에 따라 축적되어감에 따라 측정자에 적응(adaptation)된 최적화된 측정치를 제공할 수 있는 딥러닝 기술의 장점을 이용할 수 있는 기틀을 제시했다는 평가이다. 연구진은 향후 스마트와치 및 IoT기기 등에서 간편하게 혈압을 측정할 수 있는 기술을 개발할 예정이다. □ 장준혁 교수는 “이 연구는 전문가가 청각으로 측정하는 혈압과 유사한 정밀도를 갖는 혈압측정 기술을 개발한 것이다. 압박대를 감아 나타난 생체신호데이터의 특징을 인공지능 딥러닝 알고리즘으로 구축된 인공신경망에서 인식하여 혈압값을 도출함으로써 혈압추정 결과를 크게 향상시켰다. 가정과 병원에서 새로운 바이오 진단에 널리 활용될 것으로 기대된다.”라고 연구의 의의를 설명했다. <참고자료> : 1. 연구결과 개요 2. 연구이야기 3. 용어설명 4. 그림설명 연 구 결 과 개 요 1. 연구배경 ㅇ 기존의 혈압측정기술은 병원등지에서 오실로메트릭기법을 사용하여 상대적으로 편리하지만 낮은 수준으로 측정하는 단계로 전문가에 의한 청각측정법에 비해 성능이 떨어지는 것이 일반적이다. 이는 ‘IBM 왓슨’과 같은 암진단과 같은 분야와는 달리 빅데이터분석 및 인공지능 학습알고리즘의 적용이 어려운 분야인 것으로 알려져 와서, 이러한 배경과 원인을 해결할 수 있는 알고리즘 착안이 본 연구의 기초 동기로 작용하였다. 2. 연구내용ㅇ 딥러닝은 인공지능의 한 기법으로 인간의 두뇌가 수많은 데이터 속에서 패턴을 발견한 뒤 사물을 구분하는 정보처리 방식을 모방해 알고리즘이 사물을 인지 혹은 분별할 수 있도록 하는 최신기술이다. 이러한 딥러닝 기술을 적용하면 사람이 모든 판단 기준을 정해주지 않아도 컴퓨터가 스스로 인지·추론·판단할 수 있는 인공지능 시스템을 만들 수 있다. ㅇ 혈압은 환자의 건강상태를 보여주는 가장 중요한 생체신호로 2012년 세계보건기구(WHO) 발표기준 전 세계 사망자 (18,000,000 명)가 가운데 31% 가 심혈관질환 사망자로 발표되었다. 현재오실로메트릭 혈압측정방법이 혈압을 측정하는데 수축기 혈압과 이완기 혈압을 추정하는 방법으로 널리 사용된다. 이 기술에서는 딥러닝기반 혈압측정방법을 개발하였는데 실제로 딥러닝 특징 추출과 분류를 위한 강력한 생성 네트워크로 특히 대용량의 빅데이터로 사전훈련을 통해 학습오류에 빠지는 근본적인 문제를 해결할 수 있는 것으로 알려져 있다. 기존의 딥러닝 기술을 음성인식 등에 효과적으로 사용되어 우수성이 입증되었지만, 전문가에 의해 측정된 혈압데이터가 소량 존재하는 관계로 딥러닝을 학습하기 충분하지 않아 실제 적용이 불가능하다고 알려져 있었다. 연구팀은 이 문제 해결하기 위해, 부트스트랩알고리즘을 이용 인공 특징벡터데이터를 증폭하여 얻어내고 이를 훈련 샘플로 사용하여 효율적으로 인공특징 벡터와 사전에 얻어진 기준레퍼런스 혈압 사이의 복잡한 비선형 기능을 학습하였다. 이러한 데이터증폭기술과 딥러닝 기술의 결합으로 청각기준혈압과 유사하게 추정할 수 있다는 것을 세계 최초로 규명하였다. 3. 기대효과 ㅇ 이번에 새롭게 개발한 딥러닝기반 오실로메트릭 혈압추정기술은 기존 최대진폭방법(maximum amplitude algorithm)에 비해 에러발생문제를 효과적으로 개선하고, 사람으로부터 측정되는 생체측정 데이터의 샘플의 소량화 문제를 해결할 수 있는 기술로서 최근 급부상하고 있는 인공지능 기반 딥러닝 기술을 이용해 혈압을 추정한다. 딥러닝 기술은 인공지능 및 패턴인식 분야에서 널리 사용되는 기술로 다양한 입력 데이터에 대해 항상 최적의 데이터를 찾는 장점을 가지고 있어 강인한 성능을 보장할 수 있다. 연구팀은 이 기술을 활용해 오실로메트릭기반 혈압추정알고리즘을 개발했고 이전 방법에 비해 더 정확하게 추정했고, 혈압추정 결과를 크게 향상 시켰다. ★ 연구 이야기 ★□ 연구를 시작한 계기나 배경은?캐나다 오타와대학과의 국제협력을 시작으로 지속적으로 오랫동안 혈압측정에 관련한 연구를 수행하던 중, 인공신경망을 이용한 딥러닝 알고리즘에 대한 국제적인 시도가 없었고, 이런 연구가 딥러닝에 대한 연구가 아직 초창기일뿐더러, 연구를 위한 데이터가 부족하다는 점에 착안하여, 먼저 부트스트랩알고리즘을 통한 혈압데이터 증폭기술을 개발하여 이를 딥러닝에 적용가능 하다는 입증하는 시도를 하게 되었다.□ 연구 전개 과정에 대한 소개혈압은 환자의 건강상태를 보여주는 가장 중요한 생체신호로 2012년 세계보건기구 (WHO) 발표기준 전 세계 사망자 가운데 31%가 심혈관질환 사망자로 발표되었다. 현재 오실로메트릭 혈압측정방법이 혈압을 측정하는데 수축기 혈압과 이완기 혈압을 추정하는 방법으로 널리 사용되고 있지만 경험적인 방법(최대진폭방법)이라는 한계가 있어 수학적 방법, 뉴럴 네트워크 방법 등, 여러 방법들이 대안으로 시도되고 있지만 만족할 만한 연구 성과를 얻을 수 없었다. 여기에 최근 뉴럴 네트워크기술을 발전시킨 딥러닝 기술이 최근 각광받고 있는 점에 착안하여 그동안의 연구경험을 바탕으로 딥러닝 기반 혈압측정기술을 개발하였다. □ 연구하면서 어려웠던 점이나 장애요소가 있었다면 무엇인지? 어떻게 극복(해결)하였는지?연구 초기에는 생체신호 및 측정에 관한내용과 혈압의 특성상 사람의 인체에서 획득되어지고 생명과 관련이 아주 높은 생체정보임으로 윤리적, 금전적, 그리고 기타 문제들로 인해 대용량의 혈압 측정 데이터를 확보하는 것이 현실적으로 불가능하여 혈압측정에 관한 국제표준규약을 준수하면서 확보되어진 혈압측정 데이터를 이용하여 대용량의 인공파라미터를 생성하는 방법을 착안하여 해결할 수 있었다. 이를 캐나다 오타와대학의 연구협력과 빠른 속도로 발전하고 있는 딥러닝기술을 알고리즘을 다양하게 적용 개발함으로서 기존 청각실험과 유사한 정도의 우수한 성능을 도출하게 되었다.□ 이번 성과, 무엇이 다른가?실제로 딥러닝 기술은 특징추출을 위한 강력한 생성네트워크로 특히, 대용량의 빅데이터가 준비가능한 상황에서 사전훈련을 통해 학습오류에 빠지는 근본적인 문제를 해결 할 수 있는 것으로 알려져 있다. 그러나 전문가에 의해 측정된 혈압 데이터가 소량인관계로(1인당 5번 혈압 측정, 인원 : 85명) 딥러닝을 학습프로그램으로 사용하기에 충분하지 못해 실제적용에서 기존방법과 유사한 방법을 나타냈지만 연구팀은 이 문제를 부트스트랩 방법을 이용한 인공특징벡터데이터를 증폭하여 얻어내고 이를 훈련 샘플로 사용하여 효율적으로 인공특징벡터와 사전에 얻어진 기준레퍼런스 혈압 사이의 복잡한 비선형 기능을 학습하였다. 이러한 데이터 증폭기술과 딥러닝 기술의 융합으로 청각기준혈압과 유사하게 혈압을 추정할 수 있다는 것을 세계 최초로 규명하였으며, 딥러닝을 이용한 혈압측정을 성공한 첫 번째 연구결과를 인정받아 세계적으로 최상위권 저명한 학술지(국제 전기전자공학회 산업정보 트랜잭션, IEEE Transactions on Industrial Informatics)에 연구내용 및 결과가 승인과 동시에 온라인 게재됐다는 것에 큰 의의가 있다.□ 꼭 이루고 싶은 목표와 향후 연구계획은? 2009년 연구초기의 여러 가지 어려움을 이겨내며 약 7년 기간 동안 혈압측정에 관한 연구를 진행하면서 사람의 인체에서 가장 중요한 생체신호를 연구한다는 연구동기부여와 앞으로 보다 근본적인 심혈관 연구에 집중해 단순한 혈압측정을 넘어 향후 건강상태를 진단하고 고혈압 사전징후를 알릴 수 있는 복합기능을 가진 혈압계측 기술 및 혈압측정이외의 다양한 바이오진단기술확보를 목표로 하여 연구를 진행할 계획이며, 지금도 모 대기업의 지원을 받아 딥러닝기반 바이오진단기술의 상용화에 박차를 가하고 있다.□ 기타 특별한 에피소드가 있었다면?기존에 있던 연구내용을 제안한 것이 아니라 바이오신호측정분야에 딥러닝을 적용한 최초의 연구결과라 논문을 심사하는 전문가들에게 세계최초의 연구결과라는 내용을 설명하는 과정이 오히려 매우 터프하여 심사위원들의 공격을 방어하고 게재승인을 이끌어 낸 것이 가장 즐거운 에피소드였다.용 어 설 명1. 국제전기전자공학회 (IEEE) 발간하는 세계적 학술지, 산업정보트랜잭션 (IEEE Transactions on Industrial Informatics), 10월 온라인 판에 게재 ○ (‘13년 인용지수: 8.785, 저널랭킹 : 0.9% (Q1)) 2. 오실로메트릭 혈압측정 (Oscillometric Blood Pressure Measurement) ○ 오실로메트릭 혈압측정법은 현재 병원 및 가정에서 가장 널리 이용되고 있는 혈압측정방법으로 팔의 상단부 또는 팔목에 커프(공기주머니)를 감싸고 압력을 적정수준까지 약 220 mmHg 상승시켜 혈관에 압력을 주고, 이완시키는 과정 속에 혈액이 혈관벽에 압력을 가하는 것이 신호로 반응되어져 혈압으로 나타남 3. 수축기 및 이완기 혈압(Systolic and diastolic blood pressure) ○ 수축기혈압은 심장이 수축할 때 혈액이 혈관 벽에 전달되는 압력이고, 이와 반대로 이완기 혈압은 심장이 이완 되었을 때의 압력으로 알려져 있다. 4. 부트스트랩방법(Bootstrap method) ○ 가설 검증(test)을 하거나 메트릭(metric)을 계산하기 전에 임의추출을 적용하는 방법을 일컫는다. (이 때에 임의추출은 중복을 허용해야 한다.) 예를 들자면, 어떤 집단에서 값을 측정했을 때, 그 중에서 임의로 100개를 뽑아서 평균(sample mean)을 구하는 것이다. 이게 무슨 의미가 있을까? 딱 하나의 단일 통계치를 얻고자 하면 전체의 평균을 구하면 된다. 그런데 만약 평균의 신뢰구간을 구하고 싶다면? 데이터를 수집했던 확률변수의 정확한 분포를 모르는 경우, 측정된 통계치의 신뢰도를 가늠할 방법이 없다. 이 때, 일종의 강화학습의 일종으로 부트스트랩알고리즘을 사용한다. 측정된 n개의 데이터 중에서 중복을 허용하여 m개를 뽑고, 그들의 평균을 구하기를 여러 번 반복한다. 그럼 평균의 분포를 구할 수 있게 되고, 이로부터 95% 확률로 sample mean이 (a, b) 사이의 구간에 위치한다든가 하는 것을 언급할 수 있다. 이렇게 원래의 분포를 모르는 경우 외에도, 측정된 샘플이 부족한 경우에 사용하여 마치 통계적으로 유사한 데이터를 증폭하는 기술이다. 4. 딥러닝 ○ 딥러닝은 인공지능의 한 기법으로 인간의 두되가 수많은 데이터 속에서 패턴을 발견한 뒤 사물을 구분하는 정보처리 방식을 모방해 알고리즘이 사물을 인지 혹은 분별 할 수 있는 최신기술로서 최근 알파고과 이세돌의 인간과 기계의 대결로 유명해졌으며, 알파고가 사용한 알고리즘이 딥러닝기술이다. 이 기술은 최근에 음성인식, 영상식별, 자율주행 등의 다양한 분야에 빅데이터를 이용한 최신기술로 사용되어지고 있는 추세다.그 림 설 명 (그림1) 혈압측정을 위한 딥러닝 학습개념도 딥러닝 학습개념도로써 혈압 데이터를 이용하여 신경망을 점점 더 깊게 쌓아올리는 사전훈련단계의 모습을 보여주고 있다. 신경망을 깊게 쌓으면 높은 성능을 기대할 수 있지만 양질의 데이터가 충분하지 않으면 지역적 학습오류에 쉽게 빠져서 시스템이 망가진다. 이를 보완하기 위해 강화학습의 일종으로 금번에 혈압데이터를 증폭하여 딥러닝 구조를 설계하여 우수한 성능을 도출하였다. ']"
      ]
     },
     "execution_count": 90,
     "metadata": {},
     "output_type": "execute_result"
    }
   ],
   "source": [
    "posts[:1]"
   ]
  },
  {
   "cell_type": "markdown",
   "metadata": {},
   "source": [
    "## TDM 만들기"
   ]
  },
  {
   "cell_type": "code",
   "execution_count": 91,
   "metadata": {
    "collapsed": true
   },
   "outputs": [],
   "source": [
    "from sklearn.feature_extraction.text import CountVectorizer\n",
    "from konlpy.tag import Komoran"
   ]
  },
  {
   "cell_type": "code",
   "execution_count": 92,
   "metadata": {
    "collapsed": true
   },
   "outputs": [],
   "source": [
    "tagger = Komoran()   # 형태소 분석기"
   ]
  },
  {
   "cell_type": "code",
   "execution_count": 93,
   "metadata": {
    "collapsed": true
   },
   "outputs": [],
   "source": [
    "def get_noun(text):\n",
    "    nouns = tagger.nouns(text)\n",
    "    return [n for n in nouns if len(n) > 1]  # 2글자 이상인 명사만 추출"
   ]
  },
  {
   "cell_type": "code",
   "execution_count": 94,
   "metadata": {
    "collapsed": true
   },
   "outputs": [],
   "source": [
    "cv = CountVectorizer(tokenizer=tagger.nouns, max_features=500)"
   ]
  },
  {
   "cell_type": "code",
   "execution_count": 95,
   "metadata": {
    "collapsed": true
   },
   "outputs": [],
   "source": [
    "tdm = cv.fit_transform(posts)"
   ]
  },
  {
   "cell_type": "code",
   "execution_count": 96,
   "metadata": {
    "collapsed": true
   },
   "outputs": [],
   "source": [
    "import numpy"
   ]
  },
  {
   "cell_type": "code",
   "execution_count": 97,
   "metadata": {
    "collapsed": true
   },
   "outputs": [],
   "source": [
    "numpy.savez('blog_tdm.npz', tdm)   # TDM 저장"
   ]
  },
  {
   "cell_type": "markdown",
   "metadata": {},
   "source": [
    "## 단어 목록 저장"
   ]
  },
  {
   "cell_type": "code",
   "execution_count": 98,
   "metadata": {
    "collapsed": true
   },
   "outputs": [],
   "source": [
    "import json"
   ]
  },
  {
   "cell_type": "code",
   "execution_count": 99,
   "metadata": {
    "collapsed": true
   },
   "outputs": [],
   "source": [
    "with open('blog_words.json', 'w', encoding='utf8') as f:\n",
    "    json.dump(cv.get_feature_names(), f)"
   ]
  },
  {
   "cell_type": "markdown",
   "metadata": {},
   "source": [
    "## TDM 불러오기"
   ]
  },
  {
   "cell_type": "code",
   "execution_count": 100,
   "metadata": {
    "collapsed": true
   },
   "outputs": [],
   "source": [
    "data = numpy.load('blog_tdm.npz', encoding='latin1')  # encoding은 python 2에서 만든 것을 3에서 불러올 때만 사용"
   ]
  },
  {
   "cell_type": "code",
   "execution_count": 101,
   "metadata": {
    "collapsed": false
   },
   "outputs": [
    {
     "data": {
      "text/plain": [
       "['arr_0']"
      ]
     },
     "execution_count": 101,
     "metadata": {},
     "output_type": "execute_result"
    }
   ],
   "source": [
    "data.files"
   ]
  },
  {
   "cell_type": "code",
   "execution_count": 103,
   "metadata": {
    "collapsed": false
   },
   "outputs": [
    {
     "data": {
      "text/plain": [
       "<55x500 sparse matrix of type '<class 'numpy.int64'>'\n",
       "\twith 7573 stored elements in Compressed Sparse Row format>"
      ]
     },
     "execution_count": 103,
     "metadata": {},
     "output_type": "execute_result"
    }
   ],
   "source": [
    "tdm = data['arr_0'].item()\n",
    "tdm"
   ]
  },
  {
   "cell_type": "markdown",
   "metadata": {},
   "source": [
    "## 단어 목록 불러오기"
   ]
  },
  {
   "cell_type": "code",
   "execution_count": 104,
   "metadata": {
    "collapsed": true
   },
   "outputs": [],
   "source": [
    "import json"
   ]
  },
  {
   "cell_type": "code",
   "execution_count": 105,
   "metadata": {
    "collapsed": true
   },
   "outputs": [],
   "source": [
    "with open('blog_words.json', encoding='utf8') as f:\n",
    "    words = json.load(f)"
   ]
  },
  {
   "cell_type": "code",
   "execution_count": 122,
   "metadata": {
    "collapsed": false
   },
   "outputs": [
    {
     "data": {
      "text/plain": [
       "['4차 산업',\n",
       " '가격',\n",
       " '가정',\n",
       " '가지',\n",
       " '가치',\n",
       " '가트너',\n",
       " '간',\n",
       " '감소',\n",
       " '강연',\n",
       " '강화',\n",
       " '개',\n",
       " '개념',\n",
       " '개발',\n",
       " '개별',\n",
       " '개선',\n",
       " '개월',\n",
       " '개인',\n",
       " '개최',\n",
       " '건',\n",
       " '건강',\n",
       " '검사',\n",
       " '것',\n",
       " '게임',\n",
       " '결과',\n",
       " '결정',\n",
       " '결합',\n",
       " '경기',\n",
       " '경우',\n",
       " '경쟁',\n",
       " '경쟁력']"
      ]
     },
     "execution_count": 122,
     "metadata": {},
     "output_type": "execute_result"
    }
   ],
   "source": [
    "words[:30]"
   ]
  },
  {
   "cell_type": "markdown",
   "metadata": {},
   "source": [
    "## 차원 축소"
   ]
  },
  {
   "cell_type": "code",
   "execution_count": 108,
   "metadata": {
    "collapsed": true
   },
   "outputs": [],
   "source": [
    "from sklearn.decomposition import TruncatedSVD   # = PCA\n",
    "from sklearn.preprocessing import Normalizer\n",
    "from sklearn.pipeline import make_pipeline"
   ]
  },
  {
   "cell_type": "code",
   "execution_count": 109,
   "metadata": {
    "collapsed": true
   },
   "outputs": [],
   "source": [
    "svd = TruncatedSVD(n_components=10)   # 10 개의 차원으로 축소.\n",
    "pos = svd.fit_transform(tdm)"
   ]
  },
  {
   "cell_type": "code",
   "execution_count": 110,
   "metadata": {
    "collapsed": false
   },
   "outputs": [
    {
     "data": {
      "text/plain": [
       "(55, 10)"
      ]
     },
     "execution_count": 110,
     "metadata": {},
     "output_type": "execute_result"
    }
   ],
   "source": [
    "pos.shape"
   ]
  },
  {
   "cell_type": "code",
   "execution_count": 111,
   "metadata": {
    "collapsed": false
   },
   "outputs": [
    {
     "data": {
      "text/plain": [
       "array([ 77.87838688, -70.59942751,  -3.16606568,  96.71254329,\n",
       "       -32.95523998,  37.96075643, -16.19291974,  -2.48603469,\n",
       "        -3.04703008,   3.478666  ])"
      ]
     },
     "execution_count": 111,
     "metadata": {},
     "output_type": "execute_result"
    }
   ],
   "source": [
    "pos[0, :]"
   ]
  },
  {
   "cell_type": "markdown",
   "metadata": {},
   "source": [
    "## 정규화"
   ]
  },
  {
   "cell_type": "code",
   "execution_count": 124,
   "metadata": {
    "collapsed": true
   },
   "outputs": [],
   "source": [
    "# 글의 방향성만 남도록 길이를 동일하게 조정."
   ]
  },
  {
   "cell_type": "code",
   "execution_count": 112,
   "metadata": {
    "collapsed": true
   },
   "outputs": [],
   "source": [
    "normalizer = Normalizer(copy=False)\n",
    "lsa = make_pipeline(svd, normalizer)   # svd 와 normalizer를 순서대로 적용.\n",
    "pos = lsa.fit_transform(tdm)"
   ]
  },
  {
   "cell_type": "code",
   "execution_count": 113,
   "metadata": {
    "collapsed": false
   },
   "outputs": [
    {
     "data": {
      "text/plain": [
       "(55, 10)"
      ]
     },
     "execution_count": 113,
     "metadata": {},
     "output_type": "execute_result"
    }
   ],
   "source": [
    "pos.shape"
   ]
  },
  {
   "cell_type": "code",
   "execution_count": 114,
   "metadata": {
    "collapsed": false
   },
   "outputs": [
    {
     "data": {
      "text/plain": [
       "array([ 0.51097153, -0.4632132 , -0.02077299,  0.63454521, -0.21622285,\n",
       "        0.24906931, -0.10624609, -0.01631449, -0.01997289,  0.02283289])"
      ]
     },
     "execution_count": 114,
     "metadata": {},
     "output_type": "execute_result"
    }
   ],
   "source": [
    "pos[0, :]"
   ]
  },
  {
   "cell_type": "code",
   "execution_count": 115,
   "metadata": {
    "collapsed": false
   },
   "outputs": [
    {
     "data": {
      "text/plain": [
       "1.0"
      ]
     },
     "execution_count": 115,
     "metadata": {},
     "output_type": "execute_result"
    }
   ],
   "source": [
    "sum(pos[0, :] ** 2)"
   ]
  },
  {
   "cell_type": "markdown",
   "metadata": {},
   "source": [
    "## 클러스터링"
   ]
  },
  {
   "cell_type": "code",
   "execution_count": 123,
   "metadata": {
    "collapsed": true
   },
   "outputs": [],
   "source": [
    "# 각 문서간의 유사성을 기준으로 군집화"
   ]
  },
  {
   "cell_type": "code",
   "execution_count": 116,
   "metadata": {
    "collapsed": true
   },
   "outputs": [],
   "source": [
    "from sklearn.cluster import KMeans"
   ]
  },
  {
   "cell_type": "code",
   "execution_count": 117,
   "metadata": {
    "collapsed": true
   },
   "outputs": [],
   "source": [
    "km = KMeans(n_clusters=5)"
   ]
  },
  {
   "cell_type": "code",
   "execution_count": 118,
   "metadata": {
    "collapsed": false
   },
   "outputs": [
    {
     "data": {
      "text/plain": [
       "KMeans(algorithm='auto', copy_x=True, init='k-means++', max_iter=300,\n",
       "    n_clusters=5, n_init=10, n_jobs=1, precompute_distances='auto',\n",
       "    random_state=None, tol=0.0001, verbose=0)"
      ]
     },
     "execution_count": 118,
     "metadata": {},
     "output_type": "execute_result"
    }
   ],
   "source": [
    "km.fit(pos)"
   ]
  },
  {
   "cell_type": "code",
   "execution_count": 119,
   "metadata": {
    "collapsed": false
   },
   "outputs": [
    {
     "data": {
      "text/plain": [
       "array([4, 0, 1, 4, 3, 1, 3, 3, 3, 4, 2, 3, 1, 1, 2, 1, 3, 1, 3, 3, 1, 3, 4,\n",
       "       0, 0, 0, 1, 0, 0, 2, 0, 1, 3, 0, 4, 2, 0, 2, 3, 2, 2, 1, 4, 1, 3, 3,\n",
       "       2, 3, 1, 0, 2, 1, 1, 3, 3])"
      ]
     },
     "execution_count": 119,
     "metadata": {},
     "output_type": "execute_result"
    }
   ],
   "source": [
    "km.labels_"
   ]
  },
  {
   "cell_type": "code",
   "execution_count": null,
   "metadata": {
    "collapsed": true
   },
   "outputs": [],
   "source": []
  },
  {
   "cell_type": "code",
   "execution_count": null,
   "metadata": {
    "collapsed": true
   },
   "outputs": [],
   "source": []
  },
  {
   "cell_type": "code",
   "execution_count": null,
   "metadata": {
    "collapsed": true
   },
   "outputs": [],
   "source": []
  },
  {
   "cell_type": "code",
   "execution_count": null,
   "metadata": {
    "collapsed": true
   },
   "outputs": [],
   "source": []
  },
  {
   "cell_type": "code",
   "execution_count": null,
   "metadata": {
    "collapsed": true
   },
   "outputs": [],
   "source": []
  },
  {
   "cell_type": "code",
   "execution_count": null,
   "metadata": {
    "collapsed": true
   },
   "outputs": [],
   "source": []
  },
  {
   "cell_type": "code",
   "execution_count": null,
   "metadata": {
    "collapsed": true
   },
   "outputs": [],
   "source": []
  },
  {
   "cell_type": "code",
   "execution_count": null,
   "metadata": {
    "collapsed": true
   },
   "outputs": [],
   "source": []
  },
  {
   "cell_type": "code",
   "execution_count": null,
   "metadata": {
    "collapsed": true
   },
   "outputs": [],
   "source": []
  },
  {
   "cell_type": "code",
   "execution_count": null,
   "metadata": {
    "collapsed": true
   },
   "outputs": [],
   "source": []
  }
 ],
 "metadata": {
  "kernelspec": {
   "display_name": "Python [conda root]",
   "language": "python",
   "name": "conda-root-py"
  },
  "language_info": {
   "codemirror_mode": {
    "name": "ipython",
    "version": 3
   },
   "file_extension": ".py",
   "mimetype": "text/x-python",
   "name": "python",
   "nbconvert_exporter": "python",
   "pygments_lexer": "ipython3",
   "version": "3.5.2"
  },
  "widgets": {
   "state": {
    "d80f644d372544e49516634b4cf91fef": {
     "views": [
      {
       "cell_index": 21
      }
     ]
    }
   },
   "version": "1.2.0"
  }
 },
 "nbformat": 4,
 "nbformat_minor": 1
}
