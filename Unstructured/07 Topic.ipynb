{
 "cells": [
  {
   "cell_type": "markdown",
   "metadata": {},
   "source": [
    "## gensim 설치 - 문서 토픽 분석 패키지"
   ]
  },
  {
   "cell_type": "code",
   "execution_count": 1,
   "metadata": {
    "collapsed": false
   },
   "outputs": [
    {
     "name": "stdout",
     "output_type": "stream",
     "text": [
      "Fetching package metadata ...........\n",
      "Solving package specifications: .\n",
      "\n",
      "Package plan for installation in environment C:\\Python\\Anaconda3:\n",
      "\n",
      "The following NEW packages will be INSTALLED:\n",
      "\n",
      "    bz2file:    0.98-py35_0      \n",
      "    gensim:     1.0.1-np112py35_0\n",
      "    smart_open: 1.5.2-py35_0     \n",
      "\n",
      "bz2file-0.98-p   0% |                              | ETA:  --:--:--   0.00  B/s\n",
      "bz2file-0.98-p 100% |###############################| ETA:  0:00:00   2.96 MB/s\n",
      "bz2file-0.98-p 100% |###############################| Time: 0:00:00   2.96 MB/s\n",
      "\n",
      "smart_open-1.5   0% |                              | ETA:  --:--:--   0.00  B/s\n",
      "smart_open-1.5  33% |##########                     | Time: 0:00:00   1.49 MB/s\n",
      "smart_open-1.5  66% |####################           | Time: 0:00:00 861.81 kB/s\n",
      "smart_open-1.5  99% |############################## | Time: 0:00:00   1.14 MB/s\n",
      "smart_open-1.5 100% |###############################| Time: 0:00:00   1.14 MB/s\n",
      "smart_open-1.5 100% |###############################| Time: 0:00:00   1.12 MB/s\n",
      "\n",
      "gensim-1.0.1-n   0% |                              | ETA:  --:--:--   0.00  B/s\n",
      "gensim-1.0.1-n   0% |                               | Time: 0:00:00   3.65 MB/s\n",
      "gensim-1.0.1-n   0% |                               | Time: 0:00:00   3.28 MB/s\n",
      "gensim-1.0.1-n   0% |                               | Time: 0:00:00   4.28 MB/s\n",
      "gensim-1.0.1-n   1% |                               | Time: 0:00:00   4.06 MB/s\n",
      "gensim-1.0.1-n   1% |                               | Time: 0:00:00   4.28 MB/s\n",
      "gensim-1.0.1-n   1% |                               | Time: 0:00:00   4.65 MB/s\n",
      "gensim-1.0.1-n   2% |                               | Time: 0:00:00   4.56 MB/s\n",
      "gensim-1.0.1-n   2% |                               | Time: 0:00:00   4.50 MB/s\n",
      "gensim-1.0.1-n   2% |                               | Time: 0:00:00   4.89 MB/s\n",
      "gensim-1.0.1-n   3% |                               | Time: 0:00:00   4.66 MB/s\n",
      "gensim-1.0.1-n   3% |#                              | Time: 0:00:00   4.72 MB/s\n",
      "gensim-1.0.1-n   3% |#                              | Time: 0:00:00   4.66 MB/s\n",
      "gensim-1.0.1-n   4% |#                              | Time: 0:00:00   4.61 MB/s\n",
      "gensim-1.0.1-n   4% |#                              | Time: 0:00:00   4.57 MB/s\n",
      "gensim-1.0.1-n   4% |#                              | Time: 0:00:00   4.71 MB/s\n",
      "gensim-1.0.1-n   5% |#                              | Time: 0:00:00   4.75 MB/s\n",
      "gensim-1.0.1-n   5% |#                              | Time: 0:00:00   5.05 MB/s\n",
      "gensim-1.0.1-n   5% |#                              | Time: 0:00:00   4.99 MB/s\n",
      "gensim-1.0.1-n   6% |#                              | Time: 0:00:00   5.01 MB/s\n",
      "gensim-1.0.1-n   6% |#                              | Time: 0:00:00   5.11 MB/s\n",
      "gensim-1.0.1-n   6% |##                             | Time: 0:00:00   5.28 MB/s\n",
      "gensim-1.0.1-n   7% |##                             | Time: 0:00:00   5.37 MB/s\n",
      "gensim-1.0.1-n   7% |##                             | Time: 0:00:00   5.15 MB/s\n",
      "gensim-1.0.1-n   7% |##                             | Time: 0:00:00   5.23 MB/s\n",
      "gensim-1.0.1-n   8% |##                             | Time: 0:00:00   5.38 MB/s\n",
      "gensim-1.0.1-n   8% |##                             | Time: 0:00:00   5.25 MB/s\n",
      "gensim-1.0.1-n   8% |##                             | Time: 0:00:00   5.26 MB/s\n",
      "gensim-1.0.1-n   8% |##                             | Time: 0:00:00   5.26 MB/s\n",
      "gensim-1.0.1-n   9% |##                             | Time: 0:00:00   5.21 MB/s\n",
      "gensim-1.0.1-n   9% |##                             | Time: 0:00:00   5.27 MB/s\n",
      "gensim-1.0.1-n   9% |###                            | Time: 0:00:00   5.28 MB/s\n",
      "gensim-1.0.1-n  10% |###                            | Time: 0:00:00   5.34 MB/s\n",
      "gensim-1.0.1-n  10% |###                            | Time: 0:00:00   5.37 MB/s\n",
      "gensim-1.0.1-n  10% |###                            | Time: 0:00:00   5.48 MB/s\n",
      "gensim-1.0.1-n  11% |###                            | Time: 0:00:00   5.40 MB/s\n",
      "gensim-1.0.1-n  11% |###                            | Time: 0:00:00   5.33 MB/s\n",
      "gensim-1.0.1-n  11% |###                            | Time: 0:00:00   5.36 MB/s\n",
      "gensim-1.0.1-n  12% |###                            | Time: 0:00:00   5.45 MB/s\n",
      "gensim-1.0.1-n  12% |###                            | Time: 0:00:00   5.55 MB/s\n",
      "gensim-1.0.1-n  12% |###                            | Time: 0:00:00   5.52 MB/s\n",
      "gensim-1.0.1-n  13% |####                           | Time: 0:00:00   5.35 MB/s\n",
      "gensim-1.0.1-n  13% |####                           | Time: 0:00:00   5.43 MB/s\n",
      "gensim-1.0.1-n  13% |####                           | Time: 0:00:00   5.43 MB/s\n",
      "gensim-1.0.1-n  14% |####                           | Time: 0:00:00   5.43 MB/s\n",
      "gensim-1.0.1-n  14% |####                           | Time: 0:00:00   5.44 MB/s\n",
      "gensim-1.0.1-n  14% |####                           | Time: 0:00:00   5.40 MB/s\n",
      "gensim-1.0.1-n  15% |####                           | Time: 0:00:00   5.48 MB/s\n",
      "gensim-1.0.1-n  15% |####                           | Time: 0:00:00   5.47 MB/s\n",
      "gensim-1.0.1-n  15% |####                           | Time: 0:00:00   5.51 MB/s\n",
      "gensim-1.0.1-n  16% |####                           | Time: 0:00:00   5.51 MB/s\n",
      "gensim-1.0.1-n  16% |#####                          | Time: 0:00:00   5.44 MB/s\n",
      "gensim-1.0.1-n  16% |#####                          | Time: 0:00:00   5.51 MB/s\n",
      "gensim-1.0.1-n  17% |#####                          | Time: 0:00:00   5.47 MB/s\n",
      "gensim-1.0.1-n  17% |#####                          | Time: 0:00:00   5.44 MB/s\n",
      "gensim-1.0.1-n  17% |#####                          | Time: 0:00:00   5.44 MB/s\n",
      "gensim-1.0.1-n  17% |#####                          | Time: 0:00:00   5.51 MB/s\n",
      "gensim-1.0.1-n  18% |#####                          | Time: 0:00:00   5.57 MB/s\n",
      "gensim-1.0.1-n  18% |#####                          | Time: 0:00:00   5.35 MB/s\n",
      "gensim-1.0.1-n  18% |#####                          | Time: 0:00:00   5.38 MB/s\n",
      "gensim-1.0.1-n  19% |#####                          | Time: 0:00:00   5.44 MB/s\n",
      "gensim-1.0.1-n  19% |######                         | Time: 0:00:00   5.44 MB/s\n",
      "gensim-1.0.1-n  19% |######                         | Time: 0:00:00   5.47 MB/s\n",
      "gensim-1.0.1-n  20% |######                         | Time: 0:00:00   5.47 MB/s\n",
      "gensim-1.0.1-n  20% |######                         | Time: 0:00:00   5.47 MB/s\n",
      "gensim-1.0.1-n  20% |######                         | Time: 0:00:00   5.53 MB/s\n",
      "gensim-1.0.1-n  21% |######                         | Time: 0:00:00   5.53 MB/s\n",
      "gensim-1.0.1-n  21% |######                         | Time: 0:00:00   5.55 MB/s\n",
      "gensim-1.0.1-n  21% |######                         | Time: 0:00:00   5.58 MB/s\n",
      "gensim-1.0.1-n  22% |######                         | Time: 0:00:00   5.59 MB/s\n",
      "gensim-1.0.1-n  22% |######                         | Time: 0:00:00   5.63 MB/s\n",
      "gensim-1.0.1-n  22% |#######                        | Time: 0:00:00   5.66 MB/s\n",
      "gensim-1.0.1-n  23% |#######                        | Time: 0:00:00   5.61 MB/s\n",
      "gensim-1.0.1-n  23% |#######                        | Time: 0:00:00   5.58 MB/s\n",
      "gensim-1.0.1-n  23% |#######                        | Time: 0:00:00   5.62 MB/s\n",
      "gensim-1.0.1-n  24% |#######                        | Time: 0:00:00   5.64 MB/s\n",
      "gensim-1.0.1-n  24% |#######                        | Time: 0:00:00   5.54 MB/s\n",
      "gensim-1.0.1-n  24% |#######                        | Time: 0:00:00   5.03 MB/s\n",
      "gensim-1.0.1-n  25% |#######                        | Time: 0:00:00   5.08 MB/s\n",
      "gensim-1.0.1-n  25% |#######                        | Time: 0:00:00   5.08 MB/s\n",
      "gensim-1.0.1-n  25% |#######                        | Time: 0:00:00   4.88 MB/s\n",
      "gensim-1.0.1-n  26% |########                       | Time: 0:00:00   4.81 MB/s\n",
      "gensim-1.0.1-n  26% |########                       | Time: 0:00:00   4.84 MB/s\n",
      "gensim-1.0.1-n  26% |########                       | Time: 0:00:00   4.84 MB/s\n",
      "gensim-1.0.1-n  26% |########                       | Time: 0:00:00   4.83 MB/s\n",
      "gensim-1.0.1-n  27% |########                       | Time: 0:00:00   4.86 MB/s\n",
      "gensim-1.0.1-n  27% |########                       | Time: 0:00:00   4.86 MB/s\n",
      "gensim-1.0.1-n  27% |########                       | Time: 0:00:00   4.90 MB/s\n",
      "gensim-1.0.1-n  28% |########                       | Time: 0:00:00   4.92 MB/s\n",
      "gensim-1.0.1-n  28% |########                       | Time: 0:00:00   4.91 MB/s\n",
      "gensim-1.0.1-n  28% |########                       | Time: 0:00:00   4.92 MB/s\n",
      "gensim-1.0.1-n  29% |#########                      | Time: 0:00:00   4.93 MB/s\n",
      "gensim-1.0.1-n  29% |#########                      | Time: 0:00:00   4.94 MB/s\n",
      "gensim-1.0.1-n  29% |#########                      | Time: 0:00:00   4.97 MB/s\n",
      "gensim-1.0.1-n  30% |#########                      | Time: 0:00:00   4.99 MB/s\n",
      "gensim-1.0.1-n  30% |#########                      | Time: 0:00:00   4.99 MB/s\n",
      "gensim-1.0.1-n  30% |#########                      | Time: 0:00:00   5.02 MB/s\n",
      "gensim-1.0.1-n  31% |#########                      | Time: 0:00:00   5.04 MB/s\n",
      "gensim-1.0.1-n  31% |#########                      | Time: 0:00:00   5.07 MB/s\n",
      "gensim-1.0.1-n  31% |#########                      | Time: 0:00:00   5.07 MB/s\n",
      "gensim-1.0.1-n  32% |#########                      | Time: 0:00:00   5.11 MB/s\n",
      "gensim-1.0.1-n  32% |##########                     | Time: 0:00:00   5.11 MB/s\n",
      "gensim-1.0.1-n  32% |##########                     | Time: 0:00:00   5.10 MB/s\n",
      "gensim-1.0.1-n  33% |##########                     | Time: 0:00:00   5.10 MB/s\n",
      "gensim-1.0.1-n  33% |##########                     | Time: 0:00:00   5.08 MB/s\n",
      "gensim-1.0.1-n  33% |##########                     | Time: 0:00:00   5.11 MB/s\n",
      "gensim-1.0.1-n  34% |##########                     | Time: 0:00:00   5.16 MB/s\n",
      "gensim-1.0.1-n  34% |##########                     | Time: 0:00:00   5.18 MB/s\n",
      "gensim-1.0.1-n  34% |##########                     | Time: 0:00:00   5.16 MB/s\n",
      "gensim-1.0.1-n  35% |##########                     | Time: 0:00:00   5.17 MB/s\n",
      "gensim-1.0.1-n  35% |##########                     | Time: 0:00:00   5.17 MB/s\n",
      "gensim-1.0.1-n  35% |###########                    | Time: 0:00:00   5.20 MB/s\n",
      "gensim-1.0.1-n  35% |###########                    | Time: 0:00:00   5.22 MB/s\n",
      "gensim-1.0.1-n  36% |###########                    | Time: 0:00:00   5.25 MB/s\n",
      "gensim-1.0.1-n  36% |###########                    | Time: 0:00:00   5.27 MB/s\n",
      "gensim-1.0.1-n  36% |###########                    | Time: 0:00:00   5.25 MB/s\n",
      "gensim-1.0.1-n  37% |###########                    | Time: 0:00:00   5.26 MB/s\n",
      "gensim-1.0.1-n  37% |###########                    | Time: 0:00:00   5.27 MB/s\n",
      "gensim-1.0.1-n  37% |###########                    | Time: 0:00:00   5.27 MB/s\n",
      "gensim-1.0.1-n  38% |###########                    | Time: 0:00:00   5.32 MB/s\n",
      "gensim-1.0.1-n  38% |###########                    | Time: 0:00:00   5.32 MB/s\n",
      "gensim-1.0.1-n  38% |############                   | Time: 0:00:00   5.35 MB/s\n",
      "gensim-1.0.1-n  39% |############                   | Time: 0:00:00   5.35 MB/s\n",
      "gensim-1.0.1-n  39% |############                   | Time: 0:00:00   5.34 MB/s\n",
      "gensim-1.0.1-n  39% |############                   | Time: 0:00:00   5.34 MB/s\n",
      "gensim-1.0.1-n  40% |############                   | Time: 0:00:00   5.38 MB/s\n",
      "gensim-1.0.1-n  40% |############                   | Time: 0:00:00   5.37 MB/s\n",
      "gensim-1.0.1-n  40% |############                   | Time: 0:00:00   5.38 MB/s\n",
      "gensim-1.0.1-n  41% |############                   | Time: 0:00:00   5.40 MB/s\n",
      "gensim-1.0.1-n  41% |############                   | Time: 0:00:00   5.38 MB/s\n",
      "gensim-1.0.1-n  41% |############                   | Time: 0:00:00   5.41 MB/s\n",
      "gensim-1.0.1-n  42% |#############                  | Time: 0:00:00   5.44 MB/s\n",
      "gensim-1.0.1-n  42% |#############                  | Time: 0:00:00   5.45 MB/s\n",
      "gensim-1.0.1-n  42% |#############                  | Time: 0:00:00   5.47 MB/s\n",
      "gensim-1.0.1-n  43% |#############                  | Time: 0:00:00   5.47 MB/s\n",
      "gensim-1.0.1-n  43% |#############                  | Time: 0:00:00   5.47 MB/s\n",
      "gensim-1.0.1-n  43% |#############                  | Time: 0:00:00   5.51 MB/s\n",
      "gensim-1.0.1-n  43% |#############                  | Time: 0:00:00   5.46 MB/s\n",
      "gensim-1.0.1-n  44% |#############                  | Time: 0:00:00   5.48 MB/s\n",
      "gensim-1.0.1-n  44% |#############                  | Time: 0:00:00   5.51 MB/s\n",
      "gensim-1.0.1-n  44% |#############                  | Time: 0:00:00   5.52 MB/s\n",
      "gensim-1.0.1-n  45% |##############                 | Time: 0:00:00   5.53 MB/s\n",
      "gensim-1.0.1-n  45% |##############                 | Time: 0:00:00   5.52 MB/s\n",
      "gensim-1.0.1-n  45% |##############                 | Time: 0:00:00   5.54 MB/s\n",
      "gensim-1.0.1-n  46% |##############                 | Time: 0:00:00   5.55 MB/s\n",
      "gensim-1.0.1-n  46% |##############                 | Time: 0:00:00   5.57 MB/s\n",
      "gensim-1.0.1-n  46% |##############                 | Time: 0:00:00   5.57 MB/s\n",
      "gensim-1.0.1-n  47% |##############                 | Time: 0:00:00   5.58 MB/s\n",
      "gensim-1.0.1-n  47% |##############                 | Time: 0:00:00   5.60 MB/s\n",
      "gensim-1.0.1-n  47% |##############                 | Time: 0:00:00   5.62 MB/s\n",
      "gensim-1.0.1-n  48% |##############                 | Time: 0:00:00   5.61 MB/s\n",
      "gensim-1.0.1-n  48% |###############                | Time: 0:00:00   5.63 MB/s\n",
      "gensim-1.0.1-n  48% |###############                | Time: 0:00:00   5.63 MB/s\n",
      "gensim-1.0.1-n  49% |###############                | Time: 0:00:00   5.64 MB/s\n",
      "gensim-1.0.1-n  49% |###############                | Time: 0:00:00   5.64 MB/s\n",
      "gensim-1.0.1-n  49% |###############                | Time: 0:00:00   5.65 MB/s\n",
      "gensim-1.0.1-n  50% |###############                | Time: 0:00:00   5.67 MB/s\n",
      "gensim-1.0.1-n  50% |###############                | Time: 0:00:00   5.67 MB/s\n",
      "gensim-1.0.1-n  50% |###############                | Time: 0:00:00   5.68 MB/s\n",
      "gensim-1.0.1-n  51% |###############                | Time: 0:00:00   5.68 MB/s\n",
      "gensim-1.0.1-n  51% |###############                | Time: 0:00:00   5.68 MB/s\n",
      "gensim-1.0.1-n  51% |################               | Time: 0:00:00   5.69 MB/s\n",
      "gensim-1.0.1-n  52% |################               | Time: 0:00:00   5.70 MB/s\n",
      "gensim-1.0.1-n  52% |################               | Time: 0:00:00   5.67 MB/s\n",
      "gensim-1.0.1-n  52% |################               | Time: 0:00:00   5.67 MB/s\n",
      "gensim-1.0.1-n  52% |################               | Time: 0:00:00   5.69 MB/s\n",
      "gensim-1.0.1-n  53% |################               | Time: 0:00:00   5.65 MB/s\n",
      "gensim-1.0.1-n  53% |################               | Time: 0:00:00   5.66 MB/s\n",
      "gensim-1.0.1-n  53% |################               | Time: 0:00:00   5.69 MB/s\n",
      "gensim-1.0.1-n  54% |################               | Time: 0:00:00   5.72 MB/s\n",
      "gensim-1.0.1-n  54% |################               | Time: 0:00:00   5.71 MB/s\n",
      "gensim-1.0.1-n  54% |#################              | Time: 0:00:00   5.71 MB/s\n",
      "gensim-1.0.1-n  55% |#################              | Time: 0:00:00   5.72 MB/s\n",
      "gensim-1.0.1-n  55% |#################              | Time: 0:00:00   5.72 MB/s\n",
      "gensim-1.0.1-n  55% |#################              | Time: 0:00:00   5.74 MB/s\n",
      "gensim-1.0.1-n  56% |#################              | Time: 0:00:00   5.75 MB/s\n",
      "gensim-1.0.1-n  56% |#################              | Time: 0:00:00   5.48 MB/s\n",
      "gensim-1.0.1-n  56% |#################              | Time: 0:00:00   5.49 MB/s\n",
      "gensim-1.0.1-n  57% |#################              | Time: 0:00:00   5.52 MB/s\n",
      "gensim-1.0.1-n  57% |#################              | Time: 0:00:00   5.53 MB/s\n",
      "gensim-1.0.1-n  57% |#################              | Time: 0:00:00   5.52 MB/s\n",
      "gensim-1.0.1-n  58% |##################             | Time: 0:00:00   5.41 MB/s\n",
      "gensim-1.0.1-n  58% |##################             | Time: 0:00:00   5.42 MB/s\n",
      "gensim-1.0.1-n  58% |##################             | Time: 0:00:00   5.40 MB/s\n",
      "gensim-1.0.1-n  59% |##################             | Time: 0:00:00   5.41 MB/s\n",
      "gensim-1.0.1-n  59% |##################             | Time: 0:00:00   5.37 MB/s\n",
      "gensim-1.0.1-n  59% |##################             | Time: 0:00:00   5.40 MB/s\n",
      "gensim-1.0.1-n  60% |##################             | Time: 0:00:00   5.40 MB/s\n",
      "gensim-1.0.1-n  60% |##################             | Time: 0:00:00   5.41 MB/s\n",
      "gensim-1.0.1-n  60% |##################             | Time: 0:00:00   5.41 MB/s\n",
      "gensim-1.0.1-n  61% |##################             | Time: 0:00:00   5.42 MB/s\n",
      "gensim-1.0.1-n  61% |###################            | Time: 0:00:00   5.42 MB/s\n",
      "gensim-1.0.1-n  61% |###################            | Time: 0:00:00   5.41 MB/s\n",
      "gensim-1.0.1-n  61% |###################            | Time: 0:00:00   5.41 MB/s\n",
      "gensim-1.0.1-n  62% |###################            | Time: 0:00:00   5.43 MB/s\n",
      "gensim-1.0.1-n  62% |###################            | Time: 0:00:00   5.45 MB/s\n",
      "gensim-1.0.1-n  62% |###################            | Time: 0:00:00   5.43 MB/s\n",
      "gensim-1.0.1-n  63% |###################            | Time: 0:00:00   5.44 MB/s\n",
      "gensim-1.0.1-n  63% |###################            | Time: 0:00:00   5.44 MB/s\n",
      "gensim-1.0.1-n  63% |###################            | Time: 0:00:00   5.46 MB/s\n",
      "gensim-1.0.1-n  64% |###################            | Time: 0:00:00   5.45 MB/s\n",
      "gensim-1.0.1-n  64% |####################           | Time: 0:00:00   5.46 MB/s\n",
      "gensim-1.0.1-n  64% |####################           | Time: 0:00:00   5.47 MB/s\n",
      "gensim-1.0.1-n  65% |####################           | Time: 0:00:00   5.46 MB/s\n",
      "gensim-1.0.1-n  65% |####################           | Time: 0:00:00   5.48 MB/s\n",
      "gensim-1.0.1-n  65% |####################           | Time: 0:00:00   5.50 MB/s\n",
      "gensim-1.0.1-n  66% |####################           | Time: 0:00:00   5.51 MB/s\n",
      "gensim-1.0.1-n  66% |####################           | Time: 0:00:00   5.50 MB/s\n",
      "gensim-1.0.1-n  66% |####################           | Time: 0:00:00   5.47 MB/s\n",
      "gensim-1.0.1-n  67% |####################           | Time: 0:00:00   5.47 MB/s\n",
      "gensim-1.0.1-n  67% |####################           | Time: 0:00:00   5.49 MB/s\n",
      "gensim-1.0.1-n  67% |#####################          | Time: 0:00:00   5.52 MB/s\n",
      "gensim-1.0.1-n  68% |#####################          | Time: 0:00:00   5.51 MB/s\n",
      "gensim-1.0.1-n  68% |#####################          | Time: 0:00:00   5.51 MB/s\n",
      "gensim-1.0.1-n  68% |#####################          | Time: 0:00:00   5.52 MB/s\n",
      "gensim-1.0.1-n  69% |#####################          | Time: 0:00:00   5.53 MB/s\n",
      "gensim-1.0.1-n  69% |#####################          | Time: 0:00:00   5.53 MB/s\n",
      "gensim-1.0.1-n  69% |#####################          | Time: 0:00:00   5.53 MB/s\n",
      "gensim-1.0.1-n  70% |#####################          | Time: 0:00:00   5.55 MB/s\n",
      "gensim-1.0.1-n  70% |#####################          | Time: 0:00:00   5.56 MB/s\n",
      "gensim-1.0.1-n  70% |#####################          | Time: 0:00:00   5.57 MB/s\n",
      "gensim-1.0.1-n  70% |######################         | Time: 0:00:00   5.57 MB/s\n",
      "gensim-1.0.1-n  71% |######################         | Time: 0:00:00   5.57 MB/s\n",
      "gensim-1.0.1-n  71% |######################         | Time: 0:00:00   5.58 MB/s\n",
      "gensim-1.0.1-n  71% |######################         | Time: 0:00:00   5.58 MB/s\n",
      "gensim-1.0.1-n  72% |######################         | Time: 0:00:00   5.57 MB/s\n",
      "gensim-1.0.1-n  72% |######################         | Time: 0:00:00   5.59 MB/s\n",
      "gensim-1.0.1-n  72% |######################         | Time: 0:00:00   5.57 MB/s\n",
      "gensim-1.0.1-n  73% |######################         | Time: 0:00:00   5.57 MB/s\n",
      "gensim-1.0.1-n  73% |######################         | Time: 0:00:00   5.59 MB/s\n",
      "gensim-1.0.1-n  73% |######################         | Time: 0:00:00   5.61 MB/s\n",
      "gensim-1.0.1-n  74% |######################         | Time: 0:00:00   5.61 MB/s\n",
      "gensim-1.0.1-n  74% |#######################        | Time: 0:00:00   5.59 MB/s\n",
      "gensim-1.0.1-n  74% |#######################        | Time: 0:00:00   5.57 MB/s\n",
      "gensim-1.0.1-n  75% |#######################        | Time: 0:00:00   5.58 MB/s\n",
      "gensim-1.0.1-n  75% |#######################        | Time: 0:00:00   5.60 MB/s\n",
      "gensim-1.0.1-n  75% |#######################        | Time: 0:00:00   5.62 MB/s\n",
      "gensim-1.0.1-n  76% |#######################        | Time: 0:00:00   5.62 MB/s\n",
      "gensim-1.0.1-n  76% |#######################        | Time: 0:00:00   5.61 MB/s\n",
      "gensim-1.0.1-n  76% |#######################        | Time: 0:00:00   5.61 MB/s\n",
      "gensim-1.0.1-n  77% |#######################        | Time: 0:00:00   5.61 MB/s\n",
      "gensim-1.0.1-n  77% |#######################        | Time: 0:00:00   5.62 MB/s\n",
      "gensim-1.0.1-n  77% |########################       | Time: 0:00:00   5.63 MB/s\n",
      "gensim-1.0.1-n  78% |########################       | Time: 0:00:00   5.64 MB/s\n",
      "gensim-1.0.1-n  78% |########################       | Time: 0:00:00   5.65 MB/s\n",
      "gensim-1.0.1-n  78% |########################       | Time: 0:00:00   5.65 MB/s\n",
      "gensim-1.0.1-n  79% |########################       | Time: 0:00:00   5.66 MB/s\n",
      "gensim-1.0.1-n  79% |########################       | Time: 0:00:00   5.67 MB/s\n",
      "gensim-1.0.1-n  79% |########################       | Time: 0:00:00   5.68 MB/s\n",
      "gensim-1.0.1-n  79% |########################       | Time: 0:00:00   5.67 MB/s\n",
      "gensim-1.0.1-n  80% |########################       | Time: 0:00:00   5.69 MB/s\n",
      "gensim-1.0.1-n  80% |########################       | Time: 0:00:00   5.64 MB/s\n",
      "gensim-1.0.1-n  80% |#########################      | Time: 0:00:00   5.66 MB/s\n",
      "gensim-1.0.1-n  81% |#########################      | Time: 0:00:00   5.68 MB/s\n",
      "gensim-1.0.1-n  81% |#########################      | Time: 0:00:00   5.68 MB/s\n",
      "gensim-1.0.1-n  81% |#########################      | Time: 0:00:00   5.66 MB/s\n",
      "gensim-1.0.1-n  82% |#########################      | Time: 0:00:00   5.67 MB/s\n",
      "gensim-1.0.1-n  82% |#########################      | Time: 0:00:00   5.64 MB/s\n",
      "gensim-1.0.1-n  82% |#########################      | Time: 0:00:00   5.65 MB/s\n",
      "gensim-1.0.1-n  83% |#########################      | Time: 0:00:00   5.65 MB/s\n",
      "gensim-1.0.1-n  83% |#########################      | Time: 0:00:00   5.66 MB/s\n",
      "gensim-1.0.1-n  83% |#########################      | Time: 0:00:00   5.67 MB/s\n",
      "gensim-1.0.1-n  84% |##########################     | Time: 0:00:00   5.65 MB/s\n",
      "gensim-1.0.1-n  84% |##########################     | Time: 0:00:00   5.66 MB/s\n",
      "gensim-1.0.1-n  84% |##########################     | Time: 0:00:00   5.67 MB/s\n",
      "gensim-1.0.1-n  85% |##########################     | Time: 0:00:00   5.68 MB/s\n",
      "gensim-1.0.1-n  85% |##########################     | Time: 0:00:00   5.67 MB/s\n",
      "gensim-1.0.1-n  85% |##########################     | Time: 0:00:00   5.68 MB/s\n",
      "gensim-1.0.1-n  86% |##########################     | Time: 0:00:00   5.68 MB/s\n",
      "gensim-1.0.1-n  86% |##########################     | Time: 0:00:00   5.69 MB/s\n",
      "gensim-1.0.1-n  86% |##########################     | Time: 0:00:00   5.68 MB/s\n",
      "gensim-1.0.1-n  87% |##########################     | Time: 0:00:00   5.50 MB/s\n",
      "gensim-1.0.1-n  87% |###########################    | Time: 0:00:00   5.51 MB/s\n",
      "gensim-1.0.1-n  87% |###########################    | Time: 0:00:00   5.52 MB/s\n",
      "gensim-1.0.1-n  87% |###########################    | Time: 0:00:00   5.54 MB/s\n",
      "gensim-1.0.1-n  88% |###########################    | Time: 0:00:00   5.53 MB/s\n",
      "gensim-1.0.1-n  88% |###########################    | Time: 0:00:00   5.52 MB/s\n",
      "gensim-1.0.1-n  88% |###########################    | Time: 0:00:00   5.50 MB/s\n",
      "gensim-1.0.1-n  89% |###########################    | Time: 0:00:00   5.50 MB/s\n",
      "gensim-1.0.1-n  89% |###########################    | Time: 0:00:00   5.52 MB/s\n",
      "gensim-1.0.1-n  89% |###########################    | Time: 0:00:00   5.52 MB/s\n",
      "gensim-1.0.1-n  90% |###########################    | Time: 0:00:00   5.52 MB/s\n",
      "gensim-1.0.1-n  90% |############################   | Time: 0:00:00   5.52 MB/s\n",
      "gensim-1.0.1-n  90% |############################   | Time: 0:00:00   5.52 MB/s\n",
      "gensim-1.0.1-n  91% |############################   | Time: 0:00:00   5.54 MB/s\n",
      "gensim-1.0.1-n  91% |############################   | Time: 0:00:00   5.53 MB/s\n",
      "gensim-1.0.1-n  91% |############################   | Time: 0:00:00   5.54 MB/s\n",
      "gensim-1.0.1-n  92% |############################   | Time: 0:00:00   5.55 MB/s\n",
      "gensim-1.0.1-n  92% |############################   | Time: 0:00:00   5.55 MB/s\n",
      "gensim-1.0.1-n  92% |############################   | Time: 0:00:00   5.55 MB/s\n",
      "gensim-1.0.1-n  93% |############################   | Time: 0:00:00   5.55 MB/s\n",
      "gensim-1.0.1-n  93% |############################   | Time: 0:00:00   5.57 MB/s\n",
      "gensim-1.0.1-n  93% |#############################  | Time: 0:00:00   5.56 MB/s\n",
      "gensim-1.0.1-n  94% |#############################  | Time: 0:00:00   5.58 MB/s\n",
      "gensim-1.0.1-n  94% |#############################  | Time: 0:00:00   5.58 MB/s\n",
      "gensim-1.0.1-n  94% |#############################  | Time: 0:00:00   5.58 MB/s\n",
      "gensim-1.0.1-n  95% |#############################  | Time: 0:00:00   5.58 MB/s\n",
      "gensim-1.0.1-n  95% |#############################  | Time: 0:00:00   5.58 MB/s\n",
      "gensim-1.0.1-n  95% |#############################  | Time: 0:00:00   5.59 MB/s\n",
      "gensim-1.0.1-n  96% |#############################  | Time: 0:00:00   5.59 MB/s\n",
      "gensim-1.0.1-n  96% |#############################  | Time: 0:00:00   5.61 MB/s\n",
      "gensim-1.0.1-n  96% |#############################  | Time: 0:00:00   5.61 MB/s\n",
      "gensim-1.0.1-n  96% |############################## | Time: 0:00:00   5.61 MB/s\n",
      "gensim-1.0.1-n  97% |############################## | Time: 0:00:00   5.60 MB/s\n",
      "gensim-1.0.1-n  97% |############################## | Time: 0:00:00   5.59 MB/s\n",
      "gensim-1.0.1-n  97% |############################## | Time: 0:00:00   5.60 MB/s\n",
      "gensim-1.0.1-n  98% |############################## | Time: 0:00:00   5.62 MB/s\n",
      "gensim-1.0.1-n  98% |############################## | Time: 0:00:00   5.62 MB/s\n",
      "gensim-1.0.1-n  98% |############################## | Time: 0:00:00   5.59 MB/s\n",
      "gensim-1.0.1-n  99% |############################## | Time: 0:00:00   5.60 MB/s\n",
      "gensim-1.0.1-n  99% |############################## | Time: 0:00:00   5.61 MB/s\n",
      "gensim-1.0.1-n  99% |############################## | Time: 0:00:00   5.62 MB/s\n",
      "gensim-1.0.1-n 100% |###############################| Time: 0:00:00   5.63 MB/s\n",
      "gensim-1.0.1-n 100% |###############################| Time: 0:00:00   5.63 MB/s\n",
      "\n"
     ]
    }
   ],
   "source": [
    "!conda install -y gensim"
   ]
  },
  {
   "cell_type": "markdown",
   "metadata": {},
   "source": [
    "## 데이터 불러오기"
   ]
  },
  {
   "cell_type": "code",
   "execution_count": 2,
   "metadata": {
    "collapsed": true
   },
   "outputs": [],
   "source": [
    "import numpy"
   ]
  },
  {
   "cell_type": "code",
   "execution_count": 4,
   "metadata": {
    "collapsed": false
   },
   "outputs": [],
   "source": [
    "tdm = numpy.load('data/tdm_small.npy')"
   ]
  },
  {
   "cell_type": "code",
   "execution_count": 5,
   "metadata": {
    "collapsed": false
   },
   "outputs": [
    {
     "data": {
      "text/plain": [
       "<5347x1000 sparse matrix of type '<class 'numpy.int64'>'\n",
       "\twith 652672 stored elements in Compressed Sparse Column format>"
      ]
     },
     "execution_count": 5,
     "metadata": {},
     "output_type": "execute_result"
    }
   ],
   "source": [
    "tdm = tdm.tolist()\n",
    "tdm"
   ]
  },
  {
   "cell_type": "code",
   "execution_count": 7,
   "metadata": {
    "collapsed": false
   },
   "outputs": [],
   "source": [
    "# 단어 목록\n",
    "with open('data/words_small.txt', encoding='utf8') as f:\n",
    "    words = f.read().splitlines()"
   ]
  },
  {
   "cell_type": "markdown",
   "metadata": {},
   "source": [
    "## gensim 포맷으로 바꾸기"
   ]
  },
  {
   "cell_type": "code",
   "execution_count": 8,
   "metadata": {
    "collapsed": false
   },
   "outputs": [
    {
     "name": "stderr",
     "output_type": "stream",
     "text": [
      "C:\\Python\\Anaconda3\\lib\\site-packages\\gensim\\utils.py:855: UserWarning: detected Windows; aliasing chunkize to chunkize_serial\n",
      "  warnings.warn(\"detected Windows; aliasing chunkize to chunkize_serial\")\n"
     ]
    }
   ],
   "source": [
    "from gensim.matutils import Sparse2Corpus"
   ]
  },
  {
   "cell_type": "code",
   "execution_count": 9,
   "metadata": {
    "collapsed": false
   },
   "outputs": [
    {
     "data": {
      "text/plain": [
       "<gensim.matutils.Sparse2Corpus at 0x1ca69c47588>"
      ]
     },
     "execution_count": 9,
     "metadata": {},
     "output_type": "execute_result"
    }
   ],
   "source": [
    "corpus = Sparse2Corpus(tdm.T)  # transpose\n",
    "corpus"
   ]
  },
  {
   "cell_type": "markdown",
   "metadata": {},
   "source": [
    "## Latent Dirichlet Allocation (LDA)"
   ]
  },
  {
   "cell_type": "markdown",
   "metadata": {},
   "source": [
    "https://radimrehurek.com/gensim/models/ldamodel.html"
   ]
  },
  {
   "cell_type": "code",
   "execution_count": 10,
   "metadata": {
    "collapsed": true
   },
   "outputs": [],
   "source": [
    "from gensim.models.ldamodel import LdaModel"
   ]
  },
  {
   "cell_type": "code",
   "execution_count": 14,
   "metadata": {
    "collapsed": true
   },
   "outputs": [],
   "source": [
    "lda = LdaModel(corpus=corpus, num_topics=100, id2word=dict(enumerate(words)))  # , random_state=1234, passes=1 (수행횟수)"
   ]
  },
  {
   "cell_type": "markdown",
   "metadata": {},
   "source": [
    "## Topic 보기"
   ]
  },
  {
   "cell_type": "code",
   "execution_count": 15,
   "metadata": {
    "collapsed": false
   },
   "outputs": [
    {
     "data": {
      "text/plain": [
       "[('에어컨', 0.020778029877119242),\n",
       " ('출시', 0.01955982822353812),\n",
       " ('사용', 0.014873255408248551),\n",
       " ('제품', 0.013929660595574586),\n",
       " ('시장', 0.013732166224622522),\n",
       " ('적용', 0.011306252269174073),\n",
       " ('듀얼', 0.0090425626860784168),\n",
       " ('LG전자', 0.0085730874981091772),\n",
       " ('기능', 0.0077263962462083835),\n",
       " ('최대', 0.0070436204325354202)]"
      ]
     },
     "execution_count": 15,
     "metadata": {},
     "output_type": "execute_result"
    }
   ],
   "source": [
    "lda.show_topic(0)"
   ]
  },
  {
   "cell_type": "code",
   "execution_count": 16,
   "metadata": {
    "collapsed": false
   },
   "outputs": [
    {
     "data": {
      "text/plain": [
       "[('카카오', 0.070929489316327532),\n",
       " ('게임', 0.037165353742280589),\n",
       " ('순위', 0.027688732851808964),\n",
       " ('서비스', 0.020154954986528265),\n",
       " ('모바일', 0.014552805155083601),\n",
       " ('다음', 0.012980214853364062),\n",
       " ('시장', 0.011336564265992707),\n",
       " ('출시', 0.010921361824026159),\n",
       " ('매출', 0.0084419785283912242),\n",
       " ('카카오톡', 0.0079374833297866636)]"
      ]
     },
     "execution_count": 16,
     "metadata": {},
     "output_type": "execute_result"
    }
   ],
   "source": [
    "lda.show_topic(1)"
   ]
  },
  {
   "cell_type": "markdown",
   "metadata": {},
   "source": [
    "## 문서의 topic 확인"
   ]
  },
  {
   "cell_type": "markdown",
   "metadata": {},
   "source": [
    "### 문서 변환"
   ]
  },
  {
   "cell_type": "code",
   "execution_count": 13,
   "metadata": {
    "collapsed": true
   },
   "outputs": [],
   "source": [
    "doc = [(i, tdm[0, i]) for i in range(1000)]"
   ]
  },
  {
   "cell_type": "markdown",
   "metadata": {},
   "source": [
    "### 문서에서 가장 많이 쓰인 단어들 보기"
   ]
  },
  {
   "cell_type": "code",
   "execution_count": 17,
   "metadata": {
    "collapsed": true
   },
   "outputs": [],
   "source": [
    "from operator import itemgetter"
   ]
  },
  {
   "cell_type": "code",
   "execution_count": 18,
   "metadata": {
    "collapsed": true
   },
   "outputs": [],
   "source": [
    "doc_words = [(words[i], n) for i, n in doc]"
   ]
  },
  {
   "cell_type": "code",
   "execution_count": 19,
   "metadata": {
    "collapsed": false
   },
   "outputs": [
    {
     "data": {
      "text/plain": [
       "[('게임', 37),\n",
       " ('이벤트', 31),\n",
       " ('아이템', 26),\n",
       " ('진행', 16),\n",
       " ('제공', 13),\n",
       " ('접속', 9),\n",
       " ('최대', 8),\n",
       " ('동안', 8),\n",
       " ('지급', 8),\n",
       " ('이상', 7)]"
      ]
     },
     "execution_count": 19,
     "metadata": {},
     "output_type": "execute_result"
    }
   ],
   "source": [
    "sorted(doc_words, key=itemgetter(1), reverse=True)[:10]"
   ]
  },
  {
   "cell_type": "markdown",
   "metadata": {},
   "source": [
    "### 문서의 topic"
   ]
  },
  {
   "cell_type": "code",
   "execution_count": 20,
   "metadata": {
    "collapsed": false
   },
   "outputs": [
    {
     "data": {
      "text/plain": [
       "[(5, 0.14077814256210786),\n",
       " (20, 0.20857717468486581),\n",
       " (59, 0.46772685193729407),\n",
       " (77, 0.031050094667528505),\n",
       " (94, 0.15005129255355878)]"
      ]
     },
     "execution_count": 20,
     "metadata": {},
     "output_type": "execute_result"
    }
   ],
   "source": [
    "lda.get_document_topics(doc)  # topic_id"
   ]
  },
  {
   "cell_type": "code",
   "execution_count": 23,
   "metadata": {
    "collapsed": false
   },
   "outputs": [
    {
     "data": {
      "text/plain": [
       "[('게임', 0.04946021803885596),\n",
       " ('무료', 0.029199819315402799),\n",
       " ('부문', 0.021350715380775268),\n",
       " ('제공', 0.018586764889769014),\n",
       " ('모바일', 0.016061494815535825),\n",
       " ('이벤트', 0.01491255477251785),\n",
       " ('순위', 0.013730158928696678),\n",
       " ('출시', 0.012448429599020974),\n",
       " ('차지', 0.011912635547120576),\n",
       " ('사진', 0.011869286676601844)]"
      ]
     },
     "execution_count": 23,
     "metadata": {},
     "output_type": "execute_result"
    }
   ],
   "source": [
    "lda.show_topic(59)"
   ]
  },
  {
   "cell_type": "code",
   "execution_count": 24,
   "metadata": {
    "collapsed": false
   },
   "outputs": [
    {
     "data": {
      "text/plain": [
       "[('게임', 0.052396336582468443),\n",
       " ('캐릭터', 0.021450543739872277),\n",
       " ('스킬', 0.019017876649161315),\n",
       " ('선수', 0.013486312555765604),\n",
       " ('출시', 0.011512043083127275),\n",
       " ('사용', 0.0112614023155017),\n",
       " ('아이템', 0.011223015402422386),\n",
       " ('진행', 0.010149880411513835),\n",
       " ('개선', 0.010140488129899025),\n",
       " ('플레이', 0.0092458781679301914)]"
      ]
     },
     "execution_count": 24,
     "metadata": {},
     "output_type": "execute_result"
    }
   ],
   "source": [
    "lda.show_topic(20)"
   ]
  },
  {
   "cell_type": "code",
   "execution_count": 33,
   "metadata": {
    "collapsed": false
   },
   "outputs": [
    {
     "data": {
      "text/plain": [
       "5347"
      ]
     },
     "execution_count": 33,
     "metadata": {},
     "output_type": "execute_result"
    }
   ],
   "source": [
    "num, width = tdm.shape\n",
    "num"
   ]
  },
  {
   "cell_type": "code",
   "execution_count": 34,
   "metadata": {
    "collapsed": false
   },
   "outputs": [
    {
     "data": {
      "text/plain": [
       "1000"
      ]
     },
     "execution_count": 34,
     "metadata": {},
     "output_type": "execute_result"
    }
   ],
   "source": [
    "width"
   ]
  },
  {
   "cell_type": "code",
   "execution_count": 35,
   "metadata": {
    "collapsed": true
   },
   "outputs": [],
   "source": [
    "from collections import Counter"
   ]
  },
  {
   "cell_type": "code",
   "execution_count": 36,
   "metadata": {
    "collapsed": true
   },
   "outputs": [],
   "source": [
    "total = Counter()  # dictionary"
   ]
  },
  {
   "cell_type": "code",
   "execution_count": 39,
   "metadata": {
    "collapsed": false
   },
   "outputs": [
    {
     "ename": "KeyboardInterrupt",
     "evalue": "",
     "output_type": "error",
     "traceback": [
      "\u001b[1;31m---------------------------------------------------------------------------\u001b[0m",
      "\u001b[1;31mKeyboardInterrupt\u001b[0m                         Traceback (most recent call last)",
      "\u001b[1;32m<ipython-input-39-53d35d765c3e>\u001b[0m in \u001b[0;36m<module>\u001b[1;34m()\u001b[0m\n\u001b[0;32m      1\u001b[0m \u001b[1;32mfor\u001b[0m \u001b[0mn\u001b[0m \u001b[1;32min\u001b[0m \u001b[0mrange\u001b[0m\u001b[1;33m(\u001b[0m\u001b[0mnum\u001b[0m\u001b[1;33m)\u001b[0m\u001b[1;33m:\u001b[0m\u001b[1;33m\u001b[0m\u001b[0m\n\u001b[1;32m----> 2\u001b[1;33m     \u001b[0mdoc\u001b[0m \u001b[1;33m=\u001b[0m \u001b[1;33m[\u001b[0m\u001b[1;33m(\u001b[0m\u001b[0mi\u001b[0m\u001b[1;33m,\u001b[0m \u001b[0mtdm\u001b[0m\u001b[1;33m[\u001b[0m\u001b[0mn\u001b[0m\u001b[1;33m,\u001b[0m \u001b[0mi\u001b[0m\u001b[1;33m]\u001b[0m\u001b[1;33m)\u001b[0m \u001b[1;32mfor\u001b[0m \u001b[0mi\u001b[0m \u001b[1;32min\u001b[0m \u001b[0mrange\u001b[0m\u001b[1;33m(\u001b[0m\u001b[0mwidth\u001b[0m\u001b[1;33m)\u001b[0m\u001b[1;33m]\u001b[0m\u001b[1;33m\u001b[0m\u001b[0m\n\u001b[0m\u001b[0;32m      3\u001b[0m     \u001b[0mtopics\u001b[0m \u001b[1;33m=\u001b[0m \u001b[0mlda\u001b[0m\u001b[1;33m.\u001b[0m\u001b[0mget_document_topics\u001b[0m\u001b[1;33m(\u001b[0m\u001b[0mdoc\u001b[0m\u001b[1;33m)\u001b[0m\u001b[1;33m\u001b[0m\u001b[0m\n\u001b[0;32m      4\u001b[0m     \u001b[1;32mfor\u001b[0m \u001b[0mtopic\u001b[0m\u001b[1;33m,\u001b[0m \u001b[0mratio\u001b[0m \u001b[1;32min\u001b[0m \u001b[0mtopics\u001b[0m\u001b[1;33m:\u001b[0m\u001b[1;33m\u001b[0m\u001b[0m\n\u001b[0;32m      5\u001b[0m         \u001b[0mtotal\u001b[0m\u001b[1;33m[\u001b[0m\u001b[0mtopic\u001b[0m\u001b[1;33m]\u001b[0m \u001b[1;33m+=\u001b[0m \u001b[0mratio\u001b[0m\u001b[1;33m\u001b[0m\u001b[0m\n",
      "\u001b[1;32m<ipython-input-39-53d35d765c3e>\u001b[0m in \u001b[0;36m<listcomp>\u001b[1;34m(.0)\u001b[0m\n\u001b[0;32m      1\u001b[0m \u001b[1;32mfor\u001b[0m \u001b[0mn\u001b[0m \u001b[1;32min\u001b[0m \u001b[0mrange\u001b[0m\u001b[1;33m(\u001b[0m\u001b[0mnum\u001b[0m\u001b[1;33m)\u001b[0m\u001b[1;33m:\u001b[0m\u001b[1;33m\u001b[0m\u001b[0m\n\u001b[1;32m----> 2\u001b[1;33m     \u001b[0mdoc\u001b[0m \u001b[1;33m=\u001b[0m \u001b[1;33m[\u001b[0m\u001b[1;33m(\u001b[0m\u001b[0mi\u001b[0m\u001b[1;33m,\u001b[0m \u001b[0mtdm\u001b[0m\u001b[1;33m[\u001b[0m\u001b[0mn\u001b[0m\u001b[1;33m,\u001b[0m \u001b[0mi\u001b[0m\u001b[1;33m]\u001b[0m\u001b[1;33m)\u001b[0m \u001b[1;32mfor\u001b[0m \u001b[0mi\u001b[0m \u001b[1;32min\u001b[0m \u001b[0mrange\u001b[0m\u001b[1;33m(\u001b[0m\u001b[0mwidth\u001b[0m\u001b[1;33m)\u001b[0m\u001b[1;33m]\u001b[0m\u001b[1;33m\u001b[0m\u001b[0m\n\u001b[0m\u001b[0;32m      3\u001b[0m     \u001b[0mtopics\u001b[0m \u001b[1;33m=\u001b[0m \u001b[0mlda\u001b[0m\u001b[1;33m.\u001b[0m\u001b[0mget_document_topics\u001b[0m\u001b[1;33m(\u001b[0m\u001b[0mdoc\u001b[0m\u001b[1;33m)\u001b[0m\u001b[1;33m\u001b[0m\u001b[0m\n\u001b[0;32m      4\u001b[0m     \u001b[1;32mfor\u001b[0m \u001b[0mtopic\u001b[0m\u001b[1;33m,\u001b[0m \u001b[0mratio\u001b[0m \u001b[1;32min\u001b[0m \u001b[0mtopics\u001b[0m\u001b[1;33m:\u001b[0m\u001b[1;33m\u001b[0m\u001b[0m\n\u001b[0;32m      5\u001b[0m         \u001b[0mtotal\u001b[0m\u001b[1;33m[\u001b[0m\u001b[0mtopic\u001b[0m\u001b[1;33m]\u001b[0m \u001b[1;33m+=\u001b[0m \u001b[0mratio\u001b[0m\u001b[1;33m\u001b[0m\u001b[0m\n",
      "\u001b[1;32mC:\\Python\\Anaconda3\\lib\\site-packages\\scipy\\sparse\\csc.py\u001b[0m in \u001b[0;36m__getitem__\u001b[1;34m(self, key)\u001b[0m\n\u001b[0;32m    167\u001b[0m         if (isinstance(row, slice) or isinstance(col, slice) or\n\u001b[0;32m    168\u001b[0m                 isintlike(row) or isintlike(col)):\n\u001b[1;32m--> 169\u001b[1;33m             \u001b[1;32mreturn\u001b[0m \u001b[0mself\u001b[0m\u001b[1;33m.\u001b[0m\u001b[0mT\u001b[0m\u001b[1;33m[\u001b[0m\u001b[0mcol\u001b[0m\u001b[1;33m,\u001b[0m \u001b[0mrow\u001b[0m\u001b[1;33m]\u001b[0m\u001b[1;33m.\u001b[0m\u001b[0mT\u001b[0m\u001b[1;33m\u001b[0m\u001b[0m\n\u001b[0m\u001b[0;32m    170\u001b[0m         \u001b[1;31m# Things that return a sequence of values.\u001b[0m\u001b[1;33m\u001b[0m\u001b[1;33m\u001b[0m\u001b[0m\n\u001b[0;32m    171\u001b[0m         \u001b[1;32melse\u001b[0m\u001b[1;33m:\u001b[0m\u001b[1;33m\u001b[0m\u001b[0m\n",
      "\u001b[1;32mC:\\Python\\Anaconda3\\lib\\site-packages\\scipy\\sparse\\csr.py\u001b[0m in \u001b[0;36m__getitem__\u001b[1;34m(self, key)\u001b[0m\n\u001b[0;32m    287\u001b[0m             \u001b[1;31m# [i, j]\u001b[0m\u001b[1;33m\u001b[0m\u001b[1;33m\u001b[0m\u001b[0m\n\u001b[0;32m    288\u001b[0m             \u001b[1;32mif\u001b[0m \u001b[0misintlike\u001b[0m\u001b[1;33m(\u001b[0m\u001b[0mcol\u001b[0m\u001b[1;33m)\u001b[0m\u001b[1;33m:\u001b[0m\u001b[1;33m\u001b[0m\u001b[0m\n\u001b[1;32m--> 289\u001b[1;33m                 \u001b[1;32mreturn\u001b[0m \u001b[0mself\u001b[0m\u001b[1;33m.\u001b[0m\u001b[0m_get_single_element\u001b[0m\u001b[1;33m(\u001b[0m\u001b[0mrow\u001b[0m\u001b[1;33m,\u001b[0m \u001b[0mcol\u001b[0m\u001b[1;33m)\u001b[0m\u001b[1;33m\u001b[0m\u001b[0m\n\u001b[0m\u001b[0;32m    290\u001b[0m             \u001b[1;31m# [i, 1:2]\u001b[0m\u001b[1;33m\u001b[0m\u001b[1;33m\u001b[0m\u001b[0m\n\u001b[0;32m    291\u001b[0m             \u001b[1;32melif\u001b[0m \u001b[0misinstance\u001b[0m\u001b[1;33m(\u001b[0m\u001b[0mcol\u001b[0m\u001b[1;33m,\u001b[0m \u001b[0mslice\u001b[0m\u001b[1;33m)\u001b[0m\u001b[1;33m:\u001b[0m\u001b[1;33m\u001b[0m\u001b[0m\n",
      "\u001b[1;32mC:\\Python\\Anaconda3\\lib\\site-packages\\scipy\\sparse\\compressed.py\u001b[0m in \u001b[0;36m_get_single_element\u001b[1;34m(self, row, col)\u001b[0m\n\u001b[0;32m    891\u001b[0m         \u001b[1;31m# can use np.add(..., where) from numpy 1.7\u001b[0m\u001b[1;33m\u001b[0m\u001b[1;33m\u001b[0m\u001b[0m\n\u001b[0;32m    892\u001b[0m         return np.compress(minor_index == self.indices[start:end],\n\u001b[1;32m--> 893\u001b[1;33m                            self.data[start:end]).sum(dtype=self.dtype)\n\u001b[0m\u001b[0;32m    894\u001b[0m \u001b[1;33m\u001b[0m\u001b[0m\n\u001b[0;32m    895\u001b[0m     \u001b[1;32mdef\u001b[0m \u001b[0m_get_submatrix\u001b[0m\u001b[1;33m(\u001b[0m\u001b[0mself\u001b[0m\u001b[1;33m,\u001b[0m \u001b[0mslice0\u001b[0m\u001b[1;33m,\u001b[0m \u001b[0mslice1\u001b[0m\u001b[1;33m)\u001b[0m\u001b[1;33m:\u001b[0m\u001b[1;33m\u001b[0m\u001b[0m\n",
      "\u001b[1;32mC:\\Python\\Anaconda3\\lib\\site-packages\\numpy\\core\\fromnumeric.py\u001b[0m in \u001b[0;36mcompress\u001b[1;34m(condition, a, axis, out)\u001b[0m\n\u001b[0;32m   1652\u001b[0m \u001b[1;33m\u001b[0m\u001b[0m\n\u001b[0;32m   1653\u001b[0m     \"\"\"\n\u001b[1;32m-> 1654\u001b[1;33m     \u001b[1;32mreturn\u001b[0m \u001b[0m_wrapfunc\u001b[0m\u001b[1;33m(\u001b[0m\u001b[0ma\u001b[0m\u001b[1;33m,\u001b[0m \u001b[1;34m'compress'\u001b[0m\u001b[1;33m,\u001b[0m \u001b[0mcondition\u001b[0m\u001b[1;33m,\u001b[0m \u001b[0maxis\u001b[0m\u001b[1;33m=\u001b[0m\u001b[0maxis\u001b[0m\u001b[1;33m,\u001b[0m \u001b[0mout\u001b[0m\u001b[1;33m=\u001b[0m\u001b[0mout\u001b[0m\u001b[1;33m)\u001b[0m\u001b[1;33m\u001b[0m\u001b[0m\n\u001b[0m\u001b[0;32m   1655\u001b[0m \u001b[1;33m\u001b[0m\u001b[0m\n\u001b[0;32m   1656\u001b[0m \u001b[1;33m\u001b[0m\u001b[0m\n",
      "\u001b[1;32mC:\\Python\\Anaconda3\\lib\\site-packages\\numpy\\core\\fromnumeric.py\u001b[0m in \u001b[0;36m_wrapfunc\u001b[1;34m(obj, method, *args, **kwds)\u001b[0m\n\u001b[0;32m     55\u001b[0m \u001b[1;32mdef\u001b[0m \u001b[0m_wrapfunc\u001b[0m\u001b[1;33m(\u001b[0m\u001b[0mobj\u001b[0m\u001b[1;33m,\u001b[0m \u001b[0mmethod\u001b[0m\u001b[1;33m,\u001b[0m \u001b[1;33m*\u001b[0m\u001b[0margs\u001b[0m\u001b[1;33m,\u001b[0m \u001b[1;33m**\u001b[0m\u001b[0mkwds\u001b[0m\u001b[1;33m)\u001b[0m\u001b[1;33m:\u001b[0m\u001b[1;33m\u001b[0m\u001b[0m\n\u001b[0;32m     56\u001b[0m     \u001b[1;32mtry\u001b[0m\u001b[1;33m:\u001b[0m\u001b[1;33m\u001b[0m\u001b[0m\n\u001b[1;32m---> 57\u001b[1;33m         \u001b[1;32mreturn\u001b[0m \u001b[0mgetattr\u001b[0m\u001b[1;33m(\u001b[0m\u001b[0mobj\u001b[0m\u001b[1;33m,\u001b[0m \u001b[0mmethod\u001b[0m\u001b[1;33m)\u001b[0m\u001b[1;33m(\u001b[0m\u001b[1;33m*\u001b[0m\u001b[0margs\u001b[0m\u001b[1;33m,\u001b[0m \u001b[1;33m**\u001b[0m\u001b[0mkwds\u001b[0m\u001b[1;33m)\u001b[0m\u001b[1;33m\u001b[0m\u001b[0m\n\u001b[0m\u001b[0;32m     58\u001b[0m \u001b[1;33m\u001b[0m\u001b[0m\n\u001b[0;32m     59\u001b[0m     \u001b[1;31m# An AttributeError occurs if the object does not have\u001b[0m\u001b[1;33m\u001b[0m\u001b[1;33m\u001b[0m\u001b[0m\n",
      "\u001b[1;31mKeyboardInterrupt\u001b[0m: "
     ]
    }
   ],
   "source": [
    "for n in range(num):\n",
    "    doc = [(i, tdm[n, i]) for i in range(width)]\n",
    "    topics = lda.get_document_topics(doc)\n",
    "    for topic, ratio in topics:\n",
    "        total[topic] += ratio"
   ]
  },
  {
   "cell_type": "code",
   "execution_count": null,
   "metadata": {
    "collapsed": true
   },
   "outputs": [],
   "source": [
    "# total.items() : total 각 항목의 합계 리턴\n",
    "# list 는 .items() 할 필요없음.\n",
    "sorted(total.items(), key=itemgetter(1), reverse=True)"
   ]
  },
  {
   "cell_type": "markdown",
   "metadata": {},
   "source": [
    "## LDA 모델 저장하기"
   ]
  },
  {
   "cell_type": "code",
   "execution_count": 26,
   "metadata": {
    "collapsed": true
   },
   "outputs": [],
   "source": [
    "lda.save('20170429.lda')"
   ]
  },
  {
   "cell_type": "markdown",
   "metadata": {},
   "source": [
    "## LDA 모델 불러오기"
   ]
  },
  {
   "cell_type": "code",
   "execution_count": 27,
   "metadata": {
    "collapsed": true
   },
   "outputs": [],
   "source": [
    "lda = LdaModel.load('20170429.lda')"
   ]
  },
  {
   "cell_type": "code",
   "execution_count": 29,
   "metadata": {
    "collapsed": false
   },
   "outputs": [
    {
     "data": {
      "text/plain": [
       "[('가격', 0.032306178192544187),\n",
       " ('부품', 0.031942432416610947),\n",
       " ('시장', 0.027343496275689546),\n",
       " ('제품', 0.025369855835817547),\n",
       " ('생산', 0.020496569548535407),\n",
       " ('자동차', 0.018622724922754536),\n",
       " ('미국', 0.01517359984021621),\n",
       " ('출시', 0.013266175084148233),\n",
       " ('산업', 0.01314647310591927),\n",
       " ('판매', 0.012035980740608198)]"
      ]
     },
     "execution_count": 29,
     "metadata": {},
     "output_type": "execute_result"
    }
   ],
   "source": [
    "lda.show_topic(10)"
   ]
  }
 ],
 "metadata": {
  "anaconda-cloud": {},
  "kernelspec": {
   "display_name": "Python [conda root]",
   "language": "python",
   "name": "conda-root-py"
  },
  "language_info": {
   "codemirror_mode": {
    "name": "ipython",
    "version": 3
   },
   "file_extension": ".py",
   "mimetype": "text/x-python",
   "name": "python",
   "nbconvert_exporter": "python",
   "pygments_lexer": "ipython3",
   "version": "3.5.2"
  }
 },
 "nbformat": 4,
 "nbformat_minor": 1
}
