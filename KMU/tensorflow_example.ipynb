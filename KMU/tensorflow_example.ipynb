{
 "cells": [
  {
   "cell_type": "code",
   "execution_count": 1,
   "metadata": {
    "collapsed": true
   },
   "outputs": [],
   "source": [
    "import tensorflow as tf\n",
    "import tensorlayer as tl"
   ]
  },
  {
   "cell_type": "code",
   "execution_count": 2,
   "metadata": {
    "collapsed": true
   },
   "outputs": [],
   "source": [
    "tf.reset_default_graph()"
   ]
  },
  {
   "cell_type": "code",
   "execution_count": 3,
   "metadata": {
    "collapsed": true
   },
   "outputs": [],
   "source": [
    "tl.layers.set_name_reuse(enable=True)"
   ]
  },
  {
   "cell_type": "code",
   "execution_count": 4,
   "metadata": {
    "collapsed": false
   },
   "outputs": [
    {
     "data": {
      "text/plain": [
       "<contextlib._GeneratorContextManager at 0x1b3a58fa5f8>"
      ]
     },
     "execution_count": 4,
     "metadata": {},
     "output_type": "execute_result"
    }
   ],
   "source": [
    "g = tf.Graph()\n",
    "g.as_default()"
   ]
  },
  {
   "cell_type": "code",
   "execution_count": 5,
   "metadata": {
    "collapsed": false
   },
   "outputs": [
    {
     "name": "stdout",
     "output_type": "stream",
     "text": [
      "  tensorlayer:Instantiate InputLayer  input_layer: (?, 2)\n",
      "  tensorlayer:Instantiate DenseLayer  output: 1, sigmoid\n"
     ]
    }
   ],
   "source": [
    "x = tf.placeholder(tf.float32, [None, 2]) # 입력 데이터\n",
    "network = tl.layers.InputLayer(x) # 입력층\n",
    "network = tl.layers.DenseLayer(network, n_units=1, act=tf.sigmoid, name=\"output\") # 출력층"
   ]
  },
  {
   "cell_type": "code",
   "execution_count": 7,
   "metadata": {
    "collapsed": true
   },
   "outputs": [],
   "source": [
    "predict = network.outputs # 예측값\n",
    "y = tf.placeholder(tf.float32, [None, 1]) # 실제 값\n",
    "cost = tl.cost.binary_cross_entropy(predict, y)"
   ]
  },
  {
   "cell_type": "code",
   "execution_count": 8,
   "metadata": {
    "collapsed": true
   },
   "outputs": [],
   "source": [
    "import numpy\n",
    "xdata = numpy.array([[0, 0], [1, 0], [0, 1], [1, 1]])\n",
    "ydata = numpy.array([0, 0, 0, 1]).reshape((4, 1))\n",
    "data = {x: xdata, y: ydata}"
   ]
  },
  {
   "cell_type": "code",
   "execution_count": 9,
   "metadata": {
    "collapsed": false
   },
   "outputs": [
    {
     "data": {
      "text/plain": [
       "{<tf.Tensor 'Placeholder:0' shape=(?, 2) dtype=float32>: array([[0, 0],\n",
       "        [1, 0],\n",
       "        [0, 1],\n",
       "        [1, 1]]),\n",
       " <tf.Tensor 'Placeholder_2:0' shape=(?, 1) dtype=float32>: array([[0],\n",
       "        [0],\n",
       "        [0],\n",
       "        [1]])}"
      ]
     },
     "execution_count": 9,
     "metadata": {},
     "output_type": "execute_result"
    }
   ],
   "source": [
    "data"
   ]
  },
  {
   "cell_type": "code",
   "execution_count": 10,
   "metadata": {
    "collapsed": true
   },
   "outputs": [],
   "source": [
    "gd = tf.train.GradientDescentOptimizer(learning_rate=1)\n",
    "train_step = gd.minimize(cost)  # cost를 최소화한다"
   ]
  },
  {
   "cell_type": "code",
   "execution_count": 11,
   "metadata": {
    "collapsed": true
   },
   "outputs": [],
   "source": [
    "session = tf.InteractiveSession()\n",
    "session.run(tf.global_variables_initializer())"
   ]
  },
  {
   "cell_type": "code",
   "execution_count": 12,
   "metadata": {
    "collapsed": false
   },
   "outputs": [
    {
     "data": {
      "text/plain": [
       "array([[ 0.5       ],\n",
       "       [ 0.46539634],\n",
       "       [ 0.53873003],\n",
       "       [ 0.5041486 ]], dtype=float32)"
      ]
     },
     "execution_count": 12,
     "metadata": {},
     "output_type": "execute_result"
    }
   ],
   "source": [
    "predict.eval(data)  # 초기 예측값"
   ]
  },
  {
   "cell_type": "code",
   "execution_count": 13,
   "metadata": {
    "collapsed": false
   },
   "outputs": [
    {
     "data": {
      "text/plain": [
       "0.69450819"
      ]
     },
     "execution_count": 13,
     "metadata": {},
     "output_type": "execute_result"
    }
   ],
   "source": [
    "cost.eval(data)  # 초기 비용"
   ]
  },
  {
   "cell_type": "code",
   "execution_count": 14,
   "metadata": {
    "collapsed": false
   },
   "outputs": [
    {
     "data": {
      "text/plain": [
       "array([[ 0.43731436],\n",
       "       [ 0.40538153],\n",
       "       [ 0.4731366 ],\n",
       "       [ 0.44063637]], dtype=float32)"
      ]
     },
     "execution_count": 14,
     "metadata": {},
     "output_type": "execute_result"
    }
   ],
   "source": [
    "session.run(train_step, data)\n",
    "predict.eval(data)  # 예측이 변화"
   ]
  },
  {
   "cell_type": "code",
   "execution_count": 15,
   "metadata": {
    "collapsed": false
   },
   "outputs": [
    {
     "data": {
      "text/plain": [
       "0.63880473"
      ]
     },
     "execution_count": 15,
     "metadata": {},
     "output_type": "execute_result"
    }
   ],
   "source": [
    "cost.eval(data)  # 비용이 감소한 것을 확인"
   ]
  },
  {
   "cell_type": "code",
   "execution_count": 16,
   "metadata": {
    "collapsed": false
   },
   "outputs": [
    {
     "name": "stdout",
     "output_type": "stream",
     "text": [
      "Start training the network ...\n",
      "Epoch 1 of 1000 took 0.015011s, loss 0.638805\n",
      "Epoch 100 of 1000 took 0.001001s, loss 0.142582\n",
      "Epoch 200 of 1000 took 0.000000s, loss 0.081254\n",
      "Epoch 300 of 1000 took 0.001000s, loss 0.056328\n",
      "Epoch 400 of 1000 took 0.000000s, loss 0.042923\n",
      "Epoch 500 of 1000 took 0.000000s, loss 0.034595\n",
      "Epoch 600 of 1000 took 0.000500s, loss 0.028936\n",
      "Epoch 700 of 1000 took 0.001001s, loss 0.024848\n",
      "Epoch 800 of 1000 took 0.000500s, loss 0.021761\n",
      "Epoch 900 of 1000 took 0.001001s, loss 0.019349\n",
      "Epoch 1000 of 1000 took 0.000500s, loss 0.017413\n",
      "Total training time: 0.578486s\n"
     ]
    },
    {
     "data": {
      "text/plain": [
       "array([[  1.24064190e-05],\n",
       "       [  2.02165637e-02],\n",
       "       [  2.02165730e-02],\n",
       "       [  9.71684635e-01]], dtype=float32)"
      ]
     },
     "execution_count": 16,
     "metadata": {},
     "output_type": "execute_result"
    }
   ],
   "source": [
    "tl.utils.fit(session, network, train_step, cost, xdata, ydata, x, y,\n",
    "             batch_size=4,  # 한 번에 4개의 데이터 학습\n",
    "             n_epoch=1000,  # 최대 1000회까지\n",
    "             print_freq=100 # 100번 학습마다 비용을 출력\n",
    "             )\n",
    "predict.eval(data)  # 최종 예측"
   ]
  },
  {
   "cell_type": "code",
   "execution_count": 17,
   "metadata": {
    "collapsed": false
   },
   "outputs": [
    {
     "data": {
      "text/plain": [
       "array([[ 0.00001241],\n",
       "       [ 0.02021656],\n",
       "       [ 0.02021657],\n",
       "       [ 0.97168463]], dtype=float32)"
      ]
     },
     "execution_count": 17,
     "metadata": {},
     "output_type": "execute_result"
    }
   ],
   "source": [
    "numpy.set_printoptions(suppress=True)  # 수치를 일반적인 형태로 표시하게 설정\n",
    "predict.eval(data)  # 최종 예측 다시 출력"
   ]
  },
  {
   "cell_type": "code",
   "execution_count": 18,
   "metadata": {
    "collapsed": true
   },
   "outputs": [],
   "source": [
    "session.close()"
   ]
  },
  {
   "cell_type": "code",
   "execution_count": null,
   "metadata": {
    "collapsed": true
   },
   "outputs": [],
   "source": []
  }
 ],
 "metadata": {
  "anaconda-cloud": {},
  "kernelspec": {
   "display_name": "Python [default]",
   "language": "python",
   "name": "python3"
  },
  "language_info": {
   "codemirror_mode": {
    "name": "ipython",
    "version": 3
   },
   "file_extension": ".py",
   "mimetype": "text/x-python",
   "name": "python",
   "nbconvert_exporter": "python",
   "pygments_lexer": "ipython3",
   "version": "3.5.2"
  }
 },
 "nbformat": 4,
 "nbformat_minor": 1
}
