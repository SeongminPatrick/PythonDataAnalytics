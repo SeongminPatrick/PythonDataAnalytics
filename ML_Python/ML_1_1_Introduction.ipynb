{
 "cells": [
  {
   "cell_type": "markdown",
   "metadata": {},
   "source": [
    "# Introduction to Machine Learning with Python"
   ]
  },
  {
   "cell_type": "markdown",
   "metadata": {},
   "source": [
    "#### Andreas Muller & Sarah Guido / O’REILLY"
   ]
  },
  {
   "cell_type": "markdown",
   "metadata": {},
   "source": [
    "# 1장. Introduction"
   ]
  },
  {
   "cell_type": "markdown",
   "metadata": {},
   "source": [
    "머신 러닝은 데이터로부터 지식을 추출해내는 작업이다. 머신 러닝은 통계학, 인공지능, 컴퓨터 사이언스와 교차되는 영역을 가지고 있고, 예측 분석 또는 통계적 학습 등으로도 알려져 있다. \n",
    "\n",
    "머신 러닝 기법을 포함한 애플리케이션들이 요즘 우리의 일상생활 속에 이용되고 있다. 볼만한 영화 추천, 음식이나 상품 추천에서 개인화된 온라인 라디오, 내 사진 속의 친구 얼굴 인식까지 수많은 웹사이트와 디바이스가 그 핵심에 머신 러닝 알고리즘을 가지고 있다. 머신 러닝은 상업적인 영역뿐만 아니라 요즘 이뤄지고 있는 데이터 중심의 리서치에 막대한 영향을 끼치고 있다. 머신 러닝 알고리즘은 별을 이해하고, 외계 행성을 찾고, 새로운 물질을 발견하고, DNA 서열을 분석하고, 개인화된 암 치료법을 제공하는 등의 다양한 과학 문제에도 적용되고 있다."
   ]
  },
  {
   "cell_type": "markdown",
   "metadata": {},
   "source": [
    "## 왜 머신 러닝인가?"
   ]
  },
  {
   "cell_type": "markdown",
   "metadata": {},
   "source": [
    "요즘 모든 스마트폰은 이미지에서 얼굴 인식을 한다. 하지만 얼굴 인식은 2001년까지만 해도 풀리지 않던 문제였다. 이미지를 픽셀(pixel)로 인식하는 컴퓨터의 방식이 인간이 얼굴을 인지하는 방식과 매우 다르기 때문이다. 디지털 이미지에서 얼굴을 구성하는 요소가 무엇인지 사람이 일일히 지정하는 것은 불가능하다. 그러나 머신 러닝을 이용하면 얼굴이 나온 대량의 이미지 데이터를 모은 후 사람 얼굴을 인식하는데 필요한 특성이 무엇인지 결정하는 알고리즘을 적용한 프로그램을 실행하면 된다."
   ]
  },
  {
   "cell_type": "markdown",
   "metadata": {},
   "source": [
    "가장 유용한 머신 러닝 알고리즘 중 하나는 이미 알고 있는 사례들로부터 일반화를 위한 의사결정 프로세스를 자동으로 만들어 내는 것이다. 사용자가 알고리즘에 입력 데이터와 원하는 결과값을 주면, 알고리즘은 주어진 입력값을 기초로 원하는 결과값을 만들기 위한 방법을 발견해 낸다. 더 나아가, 알고리즘은 인간의 도움 없이도 이전에 전혀 볼 수 없었던 새로운 결과를 만들어 내기도 한다. 머신 러닝을 이용해 스팸 메일을 분류하는 사례의 경우, 사용자는 알고리즘에 입력 데이터로 어느 메일이 스팸인지 아닌지 표시된 대량의 이메일을 제공한다. 그리고 새로운 메일이 오면, 도출된 의사결정 프로세스를 기반으로 알고리즘은 새 메일이 스팸인지 아닌지 예측을 한다."
   ]
  },
  {
   "cell_type": "markdown",
   "metadata": {},
   "source": [
    "이처럼 input/output 쌍으로 된 데이터로부터 학습하는 머신 러닝 알고리즘을 지도학습(supervised learning) 알고리즘이라고 부른다. 한 “교사”가 각각의 데이터로부터 원하는 결과가 나오도록 지도하기(supervise) 때문이다. 지도학습을 위한 데이터셋을 만드는 것은 종종 고생스런 수작업 과정이기도 하지만, 지도학습 알고리즘은 이해하기 쉽고 그 성과를 측정하기도 쉽다. 지도학습 머신 러닝이 적용되는 사례는 다음과 같다.\n",
    "\n",
    "- 편지봉투에서 손으로 쓰여진 우편번호를 인식하여 자동 분류\n",
    "- 의료용 이미지를 기반으로 종양이 양성인지 음성인지 판별\n",
    "- 신용카드 사용 기록을 통해 부정 사용 실시간 감시"
   ]
  },
  {
   "cell_type": "markdown",
   "metadata": {},
   "source": [
    "그와 다른 타입의 알고리즘으로 비지도학습(unsupervised learning) 알고리즘이 있다. 비지도학습은 입력 데이터만 알고리즘에 제공하고, 알고리즘에서 어떤 결과를 낼지 사전에 알 수 없다. 이 머신 러닝 알고리즘은 수많은 애플리케이션에서 사용되고 있지만, 일반적으로 이해하기 어렵고, 그 결과를 평가하기도 쉽지 않다. 비지도학습 머신 러닝이 적용되는 사례는 다음과 같다.\n",
    "\n",
    "- 블로그 포스팅들의 주요 주제 식별\n",
    "- 고객들을 비슷한 취향을 가진 그룹으로 세분화\n",
    "- 웹사이트에 대한 비정상적인 접근 패턴 감시\n"
   ]
  },
  {
   "cell_type": "markdown",
   "metadata": {},
   "source": [
    "머신 러닝에 있어서 컴퓨터가 이해할 수 있도록 잘 준비된 입력 데이터는 매우 중요하다. 데이터 테이블의 각 행(row) 또는 객체(entity)를 머신 러닝에서는 “샘플(sample)\"이나 “데이터 포인트(data point)”라고 하며, 각 객체의 특징을 설명하는 컬럼(column)은 변수(variable) 또는 “피쳐(feature)”라고 부른다.\n",
    "\n",
    "나중에 우리는 당신의 데이터를 더 잘 대표할 수 있도록 해주는 “파생 변수 추출”(feature extraction, feature engineering)과 관련하여 자세히 알아볼 것이다."
   ]
  },
  {
   "cell_type": "markdown",
   "metadata": {},
   "source": [
    "머신 러닝 프로세스에서 가장 중요한 부분은 당신이 작업하고 있는 데이터가 해결하고자 하는 문제와 어떻게 관련되어 있는지에 대해 정확히 이해하는 것이다. 각 알고리즘은 필요로 하는 데이터의 종류가 무엇인지, 어떤 문제 해결에 효과적인지 모두 다르기 때문이다. 당신이 머신 러닝 솔루션을 개발중이라면 다음 질문에 답을 하거나, 아니면 최소한 마음에 새기고 있는 것이 좋을 것이다.\n",
    "-\t내가 답하려고 하는 질문은 무엇인가? 수집한 데이터로 그 질문에 답을 할 수 있다고 생각는가?\n",
    "-\t내 질문을 머신 러닝 문제로 표현하는 최상의 방법은 무엇인가?\n",
    "-\t해결하고자 하는 문제를 보여줄 데이터를 충분히 수집했는가?\n",
    "-\t데이터에서 내가 새로이 추출한 feature는 무엇이며, 그것으로 올바른 예측이 가능한가?\n",
    "-\t예측의 성공 여부를 어떻게 측정할 것인가?\n",
    "-\t머신 러닝 솔루션을 다른 비즈니스들과 어떻게 연동할 것인가?"
   ]
  },
  {
   "cell_type": "markdown",
   "metadata": {},
   "source": [
    "## 왜 파이썬인가?"
   ]
  },
  {
   "cell_type": "markdown",
   "metadata": {},
   "source": [
    "파이썬은 현재 수많은 데이터 과학 애플리케이션의 공용어가 되었다. 파이썬은 데이터 입출력, 시각화, 통계, 자연어 처리, 이미지 처리 등과 관련된 라이브러리들을 가지고 있다. 파이썬을 사용하는 가장 큰 장점 중 하나는 Jupyter Notebook 같은 도구를 사용하면 코드의 실행 결과를 즉각적으로 알 수 있다는 것이다. 이런 도구들은 반복적인 작업을 쉽고 빠르게 처리하는데 도움이 된다."
   ]
  },
  {
   "cell_type": "markdown",
   "metadata": {},
   "source": [
    "### scikit-learn (http://scikit-learn.org/)"
   ]
  },
  {
   "cell_type": "markdown",
   "metadata": {},
   "source": [
    "scikit-learn은 파이썬에서 가장 많이 사용하는 머신 러닝 라이브러리이며, 사용과 배포가 자유로운 오픈 소스 프로젝트이다. scikit-learn 프로젝트는 아주 활동적인 사용자 커뮤니티를 가지고 있으며, 계속 기능이 발전하고 향상되고 있는 중이다. 따라서 최첨단 머신 러닝 알고리즘을 포함하고 있으며, 각 알고리즘에 대해 이해하기 쉬운 문서들도 제공하고 있다.\n",
    "\n",
    "문서 링크 http://scikit-learn.org/stable/documentation.html\n",
    "\n",
    "사용자 가이드 http://scikit-learn.org/stable/user_guide.html\n",
    "\n",
    "scikit-learn은 NumPy와 SciPy, 이 두 가지 파이썬 패키지와 깊은 연관이 있다. 또한 차트를 그리는 등의 대화형(interactive) 개발을 원한다면 matplotlib, Jupyter Notebook 등의 패키지도 설치해야 한다. \n"
   ]
  },
  {
   "cell_type": "markdown",
   "metadata": {},
   "source": [
    "### 아나콘다(Anaconda)\n"
   ]
  },
  {
   "cell_type": "markdown",
   "metadata": {},
   "source": [
    "대규모 데이터 처리, 예측 분석, 과학적 컴퓨팅 등을 위해 만들어진 파이썬 배포판(Python distribution)이다. 맥OS, 윈도우즈, 리눅스 모두에서 사용 가능하며, 파이썬 패키지들의 설치를 쉽게 해주는 솔루션이다. 아나콘다에는 NumPy, SciPy, matplotlib, pandas, Ipython, Jupyter Notebook, scikit-learn 등과 같은 패키지들이 포함되어 있으며, 이 패키지들은 아니콘다 설치 후 콘솔창에서 다음과 입력하면 쉽게 설치가 된다.\n",
    "\n",
    "$ conda install {packagename}\n",
    "\n",
    "현재 아나콘다에는 무료로 사용할 수 있는 인텔의 MKL 라이브러리가 포함되어 있으며, 아나콘다 설치시 자동으로 설치된다. MKL을 사용하면 scikit-learn에 포함된 알고리즘들의 성능을 눈부시게 향상시킬 수 있다.\n",
    "\n",
    "아나콘다 다운로드 : http://www.continuum.io/downloads"
   ]
  },
  {
   "cell_type": "markdown",
   "metadata": {
    "collapsed": true
   },
   "source": [
    "###\tJupyter Notebook"
   ]
  },
  {
   "cell_type": "markdown",
   "metadata": {},
   "source": [
    "Jupyter Notebook은 웹브라우저에서 코드를 실행할 수 있는 대화형 개발도구이다. 이것은 탐색적 데이터 분석에 매우 유용한 도구이기 때문에 데이터 많은 데이터 사이언티스트들이 사용하고 있다. Jupyter Notebook은 파이썬뿐만 아니라 다른 프로그래밍 언어도 지원한다. 아나콘다 설치시 Jupyter Notebook은 자동으로 함께 설치된다.\n"
   ]
  },
  {
   "cell_type": "markdown",
   "metadata": {},
   "source": [
    "### NumPy"
   ]
  },
  {
   "cell_type": "markdown",
   "metadata": {},
   "source": [
    "NumPy는 파이썬에서 과학적인 컴퓨팅을 위해 기본이 되는 패키지 중 하나이다. NumPy는 다차원 배열(multidimensional array), 선형 대수와 같은 고차원 수학연산 기능, 푸리에 변환, 난수 생성 등과 같은 기능을 포함하고 있다.\n",
    "scikit-learn에서 NumPy array는 기본적인 데이터 구조이다. NumPy는 2차원, 3차원의 배열 구조를 만들 수 있으며, NumPy array에 포함된 데이터들은 반드시 동일한 데이터 타입이어야 한다."
   ]
  },
  {
   "cell_type": "markdown",
   "metadata": {},
   "source": [
    "### SciPy"
   ]
  },
  {
   "cell_type": "markdown",
   "metadata": {},
   "source": [
    "SciPy는 과학적 연산 기능을 모아놓은 파이썬 패키지이다. scikit-learn 알고리즘들은 SciPy의 함수들을 많이 끌어다 쓴다. SciPy에서 우리에게 중요한 부분은 scipy.sparse 이다. 이것은 scikit-learn에서 데이터를 처리할 때 많이 사용하는 희소 행렬(sparse matrix)을 제공해 준다.\n"
   ]
  },
  {
   "cell_type": "markdown",
   "metadata": {},
   "source": [
    "### matplotlib"
   ]
  },
  {
   "cell_type": "markdown",
   "metadata": {},
   "source": [
    "matplotlib는 파이썬의 핵심적인 플롯 라이브러리이다. 이 라이브러리는 라인 차트, 히스토그램, 산점도 등등의 수준높은 시각화 기능을 제공한다. 데이터와 분석결과의 다양한 측면을 시각화하는 것은 우리에게 중요한 통찰력을 제공해 줄 것이다.\n",
    "\n",
    "Jupyter Notebook에서 작업할 때 “%matplotlib notebook”과 “%matplotlib inline” 명령어를 사용하면 웹브라우저에서 차트를 직접 확인할 수 있다."
   ]
  },
  {
   "cell_type": "code",
   "execution_count": 1,
   "metadata": {
    "collapsed": true
   },
   "outputs": [],
   "source": [
    "import numpy as np\n",
    "import pandas as pd\n",
    "import matplotlib.pyplot as plt"
   ]
  },
  {
   "cell_type": "code",
   "execution_count": 2,
   "metadata": {
    "collapsed": true
   },
   "outputs": [],
   "source": [
    "%matplotlib inline"
   ]
  },
  {
   "cell_type": "code",
   "execution_count": 3,
   "metadata": {
    "collapsed": false
   },
   "outputs": [],
   "source": [
    "x = np.linspace(-10, 10, 100)   # -10에서 10까지 100개의 연속된 숫자를 생성한다."
   ]
  },
  {
   "cell_type": "code",
   "execution_count": 4,
   "metadata": {
    "collapsed": true
   },
   "outputs": [],
   "source": [
    "y = np.sin(x)   # sine 함수 적용한 array 생성"
   ]
  },
  {
   "cell_type": "code",
   "execution_count": 5,
   "metadata": {
    "collapsed": false
   },
   "outputs": [
    {
     "data": {
      "text/plain": [
       "[<matplotlib.lines.Line2D at 0x115331470>]"
      ]
     },
     "execution_count": 5,
     "metadata": {},
     "output_type": "execute_result"
    },
    {
     "data": {
      "image/png": "[encoded data removed]",
      "text/plain": [
       "<matplotlib.figure.Figure at 0x112e62b00>"
      ]
     },
     "metadata": {},
     "output_type": "display_data"
    }
   ],
   "source": [
    "plt.plot(x, y)"
   ]
  },
  {
   "cell_type": "markdown",
   "metadata": {},
   "source": [
    "### Pandas"
   ]
  },
  {
   "cell_type": "markdown",
   "metadata": {},
   "source": [
    "pandas는 데이터를 처리하고 분석하기 위한 파이썬 라이브러리이다. pandas는 데이터프레임(DataFrame)이라 불리는 데이터 구조를 사용하는데, 이것은 R 의 데이터프레임을 참조한 것이다. DataFrame은 간단히 말해서 엑셀의 스프레드시트와 비슷한 테이블이다. pandas는 이 테이블을 다루는 매우 다양한 기능을 제공하고 있으며, 특히 테이블을 SQL 형태로 조회하고 조인할 수 있다. NumPy array이가 동일한 데이터 타입의 객체만 가지고 있는 반면에, pandas dataframe은 각각의 컬럼이 서로 다른 데이터 타입을 가질 수 있다. pandas의 아주 유용한 특징 중 하나는 다양한 형태의 파일과 데이터베이스에서 데이터를 가져올 수 있다는 것이다.\n"
   ]
  },
  {
   "cell_type": "code",
   "execution_count": 6,
   "metadata": {
    "collapsed": true
   },
   "outputs": [],
   "source": [
    "# 데이터셋 만들기"
   ]
  },
  {
   "cell_type": "code",
   "execution_count": 7,
   "metadata": {
    "collapsed": true
   },
   "outputs": [],
   "source": [
    "data = {'Name':['John', 'Anna', 'Peter', 'Linda'],\n",
    "        'Location':['New York', 'Paris', 'Berlin', 'London'],\n",
    "        'Age':[24, 13, 53, 33]\n",
    "}"
   ]
  },
  {
   "cell_type": "code",
   "execution_count": 8,
   "metadata": {
    "collapsed": false
   },
   "outputs": [
    {
     "data": {
      "text/html": [
       "<div>\n",
       "<table border=\"1\" class=\"dataframe\">\n",
       "  <thead>\n",
       "    <tr style=\"text-align: right;\">\n",
       "      <th></th>\n",
       "      <th>Age</th>\n",
       "      <th>Location</th>\n",
       "      <th>Name</th>\n",
       "    </tr>\n",
       "  </thead>\n",
       "  <tbody>\n",
       "    <tr>\n",
       "      <th>0</th>\n",
       "      <td>24</td>\n",
       "      <td>New York</td>\n",
       "      <td>John</td>\n",
       "    </tr>\n",
       "    <tr>\n",
       "      <th>1</th>\n",
       "      <td>13</td>\n",
       "      <td>Paris</td>\n",
       "      <td>Anna</td>\n",
       "    </tr>\n",
       "    <tr>\n",
       "      <th>2</th>\n",
       "      <td>53</td>\n",
       "      <td>Berlin</td>\n",
       "      <td>Peter</td>\n",
       "    </tr>\n",
       "    <tr>\n",
       "      <th>3</th>\n",
       "      <td>33</td>\n",
       "      <td>London</td>\n",
       "      <td>Linda</td>\n",
       "    </tr>\n",
       "  </tbody>\n",
       "</table>\n",
       "</div>"
      ],
      "text/plain": [
       "   Age  Location   Name\n",
       "0   24  New York   John\n",
       "1   13     Paris   Anna\n",
       "2   53    Berlin  Peter\n",
       "3   33    London  Linda"
      ]
     },
     "execution_count": 8,
     "metadata": {},
     "output_type": "execute_result"
    }
   ],
   "source": [
    "data_pandas = pd.DataFrame(data)\n",
    "data_pandas"
   ]
  },
  {
   "cell_type": "code",
   "execution_count": 9,
   "metadata": {
    "collapsed": false
   },
   "outputs": [
    {
     "data": {
      "text/html": [
       "<div>\n",
       "<table border=\"1\" class=\"dataframe\">\n",
       "  <thead>\n",
       "    <tr style=\"text-align: right;\">\n",
       "      <th></th>\n",
       "      <th>Age</th>\n",
       "      <th>Location</th>\n",
       "      <th>Name</th>\n",
       "    </tr>\n",
       "  </thead>\n",
       "  <tbody>\n",
       "    <tr>\n",
       "      <th>2</th>\n",
       "      <td>53</td>\n",
       "      <td>Berlin</td>\n",
       "      <td>Peter</td>\n",
       "    </tr>\n",
       "    <tr>\n",
       "      <th>3</th>\n",
       "      <td>33</td>\n",
       "      <td>London</td>\n",
       "      <td>Linda</td>\n",
       "    </tr>\n",
       "  </tbody>\n",
       "</table>\n",
       "</div>"
      ],
      "text/plain": [
       "   Age Location   Name\n",
       "2   53   Berlin  Peter\n",
       "3   33   London  Linda"
      ]
     },
     "execution_count": 9,
     "metadata": {},
     "output_type": "execute_result"
    }
   ],
   "source": [
    "data_pandas[data_pandas.Age > 30]"
   ]
  },
  {
   "cell_type": "markdown",
   "metadata": {},
   "source": [
    "### mglearn"
   ]
  },
  {
   "cell_type": "markdown",
   "metadata": {},
   "source": [
    "이 책에 있는 코드는 GitHub를 통해 받을 수 있다. https://github.com/amueller/introduction_to_ml_with_python"
   ]
  },
  {
   "cell_type": "markdown",
   "metadata": {},
   "source": [
    "이 소스에는 mglearn 라이브러리가 포함되어 있다. 이 라이브러리는 우리가 이 책을 만들면서 사용한 유틸리티 함수들이다. 중요한  것이 아니기 때문에 자세하게 살펴보지 않아도 된다. \n",
    "\n",
    "mglearn 폴더를 당신의 프로젝트 root 폴더에 복사해주면 된다."
   ]
  }
 ],
 "metadata": {
  "anaconda-cloud": {},
  "kernelspec": {
   "display_name": "Python [default]",
   "language": "python",
   "name": "python3"
  },
  "language_info": {
   "codemirror_mode": {
    "name": "ipython",
    "version": 3
   },
   "file_extension": ".py",
   "mimetype": "text/x-python",
   "name": "python",
   "nbconvert_exporter": "python",
   "pygments_lexer": "ipython3",
   "version": "3.5.2"
  }
 },
 "nbformat": 4,
 "nbformat_minor": 0
}
