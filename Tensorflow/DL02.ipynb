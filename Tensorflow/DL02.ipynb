{
 "cells": [
  {
   "cell_type": "markdown",
   "metadata": {},
   "source": [
    "# Minimizing Cost"
   ]
  },
  {
   "cell_type": "markdown",
   "metadata": {},
   "source": [
    "단순 그래프를 통해 W에 따라 cost가 변화되는 추세를 확인한다. 즉, cost 함수의 모양."
   ]
  },
  {
   "cell_type": "code",
   "execution_count": 1,
   "metadata": {
    "collapsed": true
   },
   "outputs": [],
   "source": [
    "import tensorflow as tf"
   ]
  },
  {
   "cell_type": "code",
   "execution_count": 2,
   "metadata": {
    "collapsed": true
   },
   "outputs": [],
   "source": [
    "%matplotlib inline\n",
    "import matplotlib.pyplot as plt"
   ]
  },
  {
   "cell_type": "code",
   "execution_count": 13,
   "metadata": {
    "collapsed": true
   },
   "outputs": [],
   "source": [
    "X = [1, 2, 3, 4, 5]\n",
    "Y = [3, 6, 9, 12, 15]\n",
    "\n",
    "W = tf.placeholder(tf.float32)\n",
    "\n",
    "hypothesis = X * W"
   ]
  },
  {
   "cell_type": "code",
   "execution_count": 14,
   "metadata": {
    "collapsed": true
   },
   "outputs": [],
   "source": [
    "cost = tf.reduce_mean(tf.square(hypothesis - Y))"
   ]
  },
  {
   "cell_type": "code",
   "execution_count": 15,
   "metadata": {
    "collapsed": true
   },
   "outputs": [],
   "source": [
    "sess = tf.Session()\n",
    "sess.run(tf.global_variables_initializer())"
   ]
  },
  {
   "cell_type": "code",
   "execution_count": 24,
   "metadata": {
    "collapsed": true
   },
   "outputs": [],
   "source": [
    "W_history = []\n",
    "cost_history = []\n",
    "\n",
    "# W를 -3 ~ 9 범위에서 0.1씩 증가\n",
    "for i in range(-30, 90):\n",
    "    curr_W = i * 0.1\n",
    "    curr_cost = sess.run(cost, feed_dict={W: curr_W})\n",
    "    W_history.append(curr_W)\n",
    "    cost_history.append(curr_cost)"
   ]
  },
  {
   "cell_type": "code",
   "execution_count": 26,
   "metadata": {
    "collapsed": false
   },
   "outputs": [
    {
     "data": {
      "image/png": "[encoded data removed]",
      "text/plain": [
       "<matplotlib.figure.Figure at 0x17f3dc092e8>"
      ]
     },
     "metadata": {},
     "output_type": "display_data"
    }
   ],
   "source": [
    "plt.plot(W_history, cost_history)\n",
    "plt.xlabel('W')\n",
    "plt.ylabel('cost')\n",
    "plt.show()\n",
    "\n",
    "# W = 3에서 cost가 최소인 것을 알 수 있다."
   ]
  },
  {
   "cell_type": "markdown",
   "metadata": {},
   "source": [
    "## Minimizing Cost : Gradient Descent"
   ]
  },
  {
   "cell_type": "markdown",
   "metadata": {},
   "source": [
    "현재의 W값에서 현재 점의 기울기(cost function의 미분값)를 빼줌으로써 cost가 작아지는 방향으로 움직인다."
   ]
  },
  {
   "cell_type": "markdown",
   "metadata": {},
   "source": [
    "![img](./images/dl02-1.jpg)"
   ]
  },
  {
   "cell_type": "code",
   "execution_count": 32,
   "metadata": {
    "collapsed": true
   },
   "outputs": [],
   "source": [
    "x_train = [1, 2, 3, 4, 5]\n",
    "y_train = [3, 6, 9, 12, 15]\n",
    "\n",
    "W = tf.Variable(tf.random_normal([1]), name='weight')   # 변수 선언\n",
    "X = tf.placeholder(tf.float32)\n",
    "Y = tf.placeholder(tf.float32)\n",
    "\n",
    "hypothesis = X * W\n",
    "\n",
    "cost = tf.reduce_mean(tf.square(hypothesis - Y))"
   ]
  },
  {
   "cell_type": "code",
   "execution_count": 33,
   "metadata": {
    "collapsed": false
   },
   "outputs": [],
   "source": [
    "# W = W - learning_rate * gradient\n",
    "learning_rate = 0.01\n",
    "gradient = tf.reduce_mean((W * X - Y) * X)\n",
    "descent = W - learning_rate * gradient\n",
    "\n",
    "update = W.assign(descent)"
   ]
  },
  {
   "cell_type": "code",
   "execution_count": 34,
   "metadata": {
    "collapsed": true
   },
   "outputs": [],
   "source": [
    "sess = tf.Session()\n",
    "sess.run(tf.global_variables_initializer())"
   ]
  },
  {
   "cell_type": "code",
   "execution_count": 35,
   "metadata": {
    "collapsed": false
   },
   "outputs": [
    {
     "name": "stdout",
     "output_type": "stream",
     "text": [
      "0 143.285 [-0.60914719]\n",
      "1 113.496 [-0.21214104]\n",
      "2 89.9005 [ 0.14119446]\n",
      "3 71.2102 [ 0.45566308]\n",
      "4 56.4056 [ 0.73554015]\n",
      "5 44.6789 [ 0.9846307]\n",
      "6 35.3901 [ 1.20632136]\n",
      "7 28.0325 [ 1.40362597]\n",
      "8 22.2046 [ 1.57922709]\n",
      "9 17.5882 [ 1.73551214]\n",
      "10 13.9316 [ 1.87460577]\n",
      "11 11.0352 [ 1.99839914]\n",
      "12 8.74102 [ 2.10857534]\n",
      "13 6.92376 [ 2.20663214]\n",
      "14 5.48431 [ 2.29390264]\n",
      "15 4.34412 [ 2.37157345]\n",
      "16 3.44098 [ 2.44070029]\n",
      "17 2.7256 [ 2.50222325]\n",
      "18 2.15895 [ 2.5569787]\n",
      "19 1.7101 [ 2.60571098]\n",
      "20 1.35457 [ 2.64908266]\n"
     ]
    }
   ],
   "source": [
    "for step in range(21):\n",
    "    sess.run(update, feed_dict={X: x_train, Y: y_train})\n",
    "    print(step, sess.run(cost, feed_dict={X: x_train, Y: y_train}), sess.run(W))"
   ]
  },
  {
   "cell_type": "code",
   "execution_count": 36,
   "metadata": {
    "collapsed": true
   },
   "outputs": [],
   "source": [
    "# step - cost - W : cost 가 감소하면서 W가 목표값인 3으로 접근해가고 있다."
   ]
  },
  {
   "cell_type": "markdown",
   "metadata": {
    "collapsed": true
   },
   "source": [
    "## Minimizing Cost : Use Optimizer"
   ]
  },
  {
   "cell_type": "code",
   "execution_count": 43,
   "metadata": {
    "collapsed": true
   },
   "outputs": [],
   "source": [
    "X = [1, 2, 3, 4, 5]\n",
    "Y = [3, 6, 9, 12, 15]\n",
    "\n",
    "W = tf.Variable(5.0)   # 임의의 값 설정.\n",
    "\n",
    "hypothesis = X * W\n",
    "cost = tf.reduce_mean(tf.square(hypothesis - Y))"
   ]
  },
  {
   "cell_type": "code",
   "execution_count": 49,
   "metadata": {
    "collapsed": true
   },
   "outputs": [],
   "source": [
    "# Optimizer\n",
    "optimizer = tf.train.GradientDescentOptimizer(learning_rate=0.01)\n",
    "train = optimizer.minimize(cost)"
   ]
  },
  {
   "cell_type": "code",
   "execution_count": 50,
   "metadata": {
    "collapsed": false
   },
   "outputs": [
    {
     "name": "stdout",
     "output_type": "stream",
     "text": [
      "0 4.56\n",
      "200 4.2168\n",
      "400 3.9491\n",
      "600 3.7403\n",
      "800 3.57743\n",
      "1000 3.4504\n",
      "1200 3.35131\n",
      "1400 3.27402\n",
      "1600 3.21374\n",
      "1800 3.16672\n",
      "2000 3.13004\n",
      "2200 3.10143\n",
      "2400 3.07912\n",
      "2600 3.06171\n",
      "2800 3.04813\n",
      "3000 3.03754\n",
      "3200 3.02928\n",
      "3400 3.02284\n",
      "3600 3.01782\n",
      "3800 3.0139\n",
      "4000 3.01084\n",
      "4200 3.00846\n",
      "4400 3.00659\n",
      "4600 3.00514\n",
      "4800 3.00401\n"
     ]
    }
   ],
   "source": [
    "sess = tf.Session()\n",
    "sess.run(tf.global_variables_initializer())\n",
    "\n",
    "for step in range(5000):\n",
    "    if step % 200 == 0:\n",
    "        sess.run(train)\n",
    "        print(step, sess.run(W))"
   ]
  }
 ],
 "metadata": {
  "anaconda-cloud": {},
  "kernelspec": {
   "display_name": "Python [conda root]",
   "language": "python",
   "name": "conda-root-py"
  },
  "language_info": {
   "codemirror_mode": {
    "name": "ipython",
    "version": 3
   },
   "file_extension": ".py",
   "mimetype": "text/x-python",
   "name": "python",
   "nbconvert_exporter": "python",
   "pygments_lexer": "ipython3",
   "version": "3.5.2"
  }
 },
 "nbformat": 4,
 "nbformat_minor": 1
}
