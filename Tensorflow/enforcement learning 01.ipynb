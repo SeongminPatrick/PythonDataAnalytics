{
 "cells": [
  {
   "cell_type": "markdown",
   "metadata": {},
   "source": [
    "# 강화학습 1"
   ]
  },
  {
   "cell_type": "markdown",
   "metadata": {},
   "source": [
    "## 설정"
   ]
  },
  {
   "cell_type": "code",
   "execution_count": 1,
   "metadata": {
    "collapsed": true
   },
   "outputs": [],
   "source": [
    "import numpy"
   ]
  },
  {
   "cell_type": "code",
   "execution_count": 2,
   "metadata": {
    "collapsed": true
   },
   "outputs": [],
   "source": [
    "discount = 1\n",
    "reward = -1        # 여기서는 벌점만 있음.\n",
    "directions = [\n",
    "    (0, 1),  # 동\n",
    "    (0, -1), # 서\n",
    "    (1, 0),  # 남  \n",
    "    (-1, 0)  # 북\n",
    "]"
   ]
  },
  {
   "cell_type": "markdown",
   "metadata": {},
   "source": [
    "## Grid World"
   ]
  },
  {
   "cell_type": "markdown",
   "metadata": {},
   "source": [
    "4x4의 16칸. 왼쪽위, 오른쪽 아래 각 1칸에 들어가면 성공"
   ]
  },
  {
   "cell_type": "code",
   "execution_count": 3,
   "metadata": {
    "collapsed": true
   },
   "outputs": [],
   "source": [
    "import seaborn as sns\n",
    "sns.set()"
   ]
  },
  {
   "cell_type": "code",
   "execution_count": 4,
   "metadata": {
    "collapsed": true
   },
   "outputs": [],
   "source": [
    "%matplotlib inline\n",
    "from matplotlib import pyplot"
   ]
  },
  {
   "cell_type": "code",
   "execution_count": 5,
   "metadata": {
    "collapsed": true
   },
   "outputs": [],
   "source": [
    "def draw_values(values, policy):\n",
    "    line = 0.45\n",
    "    color = '#919191'\n",
    "    pyplot.axis([-1, 4, -1, 4])\n",
    "    ax = sns.heatmap(values, vmax=0)\n",
    "    \n",
    "    for x in range(4):\n",
    "        for y in range(4):\n",
    "            for i, d in enumerate(directions):\n",
    "                dx, dy = d\n",
    "                p = policy[x, y, i]\n",
    "                if p > 0:\n",
    "                    ax.arrow(x + .5, 3 - y + .5, dx * line * p, -dy * line * p,\n",
    "                             head_width=0.1, head_length=0.15, fc=color, ec=color)\n",
    "    print(values)"
   ]
  },
  {
   "cell_type": "code",
   "execution_count": 6,
   "metadata": {
    "collapsed": true
   },
   "outputs": [],
   "source": [
    "# 초기화 함수"
   ]
  },
  {
   "cell_type": "code",
   "execution_count": 7,
   "metadata": {
    "collapsed": true
   },
   "outputs": [],
   "source": [
    "def init():\n",
    "    values = numpy.zeros((4, 4))\n",
    "    policy = numpy.array([[[0.25, 0.25, 0.25, 0.25]] * 4] * 4)   # 16칸. 각 칸에서 할 수 있는 행동 4가지. 각 행동의 확률 default 0.25\n",
    "    policy[0, 0] = numpy.array([0, 0, 0, 0])\n",
    "    policy[3, 3] = numpy.array([0, 0, 0, 0])\n",
    "    return values, policy"
   ]
  },
  {
   "cell_type": "code",
   "execution_count": 8,
   "metadata": {
    "collapsed": true
   },
   "outputs": [],
   "source": [
    "# 이동"
   ]
  },
  {
   "cell_type": "code",
   "execution_count": 9,
   "metadata": {
    "collapsed": true
   },
   "outputs": [],
   "source": [
    "def move(pos, d):\n",
    "    new_pos = pos + d\n",
    "    new_pos = max(0, new_pos)\n",
    "    new_pos = min(3, new_pos)\n",
    "    return new_pos"
   ]
  },
  {
   "cell_type": "code",
   "execution_count": 10,
   "metadata": {
    "collapsed": true
   },
   "outputs": [],
   "source": [
    "# Policy Evaluation"
   ]
  },
  {
   "cell_type": "code",
   "execution_count": 11,
   "metadata": {
    "collapsed": true
   },
   "outputs": [],
   "source": [
    "def policy_evaluation(values, policy):\n",
    "    update = values.copy()  # 값 복사.\n",
    "    for x in range(4):\n",
    "        for y in range(4):\n",
    "            expectation = 0\n",
    "            for i, d in enumerate(directions):\n",
    "                dx, dy = d\n",
    "                new_x = move(x, dx)  # 다음 상태의 좌표\n",
    "                new_y = move(y, dy)\n",
    "\n",
    "                # 벨만 방정식\n",
    "                expectation += policy[x, y, i] * (reward + discount * values[new_x, new_y])\n",
    "            update[x, y] = expectation\n",
    "    return update"
   ]
  },
  {
   "cell_type": "code",
   "execution_count": null,
   "metadata": {
    "collapsed": true
   },
   "outputs": [],
   "source": [
    "# 초기화"
   ]
  },
  {
   "cell_type": "code",
   "execution_count": 12,
   "metadata": {
    "collapsed": false
   },
   "outputs": [
    {
     "name": "stdout",
     "output_type": "stream",
     "text": [
      "[[ 0.  0.  0.  0.]\n",
      " [ 0.  0.  0.  0.]\n",
      " [ 0.  0.  0.  0.]\n",
      " [ 0.  0.  0.  0.]]\n"
     ]
    },
    {
     "data": {
      "image/png": "[encoded data removed]",
      "text/plain": [
       "<matplotlib.figure.Figure at 0x1e3f4fd0240>"
      ]
     },
     "metadata": {},
     "output_type": "display_data"
    }
   ],
   "source": [
    "values, policy = init()\n",
    "draw_values(values, policy)"
   ]
  },
  {
   "cell_type": "code",
   "execution_count": 14,
   "metadata": {
    "collapsed": false
   },
   "outputs": [
    {
     "name": "stdout",
     "output_type": "stream",
     "text": [
      "[[ 0.   -1.75 -2.   -2.  ]\n",
      " [-1.75 -2.   -2.   -2.  ]\n",
      " [-2.   -2.   -2.   -1.75]\n",
      " [-2.   -2.   -1.75  0.  ]]\n"
     ]
    },
    {
     "data": {
      "image/png": "[encoded data removed]",
      "text/plain": [
       "<matplotlib.figure.Figure at 0x1e3f4fd04e0>"
      ]
     },
     "metadata": {},
     "output_type": "display_data"
    }
   ],
   "source": [
    "values = policy_evaluation(values, policy)\n",
    "draw_values(values, policy)"
   ]
  },
  {
   "cell_type": "code",
   "execution_count": 15,
   "metadata": {
    "collapsed": true
   },
   "outputs": [],
   "source": [
    "# Policy Iteration"
   ]
  },
  {
   "cell_type": "code",
   "execution_count": 16,
   "metadata": {
    "collapsed": true
   },
   "outputs": [],
   "source": [
    "def policy_iteration(values, policy):\n",
    "    # 가치 평가\n",
    "    values = policy_evaluation(values, policy)\n",
    "\n",
    "    # 정책 수정\n",
    "    policy = policy.copy()\n",
    "    for x in range(4):\n",
    "        for y in range(4):\n",
    "            if (x, y) == (0, 0) or (x, y) == (3, 3):\n",
    "                continue\n",
    "            # 4방향의 가치를 구한다\n",
    "            candidate = numpy.zeros(4)\n",
    "            for i, d in enumerate(directions):\n",
    "                dx, dy = d\n",
    "                new_x = move(x, dx)\n",
    "                new_y = move(y, dy)\n",
    "                candidate[i] = values[new_x, new_y]\n",
    "        \n",
    "            # 확률이 기장 높은 방향으로 정책을 업데이트\n",
    "            max_value = numpy.max(candidate)\n",
    "            compare_max = (candidate == max_value).astype(int)\n",
    "            prob = 1 / compare_max.sum()\n",
    "            policy[x, y, :] = compare_max * prob\n",
    "    return values, policy"
   ]
  },
  {
   "cell_type": "code",
   "execution_count": 17,
   "metadata": {
    "collapsed": true
   },
   "outputs": [],
   "source": [
    "values, policy = init()"
   ]
  },
  {
   "cell_type": "code",
   "execution_count": 25,
   "metadata": {
    "collapsed": false
   },
   "outputs": [
    {
     "name": "stdout",
     "output_type": "stream",
     "text": [
      "[[ 0. -1. -2. -3.]\n",
      " [-1. -2. -3. -2.]\n",
      " [-2. -3. -2. -1.]\n",
      " [-3. -2. -1.  0.]]\n"
     ]
    },
    {
     "data": {
      "image/png": "[encoded data removed]",
      "text/plain": [
       "<matplotlib.figure.Figure at 0x1e3f5209a20>"
      ]
     },
     "metadata": {},
     "output_type": "display_data"
    }
   ],
   "source": [
    "values, policy = policy_iteration(values, policy)\n",
    "draw_values(values, policy)"
   ]
  },
  {
   "cell_type": "code",
   "execution_count": 26,
   "metadata": {
    "collapsed": true
   },
   "outputs": [],
   "source": [
    "# Value Iteration"
   ]
  },
  {
   "cell_type": "code",
   "execution_count": 27,
   "metadata": {
    "collapsed": true
   },
   "outputs": [],
   "source": [
    "def value_iteration(values):\n",
    "    update = values.copy()\n",
    "    for x in range(4):\n",
    "        for y in range(4):\n",
    "            if (x, y) == (0, 0) or (x, y) == (3, 3):\n",
    "                continue\n",
    "            candidate = numpy.zeros(4)\n",
    "            for i, d in enumerate(directions):\n",
    "                dx, dy = d\n",
    "                new_x = move(x, dx)\n",
    "                new_y = move(y, dy)\n",
    "                candidate[i] = reward + discount * values[new_x, new_y]\n",
    "            update[x, y] = numpy.max(candidate)\n",
    "    return update"
   ]
  },
  {
   "cell_type": "code",
   "execution_count": 28,
   "metadata": {
    "collapsed": true
   },
   "outputs": [],
   "source": [
    "values, policy = init()"
   ]
  },
  {
   "cell_type": "code",
   "execution_count": 45,
   "metadata": {
    "collapsed": false
   },
   "outputs": [
    {
     "name": "stdout",
     "output_type": "stream",
     "text": [
      "[[ 0. -1. -2. -3.]\n",
      " [-1. -2. -3. -2.]\n",
      " [-2. -3. -2. -1.]\n",
      " [-3. -2. -1.  0.]]\n"
     ]
    },
    {
     "data": {
      "image/png": "[encoded data removed]",
      "text/plain": [
       "<matplotlib.figure.Figure at 0x1e3f5201080>"
      ]
     },
     "metadata": {},
     "output_type": "display_data"
    }
   ],
   "source": [
    "values = value_iteration(values)\n",
    "draw_values(values, policy)   # 4가지 경우 중 값이 가장 높은 것이 현재 상태의 가치가 된다."
   ]
  },
  {
   "cell_type": "code",
   "execution_count": null,
   "metadata": {
    "collapsed": true
   },
   "outputs": [],
   "source": []
  }
 ],
 "metadata": {
  "anaconda-cloud": {},
  "kernelspec": {
   "display_name": "Python [conda root]",
   "language": "python",
   "name": "conda-root-py"
  },
  "language_info": {
   "codemirror_mode": {
    "name": "ipython",
    "version": 3
   },
   "file_extension": ".py",
   "mimetype": "text/x-python",
   "name": "python",
   "nbconvert_exporter": "python",
   "pygments_lexer": "ipython3",
   "version": "3.5.2"
  }
 },
 "nbformat": 4,
 "nbformat_minor": 1
}
