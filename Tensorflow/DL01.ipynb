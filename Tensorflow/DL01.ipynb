{
 "cells": [
  {
   "cell_type": "markdown",
   "metadata": {},
   "source": [
    "### Computational Graph"
   ]
  },
  {
   "cell_type": "code",
   "execution_count": 1,
   "metadata": {
    "collapsed": true
   },
   "outputs": [],
   "source": [
    "import tensorflow as tf"
   ]
  },
  {
   "cell_type": "code",
   "execution_count": 2,
   "metadata": {
    "collapsed": false
   },
   "outputs": [
    {
     "name": "stdout",
     "output_type": "stream",
     "text": [
      "7.5\n",
      "[ 3.  7.]\n"
     ]
    }
   ],
   "source": [
    "a = tf.placeholder(tf.float32)\n",
    "b = tf.placeholder(tf.float32)\n",
    "c = a + b\n",
    "\n",
    "sess = tf.Session()\n",
    "\n",
    "print(sess.run(c, feed_dict={a: 3, b: 4.5}))\n",
    "print(sess.run(c, feed_dict={a: [1, 3], b: [2, 4]}))"
   ]
  },
  {
   "cell_type": "code",
   "execution_count": 3,
   "metadata": {
    "collapsed": false
   },
   "outputs": [
    {
     "name": "stdout",
     "output_type": "stream",
     "text": [
      "22.5\n"
     ]
    }
   ],
   "source": [
    "d = c * 3.\n",
    "print(sess.run(d, feed_dict={a: 3, b:4.5}))"
   ]
  },
  {
   "cell_type": "markdown",
   "metadata": {},
   "source": [
    "## Linear Regression"
   ]
  },
  {
   "cell_type": "markdown",
   "metadata": {},
   "source": [
    "![img](./images/dl01-1.jpg)"
   ]
  },
  {
   "cell_type": "markdown",
   "metadata": {},
   "source": [
    "예측 Hypothesis (H) : 주어진 x 값에 대한 가중치(W)의 곱과 bias의 합"
   ]
  },
  {
   "cell_type": "markdown",
   "metadata": {
    "collapsed": true
   },
   "source": [
    "![img](./images/dl01-2.jpg)"
   ]
  },
  {
   "cell_type": "markdown",
   "metadata": {
    "collapsed": true
   },
   "source": [
    "cost function : 예측값과 실제값 사이의 오차 함수. 학습을 통해 W와 b를 조정하여 cost function의 값이 최소가 되도록 한다."
   ]
  },
  {
   "cell_type": "markdown",
   "metadata": {},
   "source": [
    "#### Hypothesis"
   ]
  },
  {
   "cell_type": "code",
   "execution_count": 4,
   "metadata": {
    "collapsed": true
   },
   "outputs": [],
   "source": [
    "# data\n",
    "x_train = [1, 2, 3]\n",
    "y_train = [1, 2, 3]\n",
    "\n",
    "# 변수. 임의의 값 설정.\n",
    "W = tf.Variable(tf.random_normal([1]), name='weight')\n",
    "b = tf.Variable(tf.random_normal([1]), name='bias')\n",
    "\n",
    "hypothesis = x_train * W + b             # 실제값 : W = 1, b = 0"
   ]
  },
  {
   "cell_type": "markdown",
   "metadata": {},
   "source": [
    "#### cost function"
   ]
  },
  {
   "cell_type": "code",
   "execution_count": 5,
   "metadata": {
    "collapsed": true
   },
   "outputs": [],
   "source": [
    "cost = tf.reduce_mean(tf.square(hypothesis - y_train))    # 평균"
   ]
  },
  {
   "cell_type": "markdown",
   "metadata": {},
   "source": [
    "#### optimizer - minimize cost"
   ]
  },
  {
   "cell_type": "code",
   "execution_count": 6,
   "metadata": {
    "collapsed": true
   },
   "outputs": [],
   "source": [
    "optimizer = tf.train.GradientDescentOptimizer(learning_rate=0.01)\n",
    "train = optimizer.minimize(cost)"
   ]
  },
  {
   "cell_type": "markdown",
   "metadata": {
    "collapsed": true
   },
   "source": [
    "#### run graph"
   ]
  },
  {
   "cell_type": "code",
   "execution_count": 7,
   "metadata": {
    "collapsed": true
   },
   "outputs": [],
   "source": [
    "sess = tf.Session()\n",
    "sess.run(tf.global_variables_initializer())   # 변수 초기화 !!!"
   ]
  },
  {
   "cell_type": "code",
   "execution_count": 8,
   "metadata": {
    "collapsed": false
   },
   "outputs": [
    {
     "name": "stdout",
     "output_type": "stream",
     "text": [
      "0 6.28194 [ 1.63046098] [ 1.19202673]\n",
      "200 0.0321736 [ 0.79167271] [ 0.47357684]\n",
      "400 0.0122855 [ 0.87126642] [ 0.29264179]\n",
      "600 0.00469118 [ 0.92045051] [ 0.18083476]\n",
      "800 0.00179133 [ 0.95084321] [ 0.11174489]\n",
      "1000 0.000684017 [ 0.96962404] [ 0.06905165]\n",
      "1200 0.00026119 [ 0.9812296] [ 0.04266965]\n",
      "1400 9.97355e-05 [ 0.988401] [ 0.02636725]\n",
      "1600 3.80839e-05 [ 0.99283254] [ 0.01629329]\n",
      "1800 1.45421e-05 [ 0.99557096] [ 0.01006831]\n",
      "2000 5.55311e-06 [ 0.99726313] [ 0.00622157]\n"
     ]
    }
   ],
   "source": [
    "# Fit\n",
    "for step in range(2001):\n",
    "    sess.run(train)\n",
    "    if step % 200 == 0:\n",
    "        print(step, sess.run(cost), sess.run(W), sess.run(b))"
   ]
  },
  {
   "cell_type": "code",
   "execution_count": 9,
   "metadata": {
    "collapsed": true
   },
   "outputs": [],
   "source": [
    "# W = 1, b = 0 에 가까워졌다."
   ]
  },
  {
   "cell_type": "markdown",
   "metadata": {},
   "source": [
    "## Linear Regression - Placeholder & Feed"
   ]
  },
  {
   "cell_type": "code",
   "execution_count": 10,
   "metadata": {
    "collapsed": true
   },
   "outputs": [],
   "source": [
    "X = tf.placeholder(tf.float32, shape=[None])\n",
    "Y = tf.placeholder(tf.float32, shape=[None])"
   ]
  },
  {
   "cell_type": "code",
   "execution_count": 11,
   "metadata": {
    "collapsed": true
   },
   "outputs": [],
   "source": [
    "W = tf.Variable(tf.random_normal([1]), name='weight')\n",
    "b = tf.Variable(tf.random_normal([1]), name='bias')\n",
    "\n",
    "hypothesis = X * W + b"
   ]
  },
  {
   "cell_type": "code",
   "execution_count": 12,
   "metadata": {
    "collapsed": true
   },
   "outputs": [],
   "source": [
    "cost = tf.reduce_mean(tf.square(hypothesis - Y))\n",
    "optimizer = tf.train.GradientDescentOptimizer(learning_rate=0.01)\n",
    "train = optimizer.minimize(cost)"
   ]
  },
  {
   "cell_type": "code",
   "execution_count": 13,
   "metadata": {
    "collapsed": true
   },
   "outputs": [],
   "source": [
    "sess = tf.Session()\n",
    "sess.run(tf.global_variables_initializer())"
   ]
  },
  {
   "cell_type": "code",
   "execution_count": 14,
   "metadata": {
    "collapsed": false
   },
   "outputs": [
    {
     "name": "stdout",
     "output_type": "stream",
     "text": [
      "0 0.952772 [ 0.77082062] [-0.39007139]\n",
      "200 0.00323303 [ 1.0658803] [-0.14976136]\n",
      "400 0.00123454 [ 1.04071021] [-0.09254375]\n",
      "600 0.000471408 [ 1.0251565] [-0.05718652]\n",
      "800 0.000180003 [ 1.01554501] [-0.03533759]\n",
      "1000 6.87344e-05 [ 1.00960588] [-0.02183652]\n",
      "1200 2.62465e-05 [ 1.00593591] [-0.0134937]\n",
      "1400 1.00227e-05 [ 1.00366807] [-0.00833846]\n",
      "1600 3.82775e-06 [ 1.00226688] [-0.005153]\n",
      "1800 1.46214e-06 [ 1.00140107] [-0.00318478]\n",
      "2000 5.5866e-07 [ 1.00086606] [-0.00196877]\n"
     ]
    }
   ],
   "source": [
    "# Fit\n",
    "for step in range(2001):\n",
    "    cost_val, W_val, b_val, _ = sess.run([cost, W, b, train], feed_dict={X: [1, 2, 3], Y: [1, 2, 3]})\n",
    "    if step % 200 == 0:\n",
    "        print(step, cost_val, W_val, b_val)"
   ]
  },
  {
   "cell_type": "code",
   "execution_count": 15,
   "metadata": {
    "collapsed": false
   },
   "outputs": [
    {
     "name": "stdout",
     "output_type": "stream",
     "text": [
      "[ 1.4993304   3.50106239]\n"
     ]
    }
   ],
   "source": [
    "# Test model\n",
    "print(sess.run(hypothesis, feed_dict={X: [1.5, 3.5]}))"
   ]
  },
  {
   "cell_type": "code",
   "execution_count": 16,
   "metadata": {
    "collapsed": true
   },
   "outputs": [],
   "source": [
    "# 새로운 training data로 Fit"
   ]
  },
  {
   "cell_type": "code",
   "execution_count": 17,
   "metadata": {
    "collapsed": false
   },
   "outputs": [
    {
     "name": "stdout",
     "output_type": "stream",
     "text": [
      "0 1.20862 [ 1.06679368] [ 0.02001864]\n",
      "200 0.049216 [ 1.14354241] [ 0.58176589]\n",
      "400 0.0126992 [ 1.07291496] [ 0.8367539]\n",
      "600 0.00327678 [ 1.03703833] [ 0.9662798]\n",
      "800 0.000845496 [ 1.01881397] [ 1.03207529]\n",
      "1000 0.000218165 [ 1.00955689] [ 1.06549597]\n",
      "1200 5.62957e-05 [ 1.00485468] [ 1.08247304]\n",
      "1400 1.45265e-05 [ 1.00246608] [ 1.09109652]\n",
      "1600 3.74845e-06 [ 1.00125265] [ 1.0954771]\n",
      "1800 9.678e-07 [ 1.0006367] [ 1.09770191]\n",
      "2000 2.50054e-07 [ 1.00032365] [ 1.09883177]\n"
     ]
    }
   ],
   "source": [
    "for step in range(2001):\n",
    "    cost_val, W_val, b_val, _ = sess.run([cost, W, b, train], \n",
    "                                         feed_dict={X: [1,   2,   3,   4,   5],\n",
    "                                                    Y: [2.1, 3.1, 4.1, 5.1, 6.1]})   # y = 1 * x + 1.1\n",
    "    if step % 200 == 0:\n",
    "        print(step, cost_val, W_val, b_val)"
   ]
  },
  {
   "cell_type": "code",
   "execution_count": 18,
   "metadata": {
    "collapsed": false
   },
   "outputs": [
    {
     "name": "stdout",
     "output_type": "stream",
     "text": [
      "[ 2.59931707  4.59996462]\n"
     ]
    }
   ],
   "source": [
    "# Test model\n",
    "print(sess.run(hypothesis, feed_dict={X: [1.5, 3.5]}))"
   ]
  }
 ],
 "metadata": {
  "anaconda-cloud": {},
  "kernelspec": {
   "display_name": "Python [conda root]",
   "language": "python",
   "name": "conda-root-py"
  },
  "language_info": {
   "codemirror_mode": {
    "name": "ipython",
    "version": 3
   },
   "file_extension": ".py",
   "mimetype": "text/x-python",
   "name": "python",
   "nbconvert_exporter": "python",
   "pygments_lexer": "ipython3",
   "version": "3.5.2"
  }
 },
 "nbformat": 4,
 "nbformat_minor": 1
}
