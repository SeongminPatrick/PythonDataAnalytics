{
 "cells": [
  {
   "cell_type": "markdown",
   "metadata": {},
   "source": [
    "# Multi-variable Linear Regress"
   ]
  },
  {
   "cell_type": "markdown",
   "metadata": {},
   "source": [
    "### Hypothesis with Matrix"
   ]
  },
  {
   "cell_type": "markdown",
   "metadata": {},
   "source": [
    "![img](./images/dl03-1.jpg)"
   ]
  },
  {
   "cell_type": "markdown",
   "metadata": {},
   "source": [
    "### 3과목의 점수로 최종 점수 예측"
   ]
  },
  {
   "cell_type": "code",
   "execution_count": 1,
   "metadata": {
    "collapsed": true
   },
   "outputs": [],
   "source": [
    "import tensorflow as tf\n",
    "import numpy as np"
   ]
  },
  {
   "cell_type": "code",
   "execution_count": 2,
   "metadata": {
    "collapsed": false
   },
   "outputs": [
    {
     "data": {
      "text/plain": [
       "(25, 4)"
      ]
     },
     "execution_count": 2,
     "metadata": {},
     "output_type": "execute_result"
    }
   ],
   "source": [
    "# import data from file\n",
    "data = np.loadtxt('data/test-score.csv', delimiter=',', dtype=np.float32)\n",
    "data.shape"
   ]
  },
  {
   "cell_type": "code",
   "execution_count": 3,
   "metadata": {
    "collapsed": false
   },
   "outputs": [],
   "source": [
    "# 3 features\n",
    "x_data = data[:, 0:-1]   # 1 ~ 3 번째 컬럼\n",
    "y_data = data[:, [-1]]   # 마지막 컬럼"
   ]
  },
  {
   "cell_type": "code",
   "execution_count": 4,
   "metadata": {
    "collapsed": true
   },
   "outputs": [],
   "source": [
    "# shape 설정\n",
    "X = tf.placeholder(tf.float32, shape=[None, 3])   # input feature 수  :  [n, 3] * [3,1] = [n, 1]\n",
    "Y = tf.placeholder(tf.float32, shape=[None, 1])   # output feature 수\n",
    "\n",
    "# variable 의 수 = 3\n",
    "W = tf.Variable(tf.random_normal([3, 1]), name='weight')\n",
    "b = tf.Variable(tf.random_normal([1]), name='bias')\n",
    "\n",
    "# 행렬 곱\n",
    "hypothesis = tf.matmul(X, W) + b"
   ]
  },
  {
   "cell_type": "code",
   "execution_count": 5,
   "metadata": {
    "collapsed": true
   },
   "outputs": [],
   "source": [
    "# modeling\n",
    "cost = tf.reduce_mean(tf.square(hypothesis - Y))\n",
    "\n",
    "optimizer = tf.train.GradientDescentOptimizer(learning_rate=1e-5)\n",
    "\n",
    "train = optimizer.minimize(cost)"
   ]
  },
  {
   "cell_type": "code",
   "execution_count": 6,
   "metadata": {
    "collapsed": true
   },
   "outputs": [],
   "source": [
    "# run graph\n",
    "sess = tf.Session()\n",
    "sess.run(tf.global_variables_initializer())"
   ]
  },
  {
   "cell_type": "code",
   "execution_count": 7,
   "metadata": {
    "collapsed": true
   },
   "outputs": [],
   "source": [
    "# 학습"
   ]
  },
  {
   "cell_type": "code",
   "execution_count": 8,
   "metadata": {
    "collapsed": false
   },
   "outputs": [
    {
     "name": "stdout",
     "output_type": "stream",
     "text": [
      "0 Cost:  166097.0\n",
      "1000 Cost:  15.8229\n",
      "2000 Cost:  11.9062\n",
      "3000 Cost:  9.59181\n",
      "4000 Cost:  8.21307\n",
      "5000 Cost:  7.38697\n",
      "6000 Cost:  6.88998\n",
      "7000 Cost:  6.59009\n",
      "Prediction:\n",
      " [[ 152.36933899]\n",
      " [ 185.24554443]\n",
      " [ 181.32817078]\n",
      " [ 198.60925293]\n",
      " [ 140.90942383]\n",
      " [ 105.94801331]\n",
      " [ 149.80859375]\n",
      " [ 112.57711029]\n",
      " [ 175.03233337]\n",
      " [ 164.85656738]\n",
      " [ 143.80343628]\n",
      " [ 143.18138123]\n",
      " [ 186.19641113]\n",
      " [ 153.31900024]\n",
      " [ 150.94363403]\n",
      " [ 188.87088013]\n",
      " [ 145.30027771]\n",
      " [ 179.97668457]\n",
      " [ 177.00708008]\n",
      " [ 158.37261963]\n",
      " [ 175.54580688]\n",
      " [ 174.77584839]\n",
      " [ 166.86877441]\n",
      " [ 150.97592163]\n",
      " [ 191.10281372]]\n"
     ]
    }
   ],
   "source": [
    "for step in range(7001):\n",
    "    cost_val, hy_val, _ = sess.run([cost, hypothesis, train], feed_dict={X: x_data, Y: y_data})\n",
    "    if step % 1000 == 0:\n",
    "        print(step, \"Cost: \", cost_val)\n",
    "    if step == 7000:\n",
    "        print(\"Prediction:\\n\", hy_val)"
   ]
  },
  {
   "cell_type": "code",
   "execution_count": 9,
   "metadata": {
    "collapsed": false
   },
   "outputs": [
    {
     "data": {
      "text/plain": [
       "array([[ 188.35801697],\n",
       "       [ 175.17378235]], dtype=float32)"
      ]
     },
     "execution_count": 9,
     "metadata": {},
     "output_type": "execute_result"
    }
   ],
   "source": [
    "# 나와 친구의 최종 점수 예측\n",
    "sess.run(hypothesis, feed_dict={X: [[100, 70, 100], [90, 100, 80]]})"
   ]
  },
  {
   "cell_type": "markdown",
   "metadata": {},
   "source": [
    "## 호텔체인 신규 지점의 마진 예측"
   ]
  },
  {
   "cell_type": "code",
   "execution_count": 10,
   "metadata": {
    "collapsed": false
   },
   "outputs": [
    {
     "data": {
      "text/plain": [
       "(100, 7)"
      ]
     },
     "execution_count": 10,
     "metadata": {},
     "output_type": "execute_result"
    }
   ],
   "source": [
    "# import data\n",
    "data = np.loadtxt('data/laquinta.csv', delimiter=',', dtype=np.float32)\n",
    "data.shape"
   ]
  },
  {
   "cell_type": "markdown",
   "metadata": {},
   "source": [
    "features\n",
    "* Number : 3 마일 내에 있는 모텔 또는 호텔의 객실 수 (1000개)\n",
    "* Nearest : 가장 가까운 모텔 또는 호텔과의 거리 (마일)\n",
    "* OfficeSpace : 주변 지역에 있는 사무실의 규모 (1000 평방 피트)\n",
    "* Enrollment : 근처 대학의 학생수 (1000 명)\n",
    "* Income : 주변 지역의 중위 소득 ($1000)\n",
    "* Distance : 시내 중심까지의 거리"
   ]
  },
  {
   "cell_type": "code",
   "execution_count": 11,
   "metadata": {
    "collapsed": false
   },
   "outputs": [
    {
     "data": {
      "text/plain": [
       "(100, 6)"
      ]
     },
     "execution_count": 11,
     "metadata": {},
     "output_type": "execute_result"
    }
   ],
   "source": [
    "x_data = data[:, 0:-1]\n",
    "y_data = data[:, [-1]]\n",
    "\n",
    "x_data.shape"
   ]
  },
  {
   "cell_type": "code",
   "execution_count": 12,
   "metadata": {
    "collapsed": false
   },
   "outputs": [],
   "source": [
    "x_data[:,0] = x_data[:,0] / 1000\n",
    "x_data[:,2] = x_data[:,2] / 100"
   ]
  },
  {
   "cell_type": "code",
   "execution_count": 13,
   "metadata": {
    "collapsed": false
   },
   "outputs": [
    {
     "data": {
      "text/plain": [
       "array([  3.20300007,   4.19999981,   5.48999977,   8.        ,\n",
       "        37.        ,   2.70000005], dtype=float32)"
      ]
     },
     "execution_count": 13,
     "metadata": {},
     "output_type": "execute_result"
    }
   ],
   "source": [
    "x_data[0,:]"
   ]
  },
  {
   "cell_type": "code",
   "execution_count": 14,
   "metadata": {
    "collapsed": true
   },
   "outputs": [],
   "source": [
    "X = tf.placeholder(tf.float32, shape=[None, 6])\n",
    "Y = tf.placeholder(tf.float32, shape=[None, 1])\n",
    "\n",
    "W = tf.Variable(tf.random_normal([6, 1]), name='weight')\n",
    "b = tf.Variable(tf.random_normal([1]), name='bias')\n",
    "\n",
    "hypothesis = tf.matmul(X, W) + b"
   ]
  },
  {
   "cell_type": "code",
   "execution_count": 15,
   "metadata": {
    "collapsed": true
   },
   "outputs": [],
   "source": [
    "cost = tf.reduce_mean(tf.square(hypothesis - Y))\n",
    "optimizer = tf.train.GradientDescentOptimizer(learning_rate=1e-5)\n",
    "train = optimizer.minimize(cost)\n",
    "\n",
    "sess = tf.Session()\n",
    "sess.run(tf.global_variables_initializer())"
   ]
  },
  {
   "cell_type": "code",
   "execution_count": 16,
   "metadata": {
    "collapsed": false
   },
   "outputs": [
    {
     "name": "stdout",
     "output_type": "stream",
     "text": [
      "0 Cost:  353.289\n",
      "3000 Cost:  64.4129\n",
      "6000 Cost:  56.8195\n",
      "9000 Cost:  52.2762\n",
      "12000 Cost:  49.138\n",
      "15000 Cost:  46.8647\n",
      "18000 Cost:  45.1828\n",
      "21000 Cost:  43.9219\n",
      "24000 Cost:  42.9658\n",
      "27000 Cost:  42.2325\n",
      "30000 Cost:  41.663\n",
      "Prediction:\n",
      " [[ 44.76677704]\n",
      " [ 44.83603287]\n",
      " [ 42.98330688]\n",
      " [ 45.31852341]\n",
      " [ 52.92823029]\n",
      " [ 45.70767212]\n",
      " [ 44.85763168]\n",
      " [ 47.08715439]\n",
      " [ 48.97818756]\n",
      " [ 54.33695221]\n",
      " [ 46.06202698]\n",
      " [ 33.66534805]\n",
      " [ 40.40279388]\n",
      " [ 52.52919006]\n",
      " [ 36.8804512 ]\n",
      " [ 42.9991684 ]\n",
      " [ 48.62209702]\n",
      " [ 39.7893219 ]\n",
      " [ 46.79165649]\n",
      " [ 46.04627991]\n",
      " [ 40.36611557]\n",
      " [ 43.29184723]\n",
      " [ 48.91107178]\n",
      " [ 55.18282318]\n",
      " [ 50.87582397]\n",
      " [ 44.81761169]\n",
      " [ 47.78472519]\n",
      " [ 43.96390533]\n",
      " [ 34.89593124]\n",
      " [ 48.3162117 ]]\n"
     ]
    }
   ],
   "source": [
    "for step in range(30001):\n",
    "    cost_val, hy_val, _ = sess.run([cost, hypothesis, train], feed_dict={X: x_data, Y: y_data})\n",
    "    if step % 3000 == 0:\n",
    "        print(step, \"Cost: \", cost_val)\n",
    "    if step == 30000:\n",
    "        print(\"Prediction:\\n\", hy_val[:30])"
   ]
  },
  {
   "cell_type": "code",
   "execution_count": 17,
   "metadata": {
    "collapsed": true
   },
   "outputs": [],
   "source": [
    "# 신규 지점의 마진 예측\n",
    "# 경쟁사 객실수 : 3815, 가까운 경쟁사 거리 : 0.9, 주변 사무실 : 4.76, 주변 대학생 수 : 24500, 중위 소득 : 35,000, 시내까지 거리 : 11.2"
   ]
  },
  {
   "cell_type": "code",
   "execution_count": 18,
   "metadata": {
    "collapsed": false
   },
   "outputs": [
    {
     "data": {
      "text/plain": [
       "array([[ 45.95544815]], dtype=float32)"
      ]
     },
     "execution_count": 18,
     "metadata": {},
     "output_type": "execute_result"
    }
   ],
   "source": [
    "sess.run(hypothesis, feed_dict={X: [[3.815, 0.9, 4.76, 24.5, 35.0, 11.2]]})"
   ]
  },
  {
   "cell_type": "markdown",
   "metadata": {},
   "source": [
    "## 데이터 파일 여러 개를 Queue로 불러오기"
   ]
  },
  {
   "cell_type": "code",
   "execution_count": 19,
   "metadata": {
    "collapsed": true
   },
   "outputs": [],
   "source": [
    "# filename queue"
   ]
  },
  {
   "cell_type": "code",
   "execution_count": 20,
   "metadata": {
    "collapsed": true
   },
   "outputs": [],
   "source": [
    "files = ['data/test-score.csv', 'data/test-score02.csv']\n",
    "filename_queue = tf.train.string_input_producer(files, shuffle=False, name='filename_queue')"
   ]
  },
  {
   "cell_type": "code",
   "execution_count": 21,
   "metadata": {
    "collapsed": true
   },
   "outputs": [],
   "source": [
    "# reader"
   ]
  },
  {
   "cell_type": "code",
   "execution_count": 22,
   "metadata": {
    "collapsed": true
   },
   "outputs": [],
   "source": [
    "reader = tf.TextLineReader()\n",
    "key, value = reader.read(filename_queue)"
   ]
  },
  {
   "cell_type": "code",
   "execution_count": 23,
   "metadata": {
    "collapsed": true
   },
   "outputs": [],
   "source": [
    "# Default values"
   ]
  },
  {
   "cell_type": "code",
   "execution_count": 24,
   "metadata": {
    "collapsed": true
   },
   "outputs": [],
   "source": [
    "record_defaults = [[0.], [0.], [0.], [0.]]                    # 3 개의 컬럼 + y\n",
    "data = tf.decode_csv(value, record_defaults=record_defaults)"
   ]
  },
  {
   "cell_type": "code",
   "execution_count": 25,
   "metadata": {
    "collapsed": true
   },
   "outputs": [],
   "source": [
    "# collect batches of csv"
   ]
  },
  {
   "cell_type": "code",
   "execution_count": 26,
   "metadata": {
    "collapsed": true
   },
   "outputs": [],
   "source": [
    "train_x_batch, train_y_batch = tf.train.batch([data[0:-1], data[-1:]], batch_size=20)"
   ]
  },
  {
   "cell_type": "code",
   "execution_count": 27,
   "metadata": {
    "collapsed": true
   },
   "outputs": [],
   "source": [
    "X = tf.placeholder(tf.float32, shape=[None, 3])\n",
    "Y = tf.placeholder(tf.float32, shape=[None, 1])\n",
    "\n",
    "W = tf.Variable(tf.random_normal([3, 1]), name='weight')\n",
    "b = tf.Variable(tf.random_normal([1]), name='bias')\n",
    "\n",
    "hypothesis = tf.matmul(X, W) + b"
   ]
  },
  {
   "cell_type": "code",
   "execution_count": 28,
   "metadata": {
    "collapsed": true
   },
   "outputs": [],
   "source": [
    "cost = tf.reduce_mean(tf.square(hypothesis - Y))\n",
    "\n",
    "optimizer = tf.train.GradientDescentOptimizer(learning_rate=1e-5)\n",
    "train = optimizer.minimize(cost)\n",
    "\n",
    "sess = tf.Session()\n",
    "sess.run(tf.global_variables_initializer())"
   ]
  },
  {
   "cell_type": "code",
   "execution_count": 29,
   "metadata": {
    "collapsed": true
   },
   "outputs": [],
   "source": [
    "# Start populating the filename queue."
   ]
  },
  {
   "cell_type": "code",
   "execution_count": 30,
   "metadata": {
    "collapsed": true
   },
   "outputs": [],
   "source": [
    "coord = tf.train.Coordinator()\n",
    "threads = tf.train.start_queue_runners(sess=sess, coord=coord)"
   ]
  },
  {
   "cell_type": "code",
   "execution_count": 31,
   "metadata": {
    "collapsed": true
   },
   "outputs": [],
   "source": [
    "# 학습"
   ]
  },
  {
   "cell_type": "code",
   "execution_count": 32,
   "metadata": {
    "collapsed": false
   },
   "outputs": [
    {
     "name": "stdout",
     "output_type": "stream",
     "text": [
      "0 Cost:  20920.5\n",
      "1000 Cost:  30.1588\n",
      "2000 Cost:  19.7607\n",
      "3000 Cost:  14.552\n",
      "4000 Cost:  11.8061\n",
      "5000 Cost:  10.2829\n",
      "Prediction:\n",
      " [[ 151.59170532]\n",
      " [ 186.13923645]\n",
      " [ 181.2706604 ]\n",
      " [ 197.42167664]\n",
      " [ 143.16911316]\n",
      " [ 106.47771454]\n",
      " [ 147.0309906 ]\n",
      " [ 107.73338318]\n",
      " [ 175.11833191]\n",
      " [ 162.87550354]\n",
      " [ 142.83317566]\n",
      " [ 142.72502136]\n",
      " [ 187.21566772]\n",
      " [ 155.9540863 ]\n",
      " [ 148.33409119]\n",
      " [ 188.58197021]\n",
      " [ 149.74754333]\n",
      " [ 175.33354187]\n",
      " [ 177.87763977]\n",
      " [ 158.83981323]]\n"
     ]
    }
   ],
   "source": [
    "for step in range(5001):\n",
    "    x_batch, y_batch = sess.run([train_x_batch, train_y_batch])\n",
    "    cost_val, hy_val, _ = sess.run([cost, hypothesis, train], feed_dict={X: x_batch, Y: y_batch})\n",
    "    if step % 1000 == 0:\n",
    "        print(step, \"Cost: \", cost_val)\n",
    "    if step == 5000:\n",
    "        print(\"Prediction:\\n\", hy_val)"
   ]
  },
  {
   "cell_type": "code",
   "execution_count": 33,
   "metadata": {
    "collapsed": true
   },
   "outputs": [],
   "source": [
    "coord.request_stop()\n",
    "coord.join(threads)"
   ]
  },
  {
   "cell_type": "code",
   "execution_count": 34,
   "metadata": {
    "collapsed": false
   },
   "outputs": [
    {
     "data": {
      "text/plain": [
       "array([[ 191.31782532],\n",
       "       [ 178.37687683]], dtype=float32)"
      ]
     },
     "execution_count": 34,
     "metadata": {},
     "output_type": "execute_result"
    }
   ],
   "source": [
    "# 나와 친구의 최종 점수 예측\n",
    "sess.run(hypothesis, feed_dict={X: [[100, 70, 100], [90, 100, 80]]})"
   ]
  }
 ],
 "metadata": {
  "anaconda-cloud": {},
  "kernelspec": {
   "display_name": "Python [conda root]",
   "language": "python",
   "name": "conda-root-py"
  },
  "language_info": {
   "codemirror_mode": {
    "name": "ipython",
    "version": 3
   },
   "file_extension": ".py",
   "mimetype": "text/x-python",
   "name": "python",
   "nbconvert_exporter": "python",
   "pygments_lexer": "ipython3",
   "version": "3.5.2"
  }
 },
 "nbformat": 4,
 "nbformat_minor": 1
}
