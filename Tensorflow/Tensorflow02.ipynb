{
 "cells": [
  {
   "cell_type": "markdown",
   "metadata": {
    "deletable": true,
    "editable": true
   },
   "source": [
    "# Tensorflow - name scope"
   ]
  },
  {
   "cell_type": "markdown",
   "metadata": {
    "deletable": true,
    "editable": true
   },
   "source": [
    "복잡한 그래프를 다루기 위해 텐서플로는 name scope를 통해 여러 오퍼레이션을 block 단위로 묶을 수 있다. 이를 통해 그래프 시각화를 단순화할 수 있다. "
   ]
  },
  {
   "cell_type": "markdown",
   "metadata": {
    "deletable": true,
    "editable": true
   },
   "source": [
    "### name scope 예제 1"
   ]
  },
  {
   "cell_type": "code",
   "execution_count": 1,
   "metadata": {
    "collapsed": true,
    "deletable": true,
    "editable": true
   },
   "outputs": [],
   "source": [
    "import tensorflow as tf"
   ]
  },
  {
   "cell_type": "code",
   "execution_count": 2,
   "metadata": {
    "collapsed": true,
    "deletable": true,
    "editable": true
   },
   "outputs": [],
   "source": [
    "with tf.name_scope(\"scope_1\"):\n",
    "    a = tf.add(1, 2)\n",
    "    b = tf.multiply(a, 3)"
   ]
  },
  {
   "cell_type": "code",
   "execution_count": 3,
   "metadata": {
    "collapsed": true,
    "deletable": true,
    "editable": true
   },
   "outputs": [],
   "source": [
    "with tf.name_scope(\"scope_2\"):\n",
    "    x = tf.add(7, 8)\n",
    "    y = tf.multiply(x, 9)"
   ]
  },
  {
   "cell_type": "code",
   "execution_count": 4,
   "metadata": {
    "collapsed": true,
    "deletable": true,
    "editable": true
   },
   "outputs": [],
   "source": [
    "o = tf.add(b, y, name=\"output\")"
   ]
  },
  {
   "cell_type": "code",
   "execution_count": 9,
   "metadata": {
    "collapsed": true,
    "deletable": true,
    "editable": true
   },
   "outputs": [],
   "source": [
    "sess = tf.Session()"
   ]
  },
  {
   "cell_type": "code",
   "execution_count": 5,
   "metadata": {
    "collapsed": true,
    "deletable": true,
    "editable": true
   },
   "outputs": [],
   "source": [
    "# tensorboard 시각화"
   ]
  },
  {
   "cell_type": "code",
   "execution_count": 11,
   "metadata": {
    "collapsed": false,
    "deletable": true,
    "editable": true
   },
   "outputs": [],
   "source": [
    "writer = tf.summary.FileWriter('c:\\Github\\output01', graph=sess.graph)\n",
    "writer.close()"
   ]
  },
  {
   "cell_type": "markdown",
   "metadata": {
    "deletable": true,
    "editable": true
   },
   "source": [
    "(터미널) tensorboard --logdir=”c:\\Github\\output01”"
   ]
  },
  {
   "cell_type": "markdown",
   "metadata": {
    "deletable": true,
    "editable": true
   },
   "source": [
    "(브라우저) http://localhost:6006"
   ]
  },
  {
   "cell_type": "markdown",
   "metadata": {
    "deletable": true,
    "editable": true
   },
   "source": [
    "![tb01](./images/tboard01.jpg)"
   ]
  },
  {
   "cell_type": "code",
   "execution_count": 28,
   "metadata": {
    "collapsed": true,
    "deletable": true,
    "editable": true
   },
   "outputs": [],
   "source": [
    "sess.close()"
   ]
  },
  {
   "cell_type": "markdown",
   "metadata": {
    "deletable": true,
    "editable": true
   },
   "source": [
    "### name scope 예제 2 - 중첩"
   ]
  },
  {
   "cell_type": "code",
   "execution_count": 19,
   "metadata": {
    "collapsed": true,
    "deletable": true,
    "editable": true
   },
   "outputs": [],
   "source": [
    "graph = tf.get_default_graph()   # 명시적으로 그래프 객체 생성"
   ]
  },
  {
   "cell_type": "code",
   "execution_count": 20,
   "metadata": {
    "collapsed": false,
    "deletable": true,
    "editable": true
   },
   "outputs": [],
   "source": [
    "with graph.as_default():\n",
    "    input1 = tf.placeholder(tf.float32, shape=[], name=\"input_1\")\n",
    "    input2 = tf.placeholder(tf.float32, shape=[], name=\"input_2\")\n",
    "    const = tf.constant(9, dtype=tf.float32, name=\"static_value\")\n",
    "    \n",
    "    with tf.name_scope(\"Kingdom\"):\n",
    "        \n",
    "        with tf.name_scope(\"targaryen\"):\n",
    "            t_mul = tf.multiply(input1, const)\n",
    "            t_out = tf.subtract(t_mul, input1)\n",
    "            \n",
    "        with tf.name_scope(\"stark\"):\n",
    "            s_mul = tf.multiply(input2, const)\n",
    "            s_out = tf.subtract(s_mul, input2)\n",
    "            \n",
    "    \n",
    "        with tf.name_scope(\"dragon\"):\n",
    "            d_div = tf.div(t_out, s_out)\n",
    "            d_out = tf.add(d_div, const)\n",
    "            \n",
    "        with tf.name_scope(\"wolf\"):\n",
    "            w_div = tf.div(s_out, t_out)\n",
    "            w_out = tf.add(w_div, const)\n",
    "            \n",
    "    out = tf.maximum(d_out, w_out)"
   ]
  },
  {
   "cell_type": "code",
   "execution_count": 21,
   "metadata": {
    "collapsed": true,
    "deletable": true,
    "editable": true
   },
   "outputs": [],
   "source": [
    "sess = tf.Session()"
   ]
  },
  {
   "cell_type": "code",
   "execution_count": 23,
   "metadata": {
    "collapsed": false,
    "deletable": true,
    "editable": true
   },
   "outputs": [],
   "source": [
    "writer = tf.summary.FileWriter('c:\\Github\\output02', graph)\n",
    "writer.close()"
   ]
  },
  {
   "cell_type": "markdown",
   "metadata": {
    "deletable": true,
    "editable": true
   },
   "source": [
    "![img](./images/tboard02_1.jpg)"
   ]
  },
  {
   "cell_type": "markdown",
   "metadata": {
    "deletable": true,
    "editable": true
   },
   "source": [
    "![img](./images/tboard02_2.jpg)"
   ]
  },
  {
   "cell_type": "code",
   "execution_count": 27,
   "metadata": {
    "collapsed": true,
    "deletable": true,
    "editable": true
   },
   "outputs": [],
   "source": [
    "sess.close()"
   ]
  },
  {
   "cell_type": "markdown",
   "metadata": {
    "deletable": true,
    "editable": true
   },
   "source": [
    "## name scope 예제 3"
   ]
  },
  {
   "cell_type": "code",
   "execution_count": 1,
   "metadata": {
    "collapsed": true,
    "deletable": true,
    "editable": true
   },
   "outputs": [],
   "source": [
    "import tensorflow as tf"
   ]
  },
  {
   "cell_type": "code",
   "execution_count": 2,
   "metadata": {
    "collapsed": true,
    "deletable": true,
    "editable": true
   },
   "outputs": [],
   "source": [
    "graph = tf.get_default_graph()"
   ]
  },
  {
   "cell_type": "code",
   "execution_count": 3,
   "metadata": {
    "collapsed": false,
    "deletable": true,
    "editable": true
   },
   "outputs": [],
   "source": [
    "with graph.as_default():\n",
    "    \n",
    "    with tf.name_scope(\"variables\"):\n",
    "        global_step = tf.Variable(0, dtype=tf.int32, trainable=False)   # 그래프가 실행되는 횟수 추적\n",
    "        total_output = tf.Variable(0.0, dtype=tf.float32, trainable=False)  # 출력값의 합계를 추적\n",
    "        \n",
    "    # 입력, 연산, 출력\n",
    "    with tf.name_scope(\"transformation\"):\n",
    "        \n",
    "        with tf.name_scope(\"input\"):\n",
    "            a = tf.placeholder(tf.float32, shape=[None], name=\"input_placeholder\")\n",
    "            \n",
    "        with tf.name_scope(\"middle_layer\"):\n",
    "            m_prod = tf.reduce_prod(a, name=\"product_m\")\n",
    "            m_sum = tf.reduce_sum(a, name=\"sum_m\")\n",
    "            \n",
    "        with tf.name_scope(\"output\"):\n",
    "            output = tf.add(m_prod, m_sum, name=\"output\")\n",
    "            \n",
    "    # 전역변수 업데이트\n",
    "    with tf.name_scope(\"update\"):\n",
    "        update_total = total_output.assign_add(output)   # 최종 출력값을 누적\n",
    "        increment_step = global_step.assign_add(1)       # 그래프 수행 횟수 증가\n",
    "    \n",
    "    # tensorboard에서 보여주기 위해 summary\n",
    "    with tf.name_scope(\"summary\"):\n",
    "        avg = tf.div(update_total, tf.cast(increment_step, tf.float32), name=\"average\")\n",
    "        tf.summary.scalar('Output', output)\n",
    "        tf.summary.scalar('Sum_of_outputs', update_total)\n",
    "        tf.summary.scalar('Average_of_outputs', avg)\n",
    "        \n",
    "    with tf.name_scope(\"global_operations\"):\n",
    "        merged_summaries = tf.summary.merge_all()   # merge all summaries\n",
    "        init = tf.global_variables_initializer()    # initialization"
   ]
  },
  {
   "cell_type": "code",
   "execution_count": 4,
   "metadata": {
    "collapsed": false,
    "deletable": true,
    "editable": true
   },
   "outputs": [],
   "source": [
    "sess = tf.Session()\n",
    "sess.run(init)"
   ]
  },
  {
   "cell_type": "code",
   "execution_count": 5,
   "metadata": {
    "collapsed": false,
    "deletable": true,
    "editable": true
   },
   "outputs": [],
   "source": [
    "writer = tf.summary.FileWriter('c:\\Github\\output03', graph)"
   ]
  },
  {
   "cell_type": "code",
   "execution_count": 6,
   "metadata": {
    "collapsed": true,
    "deletable": true,
    "editable": true
   },
   "outputs": [],
   "source": [
    "# 그래프를 실행하기 위한 함수"
   ]
  },
  {
   "cell_type": "code",
   "execution_count": 7,
   "metadata": {
    "collapsed": false,
    "deletable": true,
    "editable": true
   },
   "outputs": [],
   "source": [
    "def run_graph(input_tensor):\n",
    "    feed_dict = {a: input_tensor}   # 변수 재설정. np.array(input_tensor, dtype=np.float32)\n",
    "    _, step, summary = sess.run([output, increment_step, merged_summaries], feed_dict=feed_dict)  # 세션 실행 후 결과값 저장\n",
    "    writer.add_summary(summary, global_step=step)  # 텐서보드가 그래프 그리도록 값을 추가"
   ]
  },
  {
   "cell_type": "code",
   "execution_count": 8,
   "metadata": {
    "collapsed": true,
    "deletable": true,
    "editable": true
   },
   "outputs": [],
   "source": [
    "# 실제 값으로 그래프 실행"
   ]
  },
  {
   "cell_type": "code",
   "execution_count": 9,
   "metadata": {
    "collapsed": false,
    "deletable": true,
    "editable": true
   },
   "outputs": [],
   "source": [
    "run_graph([2,8,5])\n",
    "run_graph([3,1,3,5])\n",
    "run_graph([8])\n",
    "run_graph([1,2,3])\n",
    "run_graph([7,9,3,7])\n",
    "run_graph([8,3,9])\n",
    "run_graph([6,6,3,3])\n",
    "run_graph([6,4,2,1])\n",
    "run_graph([2,9])\n",
    "run_graph([4,5,6])\n",
    "run_graph([10,33,63])\n",
    "run_graph([5,7,11])"
   ]
  },
  {
   "cell_type": "code",
   "execution_count": 10,
   "metadata": {
    "collapsed": true,
    "deletable": true,
    "editable": true
   },
   "outputs": [],
   "source": [
    "writer.flush()  # write the summaries to disk"
   ]
  },
  {
   "cell_type": "code",
   "execution_count": 11,
   "metadata": {
    "collapsed": false,
    "deletable": true,
    "editable": true
   },
   "outputs": [],
   "source": [
    "writer.close()\n",
    "sess.close()"
   ]
  },
  {
   "cell_type": "markdown",
   "metadata": {
    "deletable": true,
    "editable": true
   },
   "source": [
    "(터미널) tensorboard --logdir=”c:\\Github\\output03”"
   ]
  },
  {
   "cell_type": "markdown",
   "metadata": {
    "collapsed": true,
    "deletable": true,
    "editable": true
   },
   "source": [
    "![img](./images/tboard03_1.jpg)"
   ]
  },
  {
   "cell_type": "markdown",
   "metadata": {
    "collapsed": true,
    "deletable": true,
    "editable": true
   },
   "source": [
    "![img](./images/tboard03_2.jpg)"
   ]
  },
  {
   "cell_type": "markdown",
   "metadata": {},
   "source": [
    "### --- 엣지있게 설명한 텐서플로우 ---"
   ]
  }
 ],
 "metadata": {
  "anaconda-cloud": {},
  "kernelspec": {
   "display_name": "Python [default]",
   "language": "python",
   "name": "python3"
  },
  "language_info": {
   "codemirror_mode": {
    "name": "ipython",
    "version": 3
   },
   "file_extension": ".py",
   "mimetype": "text/x-python",
   "name": "python",
   "nbconvert_exporter": "python",
   "pygments_lexer": "ipython3",
   "version": "3.5.2"
  }
 },
 "nbformat": 4,
 "nbformat_minor": 2
}
