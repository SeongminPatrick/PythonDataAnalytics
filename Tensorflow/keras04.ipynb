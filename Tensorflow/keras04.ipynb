{
 "cells": [
  {
   "cell_type": "code",
   "execution_count": 14,
   "metadata": {
    "collapsed": false
   },
   "outputs": [],
   "source": [
    "import random\n",
    "\n",
    "from keras.layers import Activation, Dense, GRU, LSTM, RepeatVector\n",
    "from keras.layers.wrappers import TimeDistributed\n",
    "from keras.models import Sequential\n",
    "import numpy"
   ]
  },
  {
   "cell_type": "markdown",
   "metadata": {},
   "source": [
    "47+21 : 두자리수 + 두자리수 : 5자리\n",
    "68"
   ]
  },
  {
   "cell_type": "code",
   "execution_count": 2,
   "metadata": {
    "collapsed": true
   },
   "outputs": [],
   "source": [
    "DIGITS = 2\n",
    "MAX_LEN = 2 * DIGITS + 1\n",
    "NUM_CHAR = len('0123456789+')  # 각 글자의 위치. 11."
   ]
  },
  {
   "cell_type": "code",
   "execution_count": 3,
   "metadata": {
    "collapsed": true
   },
   "outputs": [],
   "source": [
    "N = 10000\n",
    "x = numpy.zeros((N, MAX_LEN, NUM_CHAR), dtype=numpy.bool)      # 5 * 11 matrix\n",
    "y = numpy.zeros((N, DIGITS + 1, NUM_CHAR), dtype=numpy.bool)   # 3 * 11 (100자리, 10자리, 1자리)"
   ]
  },
  {
   "cell_type": "code",
   "execution_count": 32,
   "metadata": {
    "collapsed": false
   },
   "outputs": [
    {
     "name": "stdout",
     "output_type": "stream",
     "text": [
      "41 82 123\n"
     ]
    }
   ],
   "source": [
    "for i in range(1):\n",
    "    a = random.randint(1, 99)\n",
    "    b = random.randint(1, 99)\n",
    "    \n",
    "    x[i, 0, a // 10] = True\n",
    "    x[i, 1, a % 10] = True\n",
    "    x[i, 2, 10] = True        # '+' 위치\n",
    "    x[i, 3, b // 10] = True\n",
    "    x[i, 4, b % 10] = True\n",
    "    \n",
    "    y[i, 0, (a + b) // 100] = True           # 100 자리\n",
    "    y[i, 1, (a + b) % 100 // 10] = True      # 10 자리\n",
    "    y[i, 2, (a + b) % 10] = True             # 1 자리\n",
    "    \n",
    "    print(a, b, a + b)"
   ]
  },
  {
   "cell_type": "code",
   "execution_count": 33,
   "metadata": {
    "collapsed": false
   },
   "outputs": [
    {
     "data": {
      "text/plain": [
       "array([[False, False,  True, False,  True, False, False,  True, False,\n",
       "        False, False],\n",
       "       [False,  True, False, False, False,  True, False,  True,  True,\n",
       "        False, False],\n",
       "       [False, False, False, False, False, False, False, False, False,\n",
       "        False,  True],\n",
       "       [False,  True, False, False,  True, False, False, False,  True,\n",
       "         True, False],\n",
       "       [False, False,  True, False, False,  True,  True,  True, False,\n",
       "         True, False]], dtype=bool)"
      ]
     },
     "execution_count": 33,
     "metadata": {},
     "output_type": "execute_result"
    }
   ],
   "source": [
    "x[0]"
   ]
  },
  {
   "cell_type": "code",
   "execution_count": 34,
   "metadata": {
    "collapsed": false
   },
   "outputs": [
    {
     "data": {
      "text/plain": [
       "array([[ True,  True, False, False, False, False, False, False, False,\n",
       "        False, False],\n",
       "       [False, False,  True, False, False, False, False,  True, False,\n",
       "         True, False],\n",
       "       [ True, False, False,  True,  True, False, False,  True, False,\n",
       "        False, False]], dtype=bool)"
      ]
     },
     "execution_count": 34,
     "metadata": {},
     "output_type": "execute_result"
    }
   ],
   "source": [
    "y[0]"
   ]
  },
  {
   "cell_type": "code",
   "execution_count": 4,
   "metadata": {
    "collapsed": false
   },
   "outputs": [],
   "source": [
    "# 10,000 개 데이터셋 생성\n",
    "for i in range(N):\n",
    "    a = random.randint(1, 99)\n",
    "    b = random.randint(1, 99)\n",
    "    \n",
    "    x[i, 0, a // 10] = True\n",
    "    x[i, 1, a % 10] = True\n",
    "    x[i, 2, 10] = True        # '+' 위치\n",
    "    x[i, 3, b // 10] = True\n",
    "    x[i, 4, b % 10] = True\n",
    "    \n",
    "    y[i, 0, (a + b) // 100] = True           # 100 자리\n",
    "    y[i, 1, (a + b) % 100 // 10] = True      # 10 자리\n",
    "    y[i, 2, (a + b) % 10] = True             # 1 자리"
   ]
  },
  {
   "cell_type": "code",
   "execution_count": 5,
   "metadata": {
    "collapsed": true
   },
   "outputs": [],
   "source": [
    "HIDDEN = 128"
   ]
  },
  {
   "cell_type": "code",
   "execution_count": 15,
   "metadata": {
    "collapsed": false
   },
   "outputs": [],
   "source": [
    "# GRU : LSTM 개선한 것.\n",
    "model = Sequential()\n",
    "model.add(GRU(HIDDEN, input_shape=(MAX_LEN, NUM_CHAR)))   # 5자리. 11+22. output 없음.\n",
    "model.add(RepeatVector(DIGITS + 1))   # 3개로 각각 넘김.\n",
    "model.add(GRU(HIDDEN, activation='relu', return_sequences=True)) # 각 노드가 모두 output\n",
    "model.add(GRU(HIDDEN, activation='relu', return_sequences=True))\n",
    "model.add(TimeDistributed(Dense(NUM_CHAR)))                       # 각 결과를 합친다.\n",
    "model.add(Activation('softmax'))"
   ]
  },
  {
   "cell_type": "code",
   "execution_count": 16,
   "metadata": {
    "collapsed": false
   },
   "outputs": [
    {
     "name": "stdout",
     "output_type": "stream",
     "text": [
      "_________________________________________________________________\n",
      "Layer (type)                 Output Shape              Param #   \n",
      "=================================================================\n",
      "gru_1 (GRU)                  (None, 128)               53760     \n",
      "_________________________________________________________________\n",
      "repeat_vector_2 (RepeatVecto (None, 3, 128)            0         \n",
      "_________________________________________________________________\n",
      "gru_2 (GRU)                  (None, 3, 128)            98688     \n",
      "_________________________________________________________________\n",
      "gru_3 (GRU)                  (None, 3, 128)            98688     \n",
      "_________________________________________________________________\n",
      "time_distributed_2 (TimeDist (None, 3, 11)             1419      \n",
      "_________________________________________________________________\n",
      "activation_2 (Activation)    (None, 3, 11)             0         \n",
      "=================================================================\n",
      "Total params: 252,555.0\n",
      "Trainable params: 252,555.0\n",
      "Non-trainable params: 0.0\n",
      "_________________________________________________________________\n"
     ]
    }
   ],
   "source": [
    "model.summary()"
   ]
  },
  {
   "cell_type": "code",
   "execution_count": 17,
   "metadata": {
    "collapsed": true
   },
   "outputs": [],
   "source": [
    "model.compile(loss='categorical_crossentropy',\n",
    "              optimizer='adam',\n",
    "              metrics=['accuracy'])"
   ]
  },
  {
   "cell_type": "code",
   "execution_count": null,
   "metadata": {
    "collapsed": false
   },
   "outputs": [
    {
     "name": "stdout",
     "output_type": "stream",
     "text": [
      "Epoch 1/50\n",
      "10000/10000 [==============================] - 10s - loss: 1.9359 - acc: 0.2720    \n",
      "Epoch 2/50\n",
      "10000/10000 [==============================] - 8s - loss: 1.6311 - acc: 0.3668     \n",
      "Epoch 3/50\n",
      "10000/10000 [==============================] - 8s - loss: 1.1577 - acc: 0.5590     \n",
      "Epoch 4/50\n",
      "10000/10000 [==============================] - 9s - loss: 0.9600 - acc: 0.6353     \n",
      "Epoch 5/50\n",
      "10000/10000 [==============================] - 9s - loss: 0.9155 - acc: 0.6496     \n",
      "Epoch 6/50\n",
      "10000/10000 [==============================] - 9s - loss: 0.8570 - acc: 0.6740     \n",
      "Epoch 7/50\n",
      "10000/10000 [==============================] - 9s - loss: 0.8117 - acc: 0.6900     \n",
      "Epoch 8/50\n",
      "10000/10000 [==============================] - 8s - loss: 0.7104 - acc: 0.7256     \n",
      "Epoch 9/50\n",
      "10000/10000 [==============================] - 9s - loss: 0.4556 - acc: 0.8418     \n",
      "Epoch 10/50\n",
      " 9200/10000 [==========================>...] - ETA: 0s - loss: 0.2489 - acc: 0.9186"
     ]
    }
   ],
   "source": [
    "model.fit(x, y, batch_size=100, epochs=50, verbose=1)"
   ]
  },
  {
   "cell_type": "code",
   "execution_count": 10,
   "metadata": {
    "collapsed": true
   },
   "outputs": [],
   "source": [
    "p = model.predict(x[0:20])"
   ]
  },
  {
   "cell_type": "code",
   "execution_count": 12,
   "metadata": {
    "collapsed": false
   },
   "outputs": [
    {
     "name": "stdout",
     "output_type": "stream",
     "text": [
      "x 1 7 + 6 0\n",
      "y 0 7 7\n",
      "p 0 7 8\n",
      "------------------------------\n",
      "x 7 6 + 2 5\n",
      "y 1 0 1\n",
      "p 1 0 1\n",
      "------------------------------\n",
      "x 8 7 + 4 9\n",
      "y 1 3 6\n",
      "p 1 3 7\n",
      "------------------------------\n",
      "x 2 9 + 4 7\n",
      "y 0 7 6\n",
      "p 0 7 8\n",
      "------------------------------\n",
      "x 0 7 + 8 9\n",
      "y 0 9 6\n",
      "p 0 9 7\n",
      "------------------------------\n",
      "x 5 1 + 5 9\n",
      "y 1 1 0\n",
      "p 1 1 0\n",
      "------------------------------\n",
      "x 6 2 + 5 4\n",
      "y 1 1 6\n",
      "p 1 1 7\n",
      "------------------------------\n",
      "x 7 2 + 1 9\n",
      "y 0 9 1\n",
      "p 0 9 1\n",
      "------------------------------\n",
      "x 1 3 + 9 5\n",
      "y 1 0 8\n",
      "p 1 0 9\n",
      "------------------------------\n",
      "x 3 6 + 4 7\n",
      "y 0 8 3\n",
      "p 0 8 4\n",
      "------------------------------\n",
      "x 1 7 + 7 2\n",
      "y 0 8 9\n",
      "p 0 8 9\n",
      "------------------------------\n",
      "x 2 5 + 3 8\n",
      "y 0 6 3\n",
      "p 0 6 1\n",
      "------------------------------\n",
      "x 5 8 + 3 3\n",
      "y 0 9 1\n",
      "p 0 9 1\n",
      "------------------------------\n",
      "x 8 9 + 0 2\n",
      "y 0 9 1\n",
      "p 0 9 1\n",
      "------------------------------\n",
      "x 5 0 + 1 0\n",
      "y 0 6 0\n",
      "p 0 6 1\n",
      "------------------------------\n",
      "x 3 3 + 7 3\n",
      "y 1 0 6\n",
      "p 1 0 6\n",
      "------------------------------\n",
      "x 2 1 + 5 7\n",
      "y 0 7 8\n",
      "p 0 7 8\n",
      "------------------------------\n",
      "x 2 9 + 4 4\n",
      "y 0 7 3\n",
      "p 0 7 0\n",
      "------------------------------\n",
      "x 2 4 + 5 7\n",
      "y 0 8 1\n",
      "p 0 8 1\n",
      "------------------------------\n",
      "x 3 4 + 1 8\n",
      "y 0 5 2\n",
      "p 0 5 7\n",
      "------------------------------\n"
     ]
    }
   ],
   "source": [
    "for i in range(20):\n",
    "    print('x', numpy.argmax(x[i, 0]), numpy.argmax(x[i, 1]), '+', numpy.argmax(x[i, 3]), numpy.argmax(x[i, 4]))\n",
    "    print('y', numpy.argmax(y[i, 0]), numpy.argmax(y[i, 1]), numpy.argmax(y[i, 2]))\n",
    "    print('p', numpy.argmax(p[i, 0]), numpy.argmax(p[i, 1]), numpy.argmax(p[i, 2]))\n",
    "    print('-' * 30)"
   ]
  },
  {
   "cell_type": "code",
   "execution_count": null,
   "metadata": {
    "collapsed": true
   },
   "outputs": [],
   "source": [
    "# LSTM / GRU / MUT"
   ]
  },
  {
   "cell_type": "code",
   "execution_count": null,
   "metadata": {
    "collapsed": true
   },
   "outputs": [],
   "source": []
  },
  {
   "cell_type": "code",
   "execution_count": null,
   "metadata": {
    "collapsed": true
   },
   "outputs": [],
   "source": []
  },
  {
   "cell_type": "code",
   "execution_count": null,
   "metadata": {
    "collapsed": true
   },
   "outputs": [],
   "source": []
  },
  {
   "cell_type": "code",
   "execution_count": null,
   "metadata": {
    "collapsed": true
   },
   "outputs": [],
   "source": []
  },
  {
   "cell_type": "code",
   "execution_count": null,
   "metadata": {
    "collapsed": true
   },
   "outputs": [],
   "source": []
  },
  {
   "cell_type": "code",
   "execution_count": null,
   "metadata": {
    "collapsed": true
   },
   "outputs": [],
   "source": []
  },
  {
   "cell_type": "code",
   "execution_count": null,
   "metadata": {
    "collapsed": true
   },
   "outputs": [],
   "source": []
  },
  {
   "cell_type": "code",
   "execution_count": null,
   "metadata": {
    "collapsed": true
   },
   "outputs": [],
   "source": []
  },
  {
   "cell_type": "code",
   "execution_count": null,
   "metadata": {
    "collapsed": true
   },
   "outputs": [],
   "source": []
  }
 ],
 "metadata": {
  "anaconda-cloud": {},
  "kernelspec": {
   "display_name": "Python [conda root]",
   "language": "python",
   "name": "conda-root-py"
  },
  "language_info": {
   "codemirror_mode": {
    "name": "ipython",
    "version": 3
   },
   "file_extension": ".py",
   "mimetype": "text/x-python",
   "name": "python",
   "nbconvert_exporter": "python",
   "pygments_lexer": "ipython3",
   "version": "3.5.2"
  }
 },
 "nbformat": 4,
 "nbformat_minor": 1
}
