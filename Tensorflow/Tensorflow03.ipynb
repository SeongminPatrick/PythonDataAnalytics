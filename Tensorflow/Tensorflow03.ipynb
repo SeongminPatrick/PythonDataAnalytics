{
 "cells": [
  {
   "cell_type": "markdown",
   "metadata": {},
   "source": [
    "## 학습하는 동안 체크포인트 저장하기"
   ]
  },
  {
   "cell_type": "code",
   "execution_count": 1,
   "metadata": {
    "collapsed": true
   },
   "outputs": [],
   "source": [
    "import tensorflow as tf\n",
    "import numpy as np\n",
    "import os"
   ]
  },
  {
   "cell_type": "markdown",
   "metadata": {},
   "source": [
    "### tf.train.Saver"
   ]
  },
  {
   "cell_type": "markdown",
   "metadata": {},
   "source": [
    "*  바이너리 파일로 그래프 변수들의 변화를 주기적으로 저장하는 체크포인트 파일을 생성한다.\n",
    "* 필요한 경우 원하는 지점부터 다시 학습을 시작할 수 있다."
   ]
  },
  {
   "cell_type": "code",
   "execution_count": 2,
   "metadata": {
    "collapsed": true
   },
   "outputs": [],
   "source": [
    "# import data from file\n",
    "data = np.loadtxt('data/test-score.csv', delimiter=',', dtype=np.float32)\n",
    "x_data = data[:, 0:-1]\n",
    "y_data = data[:, [-1]]"
   ]
  },
  {
   "cell_type": "code",
   "execution_count": 3,
   "metadata": {
    "collapsed": true
   },
   "outputs": [],
   "source": [
    "# Model 정의\n",
    "X = tf.placeholder(tf.float32, shape=[None, 3])\n",
    "Y = tf.placeholder(tf.float32, shape=[None, 1])\n",
    "\n",
    "W = tf.Variable(tf.random_normal([3, 1]), name='weight')\n",
    "b = tf.Variable(tf.random_normal([1]), name='bias')\n",
    "\n",
    "hypothesis = tf.matmul(X, W) + b\n",
    "\n",
    "cost = tf.reduce_mean(tf.square(hypothesis - Y))\n",
    "optimizer = tf.train.GradientDescentOptimizer(learning_rate=1e-5)\n",
    "train = optimizer.minimize(cost)"
   ]
  },
  {
   "cell_type": "code",
   "execution_count": 4,
   "metadata": {
    "collapsed": true
   },
   "outputs": [],
   "source": [
    "# saver 생성\n",
    "saver = tf.train.Saver()\n",
    "\n",
    "# run graph\n",
    "sess = tf.Session()\n",
    "sess.run(tf.global_variables_initializer())"
   ]
  },
  {
   "cell_type": "code",
   "execution_count": 5,
   "metadata": {
    "collapsed": false
   },
   "outputs": [
    {
     "data": {
      "text/plain": [
       "'c:\\\\Github\\\\PythonDataAnalytics\\\\Tensorflow\\\\checkpoints'"
      ]
     },
     "execution_count": 5,
     "metadata": {},
     "output_type": "execute_result"
    }
   ],
   "source": [
    "# checkpoint directory\n",
    "cwd = os.getcwd() + '\\\\checkpoints'\n",
    "cwd"
   ]
  },
  {
   "cell_type": "code",
   "execution_count": 6,
   "metadata": {
    "collapsed": false
   },
   "outputs": [
    {
     "name": "stdout",
     "output_type": "stream",
     "text": [
      "0 Cost:  2137.89\n",
      "1000 Cost:  11.24\n",
      "2000 Cost:  9.2023\n",
      "3000 Cost:  7.96602\n",
      "4000 Cost:  7.21592\n",
      "5000 Cost:  6.76075\n",
      "6000 Cost:  6.48451\n",
      "7000 Cost:  6.31682\n",
      "8000 Cost:  6.21498\n",
      "9000 Cost:  6.1531\n"
     ]
    }
   ],
   "source": [
    "# training loop\n",
    "training_steps = 9000 + 1\n",
    "for step in range(training_steps):\n",
    "    cost_val, hy_val, _ = sess.run([cost, hypothesis, train], feed_dict={X: x_data, Y: y_data})\n",
    "    if step % 1000 == 0:\n",
    "        saver.save(sess, cwd+\"/TestModel\", global_step=step)   # save checkpoint file\n",
    "        print(step, \"Cost: \", cost_val)\n",
    "        \n",
    "        \n",
    "# print(\"Prediction:\\n\", hy_val)\n",
    "\n",
    "saver.save(sess, cwd+\"/TestModel\", global_step=training_steps)\n",
    "\n",
    "sess.close()"
   ]
  },
  {
   "cell_type": "markdown",
   "metadata": {},
   "source": [
    "* TestModel-{step} 형식으로 체크포인트 파일이 생성된다.\n",
    "* 디폴트로 최근 5개 파일만 보관하고 나머지는 삭제된다."
   ]
  },
  {
   "cell_type": "markdown",
   "metadata": {},
   "source": [
    "### 특정 지점에서 학습을 재시작"
   ]
  },
  {
   "cell_type": "code",
   "execution_count": null,
   "metadata": {
    "collapsed": true
   },
   "outputs": [],
   "source": [
    "checkpoint_file = cwd + '\\\\TestModel-9000'\n",
    "saver.restore(sess, checkpoint_file)"
   ]
  }
 ],
 "metadata": {
  "anaconda-cloud": {},
  "kernelspec": {
   "display_name": "Python [conda root]",
   "language": "python",
   "name": "conda-root-py"
  },
  "language_info": {
   "codemirror_mode": {
    "name": "ipython",
    "version": 3
   },
   "file_extension": ".py",
   "mimetype": "text/x-python",
   "name": "python",
   "nbconvert_exporter": "python",
   "pygments_lexer": "ipython3",
   "version": "3.5.2"
  }
 },
 "nbformat": 4,
 "nbformat_minor": 1
}
